{
 "cells": [
  {
   "cell_type": "markdown",
   "id": "6ae776b0-6c3b-4dd7-befb-a3623fab52a3",
   "metadata": {},
   "source": [
    "# TP04 MapReduce - Multiplication Matricielle\n",
    "# Matrice A et B chargées par lignes et colonnes"
   ]
  },
  {
   "cell_type": "markdown",
   "id": "44e5c620-788e-4ca0-967b-618c62e6fdbe",
   "metadata": {},
   "source": [
    "## Chargement des matrices A et B"
   ]
  },
  {
   "cell_type": "code",
   "execution_count": null,
   "id": "d36cce44-5277-45ec-8564-dcfc65091184",
   "metadata": {},
   "outputs": [],
   "source": [
    "import numpy as np"
   ]
  },
  {
   "cell_type": "markdown",
   "id": "53f75942-452e-4420-8e00-6148b3c0fc2e",
   "metadata": {},
   "source": [
    "## Chargement des fichiers lignes et colonnes"
   ]
  },
  {
   "cell_type": "code",
   "execution_count": 9,
   "id": "f92b1c46-7398-4547-ab2c-cf832696cdf2",
   "metadata": {},
   "outputs": [],
   "source": [
    "A_data = np.load(\"A.npz\")\n",
    "B_data = np.load(\"B.npz\")"
   ]
  },
  {
   "cell_type": "markdown",
   "id": "dd603f7d-a156-48ae-84c2-8090b153f5e0",
   "metadata": {},
   "source": [
    "## Reconstruction de A et B à partir des lignes et colonnes"
   ]
  },
  {
   "cell_type": "code",
   "execution_count": 16,
   "id": "63e94e87-cc84-4243-b55f-604cb8f0b0e4",
   "metadata": {},
   "outputs": [
    {
     "name": "stdout",
     "output_type": "stream",
     "text": [
      "CPU times: user 26 ms, sys: 12.5 ms, total: 38.5 ms\n",
      "Wall time: 36.3 ms\n"
     ]
    }
   ],
   "source": [
    "%%time\n",
    "A = np.vstack([A_data[f\"row_{i}\"] for i in range(len(A_data.files))])\n",
    "B = np.vstack([B_data[f\"col_{j}\"] for j in range(len(B_data.files))]).transpose()"
   ]
  },
  {
   "cell_type": "code",
   "execution_count": 12,
   "id": "1209b4a7-ed6e-4b1c-a2b1-0b163f794f33",
   "metadata": {},
   "outputs": [
    {
     "name": "stdout",
     "output_type": "stream",
     "text": [
      "Matrice A reconstruite : (100, 10000)\n",
      "Matrice B reconstruite : (10000, 100)\n"
     ]
    }
   ],
   "source": [
    "# Vérification des dimensions\n",
    "print(f\"Matrice A reconstruite : {A.shape}\")\n",
    "print(f\"Matrice B reconstruite : {B.shape}\")"
   ]
  },
  {
   "cell_type": "markdown",
   "id": "49b0a13f-c51c-4e93-a829-a46d0b1a2309",
   "metadata": {},
   "source": [
    "## Multiplication avec NumPy"
   ]
  },
  {
   "cell_type": "code",
   "execution_count": 13,
   "id": "c0f1c4a9-e84b-40f9-a5d5-d845a92793d1",
   "metadata": {},
   "outputs": [
    {
     "name": "stdout",
     "output_type": "stream",
     "text": [
      "CPU times: user 60.4 ms, sys: 8.94 ms, total: 69.3 ms\n",
      "Wall time: 80 ms\n",
      "Multiplication terminée avec succès.\n"
     ]
    }
   ],
   "source": [
    "%time C = A @ B\n",
    "print(\"Multiplication terminée avec succès.\")"
   ]
  },
  {
   "cell_type": "code",
   "execution_count": 4,
   "id": "67ecd575-f105-47a1-9244-e3f599552a4e",
   "metadata": {},
   "outputs": [
    {
     "name": "stdout",
     "output_type": "stream",
     "text": [
      "Matrice A : (100, 10000)\n",
      "Matrice B : (10000, 100)\n"
     ]
    }
   ],
   "source": [
    "A = np.load(\"A.npy\")\n",
    "B = np.load(\"B.npy\")\n",
    "\n",
    "# Affichage des dimensions pour vérification\n",
    "print(f\"Matrice A : {A.shape}\")\n",
    "print(f\"Matrice B : {B.shape}\")"
   ]
  },
  {
   "cell_type": "code",
   "execution_count": 5,
   "id": "98c9cc61-8edc-4b0c-87c1-7961bf7685f2",
   "metadata": {},
   "outputs": [],
   "source": [
    "C_numpy = A @ B"
   ]
  },
  {
   "cell_type": "markdown",
   "id": "b99154fe-2496-44bb-9baa-13aba8bc9bdb",
   "metadata": {},
   "source": [
    "## Questions"
   ]
  },
  {
   "cell_type": "markdown",
   "id": "9e59f5da-5eec-41e5-ac08-76d29b1c9077",
   "metadata": {},
   "source": [
    "1. Ecrire un algorithme MapReduce qui calcule le produit matriciel de A et B en **multithreading** dans lequel chaque worker réalise le calcul d’un ou plusieurs $c_{ij}$ en ne chargeant que les lignes et les colonnes nécessaires."
   ]
  },
  {
   "cell_type": "code",
   "execution_count": 14,
   "id": "7ae544b9-1ead-4326-bfa8-e6b52f2a7190",
   "metadata": {},
   "outputs": [],
   "source": [
    "#TODO"
   ]
  },
  {
   "cell_type": "markdown",
   "id": "d88349c3-57c7-4b58-abc6-0146f57f71b5",
   "metadata": {},
   "source": [
    "2. Ecrire un algorithme MapReduce qui calcule le produit matriciel de A et B en **mutiprocessing** dans lequel chaque worker réalise le calcul d’un ou plusieurs $c_{ij}$ en ne chargeant que les lignes et les colonnes nécessaires."
   ]
  },
  {
   "cell_type": "code",
   "execution_count": 15,
   "id": "e7f1a550-65f0-4414-9c79-c6fa5cd4db4e",
   "metadata": {},
   "outputs": [],
   "source": [
    "#TODO"
   ]
  },
  {
   "cell_type": "markdown",
   "id": "3e196f95-d4e4-4b8f-b59c-7a742804c062",
   "metadata": {},
   "source": [
    "3.Comparer les temps de restitution des différentes implémentations en variant le nombre de workers."
   ]
  },
  {
   "cell_type": "code",
   "execution_count": 12,
   "id": "24d06ad9-7f24-4324-ab16-039320425eb5",
   "metadata": {},
   "outputs": [],
   "source": [
    "#TODO"
   ]
  }
 ],
 "metadata": {
  "kernelspec": {
   "display_name": "Python 3 (ipykernel)",
   "language": "python",
   "name": "python3"
  },
  "language_info": {
   "codemirror_mode": {
    "name": "ipython",
    "version": 3
   },
   "file_extension": ".py",
   "mimetype": "text/x-python",
   "name": "python",
   "nbconvert_exporter": "python",
   "pygments_lexer": "ipython3",
   "version": "3.12.8"
  }
 },
 "nbformat": 4,
 "nbformat_minor": 5
}
