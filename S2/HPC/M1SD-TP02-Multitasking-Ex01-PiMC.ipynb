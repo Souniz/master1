{
 "cells": [
  {
   "cell_type": "markdown",
   "id": "962d1571-c00b-4c5d-a623-19fcf7a5a0e4",
   "metadata": {},
   "source": [
    "# TP 2 Multitâches\n",
    "# Exercice 1 - Pi Monte Carlo\n",
    "\n",
    "## Introduction\n",
    "\n",
    "Cet exercice nécessite le package **Numba**. \n",
    "\n",
    "Ce TP a pour but de paralléliser l'algorithme de pi par Monte Carlo en utilisant **multithreading** et **multiprocessing**."
   ]
  },
  {
   "cell_type": "markdown",
   "id": "e7c62416-f454-4844-acbb-e9f5224313e0",
   "metadata": {},
   "source": [
    "La méthode `pick` tire `n` coups dans le carré $[-1,1] \\times [-1,1]$ et retourne le nombre de coups tirés dans le disque inscrit au carré."
   ]
  },
  {
   "cell_type": "code",
   "execution_count": 132,
   "id": "f890c3a7-281c-4a6d-9205-1f4554fcdc21",
   "metadata": {},
   "outputs": [],
   "source": [
    "import numpy as np\n",
    "from numba import njit\n",
    "from concurrent.futures import ProcessPoolExecutor\n",
    "from concurrent.futures import ThreadPoolExecutor\n",
    "import time\n"
   ]
  },
  {
   "cell_type": "code",
   "execution_count": 76,
   "id": "4e32d789-d755-4dc9-8211-658a9090d486",
   "metadata": {},
   "outputs": [],
   "source": [
    "@njit\n",
    "def pick(n):\n",
    "    '''\n",
    "    input : n nombre de tirage dans le carre [-1, 1]\n",
    "    output: count_inside nombre de coups tires dans le disque inscrit au carre\n",
    "    '''\n",
    "    count_inside = 0\n",
    "    for i in range(n):\n",
    "        x, y = np.random.random(2) * 2 - 1\n",
    "        if x**2 + y**2 <= 1: count_inside += 1\n",
    "    return count_inside"
   ]
  },
  {
   "cell_type": "markdown",
   "id": "db1e6d3f-ce50-46d4-801e-2095c9bce29d",
   "metadata": {},
   "source": [
    "La méthode pi_mc appel la méthode pick sur la valeur n et retourne la valeur approchée $\\pi$ par la formule $4 \\times p_C/p_T$ où $p_C$ désigne le nombre de coups dans le disque et $p_T$ le nombre de coups total."
   ]
  },
  {
   "cell_type": "code",
   "execution_count": 24,
   "id": "742e7e93-7663-4805-ae95-9bec92a03af1",
   "metadata": {},
   "outputs": [],
   "source": [
    "def pi_mc(n):\n",
    "    '''\n",
    "    input : n nombre de tirage dans le carré [-1, 1]\n",
    "    output : api : valeur de pi calculée par Monte Carlo\n",
    "    '''\n",
    "    api = 4 * pick(n) / n\n",
    "    return api"
   ]
  },
  {
   "cell_type": "code",
   "execution_count": 136,
   "id": "61bda2e8",
   "metadata": {},
   "outputs": [
    {
     "name": "stdout",
     "output_type": "stream",
     "text": [
      "Pour 10000 tir, l approximation de pi est 3.1415888 et le temps est  1.3483788967132568 seconds\n"
     ]
    }
   ],
   "source": [
    "tic = time.time()\n",
    "res=pi_mc(10000000)\n",
    "toc = time.time()\n",
    "print(f'Pour 10000 tir, l approximation de pi est {res} et le temps est  {toc - tic} seconds')"
   ]
  },
  {
   "cell_type": "markdown",
   "id": "fd4f9d7a-bfdb-487a-a783-266b2e962429",
   "metadata": {},
   "source": [
    "\n",
    "## 1 - Parallélisation avec multiprocessing\n",
    "\n",
    "1.a) Sur la base de `pi_mc` créer une fonction `pi_mc_mp` qui répartit le travail entre plusieurs processus à l'aide de `multiprocessing` comme vu en cours.\n"
   ]
  },
  {
   "cell_type": "code",
   "execution_count": 137,
   "id": "eb735296",
   "metadata": {},
   "outputs": [],
   "source": [
    "def pi_mc_mp(n,process):\n",
    "    p_exe = ProcessPoolExecutor(process)\n",
    "    tic = time.time()\n",
    "    tir=[n//10 for i in range(10)]\n",
    "    result = [res for res in p_exe.map(pick,tir)]\n",
    "    count = sum(result)\n",
    "    pi = 4 * count / n\n",
    "    toc = time.time()\n",
    "    print(f'Pour {n} tir et {process} processus, l approximation de pi est {pi} et le temps est  {toc - tic} seconds')"
   ]
  },
  {
   "cell_type": "code",
   "execution_count": 139,
   "id": "aa75a7ba",
   "metadata": {},
   "outputs": [
    {
     "name": "stdout",
     "output_type": "stream",
     "text": [
      "Pour 10000000 tir et 2 processus, l approximation de pi est 3.1421304 et le temps est  0.7069547176361084 seconds\n"
     ]
    }
   ],
   "source": [
    "pi_mc_mp(10000000,2)"
   ]
  },
  {
   "cell_type": "code",
   "execution_count": 140,
   "id": "bca978c7",
   "metadata": {},
   "outputs": [
    {
     "name": "stdout",
     "output_type": "stream",
     "text": [
      "Pour 10000000 tir et 4 processus, l approximation de pi est 3.1416536 et le temps est  0.4667181968688965 seconds\n"
     ]
    }
   ],
   "source": [
    "pi_mc_mp(10000000,4)"
   ]
  },
  {
   "cell_type": "code",
   "execution_count": 141,
   "id": "c6dac643",
   "metadata": {},
   "outputs": [
    {
     "name": "stdout",
     "output_type": "stream",
     "text": [
      "Pour 10000000 tir et 6 processus, l approximation de pi est 3.141664 et le temps est  0.3641955852508545 seconds\n"
     ]
    }
   ],
   "source": [
    "pi_mc_mp(10000000,6)"
   ]
  },
  {
   "cell_type": "markdown",
   "id": "fc671f5d-73f4-4630-a082-612dec803dbd",
   "metadata": {},
   "source": [
    "1.b) Mesurer les temps de restitution en variant le nombre de tir et le nombre de processus."
   ]
  },
  {
   "cell_type": "markdown",
   "id": "02147690-4314-4805-9341-f97b0158311b",
   "metadata": {},
   "source": [
    "\n",
    "## 2 - Parallélisation avec multithreading`\n",
    "\n",
    "2.a) Sur la base de `pi_mc_mp` créer une fonction `pi_mc_mt` qui répartit le travail entre plusieurs threads à l'aide de `multithreading` comme vu en cours.\n"
   ]
  },
  {
   "cell_type": "code",
   "execution_count": 186,
   "id": "0ffd1c61",
   "metadata": {},
   "outputs": [],
   "source": [
    "nogil=True\n",
    "njit()\n",
    "def pick(n):\n",
    "    '''\n",
    "    input : n nombre de tirage dans le carre [-1, 1]\n",
    "    output: count_inside nombre de coups tires dans le disque inscrit au carre\n",
    "    '''\n",
    "    count_inside = 0\n",
    "    for i in range(n):\n",
    "        x, y = np.random.random(2) * 2 - 1\n",
    "        if x**2 + y**2 <= 1: count_inside += 1\n",
    "    return count_inside"
   ]
  },
  {
   "cell_type": "code",
   "execution_count": 187,
   "id": "0ea061cc-5084-423b-bc0f-55d298e09842",
   "metadata": {},
   "outputs": [],
   "source": [
    "def pi_mc_mt(n,work):\n",
    "    p_exe = ThreadPoolExecutor(work)\n",
    "    tic = time.time()\n",
    "    tir=[n//100 for i in range(100)]\n",
    "    result = [res for res in p_exe.map(pick,tir)]\n",
    "    count = sum(result)\n",
    "    pi = 4 * count / n\n",
    "    toc = time.time()\n",
    "    print(f'Pour {n} tir, l approximation de pi est {pi} et le temps est  {toc - tic} seconds')"
   ]
  },
  {
   "cell_type": "markdown",
   "id": "3e87eab5",
   "metadata": {},
   "source": [
    "2.b) Mesurer les temps de restitution en variant le nombre de tir et le nombre de processus. Comparer avec la méthode précédente."
   ]
  },
  {
   "cell_type": "code",
   "execution_count": 201,
   "id": "e3d85105",
   "metadata": {},
   "outputs": [
    {
     "name": "stdout",
     "output_type": "stream",
     "text": [
      "Pour 100000 tir, l approximation de pi est 3.14672 et le temps est  0.37597131729125977 seconds\n"
     ]
    }
   ],
   "source": [
    "pi_mc_mt(100000,1)"
   ]
  },
  {
   "cell_type": "code",
   "execution_count": 202,
   "id": "2f26191c",
   "metadata": {},
   "outputs": [
    {
     "name": "stdout",
     "output_type": "stream",
     "text": [
      "Pour 10000 tir, l approximation de pi est 3.1176 et le temps est  0.1213982105255127 seconds\n"
     ]
    }
   ],
   "source": [
    "pi_mc_mt(10000,2)"
   ]
  },
  {
   "cell_type": "code",
   "execution_count": 203,
   "id": "280e1d47",
   "metadata": {},
   "outputs": [
    {
     "name": "stdout",
     "output_type": "stream",
     "text": [
      "Pour 10000 tir, l approximation de pi est 3.1636 et le temps est  0.1097404956817627 seconds\n"
     ]
    }
   ],
   "source": [
    "pi_mc_mt(10000,4)"
   ]
  },
  {
   "cell_type": "code",
   "execution_count": 204,
   "id": "e65a1ea0",
   "metadata": {},
   "outputs": [
    {
     "name": "stdout",
     "output_type": "stream",
     "text": [
      "Pour 10000 tir, l approximation de pi est 3.1608 et le temps est  0.1117088794708252 seconds\n"
     ]
    }
   ],
   "source": [
    "pi_mc_mt(10000,3)"
   ]
  },
  {
   "cell_type": "markdown",
   "id": "814923c7",
   "metadata": {},
   "source": [
    "## J'ai remarqué que le multuprocessing est plus rapide que le multithreading pour ce probleme"
   ]
  }
 ],
 "metadata": {
  "kernelspec": {
   "display_name": ".venv",
   "language": "python",
   "name": "python3"
  },
  "language_info": {
   "codemirror_mode": {
    "name": "ipython",
    "version": 3
   },
   "file_extension": ".py",
   "mimetype": "text/x-python",
   "name": "python",
   "nbconvert_exporter": "python",
   "pygments_lexer": "ipython3",
   "version": "3.12.3"
  }
 },
 "nbformat": 4,
 "nbformat_minor": 5
}
