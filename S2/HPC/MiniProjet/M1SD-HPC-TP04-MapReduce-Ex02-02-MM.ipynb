{
 "cells": [
  {
   "cell_type": "markdown",
   "id": "c675e117",
   "metadata": {},
   "source": [
    "Souna Niang\n",
    "\n",
    "Ousmane Kontao\n",
    "\n",
    "Oumar Talibe BA"
   ]
  },
  {
   "cell_type": "markdown",
   "id": "6ae776b0-6c3b-4dd7-befb-a3623fab52a3",
   "metadata": {},
   "source": [
    "# TP04 MapReduce - Multiplication Matricielle\n",
    "# Matrice A et B chargées par lignes et colonnes"
   ]
  },
  {
   "cell_type": "markdown",
   "id": "44e5c620-788e-4ca0-967b-618c62e6fdbe",
   "metadata": {},
   "source": [
    "## Chargement des matrices A et B"
   ]
  },
  {
   "cell_type": "code",
   "execution_count": 53,
   "id": "d36cce44-5277-45ec-8564-dcfc65091184",
   "metadata": {},
   "outputs": [],
   "source": [
    "import numpy as np\n",
    "import time\n",
    "import threading\n",
    "import matplotlib.pyplot as plt\n",
    "import pandas as pd"
   ]
  },
  {
   "cell_type": "markdown",
   "id": "53f75942-452e-4420-8e00-6148b3c0fc2e",
   "metadata": {},
   "source": [
    "## Chargement des fichiers lignes et colonnes"
   ]
  },
  {
   "cell_type": "code",
   "execution_count": 17,
   "id": "f92b1c46-7398-4547-ab2c-cf832696cdf2",
   "metadata": {},
   "outputs": [],
   "source": [
    "A_data = np.load(\"A.npz\")\n",
    "B_data = np.load(\"B.npz\")"
   ]
  },
  {
   "cell_type": "code",
   "execution_count": 18,
   "id": "32a94888",
   "metadata": {},
   "outputs": [
    {
     "data": {
      "text/plain": [
       "array([7, 8, 9, ..., 9, 8, 9])"
      ]
     },
     "execution_count": 18,
     "metadata": {},
     "output_type": "execute_result"
    }
   ],
   "source": [
    "A_data['row_0']"
   ]
  },
  {
   "cell_type": "markdown",
   "id": "dd603f7d-a156-48ae-84c2-8090b153f5e0",
   "metadata": {},
   "source": [
    "## Reconstruction de A et B à partir des lignes et colonnes"
   ]
  },
  {
   "cell_type": "code",
   "execution_count": 19,
   "id": "63e94e87-cc84-4243-b55f-604cb8f0b0e4",
   "metadata": {},
   "outputs": [
    {
     "name": "stdout",
     "output_type": "stream",
     "text": [
      "CPU times: user 35.7 ms, sys: 24.1 ms, total: 59.8 ms\n",
      "Wall time: 58.8 ms\n"
     ]
    }
   ],
   "source": [
    "%%time\n",
    "A = np.vstack([A_data[f\"row_{i}\"] for i in range(len(A_data.files))])\n",
    "B = np.vstack([B_data[f\"col_{j}\"] for j in range(len(B_data.files))]).transpose()"
   ]
  },
  {
   "cell_type": "code",
   "execution_count": 20,
   "id": "1209b4a7-ed6e-4b1c-a2b1-0b163f794f33",
   "metadata": {},
   "outputs": [
    {
     "name": "stdout",
     "output_type": "stream",
     "text": [
      "Matrice A reconstruite : (100, 10000)\n",
      "Matrice B reconstruite : (10000, 100)\n"
     ]
    }
   ],
   "source": [
    "# Vérification des dimensions\n",
    "print(f\"Matrice A reconstruite : {A.shape}\")\n",
    "print(f\"Matrice B reconstruite : {B.shape}\")"
   ]
  },
  {
   "cell_type": "markdown",
   "id": "49b0a13f-c51c-4e93-a829-a46d0b1a2309",
   "metadata": {},
   "source": [
    "## Multiplication avec NumPy"
   ]
  },
  {
   "cell_type": "code",
   "execution_count": 21,
   "id": "c0f1c4a9-e84b-40f9-a5d5-d845a92793d1",
   "metadata": {},
   "outputs": [
    {
     "name": "stdout",
     "output_type": "stream",
     "text": [
      "CPU times: user 90.4 ms, sys: 2.39 ms, total: 92.8 ms\n",
      "Wall time: 92.2 ms\n",
      "Multiplication terminée avec succès.\n"
     ]
    }
   ],
   "source": [
    "%time C = A @ B\n",
    "print(\"Multiplication terminée avec succès.\")"
   ]
  },
  {
   "cell_type": "code",
   "execution_count": 22,
   "id": "67ecd575-f105-47a1-9244-e3f599552a4e",
   "metadata": {},
   "outputs": [
    {
     "name": "stdout",
     "output_type": "stream",
     "text": [
      "Matrice A : (100, 10000)\n",
      "Matrice B : (10000, 100)\n"
     ]
    }
   ],
   "source": [
    "A = np.load(\"../TP04_02_01_MM/A.npy\")\n",
    "B = np.load(\"../TP04_02_01_MM/B.npy\")\n",
    "\n",
    "# Affichage des dimensions pour vérification\n",
    "print(f\"Matrice A : {A.shape}\")\n",
    "print(f\"Matrice B : {B.shape}\")"
   ]
  },
  {
   "cell_type": "code",
   "execution_count": 23,
   "id": "98c9cc61-8edc-4b0c-87c1-7961bf7685f2",
   "metadata": {},
   "outputs": [
    {
     "name": "stdout",
     "output_type": "stream",
     "text": [
      "CPU times: user 185 ms, sys: 0 ns, total: 185 ms\n",
      "Wall time: 184 ms\n"
     ]
    }
   ],
   "source": [
    "%%time\n",
    "C_numpy = A @ B"
   ]
  },
  {
   "cell_type": "markdown",
   "id": "b99154fe-2496-44bb-9baa-13aba8bc9bdb",
   "metadata": {},
   "source": [
    "## Questions"
   ]
  },
  {
   "cell_type": "markdown",
   "id": "9e59f5da-5eec-41e5-ac08-76d29b1c9077",
   "metadata": {},
   "source": [
    "1. Ecrire un algorithme MapReduce qui calcule le produit matriciel de A et B en **multithreading** dans lequel chaque worker réalise le calcul d’un ou plusieurs $c_{ij}$ en ne chargeant que les lignes et les colonnes nécessaires."
   ]
  },
  {
   "cell_type": "markdown",
   "id": "29cefbd3",
   "metadata": {},
   "source": [
    "Dans la première partie du TP, nous avons chargé les matrices A et B entièrement avant d’effectuer les calculs.\n",
    "Maintenant, nous devons optimiser l'utilisation de la mémoire en ne chargeant que les lignes et colonnes nécessaires à chaque worker."
   ]
  },
  {
   "cell_type": "code",
   "execution_count": 24,
   "id": "7ae544b9-1ead-4326-bfa8-e6b52f2a7190",
   "metadata": {},
   "outputs": [],
   "source": [
    "#TODO\n",
    "import numpy as np\n",
    "A = np.load(\"A.npz\")\n",
    "B = np.load(\"B.npz\")"
   ]
  },
  {
   "cell_type": "code",
   "execution_count": 32,
   "id": "0c0f6953",
   "metadata": {},
   "outputs": [],
   "source": [
    "A = {i: A_data[f\"row_{i}\"].astype(np.float64) for i in range(len(A_data.files))}\n",
    "B = {j: B_data[f\"col_{j}\"].astype(np.float64) for j in range(len(B_data.files))}"
   ]
  },
  {
   "cell_type": "code",
   "execution_count": 42,
   "id": "e7f1a550-65f0-4414-9c79-c6fa5cd4db4e",
   "metadata": {},
   "outputs": [
    {
     "name": "stdout",
     "output_type": "stream",
     "text": [
      "CPU times: user 874 µs, sys: 588 µs, total: 1.46 ms\n",
      "Wall time: 905 µs\n"
     ]
    },
    {
     "data": {
      "text/plain": [
       "(100, 100)"
      ]
     },
     "execution_count": 42,
     "metadata": {},
     "output_type": "execute_result"
    }
   ],
   "source": [
    "%%time\n",
    "#TODO\n",
    "C_ij = np.zeros((len(A), len(B)))\n",
    "C_ij.shape"
   ]
  },
  {
   "cell_type": "code",
   "execution_count": 64,
   "id": "1dc541eb",
   "metadata": {},
   "outputs": [],
   "source": [
    "def calcul_lignes(debut, fin, chunk_type='left_chunk'):\n",
    "    \"\"\"chaque thread calcul une partie des lignes de C\"\"\"\n",
    "    \n",
    "    global C_ij\n",
    "    if chunk_type == 'left_chunk':\n",
    "        a_range = range(debut, fin)\n",
    "        b_range = range(len(B))\n",
    "    elif chunk_type == 'right_chunk':\n",
    "        a_range = range(len(A))\n",
    "        b_range = range(debut, fin)\n",
    "    elif chunk_type == 'full_chunk':\n",
    "        a_range = range(debut, fin)\n",
    "        b_range = range(debut, fin)\n",
    "        \n",
    "    for i in a_range:\n",
    "        for j in b_range:\n",
    "            C_ij[i,j] = A[i] @ B[j]\n",
    "            \n"
   ]
  },
  {
   "cell_type": "code",
   "execution_count": 65,
   "id": "f3d3a194",
   "metadata": {},
   "outputs": [
    {
     "name": "stdout",
     "output_type": "stream",
     "text": [
      "Temps d'exécution Multithreading : 3.6209 sec\n",
      "Extrait de C (Multithreading):\n",
      " [[250503. 249939. 248864.]\n",
      " [250745. 248935. 250621.]\n",
      " [248384. 247606. 249230.]]\n",
      "CPU times: user 5.44 s, sys: 47.1 s, total: 52.5 s\n",
      "Wall time: 3.62 s\n"
     ]
    }
   ],
   "source": [
    "%%time\n",
    "num_threads = 4\n",
    "step = len(A)//num_threads\n",
    "threads = []\n",
    "\n",
    "start_time = time.time()\n",
    "\n",
    "for i in range(num_threads):\n",
    "    debut, fin = i * step, (i+1) * step if i < num_threads else len(A)\n",
    "    t = threading.Thread(target=calcul_lignes, args=(debut, fin))\n",
    "    threads.append(t)\n",
    "    t.start()\n",
    "    \n",
    "for t in threads:\n",
    "    t.join()\n",
    "    \n",
    "end_time = time.time()\n",
    "\n",
    "print(f\"Temps d'exécution Multithreading : {end_time - start_time:.4f} sec\")\n",
    "\n",
    "print(\"Extrait de C (Multithreading):\\n\", C_ij[:3, :3])"
   ]
  },
  {
   "cell_type": "code",
   "execution_count": 56,
   "id": "e57e98b5",
   "metadata": {},
   "outputs": [],
   "source": [
    "data_threading = {'n': [], 'chunk_type': [], 'time': []}\n",
    "chunk_types = [\"left_chunk\", \"right_chunk\", \"both_chunk\"]\n",
    "\n",
    "num_threads = [4, 8, 10, 20, 30, 40]\n",
    "\n",
    "for n in num_threads:\n",
    "    for chunk_type in chunk_types:\n",
    "        step = len(A)//n\n",
    "        threads = []\n",
    "        \n",
    "        start_time = time.time()\n",
    "\n",
    "        for i in range(n):\n",
    "            debut, fin = i * step, (i+1) * step if i < n else len(A)\n",
    "            t = threading.Thread(target=calcul_lignes, args=(debut, fin))\n",
    "            threads.append(t)\n",
    "            t.start()\n",
    "\t\t\t\n",
    "        for t in threads:\n",
    "            t.join()\n",
    "\t\t\n",
    "        data_threading['n'].append(n)\n",
    "        data_threading['chunk_type'].append(chunk_type)\n",
    "        data_threading['time'].append(time.time()-start_time)"
   ]
  },
  {
   "cell_type": "code",
   "execution_count": 57,
   "id": "50e1de07",
   "metadata": {},
   "outputs": [
    {
     "data": {
      "image/png": "[encoded data removed]",
      "text/plain": [
       "<Figure size 1000x600 with 1 Axes>"
      ]
     },
     "metadata": {},
     "output_type": "display_data"
    }
   ],
   "source": [
    "plt.figure(figsize=(10, 6))\n",
    "df = pd.DataFrame(data_threading)\n",
    "# Largeur des barres\n",
    "bar_width = 0.2\n",
    "\n",
    "# Positions des barres pour chaque groupe de `n`\n",
    "positions = np.arange(len(df['n'].unique()))\n",
    "\n",
    "# Boucle sur les valeurs de `chunk_type` pour tracer les barres\n",
    "for i, a_value in enumerate(df['chunk_type'].unique()):\n",
    "    # Filtrer les données pour chaque valeur de `chunk_type`\n",
    "    subset = df[df['chunk_type'] == a_value]\n",
    "    # Tracer les barres pour cette valeur de `chunk_type`\n",
    "    plt.bar(positions + i * bar_width, subset['time'], width=bar_width, label=f'chunk_type={a_value}')\n",
    "\n",
    "# Ajouter des labels et une légende\n",
    "plt.xlabel('nombre de threads')\n",
    "plt.ylabel('Temps en  secondes')\n",
    "plt.title('Graphique en barres pour chaque valeur de n et chunk_type avecc un echellle logarithmmique')\n",
    "plt.xticks(positions + bar_width, df['n'].unique())\n",
    "plt.legend(title='Valeurs de chunk_type')\n",
    "plt.yscale('log')\n",
    "# Afficher le graphique\n",
    "plt.tight_layout()\n",
    "plt.show()"
   ]
  },
  {
   "cell_type": "markdown",
   "id": "19382171",
   "metadata": {},
   "source": [
    "2. Ecrire un algorithme MapReduce qui calcule le produit matriciel de A et B en **mutiprocessing** dans lequel chaque worker réalise le calcul d’un ou plusieurs $c_{ij}$ en ne chargeant que les lignes et les colonnes nécessaires."
   ]
  },
  {
   "cell_type": "code",
   "execution_count": 77,
   "id": "656e862b",
   "metadata": {},
   "outputs": [],
   "source": [
    "import multiprocessing\n",
    "# Utiliser Manager pour partager les données entre les processus\n",
    "manager = multiprocessing.Manager()\n",
    "A = manager.dict({i: A_data[f\"row_{i}\"].astype(np.float64) for i in range(len(A_data.files))})\n",
    "B = manager.dict({j: B_data[f\"col_{j}\"].astype(np.float64) for j in range(len(B_data.files))})"
   ]
  },
  {
   "cell_type": "code",
   "execution_count": 83,
   "id": "724e048e",
   "metadata": {},
   "outputs": [],
   "source": [
    "def calcul_chunk(debut, fin, queue, A, B, chunk_type):\n",
    "    \"\"\"Chaque processus calcule une partie des lignes de C et envoie le résultat via la queue\"\"\"\n",
    "    C_partiel = np.zeros((fin - debut, len(B)))  \n",
    "    \n",
    "    if chunk_type == 'left_chunk':\n",
    "        a_range = range(debut, fin)\n",
    "        b_range = range(len(B))\n",
    "        C_partiel = np.zeros((fin - debut, len(B))) \n",
    "        for i in a_range:\n",
    "            for j in b_range:\n",
    "                C_partiel[i - debut, j] = A[i] @ B[j]\n",
    "    elif chunk_type == 'right_chunk':\n",
    "        a_range = range(len(A))\n",
    "        b_range = range(debut, fin)\n",
    "        C_partiel = np.zeros((len(A), fin - debut)) \n",
    "        for i in a_range:\n",
    "            for j in b_range:\n",
    "                C_partiel[i, j - debut] = A[i] @ B[j]\n",
    "    elif chunk_type == 'full_chunk':\n",
    "        a_range = range(debut, fin)\n",
    "        b_range = range(debut, fin)\n",
    "        C_partiel = np.zeros((fin - debut, fin - debut)) \n",
    "        for i in a_range:\n",
    "            for j in b_range:\n",
    "                C_partiel[i - debut, j - debut] = A[i] @ B[j]\n",
    "\n",
    "    queue.put((debut, C_partiel))  "
   ]
  },
  {
   "cell_type": "code",
   "execution_count": 84,
   "id": "1a58e88a",
   "metadata": {},
   "outputs": [
    {
     "name": "stdout",
     "output_type": "stream",
     "text": [
      "Temps d'exécution Multiprocessing : 1.8117 sec\n",
      "Extrait de C (Multiprocessing):\n",
      " [[250503. 249939. 248864.]\n",
      " [250745. 248935. 250621.]\n",
      " [248384. 247606. 249230.]]\n",
      "CPU times: user 4.82 ms, sys: 90.1 ms, total: 95 ms\n",
      "Wall time: 1.81 s\n"
     ]
    }
   ],
   "source": [
    "%%time\n",
    "\n",
    "chunk_type = 'left_chunk'\n",
    "\n",
    "if __name__ == \"__main__\":\n",
    "    num_processes = 4 \n",
    "    step = len(A) // num_processes\n",
    "    queue = multiprocessing.Queue()  # File d’attente pour récupérer les résultats\n",
    "    processes = []\n",
    "\n",
    "    debut_time = time.time()\n",
    "\n",
    "    for i in range(num_processes):\n",
    "        debut, fin = i * step, (i + 1) * step if i < num_processes - 1 else len(A)\n",
    "        p = multiprocessing.Process(target=calcul_chunk, args=(debut, fin, queue, A, B, chunk_type))\n",
    "        processes.append(p)\n",
    "        p.start()\n",
    "\n",
    "    C_mp = np.zeros((len(A), len(B)))\n",
    "\n",
    "    for _ in processes:\n",
    "        debut, chunk = queue.get()\n",
    "        C_mp[debut:debut + chunk.shape[0], :] = chunk  \n",
    "\n",
    "    for p in processes:\n",
    "        p.join()\n",
    "\n",
    "    end_time = time.time()\n",
    "    print(f\"Temps d'exécution Multiprocessing : {end_time - debut_time:.4f} sec\")\n",
    "    print(\"Extrait de C (Multiprocessing):\\n\", C_mp[:3, :3])\n"
   ]
  },
  {
   "cell_type": "markdown",
   "id": "3e196f95-d4e4-4b8f-b59c-7a742804c062",
   "metadata": {},
   "source": [
    "3.Comparer les temps de restitution des différentes implémentations en variant le nombre de workers."
   ]
  },
  {
   "cell_type": "code",
   "execution_count": 87,
   "id": "24d06ad9-7f24-4324-ab16-039320425eb5",
   "metadata": {},
   "outputs": [],
   "source": [
    "#TODO\n",
    "\n",
    "data_multi_processing = {'n': [], 'chunk_type': [], 'time': []}\n",
    "chunk_types = [\"left_chunk\", \"right_chunk\", \"both_chunk\"]\n",
    "\n",
    "num_processes = [4, 8, 10, 20, 30, 40]\n",
    "\n",
    "for n in num_processes:\n",
    "    for chunk_type in chunk_types:\n",
    "        step = len(A) // n\n",
    "        queue = multiprocessing.Queue()  # File d’attente pour récupérer les résultats\n",
    "        processes = []\n",
    "\n",
    "        debut_time = time.time()\n",
    "\n",
    "        for i in range(n):\n",
    "            debut, fin = i * step, (i + 1) * step if i < n - 1 else len(A)\n",
    "            p = multiprocessing.Process(target=calcul_chunk, args=(debut, fin, queue, A, B, chunk_type))\n",
    "            processes.append(p)\n",
    "            p.start()\n",
    "\n",
    "        C_mp = np.zeros((len(A), len(B)))\n",
    "        \n",
    "        for _ in processes:\n",
    "            debut, chunk = queue.get()\n",
    "            if chunk_type == 'left_chunk':\n",
    "                C_mp[debut:debut + chunk.shape[0], :] = chunk\n",
    "            elif chunk_type == 'right_chunk':\n",
    "                C_mp[:, debut:debut + chunk.shape[1]] = chunk\n",
    "            elif chunk_type == 'full_chunk':\n",
    "                C_mp[debut:debut + chunk.shape[0], debut:debut + chunk.shape[1]] = chunk\n",
    "        for p in processes:\n",
    "            p.join()\n",
    "\n",
    "        end_time = time.time()\n",
    "         \n",
    "\t\t \n",
    "        data_multi_processing['n'].append(n)\n",
    "        data_multi_processing['chunk_type'].append(chunk_type)\n",
    "        data_multi_processing['time'].append(time.time()-start_time)"
   ]
  },
  {
   "cell_type": "code",
   "execution_count": 88,
   "id": "c208b44d",
   "metadata": {},
   "outputs": [
    {
     "data": {
      "image/png": "[encoded data removed]",
      "text/plain": [
       "<Figure size 1000x600 with 1 Axes>"
      ]
     },
     "metadata": {},
     "output_type": "display_data"
    }
   ],
   "source": [
    "plt.figure(figsize=(10, 6))\n",
    "df = pd.DataFrame(data_multi_processing)\n",
    "# Largeur des barres\n",
    "bar_width = 0.2\n",
    "\n",
    "# Positions des barres pour chaque groupe de `n`\n",
    "positions = np.arange(len(df['n'].unique()))\n",
    "\n",
    "# Boucle sur les valeurs de `chunk_type` pour tracer les barres\n",
    "for i, a_value in enumerate(df['chunk_type'].unique()):\n",
    "    # Filtrer les données pour chaque valeur de `chunk_type`\n",
    "    subset = df[df['chunk_type'] == a_value]\n",
    "    # Tracer les barres pour cette valeur de `chunk_type`\n",
    "    plt.bar(positions + i * bar_width, subset['time'], width=bar_width, label=f'chunk_type={a_value}')\n",
    "\n",
    "# Ajouter des labels et une légende\n",
    "plt.xlabel('nombre de threads')\n",
    "plt.ylabel('Temps en  secondes')\n",
    "plt.title('Graphique en barres pour chaque valeur de n et chunk_type avecc un echellle logarithmmique')\n",
    "plt.xticks(positions + bar_width, df['n'].unique())\n",
    "plt.legend(title='Valeurs de chunk_type')\n",
    "plt.yscale('log')\n",
    "# Afficher le graphique\n",
    "plt.tight_layout()\n",
    "plt.show()"
   ]
  }
 ],
 "metadata": {
  "kernelspec": {
   "display_name": "base",
   "language": "python",
   "name": "python3"
  },
  "language_info": {
   "codemirror_mode": {
    "name": "ipython",
    "version": 3
   },
   "file_extension": ".py",
   "mimetype": "text/x-python",
   "name": "python",
   "nbconvert_exporter": "python",
   "pygments_lexer": "ipython3",
   "version": "3.12.7"
  }
 },
 "nbformat": 4,
 "nbformat_minor": 5
}
