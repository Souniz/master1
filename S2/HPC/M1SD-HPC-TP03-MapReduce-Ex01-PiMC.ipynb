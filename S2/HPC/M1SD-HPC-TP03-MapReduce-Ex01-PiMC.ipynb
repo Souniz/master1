{
 "cells": [
  {
   "cell_type": "markdown",
   "id": "962d1571-c00b-4c5d-a623-19fcf7a5a0e4",
   "metadata": {},
   "source": [
    "# M1SD TP03 $\\pi$ Monte Carlo"
   ]
  },
  {
   "cell_type": "code",
   "execution_count": 122,
   "id": "f890c3a7-281c-4a6d-9205-1f4554fcdc21",
   "metadata": {},
   "outputs": [],
   "source": [
    "import numpy as np\n",
    "from functools import reduce"
   ]
  },
  {
   "cell_type": "markdown",
   "id": "38d9d633-339f-480e-b448-dc32c42ad7f4",
   "metadata": {},
   "source": [
    "La méthode `pick_np``\n",
    " prend en entrée un ndarray de dimension `(2, n)` chaque ligne représentant respectivement les coordonnées $x,y$ d'un point dans le carré $[-1,1]$ et retourne une approximation de $\\pi$ avec un masque numpy."
   ]
  },
  {
   "cell_type": "code",
   "execution_count": 123,
   "id": "5843e3f0-129e-4c17-ac65-851473585afe",
   "metadata": {},
   "outputs": [],
   "source": [
    "def pick_np(xxyy):\n",
    "    '''\n",
    "    input : xxyy ndarray de n coordonnées (x,y) dans le carre [-1, 1]\n",
    "    output: count_inside nombre de coups tires dans le disque inscrit au carre\n",
    "    '''\n",
    "    norm = np.linalg.norm(xxyy, axis=0)\n",
    "    count = np.sum(norm <= 1)\n",
    "    return count"
   ]
  },
  {
   "cell_type": "code",
   "execution_count": 124,
   "id": "4f9f1ee0-7041-430b-9c95-bff33d834f29",
   "metadata": {},
   "outputs": [],
   "source": [
    "def pi_mc_np(n):\n",
    "    '''\n",
    "    input : n nombre de tirage dans le carré [-1, 1]\n",
    "    output : api : valeur de pi calculée par Monte Carlo\n",
    "    '''\n",
    "    xxyy =np.random.uniform(-1, 1, size=(2, n))\n",
    "    api = 4 * pick_np(xxyy) / n\n",
    "    return api"
   ]
  },
  {
   "cell_type": "code",
   "execution_count": 125,
   "id": "1de9d4bb-8070-491f-8406-f1abcb1c8520",
   "metadata": {},
   "outputs": [
    {
     "name": "stdout",
     "output_type": "stream",
     "text": [
      "CPU times: user 158 ms, sys: 81.4 ms, total: 240 ms\n",
      "Wall time: 239 ms\n"
     ]
    },
    {
     "data": {
      "text/plain": [
       "np.float64(3.1405236)"
      ]
     },
     "execution_count": 125,
     "metadata": {},
     "output_type": "execute_result"
    }
   ],
   "source": [
    "n = 10_000_000\n",
    "%time pi_mc_np(n)"
   ]
  },
  {
   "cell_type": "markdown",
   "id": "705021f7-0318-48b5-ae1b-73d0183a6bdf",
   "metadata": {},
   "source": [
    "## Splitting\n",
    "1. À l’aide de numpy diviser le ndarray en sous-tableaux et à l’aide de la méthode `map` appliquer `pick_np` à chaque sous-tableau et effectuer une réduction sur l’ensemble des valeurs calculées."
   ]
  },
  {
   "cell_type": "code",
   "execution_count": 126,
   "id": "4b2c8b4e-28a5-4fc2-9a83-008e3c841145",
   "metadata": {},
   "outputs": [],
   "source": [
    "def my_pi_mc_np(n):\n",
    "    '''\n",
    "    input : n nombre de tirage dans le carré [-1, 1]\n",
    "    output : api : valeur de pi calculée par Monte Carlo\n",
    "    '''\n",
    "    xxyy =np.random.uniform(-1, 1, size=(2, n))\n",
    "    t=np.split(xxyy,10,axis=1)\n",
    "\n",
    "    api = 4 * sum( list(map(pick_np,t))) / n\n",
    "    return api"
   ]
  },
  {
   "cell_type": "code",
   "execution_count": 128,
   "id": "805bf708",
   "metadata": {},
   "outputs": [
    {
     "name": "stdout",
     "output_type": "stream",
     "text": [
      "CPU times: user 128 ms, sys: 69.6 ms, total: 198 ms\n",
      "Wall time: 197 ms\n"
     ]
    },
    {
     "data": {
      "text/plain": [
       "np.float64(3.141792)"
      ]
     },
     "execution_count": 128,
     "metadata": {},
     "output_type": "execute_result"
    }
   ],
   "source": [
    "n = 10_000_000\n",
    "%time my_pi_mc_np(n)"
   ]
  },
  {
   "cell_type": "markdown",
   "id": "07bc0818-a95b-415b-a1ac-24ce1c03a399",
   "metadata": {},
   "source": [
    "## Multiprocessing\n",
    "1. Appliquer l’algorithme suivant en distribuant les calculs parmis les *workers* d’un `PoolProcessPoolExecutor`.\n",
    "2. Mesurer les temps de restitution en variant le nombre de tir et le nombre de processus."
   ]
  },
  {
   "cell_type": "code",
   "execution_count": null,
   "id": "8fd817cd",
   "metadata": {},
   "outputs": [],
   "source": [
    "def pic_mc_np_mc"
   ]
  },
  {
   "cell_type": "markdown",
   "id": "7f76639a-6120-4a39-bc21-763718e27d5a",
   "metadata": {},
   "source": [
    "## Multithreading\n",
    "1. Appliquer l’algorithme suivant en distribuant les calculs parmis les *workers* d’un `ThreadPoolExecutor`.\n",
    "2. Mesurer les temps de restitution en variant le nombre de tir et le nombre de thread.\n",
    "3. Comparer avec les versions précédentes."
   ]
  },
  {
   "cell_type": "code",
   "execution_count": null,
   "id": "6f195a5f-53cc-4651-9d5f-a70d79c7f2e2",
   "metadata": {},
   "outputs": [],
   "source": []
  },
  {
   "cell_type": "markdown",
   "id": "2be91c56-5649-4d30-8ba6-1d947a4a6cf4",
   "metadata": {},
   "source": [
    "## Optimisation\n",
    "1. Modifier les méthodes suivantes afin de ne générer temporairement que les sous-tableaux.\n",
    "2. Effectuer de nouvelles mesures de performance."
   ]
  },
  {
   "cell_type": "code",
   "execution_count": null,
   "id": "c779666c-71dc-4e6b-a16c-8cd8d51132c4",
   "metadata": {},
   "outputs": [],
   "source": []
  }
 ],
 "metadata": {
  "kernelspec": {
   "display_name": ".venv",
   "language": "python",
   "name": "python3"
  },
  "language_info": {
   "codemirror_mode": {
    "name": "ipython",
    "version": 3
   },
   "file_extension": ".py",
   "mimetype": "text/x-python",
   "name": "python",
   "nbconvert_exporter": "python",
   "pygments_lexer": "ipython3",
   "version": "3.12.3"
  }
 },
 "nbformat": 4,
 "nbformat_minor": 5
}
