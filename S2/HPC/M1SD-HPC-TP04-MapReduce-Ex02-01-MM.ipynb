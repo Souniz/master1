{
 "cells": [
  {
   "cell_type": "markdown",
   "id": "6ae776b0-6c3b-4dd7-befb-a3623fab52a3",
   "metadata": {},
   "source": [
    "# TP04 MapReduce - Multiplication Matricielle\n",
    "# Matrice A et B complètes"
   ]
  },
  {
   "cell_type": "markdown",
   "id": "44e5c620-788e-4ca0-967b-618c62e6fdbe",
   "metadata": {},
   "source": [
    "## Chargement des matrices A et B"
   ]
  },
  {
   "cell_type": "code",
   "execution_count": 3,
   "id": "b11caf0c-edfa-4701-8a85-4238c195bb37",
   "metadata": {},
   "outputs": [],
   "source": [
    "import numpy as np"
   ]
  },
  {
   "cell_type": "code",
   "execution_count": 4,
   "id": "67ecd575-f105-47a1-9244-e3f599552a4e",
   "metadata": {},
   "outputs": [
    {
     "name": "stdout",
     "output_type": "stream",
     "text": [
      "Matrice A : (100, 10000)\n",
      "Matrice B : (10000, 100)\n"
     ]
    }
   ],
   "source": [
    "A = np.load(\"A.npy\")\n",
    "B = np.load(\"B.npy\")\n",
    "\n",
    "# Affichage des dimensions pour vérification\n",
    "print(f\"Matrice A : {A.shape}\")\n",
    "print(f\"Matrice B : {B.shape}\")"
   ]
  },
  {
   "cell_type": "code",
   "execution_count": 5,
   "id": "98c9cc61-8edc-4b0c-87c1-7961bf7685f2",
   "metadata": {},
   "outputs": [],
   "source": [
    "C_numpy = A @ B"
   ]
  },
  {
   "cell_type": "markdown",
   "id": "b99154fe-2496-44bb-9baa-13aba8bc9bdb",
   "metadata": {},
   "source": [
    "## Questions"
   ]
  },
  {
   "cell_type": "markdown",
   "id": "9e59f5da-5eec-41e5-ac08-76d29b1c9077",
   "metadata": {},
   "source": [
    "1. Ecrire un algorithme MapReduce qui calcule le produit matriciel de A et B en **multithreading** dans lequel chaque worker réalise le calcul d’un ou plusieurs $c_{ij}$"
   ]
  },
  {
   "cell_type": "code",
   "execution_count": 11,
   "id": "7ae544b9-1ead-4326-bfa8-e6b52f2a7190",
   "metadata": {},
   "outputs": [],
   "source": [
    "#TODO"
   ]
  },
  {
   "cell_type": "markdown",
   "id": "d88349c3-57c7-4b58-abc6-0146f57f71b5",
   "metadata": {},
   "source": [
    "2. Ecrire un algorithme MapReduce qui calcule le produit matriciel de A et B en **mutiprocessing** dans lequel chaque worker réalise le calcul d’un ou plusieurs $c_{ij}$"
   ]
  },
  {
   "cell_type": "code",
   "execution_count": 13,
   "id": "e7f1a550-65f0-4414-9c79-c6fa5cd4db4e",
   "metadata": {},
   "outputs": [],
   "source": [
    "#TODO"
   ]
  },
  {
   "cell_type": "markdown",
   "id": "3e196f95-d4e4-4b8f-b59c-7a742804c062",
   "metadata": {},
   "source": [
    "3.Comparer les temps de restitution des différentes implémentations en variant le nombre de workers."
   ]
  },
  {
   "cell_type": "code",
   "execution_count": 12,
   "id": "24d06ad9-7f24-4324-ab16-039320425eb5",
   "metadata": {},
   "outputs": [],
   "source": [
    "#TODO"
   ]
  }
 ],
 "metadata": {
  "kernelspec": {
   "display_name": "Python 3 (ipykernel)",
   "language": "python",
   "name": "python3"
  },
  "language_info": {
   "codemirror_mode": {
    "name": "ipython",
    "version": 3
   },
   "file_extension": ".py",
   "mimetype": "text/x-python",
   "name": "python",
   "nbconvert_exporter": "python",
   "pygments_lexer": "ipython3",
   "version": "3.12.8"
  }
 },
 "nbformat": 4,
 "nbformat_minor": 5
}
