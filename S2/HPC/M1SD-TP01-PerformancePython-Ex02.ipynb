{
 "cells": [
  {
   "cell_type": "markdown",
   "id": "962d1571-c00b-4c5d-a623-19fcf7a5a0e4",
   "metadata": {},
   "source": [
    "# M1SD TP01 Performance Python"
   ]
  },
  {
   "cell_type": "markdown",
   "id": "8390b254-4104-468a-8ac9-9aec0b928c34",
   "metadata": {},
   "source": [
    "## Exercice 2 : calcul de pi par Monte Carlo"
   ]
  },
  {
   "cell_type": "markdown",
   "id": "e7c62416-f454-4844-acbb-e9f5224313e0",
   "metadata": {},
   "source": [
    "La méthode `pick` tire `n` coups dans le carré $[-1,1] \\times [-1,1]$ et retourne le nombre de coups tirés dans le disque inscrit au carré."
   ]
  },
  {
   "cell_type": "code",
   "execution_count": 2,
   "id": "9f1a34d3",
   "metadata": {},
   "outputs": [],
   "source": [
    "import numpy as np\n",
    "import random as rd\n",
    "import numba"
   ]
  },
  {
   "cell_type": "code",
   "execution_count": 3,
   "id": "4e32d789-d755-4dc9-8211-658a9090d486",
   "metadata": {},
   "outputs": [],
   "source": [
    "\n",
    "def pick(n):\n",
    "    '''\n",
    "    input : n nombre de tirage dans le carre [-1, 1]\n",
    "    output: count_inside nombre de coups tires dans le disque inscrit au carre\n",
    "    '''\n",
    "    count_inside = 0\n",
    "    for i in range(n):\n",
    "        x, y = np.random.random(2) * 2 - 1\n",
    "        if x**2 + y**2 <= 1: count_inside += 1\n",
    "    return count_inside"
   ]
  },
  {
   "cell_type": "markdown",
   "id": "db1e6d3f-ce50-46d4-801e-2095c9bce29d",
   "metadata": {},
   "source": [
    "La méthode pi_mc appel la méthode pick sur la valeur n et retourne la valeur approchée $\\pi$ par la formule $4 \\times p_C/p_T$ où $p_C$ désigne le nombre de coups dans le disque et $p_T$ le nombre de coups total."
   ]
  },
  {
   "cell_type": "code",
   "execution_count": 4,
   "id": "742e7e93-7663-4805-ae95-9bec92a03af1",
   "metadata": {},
   "outputs": [],
   "source": [
    "def pi_mc(n):\n",
    "    '''\n",
    "    input : n nombre de tirage dans le carré [-1, 1]\n",
    "    output : api : valeur de pi calculée par Monte Carlo\n",
    "    '''\n",
    "    api = 4 * pick(n) / n\n",
    "    return api"
   ]
  },
  {
   "cell_type": "markdown",
   "id": "32a6783b-98ad-4e55-9bf9-713b823be520",
   "metadata": {},
   "source": [
    "1. Mesurer les temps de restitution pour un nombre `n` valant respectivement 10, 1000, 10 000 et 1 000 000."
   ]
  },
  {
   "cell_type": "code",
   "execution_count": 5,
   "id": "f81ea00e-c0dd-419c-a7a1-93f915f25e0b",
   "metadata": {},
   "outputs": [
    {
     "name": "stdout",
     "output_type": "stream",
     "text": [
      "CPU times: user 351 μs, sys: 37 μs, total: 388 μs\n",
      "Wall time: 299 μs\n"
     ]
    },
    {
     "data": {
      "text/plain": [
       "3.2"
      ]
     },
     "execution_count": 5,
     "metadata": {},
     "output_type": "execute_result"
    }
   ],
   "source": [
    "%time pi_mc(10)"
   ]
  },
  {
   "cell_type": "code",
   "execution_count": 6,
   "id": "64dcb83b",
   "metadata": {},
   "outputs": [
    {
     "name": "stdout",
     "output_type": "stream",
     "text": [
      "CPU times: user 13.9 ms, sys: 6.12 ms, total: 20 ms\n",
      "Wall time: 13.7 ms\n"
     ]
    },
    {
     "data": {
      "text/plain": [
       "3.212"
      ]
     },
     "execution_count": 6,
     "metadata": {},
     "output_type": "execute_result"
    }
   ],
   "source": [
    "%time pi_mc(1000)"
   ]
  },
  {
   "cell_type": "code",
   "execution_count": 7,
   "id": "4b693046",
   "metadata": {},
   "outputs": [
    {
     "name": "stdout",
     "output_type": "stream",
     "text": [
      "CPU times: user 99.2 ms, sys: 5.89 ms, total: 105 ms\n",
      "Wall time: 99.6 ms\n"
     ]
    },
    {
     "data": {
      "text/plain": [
       "3.1508"
      ]
     },
     "execution_count": 7,
     "metadata": {},
     "output_type": "execute_result"
    }
   ],
   "source": [
    "%time pi_mc(10000)"
   ]
  },
  {
   "cell_type": "code",
   "execution_count": 8,
   "id": "4bc2e0c3",
   "metadata": {},
   "outputs": [
    {
     "name": "stdout",
     "output_type": "stream",
     "text": [
      "CPU times: user 8.6 s, sys: 6.53 ms, total: 8.6 s\n",
      "Wall time: 8.59 s\n"
     ]
    },
    {
     "data": {
      "text/plain": [
       "3.142164"
      ]
     },
     "execution_count": 8,
     "metadata": {},
     "output_type": "execute_result"
    }
   ],
   "source": [
    "%time pi_mc(1_000_000)"
   ]
  },
  {
   "cell_type": "markdown",
   "id": "829a7a17-20f7-4880-89cd-c9b682b07bb4",
   "metadata": {},
   "source": [
    "2. Faire une version compilée à la volée de la méthode `pick` à l'aide de `numba`."
   ]
  },
  {
   "cell_type": "code",
   "execution_count": 9,
   "id": "da069ac6-0c7b-4b8a-bca0-83fac3636613",
   "metadata": {},
   "outputs": [],
   "source": [
    "@numba.njit()\n",
    "def pick(n):\n",
    "    '''\n",
    "    input : n nombre de tirage dans le carre [-1, 1]\n",
    "    output: count_inside nombre de coups tires dans le disque inscrit au carre\n",
    "    '''\n",
    "    count_inside = 0\n",
    "    for i in range(n):\n",
    "        x, y = np.random.random(2) * 2 - 1\n",
    "        if x**2 + y**2 <= 1: count_inside += 1\n",
    "    return count_inside"
   ]
  },
  {
   "cell_type": "markdown",
   "id": "4085e077-c0e3-4be3-998c-93db7df633bb",
   "metadata": {},
   "source": [
    "3. Mesurer les temps de restitution pour un nombre `n` valant respectivement 10, 1000, 10 000 et 1 000 000."
   ]
  },
  {
   "cell_type": "code",
   "execution_count": 18,
   "id": "832145fe-1e8f-4ab2-94fc-22afacff3a8b",
   "metadata": {},
   "outputs": [
    {
     "name": "stdout",
     "output_type": "stream",
     "text": [
      "CPU times: user 16 μs, sys: 1 μs, total: 17 μs\n",
      "Wall time: 19.3 μs\n"
     ]
    },
    {
     "data": {
      "text/plain": [
       "2.4"
      ]
     },
     "execution_count": 18,
     "metadata": {},
     "output_type": "execute_result"
    }
   ],
   "source": [
    "%time pi_mc(10)"
   ]
  },
  {
   "cell_type": "code",
   "execution_count": 19,
   "id": "aed9466b",
   "metadata": {},
   "outputs": [
    {
     "name": "stdout",
     "output_type": "stream",
     "text": [
      "CPU times: user 146 μs, sys: 4 μs, total: 150 μs\n",
      "Wall time: 156 μs\n"
     ]
    },
    {
     "data": {
      "text/plain": [
       "3.196"
      ]
     },
     "execution_count": 19,
     "metadata": {},
     "output_type": "execute_result"
    }
   ],
   "source": [
    "%time pi_mc(1000)"
   ]
  },
  {
   "cell_type": "code",
   "execution_count": 20,
   "id": "b60525c3",
   "metadata": {},
   "outputs": [
    {
     "name": "stdout",
     "output_type": "stream",
     "text": [
      "CPU times: user 1.33 ms, sys: 10 μs, total: 1.34 ms\n",
      "Wall time: 1.34 ms\n"
     ]
    },
    {
     "data": {
      "text/plain": [
       "3.1476"
      ]
     },
     "execution_count": 20,
     "metadata": {},
     "output_type": "execute_result"
    }
   ],
   "source": [
    "%time pi_mc(10000)"
   ]
  },
  {
   "cell_type": "code",
   "execution_count": 21,
   "id": "d9193ac4",
   "metadata": {},
   "outputs": [
    {
     "name": "stdout",
     "output_type": "stream",
     "text": [
      "CPU times: user 140 ms, sys: 1.02 ms, total: 141 ms\n",
      "Wall time: 138 ms\n"
     ]
    },
    {
     "data": {
      "text/plain": [
       "3.140176"
      ]
     },
     "execution_count": 21,
     "metadata": {},
     "output_type": "execute_result"
    }
   ],
   "source": [
    "%time pi_mc(1_000_000)"
   ]
  },
  {
   "cell_type": "markdown",
   "id": "38d9d633-339f-480e-b448-dc32c42ad7f4",
   "metadata": {},
   "source": [
    "4. Ecrire une fonction inspiré de Monte Carlo qui construit aléatoirement un ndarray de dimension `(2, n)` chaque ligne représentant respectivement les coordonnées $x,y$ d'un point dans le carré $[-1,1]$ et calcule une approximation de $pi$ avec un masque numpy."
   ]
  },
  {
   "cell_type": "code",
   "execution_count": 137,
   "id": "5843e3f0-129e-4c17-ac65-851473585afe",
   "metadata": {},
   "outputs": [
    {
     "name": "stderr",
     "output_type": "stream",
     "text": [
      "UsageError: Line magic function `%numba.njit()` not found.\n"
     ]
    }
   ],
   "source": [
    "%numba.njit()\n",
    "def my_monte(n):\n",
    "    tab=np.random.random((2,n)) * 2 - 1\n",
    "    s=np.linalg.norm(tab,axis=0)**2\n",
    "    count_inside=sum(s<=1)\n",
    "    return count_inside            "
   ]
  },
  {
   "cell_type": "code",
   "execution_count": 138,
   "id": "96fb565c",
   "metadata": {},
   "outputs": [],
   "source": [
    "def pi_mc(n):\n",
    "    '''\n",
    "    input : n nombre de tirage dans le carré [-1, 1]\n",
    "    output : api : valeur de pi calculée par Monte Carlo\n",
    "    '''\n",
    "    api = 4 * my_monte(n) / n\n",
    "    return api"
   ]
  },
  {
   "cell_type": "markdown",
   "id": "6a7b1689-ec41-4d36-8cec-066152df9f53",
   "metadata": {},
   "source": [
    "5. Mesurer les temps de restitution pour `n` valant respectivement 10, 1000, 10 000 et 1 000 000."
   ]
  },
  {
   "cell_type": "code",
   "execution_count": 139,
   "id": "e67fcd44",
   "metadata": {},
   "outputs": [
    {
     "name": "stdout",
     "output_type": "stream",
     "text": [
      "CPU times: user 154 μs, sys: 15 μs, total: 169 μs\n",
      "Wall time: 164 μs\n"
     ]
    },
    {
     "data": {
      "text/plain": [
       "np.float64(3.2)"
      ]
     },
     "execution_count": 139,
     "metadata": {},
     "output_type": "execute_result"
    }
   ],
   "source": [
    "%time pi_mc(10)"
   ]
  },
  {
   "cell_type": "code",
   "execution_count": 141,
   "id": "de6e2e96",
   "metadata": {},
   "outputs": [
    {
     "name": "stdout",
     "output_type": "stream",
     "text": [
      "CPU times: user 869 μs, sys: 0 ns, total: 869 μs\n",
      "Wall time: 597 μs\n"
     ]
    },
    {
     "data": {
      "text/plain": [
       "np.float64(3.112)"
      ]
     },
     "execution_count": 141,
     "metadata": {},
     "output_type": "execute_result"
    }
   ],
   "source": [
    "%time pi_mc(1000)"
   ]
  },
  {
   "cell_type": "code",
   "execution_count": 142,
   "id": "8e581ee5",
   "metadata": {},
   "outputs": [
    {
     "name": "stdout",
     "output_type": "stream",
     "text": [
      "CPU times: user 2.89 ms, sys: 1.09 ms, total: 3.99 ms\n",
      "Wall time: 2.8 ms\n"
     ]
    },
    {
     "data": {
      "text/plain": [
       "np.float64(3.1372)"
      ]
     },
     "execution_count": 142,
     "metadata": {},
     "output_type": "execute_result"
    }
   ],
   "source": [
    "%time pi_mc(10000)\n"
   ]
  },
  {
   "cell_type": "code",
   "execution_count": 143,
   "id": "1432ec0b",
   "metadata": {},
   "outputs": [
    {
     "name": "stdout",
     "output_type": "stream",
     "text": [
      "CPU times: user 196 ms, sys: 29.9 ms, total: 226 ms\n",
      "Wall time: 223 ms\n"
     ]
    },
    {
     "data": {
      "text/plain": [
       "np.float64(3.142888)"
      ]
     },
     "execution_count": 143,
     "metadata": {},
     "output_type": "execute_result"
    }
   ],
   "source": [
    "%time pi_mc(1_000_000)"
   ]
  }
 ],
 "metadata": {
  "kernelspec": {
   "display_name": ".venv",
   "language": "python",
   "name": "python3"
  },
  "language_info": {
   "codemirror_mode": {
    "name": "ipython",
    "version": 3
   },
   "file_extension": ".py",
   "mimetype": "text/x-python",
   "name": "python",
   "nbconvert_exporter": "python",
   "pygments_lexer": "ipython3",
   "version": "3.12.3"
  }
 },
 "nbformat": 4,
 "nbformat_minor": 5
}
