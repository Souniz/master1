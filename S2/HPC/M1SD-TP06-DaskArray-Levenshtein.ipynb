{
 "cells": [
  {
   "cell_type": "markdown",
   "id": "0a671b4e-2655-406d-beed-c67f17e08cb5",
   "metadata": {},
   "source": [
    "# TP06 Dask Array\n",
    "# Distance de Levenstein"
   ]
  },
  {
   "cell_type": "markdown",
   "id": "5b733503-fc4e-47d4-9f7d-9559a5f298fb",
   "metadata": {},
   "source": [
    "La distance de Levenshtein est une métrique permettant de mesurer la différence entre deux séquences de caractères. Cette distance correspond au nombre minimal d'opérations élémentaires (insertion, suppression ou substitution de caractères) nécessaires pour transformer une séquence en une autre.\n",
    "\n",
    "Par exemple, la distance entre `sitting` et `kitten` est de 3 (2 substitutions, 1 suppression).\n",
    "\n",
    "Formellement, la distance peut être définie de manière récursive selon la définition suivante où pour une chaîne de caractères $s$, $|s|$ représente sa longueur et $s-1$ désigne la chaîne $s$ sans son premier caractère.\n",
    "$$\n",
    "\\qquad\\operatorname{lev}(a,b) = \n",
    "\\begin{cases}\n",
    "  \\max(|a|,|b|) & \\text{ si } \\min(|a|,|b|)=0, \\\\\n",
    "  \\operatorname{lev}(a-1,b-1) & \\text{ si } a[0]=b[0], \\\\\n",
    "  1 + \\min \\begin{cases}\n",
    "          \\operatorname{lev}(a-1,b)\\\\\n",
    "          \\operatorname{lev}(a,b-1)\\\\\n",
    "          \\operatorname{lev}(a-1,b-1)\n",
    "       \\end{cases} & \\text{ sinon.}\n",
    "\\end{cases}\n",
    "$$\n",
    "\n",
    "À partir de cette définition, il en résulte un algorithme itératif dynamique naïf permettant de calculer la distance de Levenshtein entre deux séquences en remplissant une matrice de coûts (matrice d'édition).\n",
    "\n",
    "L’objectif de cet exercice est d’établir un algorithme distribué du calcul de la distance de Levenshtein et, si possible, de le mettre en oeuvre avec Dask"
   ]
  },
  {
   "cell_type": "code",
   "execution_count": null,
   "id": "fe2684e6-4bdb-4d3f-aa21-2b9a18ba5357",
   "metadata": {},
   "outputs": [],
   "source": [
    "import numpy as np"
   ]
  },
  {
   "cell_type": "code",
   "execution_count": null,
   "id": "605fc7f3-ba1a-4957-868f-d692557069e8",
   "metadata": {},
   "outputs": [],
   "source": [
    "from numba import njit"
   ]
  },
  {
   "cell_type": "code",
   "execution_count": null,
   "id": "f04487e0-45af-4286-bc5f-e6aab161d064",
   "metadata": {},
   "outputs": [],
   "source": [
    "def initialize_matrix(s1, s2):\n",
    "    \"\"\"Initialisation de la matrice d'édition avec les bords (insertions/suppressions).\"\"\"\n",
    "    m, n = len(s1), len(s2)\n",
    "\n",
    "    # Création de la matrice principale\n",
    "    dp = np.zeros((m+1, n+1), dtype=int)\n",
    "\n",
    "    # Initialisation des bords (coûts d'insertion et suppression)\n",
    "    dp[:, 0] = np.arange(m+1)  # Première colonne : Suppressions\n",
    "    dp[0, :] = np.arange(n+1)  # Première ligne : Insertions\n",
    "\n",
    "    return dp"
   ]
  },
  {
   "cell_type": "code",
   "execution_count": null,
   "id": "0d629817-f510-4320-9abc-2017dc07563f",
   "metadata": {},
   "outputs": [],
   "source": [
    "def fill_matrix(dp, s1, s2):\n",
    "    \"\"\"Remplissage la matrice de Levenshtein (approche dynamique)\"\"\"\n",
    "    m, n = len(s1), len(s2)\n",
    "\n",
    "    for i in range(1, m+1):\n",
    "        for j in range(1, n+1):\n",
    "            cost = 0 if s1[i-1] == s2[j-1] else 1\n",
    "            dp[i, j] = min(\n",
    "                dp[i-1, j] + 1,      # Suppression\n",
    "                dp[i, j-1] + 1,      # Insertion\n",
    "                dp[i-1, j-1] + cost  # Substitution\n",
    "            )"
   ]
  },
  {
   "cell_type": "code",
   "execution_count": null,
   "id": "844a98ed-c81e-43a8-8524-ef3714d9840c",
   "metadata": {},
   "outputs": [],
   "source": [
    "def levenshtein_numpy(s1, s2):\n",
    "    \"\"\"Calcul de la distance levenshtein.\"\"\"\n",
    "    dp = initialize_matrix(s1, s2)  # Initialisation de la matrice\n",
    "    fill_matrix(dp, s1, s2)         # Remplissage de la matrice\n",
    "\n",
    "    return dp[len(s1), len(s2)]     # Retourne la distance finale"
   ]
  },
  {
   "cell_type": "markdown",
   "id": "3577f68b-5c40-4a30-b956-44c57dfdfc16",
   "metadata": {},
   "source": [
    "### Test"
   ]
  },
  {
   "cell_type": "code",
   "execution_count": null,
   "id": "bab5a585-5ffd-4da0-ac3d-08aeade83ea7",
   "metadata": {},
   "outputs": [],
   "source": [
    "s1 = \"GATTACA\"\n",
    "s2 = \"GCATGCU\"\n",
    "print(levenshtein_numpy(s1, s2))  "
   ]
  },
  {
   "cell_type": "markdown",
   "id": "4050d73e-11e1-4812-bc7a-aaa6f7eb6a4d",
   "metadata": {},
   "source": [
    "## 1. Version naïve.\n",
    "1. Tester l’algorithme sur différentes séquences en augmentant la taille des séquences et relever les temps de restitution."
   ]
  },
  {
   "cell_type": "code",
   "execution_count": null,
   "id": "2a709625-d427-4882-9104-84dd01c50bbf",
   "metadata": {},
   "outputs": [],
   "source": [
    "#TODO"
   ]
  },
  {
   "cell_type": "markdown",
   "id": "8921b52e-8109-4a79-a1c6-f7a1417314ac",
   "metadata": {},
   "source": [
    "2. Sur la base du code existant écrire un version utilisant des dask array. \n",
    "Tester sur de petites séquences, observer le graphe des tâches et relever les temps de restitution."
   ]
  },
  {
   "cell_type": "code",
   "execution_count": null,
   "id": "71ccf509-fe26-45b4-8271-1cdcd043d9d4",
   "metadata": {},
   "outputs": [],
   "source": [
    "#TODO"
   ]
  },
  {
   "cell_type": "markdown",
   "id": "471fdb1a-5b44-4923-a98e-0e3a53a25465",
   "metadata": {},
   "source": [
    "## 2 Optimisations\n",
    "1. Sur la base de la version numpy, écrire un algorithme non parallèle où la matrice principale est remplie en la parcourant par bloc de taille fixe (par exemple 100 $\\times$ 100) : on remplit le premier bloc puis on passe au suivant ligne par ligne."
   ]
  },
  {
   "cell_type": "code",
   "execution_count": null,
   "id": "f1ef0793-ecb9-4c4f-8532-5f958a558194",
   "metadata": {},
   "outputs": [],
   "source": [
    "#TODO"
   ]
  },
  {
   "cell_type": "markdown",
   "id": "45b204e3-ccbd-405b-b52d-cd330ae555a6",
   "metadata": {},
   "source": [
    "2. Relever les temps de restitution."
   ]
  },
  {
   "cell_type": "code",
   "execution_count": null,
   "id": "90f3ed0e-864f-4b99-87a1-a9e928d0d630",
   "metadata": {},
   "outputs": [],
   "source": [
    "#TODO"
   ]
  },
  {
   "cell_type": "markdown",
   "id": "3322078d-dc5b-48c0-beb9-707c132d3cfb",
   "metadata": {},
   "source": [
    "3. Sur la base de cette version établir un algorithme parallèle et tenter de le mettre en oeuvre à l’aide de Dask array, pour cela regarder les méthodes `map_blocks` et `map_overlap`."
   ]
  },
  {
   "cell_type": "code",
   "execution_count": null,
   "id": "86716751-7b66-4622-bdb9-9a3c6748108a",
   "metadata": {},
   "outputs": [],
   "source": [
    "#TODO"
   ]
  },
  {
   "cell_type": "markdown",
   "id": "765db213-648e-4be3-b262-667f578c6ee1",
   "metadata": {},
   "source": [
    "4. Relever les temps de restitution"
   ]
  },
  {
   "cell_type": "code",
   "execution_count": null,
   "id": "f6cc310d-cdbc-4739-9708-e02ceec51426",
   "metadata": {},
   "outputs": [],
   "source": [
    "#TODO"
   ]
  }
 ],
 "metadata": {
  "kernelspec": {
   "display_name": "Python 3 (ipykernel)",
   "language": "python",
   "name": "python3"
  },
  "language_info": {
   "codemirror_mode": {
    "name": "ipython",
    "version": 3
   },
   "file_extension": ".py",
   "mimetype": "text/x-python",
   "name": "python",
   "nbconvert_exporter": "python",
   "pygments_lexer": "ipython3",
   "version": "3.13.1"
  }
 },
 "nbformat": 4,
 "nbformat_minor": 5
}
