{
 "cells": [
  {
   "cell_type": "markdown",
   "id": "8daa0dc1-6dba-493d-8e23-c7b896cb74d8",
   "metadata": {},
   "source": [
    "# TP 2 Multitâches \n",
    "# Exercice 2 - Facteurs de nombres entiers\n",
    "\n",
    "## Introduction\n",
    "\n",
    "Cet exercice nécessite le package **Numba**. \n",
    "\n",
    "L'objectif est de paralléliser un algorithme par **multiprocessing** et **multithreading** à l'aide du module Python **concurrent.futures** et de comparer les performances obtenues."
   ]
  },
  {
   "cell_type": "markdown",
   "id": "89b0af45-7f0e-470e-a23a-cabc43e3350d",
   "metadata": {},
   "source": [
    "La fonction `factor_01(n)` construit de façon naïve par compréhension la liste des différents facteurs entiers de `n` strictement inférieur à `n`."
   ]
  },
  {
   "cell_type": "code",
   "execution_count": 40,
   "id": "a81d3583",
   "metadata": {},
   "outputs": [],
   "source": [
    "import numpy as np\n",
    "from numba import njit\n",
    "from concurrent.futures import ProcessPoolExecutor\n",
    "from concurrent.futures import ThreadPoolExecutor\n",
    "import time"
   ]
  },
  {
   "cell_type": "code",
   "execution_count": 100,
   "id": "02ef674f-15bf-432f-acad-328f0dfc0c5b",
   "metadata": {},
   "outputs": [],
   "source": [
    "def factor_01(n):\n",
    "    \"\"\"\n",
    "    Retourner la liste des facteurs propres d'un entier n.\n",
    "    \"\"\"\n",
    "    return [i for i in range(1, n) if n % i == 0]"
   ]
  },
  {
   "cell_type": "markdown",
   "id": "5aed46e8-4ea0-4fbf-9e78-0d3b4298e441",
   "metadata": {},
   "source": [
    "La fonction `main(a, b)` construit par compréhension la liste de la somme de tous les facteurs de chaque nombre entier `n` compris entre `a` et `b` donnés en arguments du script."
   ]
  },
  {
   "cell_type": "code",
   "execution_count": 106,
   "id": "fdf986e2-2a38-4e7b-ae1d-d9c0cf0187dd",
   "metadata": {},
   "outputs": [],
   "source": [
    "def main(a, b):\n",
    "    \"\"\"\n",
    "    Construire la liste des sommes des facteurs propres pour tous les entiers de a à b.\n",
    "    \"\"\"\n",
    "    return [sum(factor_01(n)) for n in range(a, b + 1)]"
   ]
  },
  {
   "cell_type": "markdown",
   "id": "1b0f2263-5fb2-4f3d-b074-b76fae3f0b80",
   "metadata": {},
   "source": [
    "## 1 - Préliminaires\n",
    "\n",
    "1.a) Mesurer les temps d'exécution de `main` pour différentes valeurs de `a` et `b`"
   ]
  },
  {
   "cell_type": "code",
   "execution_count": 67,
   "id": "0f70ef76-7ce8-4f44-9a47-7e3b6ca723cb",
   "metadata": {},
   "outputs": [
    {
     "name": "stdout",
     "output_type": "stream",
     "text": [
      "CPU times: user 121 μs, sys: 0 ns, total: 121 μs\n",
      "Wall time: 124 μs\n"
     ]
    }
   ],
   "source": [
    "%time  res=main(10, 100)"
   ]
  },
  {
   "cell_type": "code",
   "execution_count": 68,
   "id": "aba6ef45",
   "metadata": {},
   "outputs": [
    {
     "name": "stdout",
     "output_type": "stream",
     "text": [
      "CPU times: user 13 ms, sys: 0 ns, total: 13 ms\n",
      "Wall time: 12.5 ms\n"
     ]
    }
   ],
   "source": [
    "%time  res=main(10, 1000)"
   ]
  },
  {
   "cell_type": "code",
   "execution_count": 72,
   "id": "dece9779",
   "metadata": {},
   "outputs": [
    {
     "name": "stdout",
     "output_type": "stream",
     "text": [
      "CPU times: user 1.33 s, sys: 0 ns, total: 1.33 s\n",
      "Wall time: 1.33 s\n"
     ]
    }
   ],
   "source": [
    "%time  res=main(100, 10000)"
   ]
  },
  {
   "cell_type": "markdown",
   "id": "713663c4-405b-4887-bec9-d843fbc6e80a",
   "metadata": {},
   "source": [
    "1.b) Sur la base de `main`, écrire une fonction `main_map` afin d'utiliser la méthode `map` native de Python"
   ]
  },
  {
   "cell_type": "code",
   "execution_count": 46,
   "id": "82c0e33c-752a-458a-b2a7-9dc742dfc53d",
   "metadata": {},
   "outputs": [],
   "source": [
    "def main_map(a,b):\n",
    "    return [sum(res) for res in map(factor_01,range(a,b+1))]"
   ]
  },
  {
   "cell_type": "markdown",
   "id": "ad4dd08c-3d44-4d69-a71c-f2a07c8dd1a3",
   "metadata": {},
   "source": [
    "1.c) Mesurer les performances de cette nouvelle version"
   ]
  },
  {
   "cell_type": "code",
   "execution_count": 66,
   "id": "d945ed47-d576-4017-89c4-0e35e298cc2a",
   "metadata": {},
   "outputs": [
    {
     "name": "stdout",
     "output_type": "stream",
     "text": [
      "CPU times: user 265 μs, sys: 1 μs, total: 266 μs\n",
      "Wall time: 268 μs\n"
     ]
    }
   ],
   "source": [
    "%time  res=main_map(10, 100)"
   ]
  },
  {
   "cell_type": "code",
   "execution_count": 69,
   "id": "4e9b0df3",
   "metadata": {},
   "outputs": [
    {
     "name": "stdout",
     "output_type": "stream",
     "text": [
      "CPU times: user 10.7 ms, sys: 999 μs, total: 11.7 ms\n",
      "Wall time: 11.4 ms\n"
     ]
    }
   ],
   "source": [
    "%time  res=main_map(10, 1000)"
   ]
  },
  {
   "cell_type": "code",
   "execution_count": 73,
   "id": "e09b419a",
   "metadata": {},
   "outputs": [
    {
     "name": "stdout",
     "output_type": "stream",
     "text": [
      "CPU times: user 1.34 s, sys: 4 μs, total: 1.34 s\n",
      "Wall time: 1.34 s\n"
     ]
    }
   ],
   "source": [
    "%time  res=main_map(100, 10000)"
   ]
  },
  {
   "cell_type": "markdown",
   "id": "f505c624-3cf0-42f4-90e8-6962b18ed689",
   "metadata": {},
   "source": [
    "## 2 - Multiprocessing\n",
    "\n",
    "2.a) Sur la base de `main_map`, écrire une fonction `main_mp` qui dispatche les tâches effectuées par le `map` entre les différents processus d’un pool de `n` processus, `n` donné en argument de la fonction `main_mp`"
   ]
  },
  {
   "cell_type": "code",
   "execution_count": 77,
   "id": "8fddf86a-2ad5-42a4-8b07-0f30ea3f9bb4",
   "metadata": {},
   "outputs": [],
   "source": [
    "def main_mp(a,b,n):\n",
    "    p_exe = ProcessPoolExecutor(n)\n",
    "    tic = time.time()\n",
    "    [sum(res) for res in p_exe.map(factor_01,range(a,b+1))]\n",
    "    toc=time.time()\n",
    "    print(f'Le temps est {toc-tic}')"
   ]
  },
  {
   "cell_type": "markdown",
   "id": "052456a4-504f-40ff-ade9-e5bdfde34ac4",
   "metadata": {},
   "source": [
    "2.b) Mesurer les performances pour un nombre différent de processus et des valeurs différentes de `a` et `b`"
   ]
  },
  {
   "cell_type": "code",
   "execution_count": 96,
   "id": "e4b2bf11",
   "metadata": {},
   "outputs": [
    {
     "name": "stdout",
     "output_type": "stream",
     "text": [
      "Le temps est 0.11288928985595703\n"
     ]
    }
   ],
   "source": [
    "main_mp(1, 1000,1)"
   ]
  },
  {
   "cell_type": "code",
   "execution_count": 97,
   "id": "05239d10",
   "metadata": {},
   "outputs": [
    {
     "name": "stdout",
     "output_type": "stream",
     "text": [
      "Le temps est 0.1090700626373291\n"
     ]
    }
   ],
   "source": [
    "main_mp(1, 1000,3)"
   ]
  },
  {
   "cell_type": "code",
   "execution_count": 98,
   "id": "6e0d1626-4895-4277-8d63-01ca654ad7a7",
   "metadata": {},
   "outputs": [
    {
     "name": "stdout",
     "output_type": "stream",
     "text": [
      "Le temps est 1.8887760639190674\n"
     ]
    }
   ],
   "source": [
    "main_mp(100, 10000,1)"
   ]
  },
  {
   "cell_type": "code",
   "execution_count": 107,
   "id": "3b755da7",
   "metadata": {},
   "outputs": [
    {
     "name": "stdout",
     "output_type": "stream",
     "text": [
      "Le temps est 0.8099789619445801\n"
     ]
    }
   ],
   "source": [
    "main_mp(100, 10000,4)"
   ]
  },
  {
   "cell_type": "markdown",
   "id": "f9170874-dd38-42e6-80ac-2661ea88d940",
   "metadata": {},
   "source": [
    "2.c) Utiliser le décorateur `njit` (sans activer le `nogil`) de `numba` sur la fonction `factor_01` et mesurer les performances (comparer avec une version *jittée* sans multiprocessing)"
   ]
  },
  {
   "cell_type": "code",
   "execution_count": 108,
   "id": "8f1f3951-1479-4ced-9262-ec1753b2be84",
   "metadata": {},
   "outputs": [],
   "source": [
    "@njit\n",
    "def factor_02(n):\n",
    "    \"\"\"\n",
    "    Retourner la liste des facteurs propres d'un entier n.\n",
    "    \"\"\"\n",
    "    return [i for i in range(1, n) if n % i == 0]"
   ]
  },
  {
   "cell_type": "code",
   "execution_count": 114,
   "id": "f4ee0c5f",
   "metadata": {},
   "outputs": [
    {
     "name": "stdout",
     "output_type": "stream",
     "text": [
      "CPU times: user 12.2 ms, sys: 1.68 ms, total: 13.8 ms\n",
      "Wall time: 13.4 ms\n"
     ]
    }
   ],
   "source": [
    "%time res=main(1, 1000)"
   ]
  },
  {
   "cell_type": "code",
   "execution_count": 115,
   "id": "bc09ca56",
   "metadata": {},
   "outputs": [
    {
     "name": "stdout",
     "output_type": "stream",
     "text": [
      "CPU times: user 1.33 s, sys: 0 ns, total: 1.33 s\n",
      "Wall time: 1.33 s\n"
     ]
    }
   ],
   "source": [
    "%time res=main(1, 10000)"
   ]
  },
  {
   "cell_type": "markdown",
   "id": "c15c87d5-fd8d-4fb8-91e4-6aa1e6598de7",
   "metadata": {},
   "source": [
    "## 3 - Multithreading\n",
    "\n",
    "3.a) Sur la base de `main_mp`, écrire une fonction `main_nt` qui utilise du multithreading à la place du multiprocessing"
   ]
  },
  {
   "cell_type": "markdown",
   "id": "9f2cfa1e-2107-4edc-97d5-5a7a6170e7a8",
   "metadata": {},
   "source": [
    "3.b) Mesurer les performances de cette version et les comparer aux versions précédentes"
   ]
  },
  {
   "cell_type": "code",
   "execution_count": 54,
   "id": "fe3881f3-5483-4ce3-ae41-5de71a2fdc02",
   "metadata": {},
   "outputs": [],
   "source": [
    "#TODO"
   ]
  },
  {
   "cell_type": "markdown",
   "id": "32d4ee60-1576-4e57-929f-92f36e9276fa",
   "metadata": {},
   "source": [
    "3.c) Activer le `nogil` dans le décorateur `njit` et comparer les performances"
   ]
  },
  {
   "cell_type": "code",
   "execution_count": 55,
   "id": "86c531d0-f7ab-4b53-a40e-9e0787893f07",
   "metadata": {},
   "outputs": [],
   "source": [
    "#TODO"
   ]
  }
 ],
 "metadata": {
  "kernelspec": {
   "display_name": ".venv",
   "language": "python",
   "name": "python3"
  },
  "language_info": {
   "codemirror_mode": {
    "name": "ipython",
    "version": 3
   },
   "file_extension": ".py",
   "mimetype": "text/x-python",
   "name": "python",
   "nbconvert_exporter": "python",
   "pygments_lexer": "ipython3",
   "version": "3.12.3"
  }
 },
 "nbformat": 4,
 "nbformat_minor": 5
}
