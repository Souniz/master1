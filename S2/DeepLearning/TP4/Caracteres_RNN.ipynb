{
 "cells": [
  {
   "cell_type": "code",
   "execution_count": 49,
   "metadata": {
    "id": "3d7sLFY232oi"
   },
   "outputs": [],
   "source": [
    "%matplotlib inline"
   ]
  },
  {
   "cell_type": "markdown",
   "metadata": {
    "id": "AFPyUdS-32oi",
    "tags": []
   },
   "source": [
    "\n",
    "# Réseaux récurrents pour la classification de texte\n",
    "D'après le tutoriel de\n",
    "**Author**: [Sean Robertson](https://github.com/spro/practical-pytorch)\n",
    "\n",
    "Reformulé pour le Master SID Université de Rouen Normandie, module Deep Learning, Thierry Paquet, 2023.\n",
    "\n",
    "Nous construisons un réseau récurrent chargé de classer l'origine des noms de famille. Le dataset est constitué d'un ensemble de noms de famille Européens. Le réseau parcourt un nom de gauche à droite, caractère par caractère, et utilise son état interne à la fin du parcours pour classer le nom parmi 18 langues possibles.\n",
    "Voici deux exemples de prédiction: \n",
    "    $ python predict.py Hinton\n",
    "    (-0.47) Scottish\n",
    "    (-1.52) English\n",
    "    (-3.57) Irish\n",
    "\n",
    "    $ python predict.py Schmidhuber\n",
    "    (-0.19) German\n",
    "    (-2.48) Czech\n",
    "    (-2.68) Dutch\n",
    "\n",
    "\n",
    "## Preparation des données\n",
    "\n",
    "Le fichier de prénoms est chargé à partir de ce lien \n",
    "   [https://download.pytorch.org/tutorial/data.zip](https://download.pytorch.org/tutorial/data.zip) et décompressé dans le répertoire courant.\n",
    "\n",
    "Dans le répertoire ``data/names`` se trouvent 18 fichiers texte nommés \n",
    "\"[Language].txt\". Chaque fichier comprend un ensemble de noms, un par ligne, écrits avec des caractères Romains. Mais il subsiste des caractères spéciaux propres à certaines langues, que l'on va devoir normaliser. Une étape de pré-traitement est donc mise en oeuvre pour transformer les caractères UNICODE en ASCII.\n",
    "\n",
    "Depuis votre machine locale, placer les 18 fichiers dans un répertoire ``data/names`` sous google drive. A l'intialisation de votre programme, vous crérez le répertoire drive puis monterez votre partition Drive dans votre environnement d'exécution Colab à l'aide des commandes ci-dessous.\n",
    "\n",
    "## **Question 1:** Expliquez chaque étape de la méthode ```unicodeToAscii()```**"
   ]
  },
  {
   "cell_type": "markdown",
   "metadata": {},
   "source": [
    "La fonction ```unicodeToAscii()``` normalise chaque caractere de la chaine s avec une normalisation de forme ``NFD`` ensuite on verifie si la n'est pas de la forme ``Mn` et qu'il fait partie de nos caractére"
   ]
  },
  {
   "cell_type": "code",
   "execution_count": 50,
   "metadata": {
    "colab": {
     "base_uri": "https://localhost:8080/"
    },
    "id": "Kke_EMfU32ok",
    "outputId": "008b523b-7687-46ae-ffef-b6333c0b36eb"
   },
   "outputs": [
    {
     "name": "stdout",
     "output_type": "stream",
     "text": [
      "Ślusàrski ToAscii Slusarski\n"
     ]
    }
   ],
   "source": [
    "from __future__ import unicode_literals, print_function, division\n",
    "from io import open\n",
    "import glob\n",
    "import os\n",
    "import unicodedata\n",
    "import string\n",
    "\n",
    "def findFiles(path): return glob.glob(path)\n",
    "\n",
    "all_letters = string.ascii_letters + \" .,;'\"\n",
    "n_letters = len(all_letters)\n",
    "\n",
    "# Turn a Unicode string to plain ASCII, thanks to https://stackoverflow.com/a/518232/2809427\n",
    "def unicodeToAscii(s):\n",
    "    return ''.join(\n",
    "        c for c in unicodedata.normalize('NFD', s)\n",
    "        if unicodedata.category(c) != 'Mn'\n",
    "        and c in all_letters\n",
    "    )\n",
    "\n",
    "print('Ślusàrski ToAscii',unicodeToAscii('Ślusàrski'))\n",
    "\n",
    "# Build the category_lines dictionary, a list of names per language\n",
    "category_lines = {}\n",
    "all_categories = []\n",
    "\n",
    "# Read a file and split into lines\n",
    "def readLines(filename):\n",
    "    lines = open(filename, encoding='utf-8').read().strip().split('\\n')\n",
    "    return [unicodeToAscii(line) for line in lines]\n",
    "\n",
    "for filename in findFiles('data/names/*.txt'):\n",
    "    category = os.path.splitext(os.path.basename(filename))[0]\n",
    "    all_categories.append(category)\n",
    "    lines = readLines(filename)\n",
    "    category_lines[category] = lines\n",
    "\n",
    "n_categories = len(all_categories)"
   ]
  },
  {
   "cell_type": "markdown",
   "metadata": {
    "id": "VMnR6jwS32om",
    "tags": []
   },
   "source": [
    "A present nous avons dans la variable ``category_lines``,  un dictionnaire des noms des langues qui permet d'accéder au listes de noms de chaque langue. On mémorise également dans la variable  ``all_categories`` la liste des noms des langues et dans ``n_categories`` le nombre de langues.\n",
    "\n",
    "\n"
   ]
  },
  {
   "cell_type": "code",
   "execution_count": 51,
   "metadata": {
    "colab": {
     "base_uri": "https://localhost:8080/"
    },
    "id": "a2CdtC1q32om",
    "outputId": "13bc2868-f4ec-415a-b770-109a1fb67ac5"
   },
   "outputs": [
    {
     "name": "stdout",
     "output_type": "stream",
     "text": [
      "['Abandonato', 'Abatangelo', 'Abatantuono', 'Abate', 'Abategiovanni']\n"
     ]
    }
   ],
   "source": [
    "print(category_lines['Italian'][:5])"
   ]
  },
  {
   "cell_type": "markdown",
   "metadata": {
    "id": "0o8MFMVa32om"
   },
   "source": [
    "### Transformation en tenseurs\n",
    "\n",
    "Il faut maintenant écrire les données dans des tenseurs. Chaque caractère va être encodé en un vecteur binaire dit \"one-hot vector\" de taille \n",
    "$<1 \\times n_{letters}>$. Un vecteur one-hot est un vecteur binaire rempli de valeurs à 0 à l'exception d'une seule entrée mise à 1 correspondant à l'index du caractère représenté par ce vecteur, par exemple ``\"b\" = <0 1 0 0 0 ...>``.\n",
    "\n",
    "Un mot est donc encodé par une séquence de vecteurs one-hot qui est placée dans un tenseur 2D de dimension $<line\\_length \\times 1 \\times n_{letters}>$.\n",
    "\n",
    "On insère une dimension suplémentaire de taille 1 parce que PyTorch manipule des lots (batch) - ici nous avons donc un batch de taille 1 exemple.\n"
   ]
  },
  {
   "cell_type": "code",
   "execution_count": 52,
   "metadata": {
    "colab": {
     "base_uri": "https://localhost:8080/"
    },
    "id": "2sF8RyG832on",
    "outputId": "cfafbf09-d5b8-4bdd-ff61-e711a64870bb"
   },
   "outputs": [
    {
     "name": "stdout",
     "output_type": "stream",
     "text": [
      "One hot vector de la lettre J:\n",
      "tensor([[0., 0., 0., 0., 0., 0., 0., 0., 0., 0., 0., 0., 0., 0., 0., 0., 0., 0.,\n",
      "         0., 0., 0., 0., 0., 0., 0., 0., 0., 0., 0., 0., 0., 0., 0., 0., 0., 1.,\n",
      "         0., 0., 0., 0., 0., 0., 0., 0., 0., 0., 0., 0., 0., 0., 0., 0., 0., 0.,\n",
      "         0., 0., 0.]])\n",
      "Taille du tenseur encodant le mot \"Jones\":\n",
      "torch.Size([5, 1, 57])\n"
     ]
    }
   ],
   "source": [
    "import torch\n",
    "\n",
    "# Find letter index from all_letters, e.g. \"a\" = 0\n",
    "def letterToIndex(letter):\n",
    "    return all_letters.find(letter)\n",
    "\n",
    "# Just for demonstration, turn a letter into a <1 x n_letters> Tensor\n",
    "def letterToTensor(letter):\n",
    "    tensor = torch.zeros(1, n_letters)\n",
    "    tensor[0][letterToIndex(letter)] = 1\n",
    "    return tensor\n",
    "\n",
    "# Turn a line into a <line_length x 1 x n_letters>,\n",
    "# or an array of one-hot letter vectors\n",
    "def lineToTensor(line):\n",
    "    tensor = torch.zeros(len(line), 1, n_letters)\n",
    "    for li, letter in enumerate(line):\n",
    "        tensor[li][0][letterToIndex(letter)] = 1\n",
    "    return tensor\n",
    "print('One hot vector de la lettre J:')\n",
    "print(letterToTensor('J'))\n",
    "\n",
    "print('Taille du tenseur encodant le mot \"Jones\":')\n",
    "print(lineToTensor('Jones').size())"
   ]
  },
  {
   "cell_type": "markdown",
   "metadata": {
    "id": "CnGF_xvq32on"
   },
   "source": [
    "## Creation de la classe réseau récurrent\n",
    "Avant l'utilisation par Pytorch de l'autodifférentiation par la méthode  ``` autograd```, la création d'un réseau récurrent passait par la déclaration d'une couche qui se répétait sur plusieurs pas de temps consécutifs. Ces couches maintenaient l'état caché et le gradient rétropropagé au cours du temps.\n",
    "\n",
    "Désormais, les couches récurrentes sont gérées par ```autograd``` qui construit pour nous le graphe de calcul du réseau déplié au cours du temps. Cela veut dire qu'un réseau récurrent est désormais déclaré comme un réseau feed-forward non récurrent, et que c'est autograd qui gère la structure récurrente lorsque le réseaux est instancié.\n",
    "\n",
    "Le réseau récurrent que nous allons utiliser contient simplement deux couches `Linear()` qui voient toutes deux les données d'entrée constituées de l'entrée courante + la sortie précédente concaténées ```combined = torch.cat()```.\n",
    "\n",
    "La première couche linéaire est de type feedforward suivie d'une activation softmax. Elle produit la sortie courante. \n",
    "La seconde couche est récurrente. Elle produit l'état caché de la couche récurrente à travers une couche linéaire. L'ensemble est schématisé sur cette figure: <img src=\"https://i.imgur.com/Z2xbySO.png\"></img>\n"
   ]
  },
  {
   "cell_type": "code",
   "execution_count": 53,
   "metadata": {
    "id": "R6JgB17l32oo"
   },
   "outputs": [],
   "source": [
    "import torch.nn as nn\n",
    "\n",
    "class RNN(nn.Module):\n",
    "    def __init__(self, input_size, hidden_size, output_size):\n",
    "        super(RNN, self).__init__()\n",
    "\n",
    "        self.hidden_size = hidden_size\n",
    "\n",
    "        self.i2h = nn.Linear(input_size + hidden_size, hidden_size)\n",
    "        self.i2o = nn.Linear(input_size + hidden_size, output_size)\n",
    "        self.softmax = nn.LogSoftmax(dim=1)\n",
    "\n",
    "    def forward(self, input, hidden):\n",
    "        combined = torch.cat((input, hidden), 1)\n",
    "        hidden = self.i2h(combined)\n",
    "        output = self.i2o(combined)\n",
    "        output = self.softmax(output)\n",
    "        return output, hidden\n",
    "\n",
    "    def initHidden(self):\n",
    "        return torch.zeros(1, self.hidden_size)\n",
    "\n",
    "n_hidden = 128\n",
    "rnn = RNN(n_letters, n_hidden, n_categories)"
   ]
  },
  {
   "cell_type": "markdown",
   "metadata": {
    "id": "31L4_ayp32oo"
   },
   "source": [
    "Pour faire une itération avec ce réseau il faut lui fournir une entrée (dans notre cas le one-hot vector qui encode le caractère courant et l'état précédent du réseau (initialisé à zéro à la première itération). \n",
    "Le réseau fournit en retour le vecteur de probabilité de chaque langue et l'état caché courant (que l'on va utiliser pour l'itération suivante)."
   ]
  },
  {
   "cell_type": "code",
   "execution_count": 54,
   "metadata": {
    "id": "ZDigAh4W32op"
   },
   "outputs": [],
   "source": [
    "input = letterToTensor('A')\n",
    "hidden = torch.zeros(1, n_hidden)\n",
    "\n",
    "output, next_hidden = rnn(input, hidden)"
   ]
  },
  {
   "cell_type": "markdown",
   "metadata": {
    "id": "B8akSboE32op"
   },
   "source": [
    "Pour être plus efficace on ne crée pas un nouveau tenseur pour chaque nouveau caractère d'entrée. \n",
    "A la place, on crée un seul tenseur pour toute la séquence de caractères. On utilise  `` input = lineToTensor`` au lieu de ``letterToTensor`` et on itère sur toutes les positions du tenseur de la séquence d'entrée. \n",
    "\n",
    "## **Question 2:** Expliquez chaque étape de la méthode ```lineToTensor()``` \n",
    "La methode ```lineToTensor()``` permet de creer une one hote vector pour chaque caractére du texte passé en parametre et mettre ses vecteurs sous forme de tenseur\n",
    "## **Question 3:** Que représente le tenseur ```output``` ?\n",
    "Le tenseur ```output``` represente la valeur du ``log softmax`` de chaque langue c'est à dire la sortie de notre fonction softmax"
   ]
  },
  {
   "cell_type": "code",
   "execution_count": 55,
   "metadata": {
    "id": "ilhBpwJo32oq"
   },
   "outputs": [
    {
     "name": "stdout",
     "output_type": "stream",
     "text": [
      "tensor([[-2.9309, -2.9205, -2.8589, -2.8099, -2.8434, -2.9184, -2.9483, -2.8637,\n",
      "         -3.0344, -2.9358, -2.8677, -2.8786, -2.9073, -2.8917, -2.8378, -2.8549,\n",
      "         -2.8885, -2.8586]], grad_fn=<LogSoftmaxBackward0>)\n"
     ]
    }
   ],
   "source": [
    "input = lineToTensor('Albert')\n",
    "hidden = torch.zeros(1, n_hidden)\n",
    "\n",
    "output, next_hidden = rnn(input[0], hidden)\n",
    "print(output)"
   ]
  },
  {
   "cell_type": "markdown",
   "metadata": {
    "id": "Jln9YVzw32oq"
   },
   "source": [
    "## Entrainement du réseau\n",
    "Préparer l'entrainement\n",
    "----------------------\n",
    "\n",
    "On déclare quelques fonctions qui vont nous aider. La première va nous permettre de mieux visualiser la sortie courante du réseau. On utilise pour cela la méthode ``categoryFromOutput()``.\n",
    "\n",
    "## **Question 4:** Expliquez chaque ligne de la méthode ``categoryFromOutput()``\n",
    "``top_n, top_i = output.topk(1)`` : On recupere deux tenseurs (top_n, top_i) qui stocke respectivement la plus grande valeur et l'indexe correspondant du tenseur output.\n",
    "``category_i = top_i[0].item()`` : On recure la valeur stocké par le tenseur (un entier) \n",
    "``all_categories[category_i], category_i``: On retourne le pays et le numero associé"
   ]
  },
  {
   "cell_type": "code",
   "execution_count": 56,
   "metadata": {
    "id": "1da9xtAu32or"
   },
   "outputs": [
    {
     "name": "stdout",
     "output_type": "stream",
     "text": [
      "('German', 3)\n"
     ]
    }
   ],
   "source": [
    "def categoryFromOutput(output):\n",
    "    top_n, top_i = output.topk(1)\n",
    "    category_i = top_i[0].item()\n",
    "    return all_categories[category_i], category_i\n",
    "\n",
    "print(categoryFromOutput(output))"
   ]
  },
  {
   "cell_type": "markdown",
   "metadata": {
    "id": "cd_E3exe32or"
   },
   "source": [
    "On a également besoin de visualiser un exemple d'apprentissage (un nom et sa langue).\n",
    "\n",
    "## **Question 5:** Que réalise la fonction ``` randomTrainingExample()``` ?\n"
   ]
  },
  {
   "cell_type": "markdown",
   "metadata": {},
   "source": [
    "## La fonction randomTrainingExample() est utilisée pour sélectionner aléatoirement un exemple d'entraînement à partir d'un ensemble de données organisées par catégories\n",
    "## all_categories est une liste contenant les différentes catégories disponibles.randomChoice(all_categories) choisit une catégorie au hasard. category_lines est un dictionnaire où chaque clé est une catégorie et chaque valeur est une liste de chaînes de caractères associées à cette catégorie. randomChoice(category_lines[category]) choisit une ligne aléatoire dans la liste des exemples de la catégorie sélectionnée."
   ]
  },
  {
   "cell_type": "code",
   "execution_count": 57,
   "metadata": {
    "id": "lnt6L7Mz32or"
   },
   "outputs": [],
   "source": [
    "import random\n",
    "\n",
    "def randomChoice(l):\n",
    "    return l[random.randint(0, len(l) - 1)]\n",
    "\n",
    "def randomTrainingExample():\n",
    "    category = randomChoice(all_categories)\n",
    "    line = randomChoice(category_lines[category])\n",
    "    category_tensor = torch.tensor([all_categories.index(category)], dtype=torch.long)\n",
    "    line_tensor = lineToTensor(line)\n",
    "    return category, line, category_tensor, line_tensor\n",
    "\n",
    "for i in range(10):\n",
    "    category, line, category_tensor, line_tensor = randomTrainingExample()\n",
    "    # print('category =', category, '/ line =', line)"
   ]
  },
  {
   "cell_type": "markdown",
   "metadata": {
    "id": "MokMznnU32or"
   },
   "source": [
    "### Entrainer le réseau\n",
    "\n",
    "Maintenant il suffit de présenter au réseau un lot d'apprentissage pour qu'il fasse une prédiction et qu'il adapte ses poids en fonction de ses erreurs.\n",
    "Puisque la fonction d'activation de sortie est une `nn.LogSoftmax`, le critère d'apprentissage choisi est  `nn.NLLLoss`.\n",
    "\n",
    "\n",
    "## **Question 6:** A quoi correspond le critère pytorch `nn.NLLLoss` ?"
   ]
  },
  {
   "cell_type": "markdown",
   "metadata": {},
   "source": [
    "## Le critère torch.nn.NLLLoss (Negative Log-Likelihood Loss) est une fonction de perte utilisée principalement pour des tâches de classification dans PyTorch. Elle est généralement utilisée en combinaison avec nn.LogSoftmax pour entraîner des modèles de classification."
   ]
  },
  {
   "cell_type": "code",
   "execution_count": 58,
   "metadata": {
    "id": "q7rLwMps32or"
   },
   "outputs": [],
   "source": [
    "criterion = nn.NLLLoss()"
   ]
  },
  {
   "cell_type": "markdown",
   "metadata": {
    "id": "U9v7sNEE32os"
   },
   "source": [
    "Chaque époque de la boucle d'apprentissage fait appel à la méthode `train()`\n",
    "\n",
    "## **Question 7:** expliquez toutes les étapes de la méthode `train()` \n",
    "Préciser\n",
    "- la taille des lots\n",
    "- l'optimiseur utilisé\n",
    "\n",
    "Proposez quelques améliorations possibles de cette méthode"
   ]
  },
  {
   "cell_type": "markdown",
   "metadata": {},
   "source": [
    "## La méthode train() entraîne le réseau de neurones récurrent  en mettant à jour ses poids à l’aide de la descente de gradient, en utilisant un optimiseur et une taille de lot spécifique.\n",
    "La méthode prend en entrée :\n",
    "### category_tensor : un tenseur représentant la vraie catégorie sous forme d’un index \n",
    "### line_tensor : un tenseur représentant une séquence d’entrée (ex : un mot ou un nom encodé en caractères).\n",
    "### hidden = rnn.initHidden():Initialisation de l’état caché\n",
    "### rnn.zero_grad() : Remise à zéro des gradients\n",
    "### output, hidden = rnn(line_tensor[i], hidden) : Passage avant (Forward pass)\n",
    "### loss = criterion(output, category_tensor): Calcul de la perte (Loss computation)\n",
    "### loss.backward(): Rétropropagation des erreurs\n",
    "### p.data.add_(p.grad.data, alpha=-learning_rate):Mise à jour des poids avec l’optimiseur\n",
    "\n",
    "Taille des lots=1\n",
    "Optimiseur = SGD\n",
    "## Pour améliorer l'entraînement :\n",
    "\n",
    "    -Augmenter la taille du lot (batch_size > 1).\n",
    "\n",
    "    -Utiliser un optimiseur moderne (torch.optim.Adam).\n",
    "\n",
    "    -Ajouter de la régularisation (dropout, weight decay).\n",
    "\n",
    "    -Expérimenter avec différentes architectures de RNN (LSTM, GRU)."
   ]
  },
  {
   "cell_type": "code",
   "execution_count": 59,
   "metadata": {
    "id": "uRqWf3Q-32os"
   },
   "outputs": [],
   "source": [
    "learning_rate = 0.005 # If you set this too high, it might explode. If too low, it might not learn\n",
    "\n",
    "def train(category_tensor, line_tensor):\n",
    "    hidden = rnn.initHidden()\n",
    "\n",
    "    rnn.zero_grad()\n",
    "\n",
    "    for i in range(line_tensor.size()[0]):\n",
    "        output, hidden = rnn(line_tensor[i], hidden)\n",
    "\n",
    "    loss = criterion(output, category_tensor)\n",
    "    loss.backward()\n",
    "\n",
    "    # Add parameters' gradients to their values, multiplied by learning rate\n",
    "    for p in rnn.parameters():\n",
    "        p.data.add_(p.grad.data, alpha=-learning_rate)\n",
    "\n",
    "    return output, loss.item()"
   ]
  },
  {
   "cell_type": "markdown",
   "metadata": {
    "id": "yOWu4pZp32os"
   },
   "source": [
    "Maintenant il suffit simplement de lancer l'exécution de l'apprentissage sur l'ensemble des exemples. \n",
    "\n",
    "## **Question 8 :** expliquer la structure de la boucle principale du programme\n",
    "Précisez notamment les variables mémorisées et visualisées"
   ]
  },
  {
   "cell_type": "markdown",
   "metadata": {},
   "source": [
    "## Étapes de la boucle principale\n",
    "### Génération d’un exemple aléatoire c'est à dire sélectionne un nom et sa catégorie\n",
    "### Entraînement du modèle c'est à dire\tpasse l’exemple dans train() et récupère la perte\n",
    "### Accumulation de la pertec'est à dire ajoute loss à current_loss\n",
    "### Affichage périodique (print_every) c'est à dire les performances actuelles du modèle\n",
    "### Enregistrement des pertes (plot_every) stocke la perte moyenne pour analyse graphique\n",
    "## Variable mémorisé\n",
    "### n_iters:\tNombre total d’itérations d'entraînement\n",
    "### print_every:\tFréquence d'affichage des résultats\n",
    "### plot_every:\tFréquence d'enregistrement des pertes\n",
    "### current_loss:\tSomme des pertes sur plot_every itérations\n",
    "### all_losses:\tListe des pertes moyennes stockées pour visualisation\n",
    "### start:\tTimestamp du début de l'entraînement\n",
    "### category:\tCatégorie réelle de l’exemple sélectionné\n",
    "### line:\tSéquence d’entrée (ex : un nom)\n",
    "### category_tensor:\tEncodage tensoriel de la catégorie\n",
    "### line_tensor:\tEncodage tensoriel de la séquence d’entrée\n",
    "### output:\tPrédiction du modèle (scores des catégories)\n",
    "### loss:\tErreur du modèle sur cet exemple\n",
    "### guess:\tCatégorie prédite par le modèle\n",
    "### correct:\tIndicateur de succès "
   ]
  },
  {
   "cell_type": "code",
   "execution_count": 60,
   "metadata": {
    "colab": {
     "base_uri": "https://localhost:8080/"
    },
    "id": "zQbLztyy32ot",
    "outputId": "77766dc1-5d2b-4b3b-8a27-5dba8e2c874b"
   },
   "outputs": [
    {
     "name": "stdout",
     "output_type": "stream",
     "text": [
      "5000 5% (0m 2s) 3.1333 Guirguis / Greek ✗ (Arabic)\n",
      "10000 10% (0m 5s) 1.6882 Haptakhaev / Russian ✓\n",
      "15000 15% (0m 8s) 1.8705 Shenyavsky / Polish ✗ (Russian)\n",
      "20000 20% (0m 10s) 0.8955 Chong / Chinese ✓\n",
      "25000 25% (0m 13s) 0.9257 Lam / Vietnamese ✓\n",
      "30000 30% (0m 15s) 3.4586 See / Korean ✗ (Dutch)\n",
      "35000 35% (0m 18s) 0.8065 Faolan / Irish ✓\n",
      "40000 40% (0m 21s) 1.6947 Szwedko / Japanese ✗ (Polish)\n",
      "45000 45% (0m 23s) 2.0631 Birch / German ✗ (English)\n",
      "50000 50% (0m 26s) 0.6502 Kuipers / Dutch ✓\n",
      "55000 55% (0m 29s) 0.5785 Que / Chinese ✓\n",
      "60000 60% (0m 31s) 2.3301 Deniaud / Arabic ✗ (French)\n",
      "65000 65% (0m 34s) 1.0963 Haenraats / Dutch ✓\n",
      "70000 70% (0m 37s) 1.8378 Krauss / Arabic ✗ (German)\n",
      "75000 75% (0m 39s) 0.3140 Morandi / Italian ✓\n",
      "80000 80% (0m 42s) 0.2577 Byon / Korean ✓\n",
      "85000 85% (0m 45s) 0.5113 Tan / Chinese ✓\n",
      "90000 90% (0m 47s) 3.5119 Aonghuis / Dutch ✗ (Irish)\n",
      "95000 95% (0m 50s) 0.4247 Bologna / Italian ✓\n",
      "100000 100% (0m 53s) 3.8893 Derjavets / Dutch ✗ (Russian)\n"
     ]
    }
   ],
   "source": [
    "import time\n",
    "import math\n",
    "\n",
    "n_iters = 100000\n",
    "print_every = 5000\n",
    "plot_every = 1000\n",
    "\n",
    "\n",
    "# Keep track of losses for plotting\n",
    "current_loss = 0\n",
    "all_losses = []\n",
    "\n",
    "def timeSince(since):\n",
    "    now = time.time()\n",
    "    s = now - since\n",
    "    m = math.floor(s / 60)\n",
    "    s -= m * 60\n",
    "    return '%dm %ds' % (m, s)\n",
    "\n",
    "start = time.time()\n",
    "\n",
    "for iter in range(1, n_iters + 1):\n",
    "    category, line, category_tensor, line_tensor = randomTrainingExample()\n",
    "    output, loss = train(category_tensor, line_tensor)\n",
    "    current_loss += loss\n",
    "\n",
    "    # Print iter number, loss, name and guess\n",
    "    if iter % print_every == 0:\n",
    "        guess, guess_i = categoryFromOutput(output)\n",
    "        correct = '✓' if guess == category else '✗ (%s)' % category\n",
    "        print('%d %d%% (%s) %.4f %s / %s %s' % (iter, iter / n_iters * 100, timeSince(start), loss, line, guess, correct))\n",
    "\n",
    "    # Add current loss avg to list of losses\n",
    "    if iter % plot_every == 0:\n",
    "        all_losses.append(current_loss / plot_every)\n",
    "        current_loss = 0"
   ]
  },
  {
   "cell_type": "markdown",
   "metadata": {
    "id": "-DJMLc4d32ot"
   },
   "source": [
    "### Affichage des résultats\n",
    "\n",
    "On visualise l'évolution du critère ``all_losses`` au cours de l'apprentissage:\n"
   ]
  },
  {
   "cell_type": "code",
   "execution_count": 61,
   "metadata": {
    "colab": {
     "base_uri": "https://localhost:8080/",
     "height": 282
    },
    "id": "_CZ5gXaJ32ou",
    "outputId": "13612b9b-812f-481b-ad88-a3b3d0ad98d0"
   },
   "outputs": [
    {
     "data": {
      "text/plain": [
       "[<matplotlib.lines.Line2D at 0x7135c4ba26c0>]"
      ]
     },
     "execution_count": 61,
     "metadata": {},
     "output_type": "execute_result"
    },
    {
     "data": {
      "image/png": "[encoded data removed]",
      "text/plain": [
       "<Figure size 640x480 with 1 Axes>"
      ]
     },
     "metadata": {},
     "output_type": "display_data"
    }
   ],
   "source": [
    "import matplotlib.pyplot as plt\n",
    "import matplotlib.ticker as ticker\n",
    "\n",
    "plt.figure()\n",
    "plt.plot(all_losses)"
   ]
  },
  {
   "cell_type": "markdown",
   "metadata": {
    "id": "FRmktf5k32ou"
   },
   "source": [
    "## Evaluation des performances\n",
    "Pour une première évaluation des capacités du réseau on calcule la matrice de confusion. \n",
    "\n",
    "## **Question 9:** Préciser le rôle de la fonction `evaluate()`\n",
    "  La fonction evaluate() est utilisée pour évaluer le modèle RNN  sur une séquence d'entrée donnée, et elle retourne la prédiction du modèle pour cette séquence. Elle  permet d’obtenir la prédiction du modèle pour une entrée donnée en traitant chaque élément de la séquence dans le RNN et en renvoyant la sortie du modèle après avoir vu toute la séquence\n",
    "## **Question 10:** Quel est le principal défaut de cette évaluation ?\n",
    "Le principal défaut de la fonction réside dans le fait qu'elle ne calcule pas de mesure de performance sur la prédiction par rapport à une véritable étiquette ou valeur cible. En d'autres termes, elle renvoie uniquement la prédiction du modèle sans évaluer si cette prédiction est correcte ou non.\n",
    "\n",
    "## **Question 11:** Quelles sont les langues les moins bien identifiées? Quelles sont les principales confusions ? \n",
    " Les langues avec peu de données d'entraînement ou des noms peu représentés peuvent rendre l'identification de ces langues plus difficile.\n",
    " Les confusions surviennent lorsque des langues partagent des caractéristiques similaires, ce qui entraîne une mauvaise classification du modèle"
   ]
  },
  {
   "cell_type": "code",
   "execution_count": 62,
   "metadata": {
    "colab": {
     "base_uri": "https://localhost:8080/",
     "height": 697
    },
    "id": "JKlhdgsV32ou",
    "outputId": "dccf8057-0af6-4e29-e8d5-ff89c17744e1"
   },
   "outputs": [
    {
     "name": "stderr",
     "output_type": "stream",
     "text": [
      "/tmp/ipykernel_6242/4223549400.py:33: UserWarning: set_ticklabels() should only be used with a fixed number of ticks, i.e. after set_ticks() or using a FixedLocator.\n",
      "  ax.set_xticklabels([''] + all_categories, rotation=90)\n",
      "/tmp/ipykernel_6242/4223549400.py:34: UserWarning: set_ticklabels() should only be used with a fixed number of ticks, i.e. after set_ticks() or using a FixedLocator.\n",
      "  ax.set_yticklabels([''] + all_categories)\n"
     ]
    },
    {
     "data": {
      "image/png": "[encoded data removed]",
      "text/plain": [
       "<Figure size 1200x1200 with 2 Axes>"
      ]
     },
     "metadata": {},
     "output_type": "display_data"
    }
   ],
   "source": [
    "# Keep track of correct guesses in a confusion matrix\n",
    "confusion = torch.zeros(n_categories, n_categories)\n",
    "n_confusion = 10000\n",
    "\n",
    "# Just return an output given a line\n",
    "def evaluate(line_tensor):\n",
    "    hidden = rnn.initHidden()\n",
    "\n",
    "    for i in range(line_tensor.size()[0]):\n",
    "        output, hidden = rnn(line_tensor[i], hidden)\n",
    "\n",
    "    return output\n",
    "\n",
    "# Go through a bunch of examples and record which are correctly guessed\n",
    "for i in range(n_confusion):\n",
    "    category, line, category_tensor, line_tensor = randomTrainingExample()\n",
    "    output = evaluate(line_tensor)\n",
    "    guess, guess_i = categoryFromOutput(output)\n",
    "    category_i = all_categories.index(category)\n",
    "    confusion[category_i][guess_i] += 1\n",
    "\n",
    "# Normalize by dividing every row by its sum\n",
    "for i in range(n_categories):\n",
    "    confusion[i] = confusion[i] / confusion[i].sum()\n",
    "\n",
    "# Set up plot\n",
    "fig = plt.figure(figsize=(12,12))\n",
    "ax = fig.add_subplot(111)\n",
    "cax = ax.matshow(confusion.numpy())\n",
    "fig.colorbar(cax)\n",
    "\n",
    "# Set up axes\n",
    "ax.set_xticklabels([''] + all_categories, rotation=90)\n",
    "ax.set_yticklabels([''] + all_categories)\n",
    "\n",
    "# Force label at every tick\n",
    "ax.xaxis.set_major_locator(ticker.MultipleLocator(1))\n",
    "ax.yaxis.set_major_locator(ticker.MultipleLocator(1))\n",
    "\n",
    "# sphinx_gallery_thumbnail_number = 2\n",
    "plt.show()"
   ]
  },
  {
   "cell_type": "markdown",
   "metadata": {
    "id": "PJPTM8G132ov"
   },
   "source": [
    "### Exécution sur vos prropres exemples\n",
    "\n",
    "## **Question 12:** Expliquer les différentes étapes de la méthode `predict()`\n",
    "La fonction predict() permet de prédire les n catégories les plus probables pour une entrée donnée (par exemple, un nom). Elle prend en entrée une chaîne de caractères (comme un nom) et retourne les n_predictions (par défaut 3) catégories les plus probables en fonction de l'output du modèle.\n",
    "### Désactivation du calcul des gradients : with torch.no_grad():\n",
    "### Évaluation de l'entrée : output = evaluate(lineToTensor(input_line))\n",
    "### Récupération des N meilleures catégories : topv, topi = output.topk(n_predictions, dim=1, largest=True)\n",
    "### Construction de la liste des prédictions \n",
    "### Retour des prédictions\n"
   ]
  },
  {
   "cell_type": "code",
   "execution_count": null,
   "metadata": {
    "colab": {
     "base_uri": "https://localhost:8080/"
    },
    "id": "33yX1X4532ov",
    "outputId": "8b1068e9-d60c-4c9c-ec85-6ada822d5d5d"
   },
   "outputs": [
    {
     "name": "stdout",
     "output_type": "stream",
     "text": [
      "\n",
      "> Dovesky\n",
      "(-0.51) Russian\n",
      "(-1.10) Czech\n",
      "(-3.48) Polish\n",
      "\n",
      "> Jackson\n",
      "(-0.43) Scottish\n",
      "(-1.50) English\n",
      "(-2.87) Russian\n",
      "\n",
      "> Satoshi\n",
      "(-0.85) Japanese\n",
      "(-1.61) Polish\n",
      "(-2.15) Italian\n",
      "NIANG\n"
     ]
    }
   ],
   "source": [
    "def predict(input_line, n_predictions=3):\n",
    "    print('\\n> %s' % input_line)\n",
    "    with torch.no_grad():\n",
    "        output = evaluate(lineToTensor(input_line))\n",
    "\n",
    "        # Get top N categories\n",
    "        topv, topi = output.topk(n_predictions, dim=1, largest=True)\n",
    "        # largest: controls whether to return largest or smallest elements\n",
    "        predictions = []\n",
    "\n",
    "        for i in range(n_predictions):\n",
    "            value = topv[0][i].item()\n",
    "            category_index = topi[0][i].item()\n",
    "            print('(%.2f) %s' % (value, all_categories[category_index]))\n",
    "            predictions.append([value, all_categories[category_index]])\n",
    "\n",
    "predict('Dovesky')\n",
    "predict('Jackson')\n",
    "predict('Satoshi')\n",
    "print('NIANG')"
   ]
  },
  {
   "cell_type": "markdown",
   "metadata": {
    "id": "lbPoRTfO32ov"
   },
   "source": [
    "## Exercices supplémentaires\n",
    "\n",
    "-  Améliorer les résultats en envisageant une évolution de l'architecture du réseau\n",
    "\n",
    "   -  ajouter plus de couches linéaires\n",
    "   -  empiler  plusieurs couches récurrentes\n",
    "   \n",
    "-  Extensions possibles : envisager d'autres tâches similaires telles que:\n",
    "   -  Déduire le genre des prénoms\n",
    "   -  Classer des lignes de texte parmi Titre / plein texte / légende etc... \n",
    "\n"
   ]
  },
  {
   "cell_type": "code",
   "execution_count": 1,
   "metadata": {
    "id": "IJoM5W0n7WyI"
   },
   "outputs": [],
   "source": [
    "import torch\n",
    "import torch.nn as nn\n",
    "import torch.nn.functional as F\n",
    "\n",
    "class RNN2(nn.Module):\n",
    "    def __init__(self, input_size, hidden_size, output_size, num_layers=2):\n",
    "        super(RNN2, self).__init__()\n",
    "        \n",
    "        self.hidden_size = hidden_size\n",
    "        self.num_layers = num_layers\n",
    "        \n",
    "        # LSTM empilé avec plusieurs couches\n",
    "        self.lstm = nn.LSTM(input_size, hidden_size, num_layers=num_layers, batch_first=True)\n",
    "        \n",
    "        # Ajouter plusieurs couches linéaires pour améliorer les capacités de représentation\n",
    "        self.fc1 = nn.Linear(hidden_size, 256)  # Couches plus larges\n",
    "        self.fc2 = nn.Linear(256, 128)\n",
    "        self.fc3 = nn.Linear(128, 64)\n",
    "        self.fc4 = nn.Linear(64, output_size)  # Dernière couche pour la classification\n",
    "        \n",
    "        # Fonction softmax pour normaliser la sortie\n",
    "        self.softmax = nn.LogSoftmax(dim=1)\n",
    "    \n",
    "    def forward(self, input_seq):\n",
    "        # Initialisation de l'état caché et de la cellule pour LSTM\n",
    "        h0 = torch.zeros(self.num_layers, input_seq.size(0), self.hidden_size).to(input_seq.device)\n",
    "        c0 = torch.zeros(self.num_layers, input_seq.size(0), self.hidden_size).to(input_seq.device)\n",
    "\n",
    "        # Passage à travers le LSTM empilé\n",
    "        lstm_out, _ = self.lstm(input_seq, (h0, c0))\n",
    "\n",
    "        # Prendre la sortie de la dernière étape de la séquence\n",
    "        hidden = lstm_out[:, -1, :]\n",
    "\n",
    "        # Passer à travers les couches linéaires supplémentaires\n",
    "        x = F.relu(self.fc1(hidden))\n",
    "        x = F.relu(self.fc2(x))\n",
    "        x = F.relu(self.fc3(x))\n",
    "        output = self.fc4(x)\n",
    "        \n",
    "        # Appliquer le softmax pour obtenir les probabilités des catégories\n",
    "        output = self.softmax(output)\n",
    "        \n",
    "        return output\n"
   ]
  }
 ],
 "metadata": {
  "colab": {
   "provenance": []
  },
  "kernelspec": {
   "display_name": ".venv",
   "language": "python",
   "name": "python3"
  },
  "language_info": {
   "codemirror_mode": {
    "name": "ipython",
    "version": 3
   },
   "file_extension": ".py",
   "mimetype": "text/x-python",
   "name": "python",
   "nbconvert_exporter": "python",
   "pygments_lexer": "ipython3",
   "version": "3.12.3"
  }
 },
 "nbformat": 4,
 "nbformat_minor": 4
}
