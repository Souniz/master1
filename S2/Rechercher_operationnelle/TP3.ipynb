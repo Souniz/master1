{
 "cells": [
  {
   "cell_type": "code",
   "execution_count": 29,
   "metadata": {},
   "outputs": [],
   "source": [
    "import numpy as np\n",
    "from pathlib import Path\n",
    "import sys"
   ]
  },
  {
   "cell_type": "code",
   "execution_count": 30,
   "metadata": {},
   "outputs": [],
   "source": [
    "sys.setrecursionlimit(100000000)"
   ]
  },
  {
   "cell_type": "markdown",
   "metadata": {},
   "source": [
    "# Exercice 1 – String Edit Distance"
   ]
  },
  {
   "cell_type": "code",
   "execution_count": 31,
   "metadata": {},
   "outputs": [],
   "source": [
    "c_ins = 1\n",
    "c_del = 1\n",
    "c_sub = lambda x, y : 0 if x == y else 1\n",
    "memo = {}\n",
    "def editDistCost(i,j,x,y):\n",
    "    if (i, j) in memo:\n",
    "        return memo[(i, j)]\n",
    "    if i==len(x):\n",
    "        memo[(i,j)] = len(y)-j\n",
    "        return memo[(i,j)]\n",
    "    if j==len(y):\n",
    "        memo[(i,j)] = len(x)-i\n",
    "        return memo[(i,j)]\n",
    "    memo[(i,j)]=min([\n",
    "        editDistCost(i+1,j,x,y) + c_ins,\n",
    "        editDistCost(i,j+1,x,y) + c_del,\n",
    "        editDistCost(i+1,j+1,x,y) + c_sub(x[i], x[j])\n",
    "        ])\n",
    "    return memo[(i,j)]"
   ]
  },
  {
   "cell_type": "code",
   "execution_count": 32,
   "metadata": {},
   "outputs": [
    {
     "data": {
      "text/plain": [
       "1"
      ]
     },
     "execution_count": 32,
     "metadata": {},
     "output_type": "execute_result"
    }
   ],
   "source": [
    "memo = {}\n",
    "editDistCost(0,0,'SID','SD')"
   ]
  },
  {
   "cell_type": "markdown",
   "metadata": {},
   "source": [
    "# Exercice 2 – 0/1 Knapsack problem"
   ]
  },
  {
   "cell_type": "code",
   "execution_count": 33,
   "metadata": {},
   "outputs": [],
   "source": [
    "memo={}\n",
    "def Knapsack(i,c,poids,valeurs):\n",
    "    if (i,c) in memo:\n",
    "        return memo[(i, c)]\n",
    "    if i==len(poids):\n",
    "        memo[(i,c)]=0\n",
    "        return memo[(i, c)]\n",
    "    else:\n",
    "        memo[(i, c)]=max([Knapsack(i+1,c,poids,valeurs),valeurs[i]+Knapsack(i+1,c-poids[i],poids,valeurs) if poids[i]<=c else 0 ])\n",
    "    return memo[(i, c)]\n"
   ]
  },
  {
   "cell_type": "code",
   "execution_count": 34,
   "metadata": {},
   "outputs": [
    {
     "data": {
      "text/plain": [
       "6"
      ]
     },
     "execution_count": 34,
     "metadata": {},
     "output_type": "execute_result"
    }
   ],
   "source": [
    "memo = {}\n",
    "poids=[1,3,4]\n",
    "valeurs=[1,4,5]\n",
    "Knapsack(0,5,poids,valeurs)"
   ]
  },
  {
   "cell_type": "markdown",
   "metadata": {},
   "source": [
    "# Test avec les données"
   ]
  },
  {
   "cell_type": "code",
   "execution_count": 38,
   "metadata": {},
   "outputs": [],
   "source": [
    "def execute_all(directory):\n",
    "    p=Path('./instances_01_KP/'+directory)\n",
    "    print('Fichier             Optimum')\n",
    "    for f in p.iterdir():\n",
    "        memo = {}\n",
    "        first_row=np.loadtxt(f.absolute(),max_rows=1)\n",
    "        fich=np.loadtxt(f.absolute(),max_rows=int(first_row[0]))\n",
    "        cout=Knapsack(0,fich[0][1],fich[1:,1],fich[1:,0])\n",
    "        print(f'{f.name}-> {cout}')"
   ]
  },
  {
   "cell_type": "code",
   "execution_count": 36,
   "metadata": {},
   "outputs": [
    {
     "name": "stdout",
     "output_type": "stream",
     "text": [
      "Fichier             Optimum\n",
      "f2_l-d_kp_20_878-> 990.0\n",
      "f8_l-d_kp_23_10000-> 9997.0\n",
      "f4_l-d_kp_4_11-> 22.0\n",
      "f10_l-d_kp_20_879-> 986.0\n",
      "f5_l-d_kp_15_375-> 441.19083099999995\n",
      "f3_l-d_kp_4_20-> 32.0\n",
      "f1_l-d_kp_10_269-> 253.0\n",
      "f6_l-d_kp_10_60-> 52.0\n",
      "f7_l-d_kp_7_50-> 107.0\n",
      "f9_l-d_kp_5_80-> 136.0\n"
     ]
    }
   ],
   "source": [
    "execute_all('low-dimensional')"
   ]
  },
  {
   "cell_type": "code",
   "execution_count": 37,
   "metadata": {},
   "outputs": [
    {
     "name": "stdout",
     "output_type": "stream",
     "text": [
      "Fichier             Optimum\n",
      "knapPI_3_100_1000_1-> 2297.0\n",
      "knapPI_3_2000_1000_1-> 28919.0\n",
      "knapPI_3_500_1000_1-> 12217.0\n",
      "knapPI_3_200_1000_1-> 2297.0\n"
     ]
    },
    {
     "ename": "KeyboardInterrupt",
     "evalue": "",
     "output_type": "error",
     "traceback": [
      "\u001b[0;31m---------------------------------------------------------------------------\u001b[0m",
      "\u001b[0;31mKeyboardInterrupt\u001b[0m                         Traceback (most recent call last)",
      "Cell \u001b[0;32mIn[37], line 1\u001b[0m\n\u001b[0;32m----> 1\u001b[0m \u001b[43mexecute_all\u001b[49m\u001b[43m(\u001b[49m\u001b[38;5;124;43m'\u001b[39;49m\u001b[38;5;124;43mlarge_scale\u001b[39;49m\u001b[38;5;124;43m'\u001b[39;49m\u001b[43m)\u001b[49m\n",
      "Cell \u001b[0;32mIn[35], line 8\u001b[0m, in \u001b[0;36mexecute_all\u001b[0;34m(directory)\u001b[0m\n\u001b[1;32m      6\u001b[0m first_row\u001b[38;5;241m=\u001b[39mnp\u001b[38;5;241m.\u001b[39mloadtxt(f\u001b[38;5;241m.\u001b[39mabsolute(),max_rows\u001b[38;5;241m=\u001b[39m\u001b[38;5;241m1\u001b[39m)\n\u001b[1;32m      7\u001b[0m fich\u001b[38;5;241m=\u001b[39mnp\u001b[38;5;241m.\u001b[39mloadtxt(f\u001b[38;5;241m.\u001b[39mabsolute(),max_rows\u001b[38;5;241m=\u001b[39m\u001b[38;5;28mint\u001b[39m(first_row[\u001b[38;5;241m0\u001b[39m]))\n\u001b[0;32m----> 8\u001b[0m cout\u001b[38;5;241m=\u001b[39m\u001b[43mKnapsack\u001b[49m\u001b[43m(\u001b[49m\u001b[38;5;241;43m0\u001b[39;49m\u001b[43m,\u001b[49m\u001b[43mfich\u001b[49m\u001b[43m[\u001b[49m\u001b[38;5;241;43m0\u001b[39;49m\u001b[43m]\u001b[49m\u001b[43m[\u001b[49m\u001b[38;5;241;43m1\u001b[39;49m\u001b[43m]\u001b[49m\u001b[43m,\u001b[49m\u001b[43mfich\u001b[49m\u001b[43m[\u001b[49m\u001b[38;5;241;43m1\u001b[39;49m\u001b[43m:\u001b[49m\u001b[43m,\u001b[49m\u001b[38;5;241;43m1\u001b[39;49m\u001b[43m]\u001b[49m\u001b[43m,\u001b[49m\u001b[43mfich\u001b[49m\u001b[43m[\u001b[49m\u001b[38;5;241;43m1\u001b[39;49m\u001b[43m:\u001b[49m\u001b[43m,\u001b[49m\u001b[38;5;241;43m0\u001b[39;49m\u001b[43m]\u001b[49m\u001b[43m)\u001b[49m\n\u001b[1;32m      9\u001b[0m \u001b[38;5;28mprint\u001b[39m(\u001b[38;5;124mf\u001b[39m\u001b[38;5;124m'\u001b[39m\u001b[38;5;132;01m{\u001b[39;00mf\u001b[38;5;241m.\u001b[39mname\u001b[38;5;132;01m}\u001b[39;00m\u001b[38;5;124m-> \u001b[39m\u001b[38;5;132;01m{\u001b[39;00mcout\u001b[38;5;132;01m}\u001b[39;00m\u001b[38;5;124m'\u001b[39m)\n",
      "Cell \u001b[0;32mIn[33], line 9\u001b[0m, in \u001b[0;36mKnapsack\u001b[0;34m(i, c, poids, valeurs)\u001b[0m\n\u001b[1;32m      7\u001b[0m     \u001b[38;5;28;01mreturn\u001b[39;00m memo[(i, c)]\n\u001b[1;32m      8\u001b[0m \u001b[38;5;28;01melse\u001b[39;00m:\n\u001b[0;32m----> 9\u001b[0m     memo[(i, c)]\u001b[38;5;241m=\u001b[39m\u001b[38;5;28mmax\u001b[39m([\u001b[43mKnapsack\u001b[49m\u001b[43m(\u001b[49m\u001b[43mi\u001b[49m\u001b[38;5;241;43m+\u001b[39;49m\u001b[38;5;241;43m1\u001b[39;49m\u001b[43m,\u001b[49m\u001b[43mc\u001b[49m\u001b[43m,\u001b[49m\u001b[43mpoids\u001b[49m\u001b[43m,\u001b[49m\u001b[43mvaleurs\u001b[49m\u001b[43m)\u001b[49m,valeurs[i]\u001b[38;5;241m+\u001b[39mKnapsack(i\u001b[38;5;241m+\u001b[39m\u001b[38;5;241m1\u001b[39m,c\u001b[38;5;241m-\u001b[39mpoids[i],poids,valeurs) \u001b[38;5;28;01mif\u001b[39;00m poids[i]\u001b[38;5;241m<\u001b[39m\u001b[38;5;241m=\u001b[39mc \u001b[38;5;28;01melse\u001b[39;00m \u001b[38;5;241m0\u001b[39m ])\n\u001b[1;32m     10\u001b[0m \u001b[38;5;28;01mreturn\u001b[39;00m memo[(i, c)]\n",
      "Cell \u001b[0;32mIn[33], line 9\u001b[0m, in \u001b[0;36mKnapsack\u001b[0;34m(i, c, poids, valeurs)\u001b[0m\n\u001b[1;32m      7\u001b[0m     \u001b[38;5;28;01mreturn\u001b[39;00m memo[(i, c)]\n\u001b[1;32m      8\u001b[0m \u001b[38;5;28;01melse\u001b[39;00m:\n\u001b[0;32m----> 9\u001b[0m     memo[(i, c)]\u001b[38;5;241m=\u001b[39m\u001b[38;5;28mmax\u001b[39m([\u001b[43mKnapsack\u001b[49m\u001b[43m(\u001b[49m\u001b[43mi\u001b[49m\u001b[38;5;241;43m+\u001b[39;49m\u001b[38;5;241;43m1\u001b[39;49m\u001b[43m,\u001b[49m\u001b[43mc\u001b[49m\u001b[43m,\u001b[49m\u001b[43mpoids\u001b[49m\u001b[43m,\u001b[49m\u001b[43mvaleurs\u001b[49m\u001b[43m)\u001b[49m,valeurs[i]\u001b[38;5;241m+\u001b[39mKnapsack(i\u001b[38;5;241m+\u001b[39m\u001b[38;5;241m1\u001b[39m,c\u001b[38;5;241m-\u001b[39mpoids[i],poids,valeurs) \u001b[38;5;28;01mif\u001b[39;00m poids[i]\u001b[38;5;241m<\u001b[39m\u001b[38;5;241m=\u001b[39mc \u001b[38;5;28;01melse\u001b[39;00m \u001b[38;5;241m0\u001b[39m ])\n\u001b[1;32m     10\u001b[0m \u001b[38;5;28;01mreturn\u001b[39;00m memo[(i, c)]\n",
      "    \u001b[0;31m[... skipping similar frames: Knapsack at line 9 (509 times)]\u001b[0m\n",
      "Cell \u001b[0;32mIn[33], line 9\u001b[0m, in \u001b[0;36mKnapsack\u001b[0;34m(i, c, poids, valeurs)\u001b[0m\n\u001b[1;32m      7\u001b[0m     \u001b[38;5;28;01mreturn\u001b[39;00m memo[(i, c)]\n\u001b[1;32m      8\u001b[0m \u001b[38;5;28;01melse\u001b[39;00m:\n\u001b[0;32m----> 9\u001b[0m     memo[(i, c)]\u001b[38;5;241m=\u001b[39m\u001b[38;5;28mmax\u001b[39m([\u001b[43mKnapsack\u001b[49m\u001b[43m(\u001b[49m\u001b[43mi\u001b[49m\u001b[38;5;241;43m+\u001b[39;49m\u001b[38;5;241;43m1\u001b[39;49m\u001b[43m,\u001b[49m\u001b[43mc\u001b[49m\u001b[43m,\u001b[49m\u001b[43mpoids\u001b[49m\u001b[43m,\u001b[49m\u001b[43mvaleurs\u001b[49m\u001b[43m)\u001b[49m,valeurs[i]\u001b[38;5;241m+\u001b[39mKnapsack(i\u001b[38;5;241m+\u001b[39m\u001b[38;5;241m1\u001b[39m,c\u001b[38;5;241m-\u001b[39mpoids[i],poids,valeurs) \u001b[38;5;28;01mif\u001b[39;00m poids[i]\u001b[38;5;241m<\u001b[39m\u001b[38;5;241m=\u001b[39mc \u001b[38;5;28;01melse\u001b[39;00m \u001b[38;5;241m0\u001b[39m ])\n\u001b[1;32m     10\u001b[0m \u001b[38;5;28;01mreturn\u001b[39;00m memo[(i, c)]\n",
      "Cell \u001b[0;32mIn[33], line 2\u001b[0m, in \u001b[0;36mKnapsack\u001b[0;34m(i, c, poids, valeurs)\u001b[0m\n\u001b[1;32m      1\u001b[0m memo\u001b[38;5;241m=\u001b[39m{}\n\u001b[0;32m----> 2\u001b[0m \u001b[38;5;28;01mdef\u001b[39;00m\u001b[38;5;250m \u001b[39m\u001b[38;5;21mKnapsack\u001b[39m(i,c,poids,valeurs):\n\u001b[1;32m      3\u001b[0m     \u001b[38;5;28;01mif\u001b[39;00m (i,c) \u001b[38;5;129;01min\u001b[39;00m memo:\n\u001b[1;32m      4\u001b[0m         \u001b[38;5;28;01mreturn\u001b[39;00m memo[(i, c)]\n",
      "\u001b[0;31mKeyboardInterrupt\u001b[0m: "
     ]
    }
   ],
   "source": [
    "execute_all('large_scale')"
   ]
  }
 ],
 "metadata": {
  "kernelspec": {
   "display_name": ".venv",
   "language": "python",
   "name": "python3"
  },
  "language_info": {
   "codemirror_mode": {
    "name": "ipython",
    "version": 3
   },
   "file_extension": ".py",
   "mimetype": "text/x-python",
   "name": "python",
   "nbconvert_exporter": "python",
   "pygments_lexer": "ipython3",
   "version": "3.12.3"
  }
 },
 "nbformat": 4,
 "nbformat_minor": 2
}
