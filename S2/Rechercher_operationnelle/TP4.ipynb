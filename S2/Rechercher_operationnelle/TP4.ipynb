{
 "cells": [
  {
   "cell_type": "code",
   "execution_count": 18,
   "metadata": {},
   "outputs": [],
   "source": [
    "import numpy as np"
   ]
  },
  {
   "cell_type": "code",
   "execution_count": 1,
   "metadata": {},
   "outputs": [],
   "source": [
    "class TreeNode:\n",
    "    def __init__(self, level, V, W, taken):\n",
    "        self.level = level # niveau dans l’arbre de recherche >=0\n",
    "        self.V = V # valeur de la solution courante\n",
    "        self.W = W # poids de la solution courante\n",
    "        self.taken = taken # liste des index d’objets de la solution courante\n",
    "    def __str__(self):\n",
    "        return str((self.level, self.V, self.W, self.taken))"
   ]
  },
  {
   "cell_type": "code",
   "execution_count": null,
   "metadata": {},
   "outputs": [],
   "source": [
    "class KPBB:\n",
    "    def __init__(self, cap, values, weights): # Initialisation des données\n",
    "        self.capacity = cap\n",
    "        self.values = values\n",
    "        self.weights = weights\n",
    "        self.unordered = [((v, w), i) for i, (v, w) in enumerate(zip(self.values, self.weights))]\n",
    "        self.ordered = sorted([((v, w), i) for i, (v, w) in enumerate(zip(self.values, self.weights))], key = lambda tup: float(tup[0][0])/tup[0][1], reverse = True)\n",
    "        self.low_band=0\n",
    "    def initialSolution(self): # calcul de la solution initiale\n",
    "        for i in self.ordered:\n",
    "            if i[0][1]<=self.capacity:\n",
    "                self.low_band+=i[0][0]\n",
    "                self.capacity-=i[0][1]\n",
    "        return self.low_band\n",
    "    \n",
    "    def funcUB(self,node):\n",
    "        UB=0\n",
    "        no_tak=[i for i in range(len(self.values)) if i not in node.taken]\n",
    "        i=0\n",
    "        for i in no_tak:\n",
    "            self.taken.append(i)\n",
    "            if self.weights[i]<=node.W:\n",
    "                 node.W-=self.weights[i]\n",
    "                 UB+=self.values[i]\n",
    "            else:\n",
    "                node.W-=self.weights[i]\n",
    "                UB+=self.values[i]            \n",
    "\n",
    "    def nodeEvaluation(self,index, node): # fonction d’évaluation d’un noeud\n",
    "        pass\n",
    "    def solve(self): # algorithme de résolution\n",
    "        pass"
   ]
  },
  {
   "cell_type": "code",
   "execution_count": null,
   "metadata": {},
   "outputs": [],
   "source": []
  },
  {
   "cell_type": "code",
   "execution_count": 22,
   "metadata": {},
   "outputs": [
    {
     "data": {
      "text/plain": [
       "[((np.int64(2), np.int64(2)), 0),\n",
       " ((np.int64(5), np.int64(5)), 1),\n",
       " ((np.int64(3), np.int64(3)), 2)]"
      ]
     },
     "execution_count": 22,
     "metadata": {},
     "output_type": "execute_result"
    }
   ],
   "source": [
    "sorted([((v, w), i) for i, (v, w) in enumerate(zip(values, weights))] ,key = lambda tup: float(tup[0][0])/tup[0][1], reverse = True)"
   ]
  },
  {
   "cell_type": "code",
   "execution_count": null,
   "metadata": {},
   "outputs": [],
   "source": [
    "sorted([((v, w), i) for i, (v, w) in enumerate(zip(value, weights))], key = lambda tup: float(tup[0][0])/tup[0][1], reverse = True)"
   ]
  }
 ],
 "metadata": {
  "kernelspec": {
   "display_name": ".venv",
   "language": "python",
   "name": "python3"
  },
  "language_info": {
   "codemirror_mode": {
    "name": "ipython",
    "version": 3
   },
   "file_extension": ".py",
   "mimetype": "text/x-python",
   "name": "python",
   "nbconvert_exporter": "python",
   "pygments_lexer": "ipython3",
   "version": "3.12.3"
  }
 },
 "nbformat": 4,
 "nbformat_minor": 2
}
