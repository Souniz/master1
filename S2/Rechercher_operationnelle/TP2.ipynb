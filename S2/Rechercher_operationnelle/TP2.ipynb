{
 "cells": [
  {
   "cell_type": "code",
   "execution_count": 1,
   "metadata": {},
   "outputs": [],
   "source": [
    "import numpy as np"
   ]
  },
  {
   "cell_type": "code",
   "execution_count": 37,
   "metadata": {},
   "outputs": [],
   "source": [
    "textwidth=30\n",
    "text2split=\"Mignonne allons voir si la rose Qui ce matin avoit desclose Sa \\\n",
    "robe de pourpre au Soleil a point perdu ceste vesprée Les plis de sa robe \\\n",
    "pourprée Et son teint au vostre pareil Las voyez comme en peu d'espace \\\n",
    "Mignonne elle a dessus la place Las las ses beautez laissé cheoir O vrayment \\\n",
    "marastre Nature Puis qu'une telle fleur ne dure Que du matin jusques au soir !\"\n",
    "words=text2split.split()"
   ]
  },
  {
   "cell_type": "markdown",
   "metadata": {},
   "source": [
    "# Recursive_prefixe"
   ]
  },
  {
   "cell_type": "code",
   "execution_count": 35,
   "metadata": {},
   "outputs": [],
   "source": [
    "def badness(w,taille):\n",
    "    if len(w)==1:\n",
    "        return (taille-len(w[0]))**3\n",
    "    t=sum([len(i) for i in  w])+len(w)-1 \n",
    "    if t>taille:\n",
    "        return np.inf\n",
    "    return (taille-t)**3"
   ]
  },
  {
   "cell_type": "code",
   "execution_count": 52,
   "metadata": {},
   "outputs": [],
   "source": [
    "def justifiDP_rec(words,i,text_width,seb):\n",
    "    if i in seb:\n",
    "        return seb[i]\n",
    "    mini=np.inf\n",
    "    for j in range(len(words),i,-1):\n",
    "        val =badness(words[i:j],text_width)+justifiDP_rec(words,j,text_width,seb)\n",
    "        if val<=mini:\n",
    "            mini=val\n",
    "    seb[i]=mini\n",
    "    return mini"
   ]
  },
  {
   "cell_type": "code",
   "execution_count": 53,
   "metadata": {},
   "outputs": [
    {
     "data": {
      "text/plain": [
       "897"
      ]
     },
     "execution_count": 53,
     "metadata": {},
     "output_type": "execute_result"
    }
   ],
   "source": [
    "seb={}\n",
    "seb[len(words)]=0\n",
    "justifiDP_rec(words,0,textwidth,seb)\n",
    "   "
   ]
  },
  {
   "cell_type": "markdown",
   "metadata": {},
   "source": [
    "# Bottom-up"
   ]
  },
  {
   "cell_type": "code",
   "execution_count": 80,
   "metadata": {},
   "outputs": [],
   "source": [
    "def justifiDP_bottomUp(words,text_width):\n",
    "    seb={}\n",
    "    seb[len(words)]=0\n",
    "    for i in range(len(words)-1,-1,-1):\n",
    "        mini=np.inf\n",
    "        for j in range(i+1,len(words)+1):\n",
    "            val =badness(words[i:j],text_width) + seb[j]\n",
    "            if val<=mini:\n",
    "               mini=val\n",
    "        seb[i]=mini\n",
    "    return seb[0]\n",
    "    "
   ]
  },
  {
   "cell_type": "code",
   "execution_count": 81,
   "metadata": {},
   "outputs": [
    {
     "data": {
      "text/plain": [
       "897"
      ]
     },
     "execution_count": 81,
     "metadata": {},
     "output_type": "execute_result"
    }
   ],
   "source": [
    "justifiDP_bottomUp(words,textwidth)"
   ]
  },
  {
   "cell_type": "markdown",
   "metadata": {},
   "source": [
    "# Exercice 2 – Parenthétisation"
   ]
  },
  {
   "cell_type": "code",
   "execution_count": null,
   "metadata": {},
   "outputs": [],
   "source": [
    "d=[1,5,89,3,34]\n",
    "def init_matrice():\n",
    "   memo=[]\n",
    "   for i in range(len(d)-2):\n",
    "        d=dict()\n",
    "        for i in range(len(d)-2): \n",
    "            if i=='A':\n",
    "                d[i]=0\n",
    "            else:\n",
    "             d[i]=np.inf\n",
    "        memo.append(d)\n",
    "   return mem1"
   ]
  },
  {
   "cell_type": "code",
   "execution_count": null,
   "metadata": {},
   "outputs": [],
   "source": [
    "def dp(i,j,parent):\n",
    "    if ()"
   ]
  }
 ],
 "metadata": {
  "kernelspec": {
   "display_name": ".venv",
   "language": "python",
   "name": "python3"
  },
  "language_info": {
   "codemirror_mode": {
    "name": "ipython",
    "version": 3
   },
   "file_extension": ".py",
   "mimetype": "text/x-python",
   "name": "python",
   "nbconvert_exporter": "python",
   "pygments_lexer": "ipython3",
   "version": "3.12.3"
  }
 },
 "nbformat": 4,
 "nbformat_minor": 2
}
