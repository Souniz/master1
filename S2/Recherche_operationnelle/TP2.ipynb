{
 "cells": [
  {
   "cell_type": "code",
   "execution_count": 3,
   "metadata": {},
   "outputs": [],
   "source": [
    "import numpy as np"
   ]
  },
  {
   "cell_type": "code",
   "execution_count": 4,
   "metadata": {},
   "outputs": [],
   "source": [
    "textwidth=30\n",
    "text2split=\"Mignonne allons voir si la rose Qui ce matin avoit desclose Sa \\\n",
    "robe de pourpre au Soleil a point perdu ceste vesprée Les plis de sa robe \\\n",
    "pourprée Et son teint au vostre pareil Las voyez comme en peu d'espace \\\n",
    "Mignonne elle a dessus la place Las las ses beautez laissé cheoir O vrayment \\\n",
    "marastre Nature Puis qu'une telle fleur ne dure Que du matin jusques au soir !\"\n",
    "words=text2split.split()"
   ]
  },
  {
   "cell_type": "markdown",
   "metadata": {},
   "source": [
    "# Recursive_prefixe"
   ]
  },
  {
   "cell_type": "code",
   "execution_count": 5,
   "metadata": {},
   "outputs": [],
   "source": [
    "def badness(w,taille):\n",
    "    if len(w)==1:\n",
    "        return (taille-len(w[0]))**3\n",
    "    t=sum([len(i) for i in  w])+len(w)-1 \n",
    "    if t>taille:\n",
    "        return np.inf\n",
    "    return (taille-t)**3"
   ]
  },
  {
   "cell_type": "code",
   "execution_count": 6,
   "metadata": {},
   "outputs": [],
   "source": [
    "def justifiDP_rec(words,i,text_width,seb):\n",
    "    if i in seb:\n",
    "        return seb[i]\n",
    "    mini=np.inf\n",
    "    for j in range(len(words),i,-1):\n",
    "        val =badness(words[i:j],text_width)+justifiDP_rec(words,j,text_width,seb)\n",
    "        if val<=mini:\n",
    "            mini=val\n",
    "    seb[i]=mini\n",
    "    return mini"
   ]
  },
  {
   "cell_type": "code",
   "execution_count": 7,
   "metadata": {},
   "outputs": [
    {
     "data": {
      "text/plain": [
       "897"
      ]
     },
     "execution_count": 7,
     "metadata": {},
     "output_type": "execute_result"
    }
   ],
   "source": [
    "seb={}\n",
    "seb[len(words)]=0\n",
    "justifiDP_rec(words,0,textwidth,seb)\n",
    "   "
   ]
  },
  {
   "cell_type": "markdown",
   "metadata": {},
   "source": [
    "# Bottom-up"
   ]
  },
  {
   "cell_type": "code",
   "execution_count": 8,
   "metadata": {},
   "outputs": [],
   "source": [
    "def justifiDP_bottomUp(words,text_width):\n",
    "    seb={}\n",
    "    seb[len(words)]=0\n",
    "    for i in range(len(words)-1,-1,-1):\n",
    "        mini=np.inf\n",
    "        for j in range(i+1,len(words)+1):\n",
    "            val =badness(words[i:j],text_width) + seb[j]\n",
    "            if val<=mini:\n",
    "               mini=val\n",
    "        seb[i]=mini\n",
    "    return seb[0],seb\n",
    "    "
   ]
  },
  {
   "cell_type": "code",
   "execution_count": 9,
   "metadata": {},
   "outputs": [],
   "source": [
    "a,b=justifiDP_bottomUp(words,textwidth)"
   ]
  },
  {
   "cell_type": "markdown",
   "metadata": {},
   "source": [
    "## Approche greedy"
   ]
  },
  {
   "cell_type": "code",
   "execution_count": 10,
   "metadata": {},
   "outputs": [],
   "source": [
    "def gredy(words,taille):\n",
    "    badness=0 \n",
    "    long_courant=0  #Le nombre de mot courant dans une ligne\n",
    "    for mot in words:\n",
    "        if long_courant+len(mot) >taille:\n",
    "            badness+=(taille-long_courant+1)**3  # +1 pour pour comptabiliser l'espace que j'ai ajouté comme badness puisque on est en fin de ligne\n",
    "            long_courant=len(mot)\n",
    "        else:\n",
    "            long_courant+=len(mot)+1  #+1 pour l'epace entre les mots\n",
    "    return badness"
   ]
  },
  {
   "cell_type": "code",
   "execution_count": 11,
   "metadata": {},
   "outputs": [
    {
     "data": {
      "text/plain": [
       "1333"
      ]
     },
     "execution_count": 11,
     "metadata": {},
     "output_type": "execute_result"
    }
   ],
   "source": [
    "gredy(words,textwidth)"
   ]
  },
  {
   "cell_type": "markdown",
   "metadata": {},
   "source": [
    "## Le badness avec approche greedy est plus grand (1333) "
   ]
  },
  {
   "cell_type": "markdown",
   "metadata": {},
   "source": [
    "# Exercice 2 – Parenthétisation"
   ]
  },
  {
   "cell_type": "code",
   "execution_count": 12,
   "metadata": {},
   "outputs": [],
   "source": [
    "d=[13,5,89,3,34]\n",
    "parent1={}\n",
    "def init_memoire():\n",
    "   memo={}\n",
    "   for i in range(len(d)-1):\n",
    "        memo[(i,i)]=0\n",
    "   return memo\n",
    "memo=init_memoire()"
   ]
  },
  {
   "cell_type": "code",
   "execution_count": 13,
   "metadata": {},
   "outputs": [],
   "source": [
    "def dp(i,j,parent):\n",
    "    if (i,j) in memo:\n",
    "        return  memo[(i,j)]\n",
    "    mini=np.inf\n",
    "    for k in range(i,j):\n",
    "        new=dp(i,k,parent)+dp(k+1,j,parent)+d[i]*d[k+1]*d[j+1]\n",
    "        if new<mini:\n",
    "            mini=new\n",
    "            ind=k\n",
    "    memo[(i,j)]=mini\n",
    "    parent[(i,j)]=ind\n",
    "    return mini\n",
    "\n"
   ]
  },
  {
   "cell_type": "code",
   "execution_count": 14,
   "metadata": {},
   "outputs": [
    {
     "data": {
      "text/plain": [
       "2856"
      ]
     },
     "execution_count": 14,
     "metadata": {},
     "output_type": "execute_result"
    }
   ],
   "source": [
    "dp(0,3,parent1)"
   ]
  },
  {
   "cell_type": "code",
   "execution_count": 15,
   "metadata": {},
   "outputs": [
    {
     "data": {
      "text/plain": [
       "{(2, 3): 2, (1, 2): 1, (1, 3): 2, (0, 1): 0, (0, 2): 0, (0, 3): 2}"
      ]
     },
     "execution_count": 15,
     "metadata": {},
     "output_type": "execute_result"
    }
   ],
   "source": [
    "parent1"
   ]
  },
  {
   "cell_type": "code",
   "execution_count": 16,
   "metadata": {},
   "outputs": [
    {
     "data": {
      "text/plain": [
       "{(0, 0): 0,\n",
       " (1, 1): 0,\n",
       " (2, 2): 0,\n",
       " (3, 3): 0,\n",
       " (2, 3): 9078,\n",
       " (1, 2): 1335,\n",
       " (1, 3): 1845,\n",
       " (0, 1): 5785,\n",
       " (0, 2): 1530,\n",
       " (0, 3): 2856}"
      ]
     },
     "execution_count": 16,
     "metadata": {},
     "output_type": "execute_result"
    }
   ],
   "source": [
    "memo"
   ]
  }
 ],
 "metadata": {
  "kernelspec": {
   "display_name": ".venv",
   "language": "python",
   "name": "python3"
  },
  "language_info": {
   "codemirror_mode": {
    "name": "ipython",
    "version": 3
   },
   "file_extension": ".py",
   "mimetype": "text/x-python",
   "name": "python",
   "nbconvert_exporter": "python",
   "pygments_lexer": "ipython3",
   "version": "3.12.3"
  }
 },
 "nbformat": 4,
 "nbformat_minor": 2
}
