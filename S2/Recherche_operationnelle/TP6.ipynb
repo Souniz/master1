{
 "cells": [
  {
   "cell_type": "code",
   "execution_count": 16,
   "metadata": {},
   "outputs": [],
   "source": [
    "import numpy as np\n",
    "from pathlib import Path\n",
    "import sys"
   ]
  },
  {
   "cell_type": "code",
   "execution_count": 1,
   "metadata": {},
   "outputs": [],
   "source": [
    "class TreeNode:\n",
    "    def __init__(self, level, V, W, taken):\n",
    "        self.level = level # niveau dans l’arbre de recherche >=0\n",
    "        self.V = V # valeur de la solution courante\n",
    "        self.W = W # poids de la solution courante\n",
    "        self.taken = taken # liste des index d’objets de la solution courante\n",
    "    def __str__(self):\n",
    "        return str((self.level, self.V, self.W, self.taken))"
   ]
  },
  {
   "cell_type": "code",
   "execution_count": 19,
   "metadata": {},
   "outputs": [],
   "source": [
    "class Genetic:\n",
    "    def __init__(self, cap, values, weights,taille_pop,coef_filtre,pourcent): # Initialisation des données\n",
    "        self.capacity = cap\n",
    "        self.values = values\n",
    "        self.weights = weights\n",
    "        self.unordered = [((v, w), i) for i, (v, w) in enumerate(zip(self.values, self.weights))]\n",
    "        self.ordered = sorted([((v, w), i) for i, (v, w) in enumerate(zip(self.values, self.weights))], key = lambda tup: float(tup[0][0])/tup[0][1], reverse = True)\n",
    "        self.taille_pop=taille_pop\n",
    "        self.coef_filtre=coef_filtre\n",
    "        self.proba=pourcent\n",
    "        self.population=[]\n",
    "        self.epoch=100\n",
    "    def genere_pop(self):\n",
    "        if  len(self.population)==0:\n",
    "            for i in range(self.taille_pop):\n",
    "                individus=[np.random.randint(0,1) for i in range(len(self.unordered))]\n",
    "            while np.sum(self.weights[individus])>self.capacity:\n",
    "                individus=[np.random.randint(0,1) for i in range(len(self.unordered))]\n",
    "            self.population.append(individus)\n",
    "        else:\n",
    "           self.mutation() \n",
    "\n",
    "    def filtre(self):\n",
    "        value=[np.sum(self.values[p]) for p in self.population]\n",
    "        value=np.argsort(value)\n",
    "        nb_filtre=(self.coef_filtre*self.taille_pop)/100\n",
    "        self.population=self.population[nb_filtre:]\n",
    "    \n",
    "    def cross_over(self):\n",
    "        index=np.random.randint(0,self.taille_pop,2)\n",
    "        parent=np.array(self.population)[index]\n",
    "        taille_div=np.random.randint(1,self.taille_pop)\n",
    "        nb_genere=100-((self.coef_filtre*self.taille_pop)/100)\n",
    "        childs=[]\n",
    "        for i in range(nb_genere):\n",
    "            index=np.random.randint(0,self.taille_pop,2)\n",
    "            parent=self.population[index]\n",
    "            taille_div=np.random.randint(1,self.taille_pop)  \n",
    "            child=np.concatenate([parent[0][0:taille_div],parent[1][taille_div:]])\n",
    "            childs.append(child)\n",
    "        return childs\n",
    "\n",
    "        \n",
    "    def mutation(self):\n",
    "        childs=self.cross_over()\n",
    "        p=np.random.uniform(0,1)\n",
    "        for child in childs:\n",
    "            p=np.random.uniform(0,1)\n",
    "            if p>=self.proba:\n",
    "                index=np.random.randint(0,len(self.values))\n",
    "                child[index]=1-child[index]\n",
    "            self.population.append(child)\n",
    "\n",
    "    def solve(self):\n",
    "        for i in range(self.epoch):\n",
    "            self.genere_pop()\n",
    "            self.cross_over()\n",
    "            self.mutation()\n",
    "            self.genere_pop()\n",
    "        return self.population"
   ]
  },
  {
   "cell_type": "code",
   "execution_count": 20,
   "metadata": {},
   "outputs": [
    {
     "ename": "IndexError",
     "evalue": "index 668 is out of bounds for axis 0 with size 1",
     "output_type": "error",
     "traceback": [
      "\u001b[0;31m---------------------------------------------------------------------------\u001b[0m",
      "\u001b[0;31mIndexError\u001b[0m                                Traceback (most recent call last)",
      "Cell \u001b[0;32mIn[20], line 5\u001b[0m\n\u001b[1;32m      3\u001b[0m weights \u001b[38;5;241m=\u001b[39m [\u001b[38;5;241m2\u001b[39m, \u001b[38;5;241m3\u001b[39m, \u001b[38;5;241m1\u001b[39m, \u001b[38;5;241m5\u001b[39m, \u001b[38;5;241m3\u001b[39m]\n\u001b[1;32m      4\u001b[0m kpp \u001b[38;5;241m=\u001b[39m Genetic(capacite, np\u001b[38;5;241m.\u001b[39marray(values),np\u001b[38;5;241m.\u001b[39marray(weights),\u001b[38;5;241m1000\u001b[39m,\u001b[38;5;241m0.2\u001b[39m,\u001b[38;5;241m0.6\u001b[39m)\n\u001b[0;32m----> 5\u001b[0m \u001b[43mkpp\u001b[49m\u001b[38;5;241;43m.\u001b[39;49m\u001b[43msolve\u001b[49m\u001b[43m(\u001b[49m\u001b[43m)\u001b[49m\n",
      "Cell \u001b[0;32mIn[19], line 57\u001b[0m, in \u001b[0;36mGenetic.solve\u001b[0;34m(self)\u001b[0m\n\u001b[1;32m     55\u001b[0m \u001b[38;5;28;01mfor\u001b[39;00m i \u001b[38;5;129;01min\u001b[39;00m \u001b[38;5;28mrange\u001b[39m(\u001b[38;5;28mself\u001b[39m\u001b[38;5;241m.\u001b[39mepoch):\n\u001b[1;32m     56\u001b[0m     \u001b[38;5;28mself\u001b[39m\u001b[38;5;241m.\u001b[39mgenere_pop()\n\u001b[0;32m---> 57\u001b[0m     \u001b[38;5;28;43mself\u001b[39;49m\u001b[38;5;241;43m.\u001b[39;49m\u001b[43mcross_over\u001b[49m\u001b[43m(\u001b[49m\u001b[43m)\u001b[49m\n\u001b[1;32m     58\u001b[0m     \u001b[38;5;28mself\u001b[39m\u001b[38;5;241m.\u001b[39mmutation()\n\u001b[1;32m     59\u001b[0m     \u001b[38;5;28mself\u001b[39m\u001b[38;5;241m.\u001b[39mgenere_pop()\n",
      "Cell \u001b[0;32mIn[19], line 31\u001b[0m, in \u001b[0;36mGenetic.cross_over\u001b[0;34m(self)\u001b[0m\n\u001b[1;32m     29\u001b[0m \u001b[38;5;28;01mdef\u001b[39;00m \u001b[38;5;21mcross_over\u001b[39m(\u001b[38;5;28mself\u001b[39m):\n\u001b[1;32m     30\u001b[0m     index\u001b[38;5;241m=\u001b[39mnp\u001b[38;5;241m.\u001b[39mrandom\u001b[38;5;241m.\u001b[39mrandint(\u001b[38;5;241m0\u001b[39m,\u001b[38;5;28mself\u001b[39m\u001b[38;5;241m.\u001b[39mtaille_pop,\u001b[38;5;241m2\u001b[39m)\n\u001b[0;32m---> 31\u001b[0m     parent\u001b[38;5;241m=\u001b[39m\u001b[43mnp\u001b[49m\u001b[38;5;241;43m.\u001b[39;49m\u001b[43marray\u001b[49m\u001b[43m(\u001b[49m\u001b[38;5;28;43mself\u001b[39;49m\u001b[38;5;241;43m.\u001b[39;49m\u001b[43mpopulation\u001b[49m\u001b[43m)\u001b[49m\u001b[43m[\u001b[49m\u001b[43mindex\u001b[49m\u001b[43m]\u001b[49m\n\u001b[1;32m     32\u001b[0m     taille_div\u001b[38;5;241m=\u001b[39mnp\u001b[38;5;241m.\u001b[39mrandom\u001b[38;5;241m.\u001b[39mrandint(\u001b[38;5;241m1\u001b[39m,\u001b[38;5;28mself\u001b[39m\u001b[38;5;241m.\u001b[39mtaille_pop)\n\u001b[1;32m     33\u001b[0m     nb_genere\u001b[38;5;241m=\u001b[39m\u001b[38;5;241m100\u001b[39m\u001b[38;5;241m-\u001b[39m((\u001b[38;5;28mself\u001b[39m\u001b[38;5;241m.\u001b[39mcoef_filtre\u001b[38;5;241m*\u001b[39m\u001b[38;5;28mself\u001b[39m\u001b[38;5;241m.\u001b[39mtaille_pop)\u001b[38;5;241m/\u001b[39m\u001b[38;5;241m100\u001b[39m)\n",
      "\u001b[0;31mIndexError\u001b[0m: index 668 is out of bounds for axis 0 with size 1"
     ]
    }
   ],
   "source": [
    "\n",
    "capacite = 10\n",
    "values = [40, 50, 100, 95, 30]\n",
    "weights = [2, 3, 1, 5, 3]\n",
    "kpp = Genetic(capacite, np.array(values),np.array(weights),1000,0.2,0.6)\n",
    "kpp.solve()\n"
   ]
  }
 ],
 "metadata": {
  "kernelspec": {
   "display_name": ".venv",
   "language": "python",
   "name": "python3"
  },
  "language_info": {
   "codemirror_mode": {
    "name": "ipython",
    "version": 3
   },
   "file_extension": ".py",
   "mimetype": "text/x-python",
   "name": "python",
   "nbconvert_exporter": "python",
   "pygments_lexer": "ipython3",
   "version": "3.12.3"
  }
 },
 "nbformat": 4,
 "nbformat_minor": 2
}
