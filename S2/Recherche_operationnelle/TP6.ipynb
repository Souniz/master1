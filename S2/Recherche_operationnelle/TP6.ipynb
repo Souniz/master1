{
 "cells": [
  {
   "cell_type": "code",
   "execution_count": 3,
   "metadata": {},
   "outputs": [],
   "source": [
    "import numpy as np\n",
    "from pathlib import Path\n",
    "import sys"
   ]
  },
  {
   "cell_type": "code",
   "execution_count": 1,
   "metadata": {},
   "outputs": [],
   "source": [
    "class TreeNode:\n",
    "    def __init__(self, level, V, W, taken):\n",
    "        self.level = level # niveau dans l’arbre de recherche >=0\n",
    "        self.V = V # valeur de la solution courante\n",
    "        self.W = W # poids de la solution courante\n",
    "        self.taken = taken # liste des index d’objets de la solution courante\n",
    "    def __str__(self):\n",
    "        return str((self.level, self.V, self.W, self.taken))"
   ]
  },
  {
   "cell_type": "code",
   "execution_count": 23,
   "metadata": {},
   "outputs": [],
   "source": [
    "class KPBB:\n",
    "    def __init__(self, cap, values, weights,taille_pop,coef_filtre,pourcent): # Initialisation des données\n",
    "        self.capacity = cap\n",
    "        self.values = values\n",
    "        self.weights = weights\n",
    "        self.unordered = [((v, w), i) for i, (v, w) in enumerate(zip(self.values, self.weights))]\n",
    "        self.ordered = sorted([((v, w), i) for i, (v, w) in enumerate(zip(self.values, self.weights))], key = lambda tup: float(tup[0][0])/tup[0][1], reverse = True)\n",
    "        self.taille_pop=taille_pop\n",
    "        self.coef_filtre=coef_filtre\n",
    "        self.proba=pourcent\n",
    "        self.population=[]\n",
    "        self.epoch=0\n",
    "    def genere_pop(self):\n",
    "        if  len(self.population)==0:\n",
    "            for i in self.taille_pop:\n",
    "                individus=[np.random.randint(0,1) for i in range(len(self.unordered))]\n",
    "            while np.sum(self.weights[individus])>self.capacity:\n",
    "                individus=[np.random.randint(0,1) for i in range(len(self.unordered))]\n",
    "            self.population.append(individus)\n",
    "        else:\n",
    "           self.mutation() \n",
    "\n",
    "    def filtre(self):\n",
    "        value=[np.sum(self.values[p]) for p in self.population]\n",
    "        value=np.argsort(value)\n",
    "        nb_filtre=(self.coef_filtre*self.taille_pop)/100\n",
    "        self.population=self.population[nb_filtre:]\n",
    "    \n",
    "    def cross_over(self):\n",
    "        index=np.random.randint(0,self.taille_pop,2)\n",
    "        parent=self.population[index]\n",
    "        taille_div=np.random.randint(1,self.taille_pop)\n",
    "        nb_genere=100-((self.coef_filtre*self.taille_pop)/100)\n",
    "        childs=[]\n",
    "        for i in range(nb_genere):\n",
    "            index=np.random.randint(0,self.taille_pop,2)\n",
    "            parent=self.population[index]\n",
    "            taille_div=np.random.randint(1,self.taille_pop)  \n",
    "            child=np.concatenate([parent[0][0:taille_div],parent[1][taille_div:]])\n",
    "            childs.append(child)\n",
    "        return childs\n",
    "\n",
    "        \n",
    "    def mutation(self):\n",
    "        childs=self.cross_over()\n",
    "        p=np.random.uniform(0,1)\n",
    "        for child in childs:\n",
    "            p=np.random.uniform(0,1)\n",
    "            if p>=self.proba:\n",
    "                index=np.random.randint(0,len(self.values))\n",
    "                child[index]=1-child[index]\n",
    "            self.population.append(child)\n",
    "    def solv(self):\n",
    "        for i in range(self.epoch):\n",
    "            self.population()\n",
    "            self.cross_over()\n",
    "            self.mutation()\n",
    "            self.population()\n",
    "        return self.population"
   ]
  }
 ],
 "metadata": {
  "kernelspec": {
   "display_name": ".venv",
   "language": "python",
   "name": "python3"
  },
  "language_info": {
   "codemirror_mode": {
    "name": "ipython",
    "version": 3
   },
   "file_extension": ".py",
   "mimetype": "text/x-python",
   "name": "python",
   "nbconvert_exporter": "python",
   "pygments_lexer": "ipython3",
   "version": "3.12.3"
  }
 },
 "nbformat": 4,
 "nbformat_minor": 2
}
