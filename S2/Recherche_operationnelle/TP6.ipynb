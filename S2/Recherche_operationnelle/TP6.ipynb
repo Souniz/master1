{
 "cells": [
  {
   "cell_type": "code",
   "execution_count": 1,
   "metadata": {},
   "outputs": [],
   "source": [
    "import numpy as np\n",
    "from pathlib import Path\n",
    "import sys\n",
    "import random"
   ]
  },
  {
   "cell_type": "code",
   "execution_count": 2,
   "metadata": {},
   "outputs": [],
   "source": [
    "class TreeNode:\n",
    "    def __init__(self, level, V, W, taken):\n",
    "        self.level = level # niveau dans l’arbre de recherche >=0\n",
    "        self.V = V # valeur de la solution courante\n",
    "        self.W = W # poids de la solution courante\n",
    "        self.taken = taken # liste des index d’objets de la solution courante\n",
    "    def __str__(self):\n",
    "        return str((self.level, self.V, self.W, self.taken))"
   ]
  },
  {
   "cell_type": "code",
   "execution_count": 5,
   "metadata": {},
   "outputs": [],
   "source": [
    "class Genetic:\n",
    "    def __init__(self, cap, values,weights,taille_pop=20,coef_filtre=0.3,pourcent=0.5,epoch=10): # Initialisation des données\n",
    "        self.capacity = cap\n",
    "        self.values = values\n",
    "        self.weights = weights\n",
    "        self.taille_pop=taille_pop\n",
    "        self.coef_filtre=coef_filtre\n",
    "        self.proba=pourcent\n",
    "        self.population=[]\n",
    "        self.epoch=epoch\n",
    "        \n",
    "    def genere_pop(self):\n",
    "        if  len(self.population)==0:\n",
    "            for i in range(self.taille_pop):\n",
    "                individus = [ bool(np.random.randint(0, 2)) for _ in range(len(self.values))]\n",
    "                while self.evaluate_weights(individus) > self.capacity:\n",
    "                       individus = [ bool(np.random.randint(0, 2) )for _ in range(len(self.values))]\n",
    "                self.population.append(individus)\n",
    "        else:\n",
    "           self.mutation() \n",
    "\n",
    "    def filtre(self):\n",
    "        value=[np.sum(self.values[p]) for p in self.population]\n",
    "        value=np.argsort(value)\n",
    "        nb_filtre=(self.coef_filtre*self.taille_pop)/100\n",
    "        self.population=self.population[nb_filtre:]\n",
    "    \n",
    "    def cross_over(self):\n",
    "        index=np.random.randint(0,self.taille_pop,2)\n",
    "        parent=np.array(self.population)[index]\n",
    "        taille_div=np.random.randint(1,self.taille_pop)\n",
    "        nb_genere=100-((self.coef_filtre*self.taille_pop)/100)\n",
    "        childs=[]\n",
    "        for i in range(int(nb_genere)):\n",
    "            index=np.random.randint(0,self.taille_pop,2)\n",
    "            parent=np.array(self.population)[index]\n",
    "            taille_div=np.random.randint(1,len(parent))  \n",
    "            child=np.concatenate([parent[0][0:taille_div],parent[1][taille_div:]])\n",
    "            while self.evaluate_weights(child) > self.capacity:\n",
    "                taille_div=np.random.randint(1,len(parent))  \n",
    "                child=np.concatenate([parent[0][0:taille_div],parent[1][taille_div:]])\n",
    "            \n",
    "            childs.append(child)\n",
    "        return childs\n",
    "\n",
    "        \n",
    "    def mutation(self):\n",
    "        childs=self.cross_over()\n",
    "        p=np.random.uniform(0,1)\n",
    "        for child in childs:\n",
    "            p=np.random.uniform(0,1)\n",
    "            if p>=self.proba:\n",
    "                index=np.random.randint(0,len(self.values))\n",
    "                child[index]=1-child[index]\n",
    "                while self.evaluate_weights(child) > self.capacity:\n",
    "                    index=np.random.randint(0,len(self.values))\n",
    "                    child[index]=1-child[index]\n",
    "            self.population.append(child)\n",
    "\n",
    "    def evaluate_values(self, solution):\n",
    "        return sum(self.values[solution])\n",
    "    \n",
    "    def evaluate_weights(self, solution):\n",
    "        return sum(self.weights[solution])\n",
    "    \n",
    "    def solve(self):\n",
    "        for i in range(self.epoch):\n",
    "            self.genere_pop()\n",
    "            self.mutation()\n",
    "            self.genere_pop()\n",
    "        index_solution=np.argmax([self.evaluate_values(s) for s in self.population])\n",
    "        solution=np.array(self.population)[index_solution]\n",
    "        return solution,self.evaluate_values(solution),self.evaluate_weights(solution)"
   ]
  },
  {
   "cell_type": "code",
   "execution_count": 6,
   "metadata": {},
   "outputs": [
    {
     "ename": "KeyboardInterrupt",
     "evalue": "",
     "output_type": "error",
     "traceback": [
      "\u001b[0;31m---------------------------------------------------------------------------\u001b[0m",
      "\u001b[0;31mKeyboardInterrupt\u001b[0m                         Traceback (most recent call last)",
      "Cell \u001b[0;32mIn[6], line 5\u001b[0m\n\u001b[1;32m      3\u001b[0m weights \u001b[38;5;241m=\u001b[39m [\u001b[38;5;241m2\u001b[39m, \u001b[38;5;241m3\u001b[39m, \u001b[38;5;241m1\u001b[39m, \u001b[38;5;241m5\u001b[39m, \u001b[38;5;241m3\u001b[39m]\n\u001b[1;32m      4\u001b[0m kpp \u001b[38;5;241m=\u001b[39m Genetic(capacite, np\u001b[38;5;241m.\u001b[39marray(values),np\u001b[38;5;241m.\u001b[39marray(weights))\n\u001b[0;32m----> 5\u001b[0m valeur \u001b[38;5;241m=\u001b[39m\u001b[43mkpp\u001b[49m\u001b[38;5;241;43m.\u001b[39;49m\u001b[43msolve\u001b[49m\u001b[43m(\u001b[49m\u001b[43m)\u001b[49m\n",
      "Cell \u001b[0;32mIn[5], line 69\u001b[0m, in \u001b[0;36mGenetic.solve\u001b[0;34m(self)\u001b[0m\n\u001b[1;32m     67\u001b[0m \u001b[38;5;28;01mfor\u001b[39;00m i \u001b[38;5;129;01min\u001b[39;00m \u001b[38;5;28mrange\u001b[39m(\u001b[38;5;28mself\u001b[39m\u001b[38;5;241m.\u001b[39mepoch):\n\u001b[1;32m     68\u001b[0m     \u001b[38;5;28mself\u001b[39m\u001b[38;5;241m.\u001b[39mgenere_pop()\n\u001b[0;32m---> 69\u001b[0m     \u001b[38;5;28;43mself\u001b[39;49m\u001b[38;5;241;43m.\u001b[39;49m\u001b[43mmutation\u001b[49m\u001b[43m(\u001b[49m\u001b[43m)\u001b[49m\n\u001b[1;32m     70\u001b[0m     \u001b[38;5;28mself\u001b[39m\u001b[38;5;241m.\u001b[39mgenere_pop()\n\u001b[1;32m     71\u001b[0m index_solution\u001b[38;5;241m=\u001b[39mnp\u001b[38;5;241m.\u001b[39margmax([\u001b[38;5;28mself\u001b[39m\u001b[38;5;241m.\u001b[39mevaluate_values(s) \u001b[38;5;28;01mfor\u001b[39;00m s \u001b[38;5;129;01min\u001b[39;00m \u001b[38;5;28mself\u001b[39m\u001b[38;5;241m.\u001b[39mpopulation])\n",
      "Cell \u001b[0;32mIn[5], line 48\u001b[0m, in \u001b[0;36mGenetic.mutation\u001b[0;34m(self)\u001b[0m\n\u001b[1;32m     47\u001b[0m \u001b[38;5;28;01mdef\u001b[39;00m \u001b[38;5;21mmutation\u001b[39m(\u001b[38;5;28mself\u001b[39m):\n\u001b[0;32m---> 48\u001b[0m     childs\u001b[38;5;241m=\u001b[39m\u001b[38;5;28;43mself\u001b[39;49m\u001b[38;5;241;43m.\u001b[39;49m\u001b[43mcross_over\u001b[49m\u001b[43m(\u001b[49m\u001b[43m)\u001b[49m\n\u001b[1;32m     49\u001b[0m     p\u001b[38;5;241m=\u001b[39mnp\u001b[38;5;241m.\u001b[39mrandom\u001b[38;5;241m.\u001b[39muniform(\u001b[38;5;241m0\u001b[39m,\u001b[38;5;241m1\u001b[39m)\n\u001b[1;32m     50\u001b[0m     \u001b[38;5;28;01mfor\u001b[39;00m child \u001b[38;5;129;01min\u001b[39;00m childs:\n",
      "Cell \u001b[0;32mIn[5], line 40\u001b[0m, in \u001b[0;36mGenetic.cross_over\u001b[0;34m(self)\u001b[0m\n\u001b[1;32m     38\u001b[0m child\u001b[38;5;241m=\u001b[39mnp\u001b[38;5;241m.\u001b[39mconcatenate([parent[\u001b[38;5;241m0\u001b[39m][\u001b[38;5;241m0\u001b[39m:taille_div],parent[\u001b[38;5;241m1\u001b[39m][taille_div:]])\n\u001b[1;32m     39\u001b[0m \u001b[38;5;28;01mwhile\u001b[39;00m \u001b[38;5;28mself\u001b[39m\u001b[38;5;241m.\u001b[39mevaluate_weights(child) \u001b[38;5;241m>\u001b[39m \u001b[38;5;28mself\u001b[39m\u001b[38;5;241m.\u001b[39mcapacity:\n\u001b[0;32m---> 40\u001b[0m     taille_div\u001b[38;5;241m=\u001b[39m\u001b[43mnp\u001b[49m\u001b[38;5;241;43m.\u001b[39;49m\u001b[43mrandom\u001b[49m\u001b[38;5;241;43m.\u001b[39;49m\u001b[43mrandint\u001b[49m\u001b[43m(\u001b[49m\u001b[38;5;241;43m1\u001b[39;49m\u001b[43m,\u001b[49m\u001b[38;5;28;43mlen\u001b[39;49m\u001b[43m(\u001b[49m\u001b[43mparent\u001b[49m\u001b[43m)\u001b[49m\u001b[43m)\u001b[49m  \n\u001b[1;32m     41\u001b[0m     child\u001b[38;5;241m=\u001b[39mnp\u001b[38;5;241m.\u001b[39mconcatenate([parent[\u001b[38;5;241m0\u001b[39m][\u001b[38;5;241m0\u001b[39m:taille_div],parent[\u001b[38;5;241m1\u001b[39m][taille_div:]])\n\u001b[1;32m     43\u001b[0m childs\u001b[38;5;241m.\u001b[39mappend(child)\n",
      "\u001b[0;31mKeyboardInterrupt\u001b[0m: "
     ]
    }
   ],
   "source": [
    "capacite = 10\n",
    "values = [40, 50, 100, 95, 30]\n",
    "weights = [2, 3, 1, 5, 3]\n",
    "kpp = Genetic(capacite, np.array(values),np.array(weights))\n",
    "valeur =kpp.solve()"
   ]
  },
  {
   "cell_type": "code",
   "execution_count": 22,
   "metadata": {},
   "outputs": [
    {
     "name": "stdout",
     "output_type": "stream",
     "text": [
      "Gain -> 245\n"
     ]
    }
   ],
   "source": [
    "#print(f'objets -> {solution}')\n",
    "print(f'Gain -> {valeur}')\n",
    "# print(f'Poids -> {poid}')"
   ]
  },
  {
   "cell_type": "code",
   "execution_count": 28,
   "metadata": {},
   "outputs": [],
   "source": [
    "def execute_all(directory):\n",
    "    p=Path('./instances_01_KP/'+directory)\n",
    "    print('Fichier            Poids')\n",
    "    for f in p.iterdir():\n",
    "        \n",
    "        first_row=np.loadtxt(f.absolute(),max_rows=1)\n",
    "        fich=np.loadtxt(f.absolute(),max_rows=int(first_row[0])+1)\n",
    "        kpp = Genetic_(fich[0][1],fich[1:,1],fich[1:,0])\n",
    "        valeur =kpp.solve()\n",
    "        print(f'{f.name}-> {valeur}')\n",
    "        "
   ]
  },
  {
   "cell_type": "code",
   "execution_count": 33,
   "metadata": {},
   "outputs": [
    {
     "name": "stdout",
     "output_type": "stream",
     "text": [
      "Fichier            Poids\n",
      "f2_l-d_kp_20_878-> 1042.0\n",
      "f8_l-d_kp_23_10000-> 9777.0\n",
      "f4_l-d_kp_4_11-> 4.0\n",
      "f10_l-d_kp_20_879-> 1042.0\n",
      "f5_l-d_kp_15_375-> 647.3952449999999\n",
      "f3_l-d_kp_4_20-> 11.0\n",
      "f1_l-d_kp_10_269-> 431.0\n",
      "f6_l-d_kp_10_60-> 80.0\n",
      "f7_l-d_kp_7_50-> 26.0\n",
      "f9_l-d_kp_5_80-> 68.0\n"
     ]
    }
   ],
   "source": [
    "execute_all('low-dimensional')"
   ]
  },
  {
   "cell_type": "code",
   "execution_count": 21,
   "metadata": {},
   "outputs": [],
   "source": [
    "class Genetic_:\n",
    "    def __init__(self, cap, valeurs, poids, taille_pop=50, coef_filtre=50, proba=0.1):\n",
    "        self.capacity = cap\n",
    "        self.valeurs = valeurs\n",
    "        self.poids = poids\n",
    "        self.n = len(valeurs)\n",
    "        self.taille_pop = taille_pop\n",
    "        self.coef_filtre = coef_filtre\n",
    "        self.proba = proba\n",
    "        self.population = []\n",
    "\n",
    "    def total_weight(self, individu):\n",
    "        return sum(self.poids[i] for i in range(self.n) if individu[i] == 1)\n",
    "\n",
    "    def fitness(self, individu):\n",
    "        return sum(self.valeurs[i] for i in range(self.n) if individu[i] == 1)\n",
    "\n",
    "    def genere_pop(self):\n",
    "        while len(self.population) < self.taille_pop:\n",
    "            individu = [random.randint(0, 1) for _ in range(self.n)]\n",
    "            while self.total_weight(individu) > self.capacity:\n",
    "                individu[random.randint(0, self.n - 1)] = 0\n",
    "            self.population.append(individu)\n",
    "\n",
    "    def filtre(self):\n",
    "        self.population.sort(key=self.fitness, reverse=True)\n",
    "        k = int(self.taille_pop * self.coef_filtre / 100)\n",
    "        self.population = self.population[:self.taille_pop - k]\n",
    "\n",
    "    def cross_over(self):\n",
    "        enfants = []\n",
    "        k = int(self.taille_pop * self.coef_filtre / 100)\n",
    "        for _ in range(k):\n",
    "            p1, p2 = random.sample(self.population, 2)\n",
    "            point = random.randint(1, self.n - 1)\n",
    "            enfant = p1[:point] + p2[point:]\n",
    "            while self.total_weight(enfant) > self.capacity:\n",
    "                enfant[random.randint(0, self.n - 1)] = 0\n",
    "            enfants.append(enfant)\n",
    "        return enfants\n",
    "\n",
    "    def mutation(self, enfants):\n",
    "        for enfant in enfants:\n",
    "            for i in range(self.n):\n",
    "                if random.random() < self.proba:\n",
    "                    enfant[i] = 1 - enfant[i]\n",
    "            while self.total_weight(enfant) > self.capacity:\n",
    "                enfant[random.randint(0, self.n - 1)] = 0\n",
    "        self.population.extend(enfants)\n",
    "\n",
    "    def solve(self, generations=500):\n",
    "        self.genere_pop()\n",
    "        for _ in range(generations):\n",
    "            self.filtre()\n",
    "            enfants = self.cross_over()\n",
    "            self.mutation(enfants)\n",
    "        best = max(self.population, key=self.fitness)\n",
    "        return self.fitness(best)"
   ]
  },
  {
   "cell_type": "code",
   "execution_count": 22,
   "metadata": {},
   "outputs": [
    {
     "name": "stdout",
     "output_type": "stream",
     "text": [
      "Fichier        Optimum     Poids\n",
      "knapPI_3_100_1000_1-> 895.0\n"
     ]
    },
    {
     "ename": "KeyboardInterrupt",
     "evalue": "",
     "output_type": "error",
     "traceback": [
      "\u001b[0;31m---------------------------------------------------------------------------\u001b[0m",
      "\u001b[0;31mKeyboardInterrupt\u001b[0m                         Traceback (most recent call last)",
      "Cell \u001b[0;32mIn[22], line 1\u001b[0m\n\u001b[0;32m----> 1\u001b[0m \u001b[43mexecute_all\u001b[49m\u001b[43m(\u001b[49m\u001b[38;5;124;43m'\u001b[39;49m\u001b[38;5;124;43mlarge_scale\u001b[39;49m\u001b[38;5;124;43m'\u001b[39;49m\u001b[43m)\u001b[49m\n",
      "Cell \u001b[0;32mIn[15], line 9\u001b[0m, in \u001b[0;36mexecute_all\u001b[0;34m(directory)\u001b[0m\n\u001b[1;32m      7\u001b[0m fich\u001b[38;5;241m=\u001b[39mnp\u001b[38;5;241m.\u001b[39mloadtxt(f\u001b[38;5;241m.\u001b[39mabsolute(),max_rows\u001b[38;5;241m=\u001b[39m\u001b[38;5;28mint\u001b[39m(first_row[\u001b[38;5;241m0\u001b[39m])\u001b[38;5;241m+\u001b[39m\u001b[38;5;241m1\u001b[39m)\n\u001b[1;32m      8\u001b[0m kpp \u001b[38;5;241m=\u001b[39m Genetic_(fich[\u001b[38;5;241m0\u001b[39m][\u001b[38;5;241m1\u001b[39m],fich[\u001b[38;5;241m1\u001b[39m:,\u001b[38;5;241m1\u001b[39m],fich[\u001b[38;5;241m1\u001b[39m:,\u001b[38;5;241m0\u001b[39m])\n\u001b[0;32m----> 9\u001b[0m valeur \u001b[38;5;241m=\u001b[39m\u001b[43mkpp\u001b[49m\u001b[38;5;241;43m.\u001b[39;49m\u001b[43msolve\u001b[49m\u001b[43m(\u001b[49m\u001b[43m)\u001b[49m\n\u001b[1;32m     10\u001b[0m \u001b[38;5;28mprint\u001b[39m(\u001b[38;5;124mf\u001b[39m\u001b[38;5;124m'\u001b[39m\u001b[38;5;132;01m{\u001b[39;00mf\u001b[38;5;241m.\u001b[39mname\u001b[38;5;132;01m}\u001b[39;00m\u001b[38;5;124m-> \u001b[39m\u001b[38;5;132;01m{\u001b[39;00mvaleur\u001b[38;5;132;01m}\u001b[39;00m\u001b[38;5;124m'\u001b[39m)\n",
      "Cell \u001b[0;32mIn[21], line 52\u001b[0m, in \u001b[0;36mGenetic_.solve\u001b[0;34m(self, generations)\u001b[0m\n\u001b[1;32m     51\u001b[0m \u001b[38;5;28;01mdef\u001b[39;00m \u001b[38;5;21msolve\u001b[39m(\u001b[38;5;28mself\u001b[39m, generations\u001b[38;5;241m=\u001b[39m\u001b[38;5;241m500\u001b[39m):\n\u001b[0;32m---> 52\u001b[0m     \u001b[38;5;28;43mself\u001b[39;49m\u001b[38;5;241;43m.\u001b[39;49m\u001b[43mgenere_pop\u001b[49m\u001b[43m(\u001b[49m\u001b[43m)\u001b[49m\n\u001b[1;32m     53\u001b[0m     \u001b[38;5;28;01mfor\u001b[39;00m _ \u001b[38;5;129;01min\u001b[39;00m \u001b[38;5;28mrange\u001b[39m(generations):\n\u001b[1;32m     54\u001b[0m         \u001b[38;5;28mself\u001b[39m\u001b[38;5;241m.\u001b[39mfiltre()\n",
      "Cell \u001b[0;32mIn[21], line 21\u001b[0m, in \u001b[0;36mGenetic_.genere_pop\u001b[0;34m(self)\u001b[0m\n\u001b[1;32m     19\u001b[0m \u001b[38;5;28;01mwhile\u001b[39;00m \u001b[38;5;28mlen\u001b[39m(\u001b[38;5;28mself\u001b[39m\u001b[38;5;241m.\u001b[39mpopulation) \u001b[38;5;241m<\u001b[39m \u001b[38;5;28mself\u001b[39m\u001b[38;5;241m.\u001b[39mtaille_pop:\n\u001b[1;32m     20\u001b[0m     individu \u001b[38;5;241m=\u001b[39m [random\u001b[38;5;241m.\u001b[39mrandint(\u001b[38;5;241m0\u001b[39m, \u001b[38;5;241m1\u001b[39m) \u001b[38;5;28;01mfor\u001b[39;00m _ \u001b[38;5;129;01min\u001b[39;00m \u001b[38;5;28mrange\u001b[39m(\u001b[38;5;28mself\u001b[39m\u001b[38;5;241m.\u001b[39mn)]\n\u001b[0;32m---> 21\u001b[0m     \u001b[38;5;28;01mwhile\u001b[39;00m \u001b[38;5;28;43mself\u001b[39;49m\u001b[38;5;241;43m.\u001b[39;49m\u001b[43mtotal_weight\u001b[49m\u001b[43m(\u001b[49m\u001b[43mindividu\u001b[49m\u001b[43m)\u001b[49m \u001b[38;5;241m>\u001b[39m \u001b[38;5;28mself\u001b[39m\u001b[38;5;241m.\u001b[39mcapacity:\n\u001b[1;32m     22\u001b[0m         individu[random\u001b[38;5;241m.\u001b[39mrandint(\u001b[38;5;241m0\u001b[39m, \u001b[38;5;28mself\u001b[39m\u001b[38;5;241m.\u001b[39mn \u001b[38;5;241m-\u001b[39m \u001b[38;5;241m1\u001b[39m)] \u001b[38;5;241m=\u001b[39m \u001b[38;5;241m0\u001b[39m\n\u001b[1;32m     23\u001b[0m     \u001b[38;5;28mself\u001b[39m\u001b[38;5;241m.\u001b[39mpopulation\u001b[38;5;241m.\u001b[39mappend(individu)\n",
      "Cell \u001b[0;32mIn[21], line 13\u001b[0m, in \u001b[0;36mGenetic_.total_weight\u001b[0;34m(self, individu)\u001b[0m\n\u001b[1;32m     12\u001b[0m \u001b[38;5;28;01mdef\u001b[39;00m \u001b[38;5;21mtotal_weight\u001b[39m(\u001b[38;5;28mself\u001b[39m, individu):\n\u001b[0;32m---> 13\u001b[0m     \u001b[38;5;28;01mreturn\u001b[39;00m \u001b[38;5;28;43msum\u001b[39;49m\u001b[43m(\u001b[49m\u001b[38;5;28;43mself\u001b[39;49m\u001b[38;5;241;43m.\u001b[39;49m\u001b[43mpoids\u001b[49m\u001b[43m[\u001b[49m\u001b[43mi\u001b[49m\u001b[43m]\u001b[49m\u001b[43m \u001b[49m\u001b[38;5;28;43;01mfor\u001b[39;49;00m\u001b[43m \u001b[49m\u001b[43mi\u001b[49m\u001b[43m \u001b[49m\u001b[38;5;129;43;01min\u001b[39;49;00m\u001b[43m \u001b[49m\u001b[38;5;28;43mrange\u001b[39;49m\u001b[43m(\u001b[49m\u001b[38;5;28;43mself\u001b[39;49m\u001b[38;5;241;43m.\u001b[39;49m\u001b[43mn\u001b[49m\u001b[43m)\u001b[49m\u001b[43m \u001b[49m\u001b[38;5;28;43;01mif\u001b[39;49;00m\u001b[43m \u001b[49m\u001b[43mindividu\u001b[49m\u001b[43m[\u001b[49m\u001b[43mi\u001b[49m\u001b[43m]\u001b[49m\u001b[43m \u001b[49m\u001b[38;5;241;43m==\u001b[39;49m\u001b[43m \u001b[49m\u001b[38;5;241;43m1\u001b[39;49m\u001b[43m)\u001b[49m\n",
      "Cell \u001b[0;32mIn[21], line 13\u001b[0m, in \u001b[0;36m<genexpr>\u001b[0;34m(.0)\u001b[0m\n\u001b[1;32m     12\u001b[0m \u001b[38;5;28;01mdef\u001b[39;00m \u001b[38;5;21mtotal_weight\u001b[39m(\u001b[38;5;28mself\u001b[39m, individu):\n\u001b[0;32m---> 13\u001b[0m     \u001b[38;5;28;01mreturn\u001b[39;00m \u001b[38;5;28msum\u001b[39m(\u001b[38;5;28mself\u001b[39m\u001b[38;5;241m.\u001b[39mpoids[i] \u001b[38;5;28;01mfor\u001b[39;00m i \u001b[38;5;129;01min\u001b[39;00m \u001b[38;5;28mrange\u001b[39m(\u001b[38;5;28mself\u001b[39m\u001b[38;5;241m.\u001b[39mn) \u001b[38;5;28;01mif\u001b[39;00m individu[i] \u001b[38;5;241m==\u001b[39m \u001b[38;5;241m1\u001b[39m)\n",
      "\u001b[0;31mKeyboardInterrupt\u001b[0m: "
     ]
    }
   ],
   "source": [
    "execute_all('large_scale')"
   ]
  }
 ],
 "metadata": {
  "kernelspec": {
   "display_name": ".venv",
   "language": "python",
   "name": "python3"
  },
  "language_info": {
   "codemirror_mode": {
    "name": "ipython",
    "version": 3
   },
   "file_extension": ".py",
   "mimetype": "text/x-python",
   "name": "python",
   "nbconvert_exporter": "python",
   "pygments_lexer": "ipython3",
   "version": "3.12.3"
  }
 },
 "nbformat": 4,
 "nbformat_minor": 2
}
