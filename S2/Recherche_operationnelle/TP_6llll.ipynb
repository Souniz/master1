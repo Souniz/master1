{
 "cells": [
  {
   "cell_type": "markdown",
   "metadata": {},
   "source": [
    "# Exercice"
   ]
  },
  {
   "cell_type": "markdown",
   "metadata": {},
   "source": [
    "On vous demande dans cet exercice de programmer un algorithme génétique pour résoudre le problème\n",
    "\n",
    "du sac à dos 0/1. Vous testerez votre algorithme sur les données fournies lors des séances précédentes. Vous\n",
    "\n",
    "comparerez statistiquement (donc en faisant de multiples run de votre algorithme, ce qui est indispensable\n",
    "\n",
    "quand l’aléatoire intervient) les résultats de votre algorithme avec ceux obtenus par les méthodes concurrentes.\n",
    "\n",
    "Vous pourrez également analyser l’impact des différents paramètres de l’algorithme."
   ]
  },
  {
   "cell_type": "code",
   "execution_count": 1,
   "metadata": {},
   "outputs": [],
   "source": [
    "import numpy as np\n",
    "import os"
   ]
  },
  {
   "cell_type": "code",
   "execution_count": 2,
   "metadata": {},
   "outputs": [
    {
     "data": {
      "text/plain": [
       "0.15552874999327126"
      ]
     },
     "execution_count": 2,
     "metadata": {},
     "output_type": "execute_result"
    }
   ],
   "source": [
    "\n",
    "np.random.rand()"
   ]
  },
  {
   "cell_type": "code",
   "execution_count": 12,
   "metadata": {},
   "outputs": [
    {
     "name": "stdout",
     "output_type": "stream",
     "text": [
      "[0, 1, 1, 1, 0]\n",
      "245\n",
      "9\n"
     ]
    }
   ],
   "source": [
    "\n",
    "class GeneticAlgorithm:\n",
    "\t\"\"\"\n",
    "\tClasse pour le recuit simulé\t\n",
    "\t\"\"\"\n",
    "\tdef __init__(self, values, weights, mutation_ratio, nbr_generation, decimation_percent,  population_size=None, capacity=10):\n",
    "\t\tself.capacity = capacity\n",
    "\t\tself.objects = [((v, w), i) for i, (v, w) in enumerate(zip(values, weights))]\n",
    "\n",
    "\t\tself.mutation_ratio = mutation_ratio\n",
    "\t\tself.population = []\n",
    "\t\tself.nbr_generation = nbr_generation\n",
    "\t\tself.decimation_percent = decimation_percent\n",
    "\t\tself.current_generation = 0\n",
    "\t\t\n",
    "\t\tself.best_solution = None\n",
    "\t\tself.best_value = 0\n",
    "\n",
    "\t\tif len(values) >= 10 :\n",
    "\t\t\tif population_size:\n",
    "\t\t\t\tself.population_size = population_size\n",
    "\t\t\telse:\n",
    "\t\t\t\tself.population_size = 1000\n",
    "\t\telse:\n",
    "\t\t\tself.population_size = int(2**len(values)*0.8)\n",
    "\n",
    "\t\t\t\n",
    "\n",
    "\n",
    "\tdef evaluate_values(self, solution):\n",
    "\t\t\"\"\"\n",
    "\t\tsolution : list of object index\n",
    "\t\tobjects : list of tuples (value, weight)\n",
    "\t\t\"\"\"\n",
    "\t\tval = 0\n",
    "\t\tfor i, obj in enumerate(solution):\n",
    "\t\t\tval += obj * self.objects[i][0][0]\n",
    "\t\treturn val\n",
    "\n",
    "\tdef evalute_weight(self, solution):\n",
    "\t\t\"\"\"\n",
    "\t\tsolution : binairie number\n",
    "\t\tobjects : list of tuples (value, weight)\n",
    "\t\t\"\"\"\n",
    "\t\tweight = 0\n",
    "\t\tfor i, obj in enumerate(solution):\n",
    "\t\t\tweight += obj *self.objects[i][0][1]\n",
    "\t\treturn weight\n",
    "\t\n",
    "\tdef generate_population(self, size):\n",
    "\t\tfor i in range(size):\n",
    "\t\t\tindividual = [ np.random.randint(0, 2) for _ in range(len(self.objects))]\n",
    "\t\t\twhile self.evalute_weight(individual) > self.capacity:\n",
    "\t\t\t\tindividual = [ np.random.randint(0, 2) for _ in range(len(self.objects))]\n",
    "\t\t\tself.population.append(individual)\n",
    "\t\t\t\n",
    "\n",
    "\tdef evaluation(self):\n",
    "\t\t\"\"\"\"\n",
    "\t\tRetourne les indices des indice trie par ordre decroissant\n",
    "\t\t\"\"\"\"\"\n",
    "\t\tscores = []\n",
    "\t\tfor individual in self.population:\n",
    "\t\t\tscores.append(self.evaluate_values(individual))\n",
    "\t\tscores = np.argsort(scores)[::-1]\n",
    "\t\treturn scores[:int(self.decimation_percent*len(scores))]\n",
    "\t\n",
    "\n",
    "\n",
    "\tdef selection(self):\n",
    "\t\tself.population = [self.population[i] for i in self.evaluation()]\n",
    "\n",
    "\tdef regeneration(self):\n",
    "\t\t\"\"\"\n",
    "\t\tRegenerer la population\n",
    "\t\t\"\"\"\n",
    "\t\tnbr_crossover = int(self.mutation_ratio*self.population_size)\n",
    "\t\tself.crossover(nbr_crossover)\n",
    "\t\tself.current_generation += 1\n",
    "\n",
    "\n",
    "\tdef crossover(self, nbr_crossover):\n",
    "\t\t\"\"\"\n",
    "\t\tChoisir deux parents parmis les meilleurs et faire un crossover\n",
    "\t\t\"\"\"\n",
    "\t\tchildren = []\n",
    "\t\tfor _ in range(nbr_crossover):\n",
    "\t\t\tparent1 = self.population[np.random.randint(0, len(self.population))]\n",
    "\t\t\tparent2 = self.population[np.random.randint(0, len(self.population))]\n",
    "\n",
    "\t\t\tcrossover_point = np.random.randint(0, min(len(parent1), len(parent2)))\n",
    "\t\t\tchild = parent1[:crossover_point] + parent2[crossover_point:]\n",
    "\t\t\twhile self.evalute_weight(child) > self.capacity:\n",
    "\t\t\t\tcrossover_point = np.random.randint(0, min(len(parent1), len(parent2)))\n",
    "\n",
    "\t\t\t\tchild = parent1[:crossover_point] + parent2[crossover_point:]\n",
    "\t\t\t\tchild = self.mutation(child)\n",
    "\t\t\tchildren.append(child)\t\n",
    "\t\tself.population += children\n",
    "\t\t\n",
    "\n",
    "\tdef mutation(self, child):\n",
    "\t\tp = np.random.rand()\n",
    "\t\tmuted_child = child[::]\n",
    "\t\tif p <= 0.1:\n",
    "\t\t\tindice_mutation = np.random.randint(0, len(child))\n",
    "\t\t\tmuted_child[indice_mutation] = 1 - child[indice_mutation]\n",
    "\t\t\twhile self.evalute_weight(child) > self.capacity:\n",
    "\t\t\t\tindice_mutation = np.random.randint(0, len(child))\n",
    "\t\t\t\tmuted_child[indice_mutation] = 1 - child[indice_mutation]\n",
    "\t\treturn muted_child\n",
    "\t\n",
    "\tdef solve(self):\n",
    "\t\tself.generate_population(self.population_size)\n",
    "\t\twhile self.current_generation < self.nbr_generation:\n",
    "\t\t\tself.selection()\n",
    "\t\t\tself.regeneration()\n",
    "\t\t\n",
    "\t\t\n",
    "\t\treturn self.population[np.argmax([self.evaluate_values(individual) for individual in self.population])]\n",
    "\n",
    "\n",
    "\n",
    "capacity = 10\n",
    "values = [40, 50, 100, 95, 30]\n",
    "weights = [2, 3, 1, 5, 3]\n",
    "\n",
    "algo_gen = GeneticAlgorithm(values, weights, 0.1, 50, 0.5, capacity)\n",
    "solution = algo_gen.solve()\n",
    "print(solution)\n",
    "print(algo_gen.evaluate_values(solution))\n",
    "print(algo_gen.evalute_weight(solution))"
   ]
  },
  {
   "cell_type": "markdown",
   "metadata": {},
   "source": [
    "# Testing on  datasets\n"
   ]
  },
  {
   "cell_type": "code",
   "execution_count": 53,
   "metadata": {},
   "outputs": [],
   "source": [
    "import tabulate"
   ]
  },
  {
   "cell_type": "markdown",
   "metadata": {},
   "source": [
    "## low dimensional problems"
   ]
  },
  {
   "cell_type": "code",
   "execution_count": 56,
   "metadata": {},
   "outputs": [
    {
     "data": {
      "text/plain": [
       "{'f2_l-d_kp_20_878': array([[ 20., 878.],\n",
       "        [ 44.,  92.],\n",
       "        [ 46.,   4.],\n",
       "        [ 90.,  43.],\n",
       "        [ 72.,  83.],\n",
       "        [ 91.,  84.],\n",
       "        [ 40.,  68.],\n",
       "        [ 75.,  92.],\n",
       "        [ 35.,  82.],\n",
       "        [  8.,   6.],\n",
       "        [ 54.,  44.],\n",
       "        [ 78.,  32.],\n",
       "        [ 40.,  18.],\n",
       "        [ 77.,  56.],\n",
       "        [ 15.,  83.],\n",
       "        [ 61.,  25.],\n",
       "        [ 17.,  96.],\n",
       "        [ 75.,  70.],\n",
       "        [ 29.,  48.],\n",
       "        [ 75.,  14.],\n",
       "        [ 63.,  58.]]),\n",
       " 'f9_l-d_kp_5_80': array([[ 5., 80.],\n",
       "        [33., 15.],\n",
       "        [24., 20.],\n",
       "        [36., 17.],\n",
       "        [37.,  8.],\n",
       "        [12., 31.]]),\n",
       " 'f3_l-d_kp_4_20': array([[ 4., 20.],\n",
       "        [ 9.,  6.],\n",
       "        [11.,  5.],\n",
       "        [13.,  9.],\n",
       "        [15.,  7.]]),\n",
       " 'f4_l-d_kp_4_11': array([[ 4., 11.],\n",
       "        [ 6.,  2.],\n",
       "        [10.,  4.],\n",
       "        [12.,  6.],\n",
       "        [13.,  7.]]),\n",
       " 'f7_l-d_kp_7_50': array([[ 7., 50.],\n",
       "        [70., 31.],\n",
       "        [20., 10.],\n",
       "        [39., 20.],\n",
       "        [37., 19.],\n",
       "        [ 7.,  4.],\n",
       "        [ 5.,  3.],\n",
       "        [10.,  6.]]),\n",
       " 'f5_l-d_kp_15_375': array([[1.5000000e+01, 3.7500000e+02],\n",
       "        [1.2512600e-01, 5.6358531e+01],\n",
       "        [1.9330424e+01, 8.0874050e+01],\n",
       "        [5.8500931e+01, 4.7987304e+01],\n",
       "        [3.5029145e+01, 8.9596240e+01],\n",
       "        [8.2284005e+01, 7.4660482e+01],\n",
       "        [1.7410810e+01, 8.5894345e+01],\n",
       "        [7.1050142e+01, 5.1353496e+01],\n",
       "        [3.0399487e+01, 1.4984590e+00],\n",
       "        [9.1402940e+00, 3.6445204e+01],\n",
       "        [1.4731285e+01, 1.6589862e+01],\n",
       "        [9.8852504e+01, 4.4569231e+01],\n",
       "        [1.1908322e+01, 4.6693300e-01],\n",
       "        [8.9114000e-01, 3.7788018e+01],\n",
       "        [5.3166295e+01, 5.7118442e+01],\n",
       "        [6.0176397e+01, 6.0716575e+01]]),\n",
       " 'f8_l-d_kp_23_10000': array([[   23., 10000.],\n",
       "        [  981.,   983.],\n",
       "        [  980.,   982.],\n",
       "        [  979.,   981.],\n",
       "        [  978.,   980.],\n",
       "        [  977.,   979.],\n",
       "        [  976.,   978.],\n",
       "        [  487.,   488.],\n",
       "        [  974.,   976.],\n",
       "        [  970.,   972.],\n",
       "        [  485.,   486.],\n",
       "        [  485.,   486.],\n",
       "        [  970.,   972.],\n",
       "        [  970.,   972.],\n",
       "        [  484.,   485.],\n",
       "        [  484.,   485.],\n",
       "        [  976.,   969.],\n",
       "        [  974.,   966.],\n",
       "        [  482.,   483.],\n",
       "        [  962.,   964.],\n",
       "        [  961.,   963.],\n",
       "        [  959.,   961.],\n",
       "        [  958.,   958.],\n",
       "        [  857.,   959.]]),\n",
       " 'f10_l-d_kp_20_879': array([[ 20., 879.],\n",
       "        [ 91.,  84.],\n",
       "        [ 72.,  83.],\n",
       "        [ 90.,  43.],\n",
       "        [ 46.,   4.],\n",
       "        [ 55.,  44.],\n",
       "        [  8.,   6.],\n",
       "        [ 35.,  82.],\n",
       "        [ 75.,  92.],\n",
       "        [ 61.,  25.],\n",
       "        [ 15.,  83.],\n",
       "        [ 77.,  56.],\n",
       "        [ 40.,  18.],\n",
       "        [ 63.,  58.],\n",
       "        [ 75.,  14.],\n",
       "        [ 29.,  48.],\n",
       "        [ 75.,  70.],\n",
       "        [ 17.,  96.],\n",
       "        [ 78.,  32.],\n",
       "        [ 40.,  68.],\n",
       "        [ 44.,  92.]]),\n",
       " 'f1_l-d_kp_10_269': array([[ 10., 269.],\n",
       "        [ 55.,  95.],\n",
       "        [ 10.,   4.],\n",
       "        [ 47.,  60.],\n",
       "        [  5.,  32.],\n",
       "        [  4.,  23.],\n",
       "        [ 50.,  72.],\n",
       "        [  8.,  80.],\n",
       "        [ 61.,  62.],\n",
       "        [ 85.,  65.],\n",
       "        [ 87.,  46.]]),\n",
       " 'f6_l-d_kp_10_60': array([[10., 60.],\n",
       "        [20., 30.],\n",
       "        [18., 25.],\n",
       "        [17., 20.],\n",
       "        [15., 18.],\n",
       "        [15., 17.],\n",
       "        [10., 11.],\n",
       "        [ 5.,  5.],\n",
       "        [ 3.,  2.],\n",
       "        [ 1.,  1.],\n",
       "        [ 1.,  1.]])}"
      ]
     },
     "execution_count": 56,
     "metadata": {},
     "output_type": "execute_result"
    }
   ],
   "source": [
    "low_dimensional_path = \"./instances_01_KP/low-dimensional\"\n",
    "low_dimensional_optimum_path = \"./instances_01_KP/low-dimensional-optimum\"\n",
    "probleme_instances_name = os.listdir(\"./instances_01_KP/low-dimensional\")\n",
    "probleme_instances = dict({ probleme_instance : np.loadtxt(low_dimensional_path + f\"/{probleme_instance}\") for probleme_instance in probleme_instances_name})\n",
    "probleme_instances"
   ]
  },
  {
   "cell_type": "code",
   "execution_count": null,
   "metadata": {},
   "outputs": [],
   "source": [
    "from concurrent.futures import ProcessPoolExecutor"
   ]
  },
  {
   "cell_type": "code",
   "execution_count": null,
   "metadata": {},
   "outputs": [
    {
     "ename": "KeyboardInterrupt",
     "evalue": "",
     "output_type": "error",
     "traceback": [
      "\u001b[0;31m---------------------------------------------------------------------------\u001b[0m",
      "\u001b[0;31mKeyboardInterrupt\u001b[0m                         Traceback (most recent call last)",
      "Cell \u001b[0;32mIn[58], line 20\u001b[0m\n\u001b[1;32m     18\u001b[0m \u001b[38;5;28;01mfor\u001b[39;00m i \u001b[38;5;129;01min\u001b[39;00m \u001b[38;5;28mrange\u001b[39m(\u001b[38;5;241m50\u001b[39m):\n\u001b[1;32m     19\u001b[0m     sa \u001b[38;5;241m=\u001b[39m GeneticAlgorithm(r, w, \u001b[38;5;241m0.1\u001b[39m, \u001b[38;5;241m100\u001b[39m, \u001b[38;5;241m0.5\u001b[39m, capacity\u001b[38;5;241m=\u001b[39mC)\n\u001b[0;32m---> 20\u001b[0m     sa\u001b[38;5;241m.\u001b[39msolve()\n\u001b[1;32m     21\u001b[0m     \u001b[38;5;28;01mif\u001b[39;00m sa\u001b[38;5;241m.\u001b[39mbest_value \u001b[38;5;241m>\u001b[39m best_value:\n\u001b[1;32m     22\u001b[0m         best_value \u001b[38;5;241m=\u001b[39m sa\u001b[38;5;241m.\u001b[39mbest_value\n",
      "Cell \u001b[0;32mIn[52], line 116\u001b[0m, in \u001b[0;36mGeneticAlgorithm.solve\u001b[0;34m(self)\u001b[0m\n\u001b[1;32m    114\u001b[0m \u001b[38;5;28;01mwhile\u001b[39;00m \u001b[38;5;28mself\u001b[39m\u001b[38;5;241m.\u001b[39mcurrent_generation \u001b[38;5;241m<\u001b[39m \u001b[38;5;28mself\u001b[39m\u001b[38;5;241m.\u001b[39mnbr_generation:\n\u001b[1;32m    115\u001b[0m \t\u001b[38;5;28mself\u001b[39m\u001b[38;5;241m.\u001b[39mselection()\n\u001b[0;32m--> 116\u001b[0m \t\u001b[38;5;28mself\u001b[39m\u001b[38;5;241m.\u001b[39mregeneration()\n\u001b[1;32m    119\u001b[0m \u001b[38;5;28;01mreturn\u001b[39;00m \u001b[38;5;28mself\u001b[39m\u001b[38;5;241m.\u001b[39mpopulation[np\u001b[38;5;241m.\u001b[39margmax([\u001b[38;5;28mself\u001b[39m\u001b[38;5;241m.\u001b[39mevaluate_values(individual) \u001b[38;5;28;01mfor\u001b[39;00m individual \u001b[38;5;129;01min\u001b[39;00m \u001b[38;5;28mself\u001b[39m\u001b[38;5;241m.\u001b[39mpopulation])]\n",
      "Cell \u001b[0;32mIn[52], line 77\u001b[0m, in \u001b[0;36mGeneticAlgorithm.regeneration\u001b[0;34m(self)\u001b[0m\n\u001b[1;32m     73\u001b[0m \u001b[38;5;250m\u001b[39m\u001b[38;5;124;03m\"\"\"\u001b[39;00m\n\u001b[1;32m     74\u001b[0m \u001b[38;5;124;03mRegenerer la population\u001b[39;00m\n\u001b[1;32m     75\u001b[0m \u001b[38;5;124;03m\"\"\"\u001b[39;00m\n\u001b[1;32m     76\u001b[0m nbr_crossover \u001b[38;5;241m=\u001b[39m \u001b[38;5;28mint\u001b[39m(\u001b[38;5;28mself\u001b[39m\u001b[38;5;241m.\u001b[39mmutation_ratio\u001b[38;5;241m*\u001b[39m\u001b[38;5;28mself\u001b[39m\u001b[38;5;241m.\u001b[39mpopulation_size)\n\u001b[0;32m---> 77\u001b[0m \u001b[38;5;28mself\u001b[39m\u001b[38;5;241m.\u001b[39mcrossover(nbr_crossover)\n\u001b[1;32m     78\u001b[0m \u001b[38;5;28mself\u001b[39m\u001b[38;5;241m.\u001b[39mcurrent_generation \u001b[38;5;241m+\u001b[39m\u001b[38;5;241m=\u001b[39m \u001b[38;5;241m1\u001b[39m\n",
      "Cell \u001b[0;32mIn[52], line 96\u001b[0m, in \u001b[0;36mGeneticAlgorithm.crossover\u001b[0;34m(self, nbr_crossover)\u001b[0m\n\u001b[1;32m     93\u001b[0m \t\tcrossover_point \u001b[38;5;241m=\u001b[39m np\u001b[38;5;241m.\u001b[39mrandom\u001b[38;5;241m.\u001b[39mrandint(\u001b[38;5;241m0\u001b[39m, \u001b[38;5;28mmin\u001b[39m(\u001b[38;5;28mlen\u001b[39m(parent1), \u001b[38;5;28mlen\u001b[39m(parent2)))\n\u001b[1;32m     95\u001b[0m \t\tchild \u001b[38;5;241m=\u001b[39m parent1[:crossover_point] \u001b[38;5;241m+\u001b[39m parent2[crossover_point:]\n\u001b[0;32m---> 96\u001b[0m \t\tchild \u001b[38;5;241m=\u001b[39m \u001b[38;5;28mself\u001b[39m\u001b[38;5;241m.\u001b[39mmutation(child)\n\u001b[1;32m     97\u001b[0m \tchildren\u001b[38;5;241m.\u001b[39mappend(child)\t\n\u001b[1;32m     98\u001b[0m \u001b[38;5;28mself\u001b[39m\u001b[38;5;241m.\u001b[39mpopulation \u001b[38;5;241m+\u001b[39m\u001b[38;5;241m=\u001b[39m children\n",
      "Cell \u001b[0;32mIn[52], line 107\u001b[0m, in \u001b[0;36mGeneticAlgorithm.mutation\u001b[0;34m(self, child)\u001b[0m\n\u001b[1;32m    105\u001b[0m indice_mutation \u001b[38;5;241m=\u001b[39m np\u001b[38;5;241m.\u001b[39mrandom\u001b[38;5;241m.\u001b[39mrandint(\u001b[38;5;241m0\u001b[39m, \u001b[38;5;28mlen\u001b[39m(child))\n\u001b[1;32m    106\u001b[0m muted_child[indice_mutation] \u001b[38;5;241m=\u001b[39m \u001b[38;5;241m1\u001b[39m \u001b[38;5;241m-\u001b[39m child[indice_mutation]\n\u001b[0;32m--> 107\u001b[0m \u001b[38;5;28;01mwhile\u001b[39;00m \u001b[38;5;28mself\u001b[39m\u001b[38;5;241m.\u001b[39mevalute_weight(child) \u001b[38;5;241m>\u001b[39m \u001b[38;5;28mself\u001b[39m\u001b[38;5;241m.\u001b[39mcapacity:\n\u001b[1;32m    108\u001b[0m \tindice_mutation \u001b[38;5;241m=\u001b[39m np\u001b[38;5;241m.\u001b[39mrandom\u001b[38;5;241m.\u001b[39mrandint(\u001b[38;5;241m0\u001b[39m, \u001b[38;5;28mlen\u001b[39m(child))\n\u001b[1;32m    109\u001b[0m \tmuted_child[indice_mutation] \u001b[38;5;241m=\u001b[39m \u001b[38;5;241m1\u001b[39m \u001b[38;5;241m-\u001b[39m child[indice_mutation]\n",
      "Cell \u001b[0;32mIn[52], line 46\u001b[0m, in \u001b[0;36mGeneticAlgorithm.evalute_weight\u001b[0;34m(self, solution)\u001b[0m\n\u001b[1;32m     44\u001b[0m weight \u001b[38;5;241m=\u001b[39m \u001b[38;5;241m0\u001b[39m\n\u001b[1;32m     45\u001b[0m \u001b[38;5;28;01mfor\u001b[39;00m i, obj \u001b[38;5;129;01min\u001b[39;00m \u001b[38;5;28menumerate\u001b[39m(solution):\n\u001b[0;32m---> 46\u001b[0m \tweight \u001b[38;5;241m+\u001b[39m\u001b[38;5;241m=\u001b[39m obj \u001b[38;5;241m*\u001b[39m\u001b[38;5;28mself\u001b[39m\u001b[38;5;241m.\u001b[39mobjects[i][\u001b[38;5;241m0\u001b[39m][\u001b[38;5;241m1\u001b[39m]\n\u001b[1;32m     47\u001b[0m \u001b[38;5;28;01mreturn\u001b[39;00m weight\n",
      "\u001b[0;31mKeyboardInterrupt\u001b[0m: "
     ]
    }
   ],
   "source": [
    "low_dimensional_path = \"./instances_01_KP/low-dimensional\"\n",
    "low_dimensional_optimum_path = \"./instances_01_KP/low-dimensional-optimum\"\n",
    "probleme_instances_name = os.listdir(\"./instances_01_KP/low-dimensional\")\n",
    "probleme_instances = dict({ probleme_instance : np.loadtxt(low_dimensional_path + f\"/{probleme_instance}\") for probleme_instance in probleme_instances_name})\n",
    "probleme_instances\n",
    "\n",
    "results = []\n",
    "for probleme_instance in probleme_instances:\n",
    "    val = np.loadtxt(low_dimensional_optimum_path + f\"/{probleme_instance}\")\n",
    "    instance_data = probleme_instances[probleme_instance]\n",
    "    n, C = instance_data[0]\n",
    "    \n",
    "    r = instance_data[1:, 0]\n",
    "    w = instance_data[1:, 1]\n",
    "    \n",
    "\t\n",
    "\n",
    "\n",
    "    mean_best_value = 0\n",
    "    best_value = 0\n",
    "    for i in range(50):\n",
    "        ga = GeneticAlgorithm(r, w, 0.1, 50, 0.5, 1000, capacity=C)\n",
    "        ga.solve()\n",
    "        if ga.best_value > best_value:\n",
    "            best_value = ga.best_value\n",
    "        mean_best_value += ga.best_value\n",
    "    mean_best_value /= len(range(50))\n",
    "    results.append([f\"{probleme_instance} : \", mean_best_value, best_value, val])\n",
    "\n",
    "table =  tabulate.tabulate(results, headers=[\"nom probleme\", \"cout moyenne obtenue\", \"meilleur coup obtenue\", \"coup attendue\"])\n",
    "print(table)"
   ]
  },
  {
   "cell_type": "code",
   "execution_count": null,
   "metadata": {},
   "outputs": [],
   "source": [
    "with ProcessPoolExecutor(10) as p:\n",
    "    "
   ]
  },
  {
   "cell_type": "markdown",
   "metadata": {},
   "source": [
    "## Large optimum "
   ]
  },
  {
   "cell_type": "code",
   "execution_count": null,
   "metadata": {},
   "outputs": [],
   "source": [
    "def load_large_problem(file_name):\n",
    "\twith open(file_name) as f:\n",
    "\t\tlines = f.readlines()\n",
    "\t\tnum_lines = len(lines)\n",
    "\t\treturn np.loadtxt(file_name, max_rows=num_lines -1)\n",
    "\t\t\n",
    "\n",
    "\n",
    "large_scale_path = \"./instances_01_KP/large_scale\"\n",
    "large_scale_optimum_path = \"./instances_01_KP/large_scale-optimum\"\n",
    "probleme_instances_name = os.listdir(\"./instances_01_KP/large_scale\")\n",
    "probleme_instances = dict({ probleme_instance : load_large_problem(large_scale_path + f\"/{probleme_instance}\") for probleme_instance in probleme_instances_name})"
   ]
  },
  {
   "cell_type": "code",
   "execution_count": null,
   "metadata": {},
   "outputs": [
    {
     "name": "stdout",
     "output_type": "stream",
     "text": [
      "nom probleme               cout moyenne obtenue    meilleur coup obtenue    coup attendue\n",
      "-----------------------  ----------------------  -----------------------  ---------------\n",
      "knapPI_1_1000_1000_1 :                  4526.4                      7214            54503\n",
      "knapPI_3_500_1000_1 :                   2661.46                     3409             7117\n",
      "knapPI_3_10000_1000_1 :                58967.5                     60563           146919\n",
      "knapPI_3_2000_1000_1 :                 11400.5                     12243            28919\n",
      "knapPI_2_2000_1000_1 :                  9737.87                    10630            18051\n",
      "knapPI_3_100_1000_1 :                   1119.53                     1624             2397\n",
      "knapPI_1_10000_1000_1 :                49015.4                     58473           563647\n",
      "knapPI_2_200_1000_1 :                   1059.65                     1256             1634\n",
      "knapPI_1_200_1000_1 :                   1153.29                     2433            11238\n",
      "knapPI_3_200_1000_1 :                   1111.67                     1350             2697\n",
      "knapPI_1_100_1000_1 :                   1231.88                     4406             9147\n",
      "knapPI_2_500_1000_1 :                   2218.45                     2739             4566\n",
      "knapPI_1_2000_1000_1 :                  9841.07                    13884           110625\n",
      "knapPI_2_5000_1000_1 :                 24754.9                     25703            44356\n",
      "knapPI_3_1000_1000_1 :                  5575.43                     6156            14390\n",
      "knapPI_1_500_1000_1 :                   2295.83                     5561            28857\n",
      "knapPI_2_100_1000_1 :                   1034.79                     1087             1514\n",
      "knapPI_2_1000_1000_1 :                  4701.72                     5226             9052\n",
      "knapPI_1_5000_1000_1 :                 24361.6                     33556           276457\n",
      "knapPI_2_10000_1000_1 :                49609.8                     51269            90204\n",
      "knapPI_3_5000_1000_1 :                 29381.7                     30750            72505\n"
     ]
    }
   ],
   "source": [
    "from multiprocessing import Pool\n",
    "\n",
    "\n",
    "def solve_problem(probleme_instance, solving_attempts=100):\n",
    "\tval = np.loadtxt(large_scale_optimum_path + f\"/{probleme_instance}\")\n",
    "\tinstance_data = probleme_instances[probleme_instance]\n",
    "\tn, C = instance_data[0]\n",
    "\n",
    "\tr = instance_data[1:, 0]\n",
    "\tw = instance_data[1:, 1]\n",
    "\n",
    "\tmean_best_value = 0\n",
    "\tbest_value = 0\n",
    "\tfor i in range(solving_attempts):\n",
    "\t\tsa = GeneticAlgorithm(r, w, T0=1000,  capacity=C)\n",
    "\t\tsa.solve()\n",
    "\t\tif sa.best_value > best_value:\n",
    "\t\t\tbest_value = sa.best_value\n",
    "\t\tmean_best_value += sa.best_value\n",
    "\tmean_best_value /= solving_attempts\n",
    "\treturn [f\"{probleme_instance} : \", mean_best_value, best_value, val]\n",
    "\n",
    "with Pool(4) as p:\n",
    "\tresults = p.map(solve_problem, probleme_instances_name)\n",
    "table =  tabulate.tabulate(results, headers=[\"nom probleme\", \"cout moyenne obtenue\", \"meilleur coup obtenue\", \"coup attendue\"])\n",
    "print(table)"
   ]
  },
  {
   "cell_type": "code",
   "execution_count": null,
   "metadata": {},
   "outputs": [],
   "source": [
    "import plotly.graph_objects as go\n",
    "import plotly.express as px"
   ]
  },
  {
   "cell_type": "code",
   "execution_count": null,
   "metadata": {},
   "outputs": [
    {
     "data": {
      "application/vnd.plotly.v1+json": {
       "config": {
        "plotlyServerURL": "https://plot.ly"
       },
       "data": [
        {
         "error_y": {
          "array": [
           47289,
           3708,
           86356,
           16676,
           7421,
           773,
           505174,
           378,
           8805,
           1347,
           4741,
           1827,
           96741,
           18653,
           8234,
           23296,
           427,
           3826,
           242901,
           38935,
           41755
          ],
          "color": "red",
          "thickness": 1.5,
          "type": "data",
          "visible": true,
          "width": 5
         },
         "marker": {
          "color": "blue",
          "size": 10
         },
         "mode": "markers",
         "name": "Données",
         "type": "scatter",
         "x": [
          "knapPI_1_1000_1000_1 : ",
          "knapPI_3_500_1000_1 : ",
          "knapPI_3_10000_1000_1 : ",
          "knapPI_3_2000_1000_1 : ",
          "knapPI_2_2000_1000_1 : ",
          "knapPI_3_100_1000_1 : ",
          "knapPI_1_10000_1000_1 : ",
          "knapPI_2_200_1000_1 : ",
          "knapPI_1_200_1000_1 : ",
          "knapPI_3_200_1000_1 : ",
          "knapPI_1_100_1000_1 : ",
          "knapPI_2_500_1000_1 : ",
          "knapPI_1_2000_1000_1 : ",
          "knapPI_2_5000_1000_1 : ",
          "knapPI_3_1000_1000_1 : ",
          "knapPI_1_500_1000_1 : ",
          "knapPI_2_100_1000_1 : ",
          "knapPI_2_1000_1000_1 : ",
          "knapPI_1_5000_1000_1 : ",
          "knapPI_2_10000_1000_1 : ",
          "knapPI_3_5000_1000_1 : "
         ],
         "y": [
          54503,
          7117,
          146919,
          28919,
          18051,
          2397,
          563647,
          1634,
          11238,
          2697,
          9147,
          4566,
          110625,
          44356,
          14390,
          28857,
          1514,
          9052,
          276457,
          90204,
          72505
         ]
        }
       ],
       "layout": {
        "template": {
         "data": {
          "bar": [
           {
            "error_x": {
             "color": "#2a3f5f"
            },
            "error_y": {
             "color": "#2a3f5f"
            },
            "marker": {
             "line": {
              "color": "white",
              "width": 0.5
             },
             "pattern": {
              "fillmode": "overlay",
              "size": 10,
              "solidity": 0.2
             }
            },
            "type": "bar"
           }
          ],
          "barpolar": [
           {
            "marker": {
             "line": {
              "color": "white",
              "width": 0.5
             },
             "pattern": {
              "fillmode": "overlay",
              "size": 10,
              "solidity": 0.2
             }
            },
            "type": "barpolar"
           }
          ],
          "carpet": [
           {
            "aaxis": {
             "endlinecolor": "#2a3f5f",
             "gridcolor": "#C8D4E3",
             "linecolor": "#C8D4E3",
             "minorgridcolor": "#C8D4E3",
             "startlinecolor": "#2a3f5f"
            },
            "baxis": {
             "endlinecolor": "#2a3f5f",
             "gridcolor": "#C8D4E3",
             "linecolor": "#C8D4E3",
             "minorgridcolor": "#C8D4E3",
             "startlinecolor": "#2a3f5f"
            },
            "type": "carpet"
           }
          ],
          "choropleth": [
           {
            "colorbar": {
             "outlinewidth": 0,
             "ticks": ""
            },
            "type": "choropleth"
           }
          ],
          "contour": [
           {
            "colorbar": {
             "outlinewidth": 0,
             "ticks": ""
            },
            "colorscale": [
             [
              0,
              "#0d0887"
             ],
             [
              0.1111111111111111,
              "#46039f"
             ],
             [
              0.2222222222222222,
              "#7201a8"
             ],
             [
              0.3333333333333333,
              "#9c179e"
             ],
             [
              0.4444444444444444,
              "#bd3786"
             ],
             [
              0.5555555555555556,
              "#d8576b"
             ],
             [
              0.6666666666666666,
              "#ed7953"
             ],
             [
              0.7777777777777778,
              "#fb9f3a"
             ],
             [
              0.8888888888888888,
              "#fdca26"
             ],
             [
              1,
              "#f0f921"
             ]
            ],
            "type": "contour"
           }
          ],
          "contourcarpet": [
           {
            "colorbar": {
             "outlinewidth": 0,
             "ticks": ""
            },
            "type": "contourcarpet"
           }
          ],
          "heatmap": [
           {
            "colorbar": {
             "outlinewidth": 0,
             "ticks": ""
            },
            "colorscale": [
             [
              0,
              "#0d0887"
             ],
             [
              0.1111111111111111,
              "#46039f"
             ],
             [
              0.2222222222222222,
              "#7201a8"
             ],
             [
              0.3333333333333333,
              "#9c179e"
             ],
             [
              0.4444444444444444,
              "#bd3786"
             ],
             [
              0.5555555555555556,
              "#d8576b"
             ],
             [
              0.6666666666666666,
              "#ed7953"
             ],
             [
              0.7777777777777778,
              "#fb9f3a"
             ],
             [
              0.8888888888888888,
              "#fdca26"
             ],
             [
              1,
              "#f0f921"
             ]
            ],
            "type": "heatmap"
           }
          ],
          "heatmapgl": [
           {
            "colorbar": {
             "outlinewidth": 0,
             "ticks": ""
            },
            "colorscale": [
             [
              0,
              "#0d0887"
             ],
             [
              0.1111111111111111,
              "#46039f"
             ],
             [
              0.2222222222222222,
              "#7201a8"
             ],
             [
              0.3333333333333333,
              "#9c179e"
             ],
             [
              0.4444444444444444,
              "#bd3786"
             ],
             [
              0.5555555555555556,
              "#d8576b"
             ],
             [
              0.6666666666666666,
              "#ed7953"
             ],
             [
              0.7777777777777778,
              "#fb9f3a"
             ],
             [
              0.8888888888888888,
              "#fdca26"
             ],
             [
              1,
              "#f0f921"
             ]
            ],
            "type": "heatmapgl"
           }
          ],
          "histogram": [
           {
            "marker": {
             "pattern": {
              "fillmode": "overlay",
              "size": 10,
              "solidity": 0.2
             }
            },
            "type": "histogram"
           }
          ],
          "histogram2d": [
           {
            "colorbar": {
             "outlinewidth": 0,
             "ticks": ""
            },
            "colorscale": [
             [
              0,
              "#0d0887"
             ],
             [
              0.1111111111111111,
              "#46039f"
             ],
             [
              0.2222222222222222,
              "#7201a8"
             ],
             [
              0.3333333333333333,
              "#9c179e"
             ],
             [
              0.4444444444444444,
              "#bd3786"
             ],
             [
              0.5555555555555556,
              "#d8576b"
             ],
             [
              0.6666666666666666,
              "#ed7953"
             ],
             [
              0.7777777777777778,
              "#fb9f3a"
             ],
             [
              0.8888888888888888,
              "#fdca26"
             ],
             [
              1,
              "#f0f921"
             ]
            ],
            "type": "histogram2d"
           }
          ],
          "histogram2dcontour": [
           {
            "colorbar": {
             "outlinewidth": 0,
             "ticks": ""
            },
            "colorscale": [
             [
              0,
              "#0d0887"
             ],
             [
              0.1111111111111111,
              "#46039f"
             ],
             [
              0.2222222222222222,
              "#7201a8"
             ],
             [
              0.3333333333333333,
              "#9c179e"
             ],
             [
              0.4444444444444444,
              "#bd3786"
             ],
             [
              0.5555555555555556,
              "#d8576b"
             ],
             [
              0.6666666666666666,
              "#ed7953"
             ],
             [
              0.7777777777777778,
              "#fb9f3a"
             ],
             [
              0.8888888888888888,
              "#fdca26"
             ],
             [
              1,
              "#f0f921"
             ]
            ],
            "type": "histogram2dcontour"
           }
          ],
          "mesh3d": [
           {
            "colorbar": {
             "outlinewidth": 0,
             "ticks": ""
            },
            "type": "mesh3d"
           }
          ],
          "parcoords": [
           {
            "line": {
             "colorbar": {
              "outlinewidth": 0,
              "ticks": ""
             }
            },
            "type": "parcoords"
           }
          ],
          "pie": [
           {
            "automargin": true,
            "type": "pie"
           }
          ],
          "scatter": [
           {
            "fillpattern": {
             "fillmode": "overlay",
             "size": 10,
             "solidity": 0.2
            },
            "type": "scatter"
           }
          ],
          "scatter3d": [
           {
            "line": {
             "colorbar": {
              "outlinewidth": 0,
              "ticks": ""
             }
            },
            "marker": {
             "colorbar": {
              "outlinewidth": 0,
              "ticks": ""
             }
            },
            "type": "scatter3d"
           }
          ],
          "scattercarpet": [
           {
            "marker": {
             "colorbar": {
              "outlinewidth": 0,
              "ticks": ""
             }
            },
            "type": "scattercarpet"
           }
          ],
          "scattergeo": [
           {
            "marker": {
             "colorbar": {
              "outlinewidth": 0,
              "ticks": ""
             }
            },
            "type": "scattergeo"
           }
          ],
          "scattergl": [
           {
            "marker": {
             "colorbar": {
              "outlinewidth": 0,
              "ticks": ""
             }
            },
            "type": "scattergl"
           }
          ],
          "scattermapbox": [
           {
            "marker": {
             "colorbar": {
              "outlinewidth": 0,
              "ticks": ""
             }
            },
            "type": "scattermapbox"
           }
          ],
          "scatterpolar": [
           {
            "marker": {
             "colorbar": {
              "outlinewidth": 0,
              "ticks": ""
             }
            },
            "type": "scatterpolar"
           }
          ],
          "scatterpolargl": [
           {
            "marker": {
             "colorbar": {
              "outlinewidth": 0,
              "ticks": ""
             }
            },
            "type": "scatterpolargl"
           }
          ],
          "scatterternary": [
           {
            "marker": {
             "colorbar": {
              "outlinewidth": 0,
              "ticks": ""
             }
            },
            "type": "scatterternary"
           }
          ],
          "surface": [
           {
            "colorbar": {
             "outlinewidth": 0,
             "ticks": ""
            },
            "colorscale": [
             [
              0,
              "#0d0887"
             ],
             [
              0.1111111111111111,
              "#46039f"
             ],
             [
              0.2222222222222222,
              "#7201a8"
             ],
             [
              0.3333333333333333,
              "#9c179e"
             ],
             [
              0.4444444444444444,
              "#bd3786"
             ],
             [
              0.5555555555555556,
              "#d8576b"
             ],
             [
              0.6666666666666666,
              "#ed7953"
             ],
             [
              0.7777777777777778,
              "#fb9f3a"
             ],
             [
              0.8888888888888888,
              "#fdca26"
             ],
             [
              1,
              "#f0f921"
             ]
            ],
            "type": "surface"
           }
          ],
          "table": [
           {
            "cells": {
             "fill": {
              "color": "#EBF0F8"
             },
             "line": {
              "color": "white"
             }
            },
            "header": {
             "fill": {
              "color": "#C8D4E3"
             },
             "line": {
              "color": "white"
             }
            },
            "type": "table"
           }
          ]
         },
         "layout": {
          "annotationdefaults": {
           "arrowcolor": "#2a3f5f",
           "arrowhead": 0,
           "arrowwidth": 1
          },
          "autotypenumbers": "strict",
          "coloraxis": {
           "colorbar": {
            "outlinewidth": 0,
            "ticks": ""
           }
          },
          "colorscale": {
           "diverging": [
            [
             0,
             "#8e0152"
            ],
            [
             0.1,
             "#c51b7d"
            ],
            [
             0.2,
             "#de77ae"
            ],
            [
             0.3,
             "#f1b6da"
            ],
            [
             0.4,
             "#fde0ef"
            ],
            [
             0.5,
             "#f7f7f7"
            ],
            [
             0.6,
             "#e6f5d0"
            ],
            [
             0.7,
             "#b8e186"
            ],
            [
             0.8,
             "#7fbc41"
            ],
            [
             0.9,
             "#4d9221"
            ],
            [
             1,
             "#276419"
            ]
           ],
           "sequential": [
            [
             0,
             "#0d0887"
            ],
            [
             0.1111111111111111,
             "#46039f"
            ],
            [
             0.2222222222222222,
             "#7201a8"
            ],
            [
             0.3333333333333333,
             "#9c179e"
            ],
            [
             0.4444444444444444,
             "#bd3786"
            ],
            [
             0.5555555555555556,
             "#d8576b"
            ],
            [
             0.6666666666666666,
             "#ed7953"
            ],
            [
             0.7777777777777778,
             "#fb9f3a"
            ],
            [
             0.8888888888888888,
             "#fdca26"
            ],
            [
             1,
             "#f0f921"
            ]
           ],
           "sequentialminus": [
            [
             0,
             "#0d0887"
            ],
            [
             0.1111111111111111,
             "#46039f"
            ],
            [
             0.2222222222222222,
             "#7201a8"
            ],
            [
             0.3333333333333333,
             "#9c179e"
            ],
            [
             0.4444444444444444,
             "#bd3786"
            ],
            [
             0.5555555555555556,
             "#d8576b"
            ],
            [
             0.6666666666666666,
             "#ed7953"
            ],
            [
             0.7777777777777778,
             "#fb9f3a"
            ],
            [
             0.8888888888888888,
             "#fdca26"
            ],
            [
             1,
             "#f0f921"
            ]
           ]
          },
          "colorway": [
           "#636efa",
           "#EF553B",
           "#00cc96",
           "#ab63fa",
           "#FFA15A",
           "#19d3f3",
           "#FF6692",
           "#B6E880",
           "#FF97FF",
           "#FECB52"
          ],
          "font": {
           "color": "#2a3f5f"
          },
          "geo": {
           "bgcolor": "white",
           "lakecolor": "white",
           "landcolor": "white",
           "showlakes": true,
           "showland": true,
           "subunitcolor": "#C8D4E3"
          },
          "hoverlabel": {
           "align": "left"
          },
          "hovermode": "closest",
          "mapbox": {
           "style": "light"
          },
          "paper_bgcolor": "white",
          "plot_bgcolor": "white",
          "polar": {
           "angularaxis": {
            "gridcolor": "#EBF0F8",
            "linecolor": "#EBF0F8",
            "ticks": ""
           },
           "bgcolor": "white",
           "radialaxis": {
            "gridcolor": "#EBF0F8",
            "linecolor": "#EBF0F8",
            "ticks": ""
           }
          },
          "scene": {
           "xaxis": {
            "backgroundcolor": "white",
            "gridcolor": "#DFE8F3",
            "gridwidth": 2,
            "linecolor": "#EBF0F8",
            "showbackground": true,
            "ticks": "",
            "zerolinecolor": "#EBF0F8"
           },
           "yaxis": {
            "backgroundcolor": "white",
            "gridcolor": "#DFE8F3",
            "gridwidth": 2,
            "linecolor": "#EBF0F8",
            "showbackground": true,
            "ticks": "",
            "zerolinecolor": "#EBF0F8"
           },
           "zaxis": {
            "backgroundcolor": "white",
            "gridcolor": "#DFE8F3",
            "gridwidth": 2,
            "linecolor": "#EBF0F8",
            "showbackground": true,
            "ticks": "",
            "zerolinecolor": "#EBF0F8"
           }
          },
          "shapedefaults": {
           "line": {
            "color": "#2a3f5f"
           }
          },
          "ternary": {
           "aaxis": {
            "gridcolor": "#DFE8F3",
            "linecolor": "#A2B1C6",
            "ticks": ""
           },
           "baxis": {
            "gridcolor": "#DFE8F3",
            "linecolor": "#A2B1C6",
            "ticks": ""
           },
           "bgcolor": "white",
           "caxis": {
            "gridcolor": "#DFE8F3",
            "linecolor": "#A2B1C6",
            "ticks": ""
           }
          },
          "title": {
           "x": 0.05
          },
          "xaxis": {
           "automargin": true,
           "gridcolor": "#EBF0F8",
           "linecolor": "#EBF0F8",
           "ticks": "",
           "title": {
            "standoff": 15
           },
           "zerolinecolor": "#EBF0F8",
           "zerolinewidth": 2
          },
          "yaxis": {
           "automargin": true,
           "gridcolor": "#EBF0F8",
           "linecolor": "#EBF0F8",
           "ticks": "",
           "title": {
            "standoff": 15
           },
           "zerolinecolor": "#EBF0F8",
           "zerolinewidth": 2
          }
         }
        },
        "title": {
         "text": "Scatter Plot avec Barres d'Erreur"
        },
        "xaxis": {
         "title": {
          "text": "Axe X"
         }
        },
        "yaxis": {
         "title": {
          "text": "Axe Y"
         }
        }
       }
      }
     },
     "metadata": {},
     "output_type": "display_data"
    }
   ],
   "source": [
    "instance_names = [r[0] for r in results]\n",
    "best_values = [r[2] for r in results]\n",
    "theoritical_values = [r[3] for r in results]\n",
    "\n",
    "errors = [abs(best - theoritical) for best, theoritical in zip(best_values, theoritical_values)]\n",
    "\n",
    "fig = go.Figure()\n",
    "\n",
    "fig.add_trace(go.Scatter(\n",
    "    x=instance_names, y=theoritical_values,\n",
    "    mode='markers',  # Mode 'markers' pour afficher des points\n",
    "    name='Données',\n",
    "    error_y=dict(\n",
    "        type='data',  # Type d'erreur : 'data' pour des erreurs spécifiques\n",
    "        array=errors,  # Valeurs des erreurs\n",
    "        visible=True,  # Rendre les barres d'erreur visibles\n",
    "        color='red',  # Couleur des barres d'erreur\n",
    "        thickness=1.5,  # Épaisseur des barres d'erreur\n",
    "        width=5  # Largeur des barres d'erreur\n",
    "    ),\n",
    "    marker=dict(\n",
    "        color='blue',  # Couleur des points\n",
    "        size=10  # Taille des points\n",
    "    )\n",
    "))\n",
    "\n",
    "# Personnalisation du layout\n",
    "fig.update_layout(\n",
    "    title='Scatter Plot avec Barres d\\'Erreur',\n",
    "    xaxis_title='Axe X',\n",
    "    yaxis_title='Axe Y',\n",
    "    template='plotly_white'  # Thème du graphique\n",
    ")\n",
    "\n",
    "# Affichage du graphique\n",
    "fig.show()"
   ]
  }
 ],
 "metadata": {
  "kernelspec": {
   "display_name": ".venv",
   "language": "python",
   "name": "python3"
  },
  "language_info": {
   "codemirror_mode": {
    "name": "ipython",
    "version": 3
   },
   "file_extension": ".py",
   "mimetype": "text/x-python",
   "name": "python",
   "nbconvert_exporter": "python",
   "pygments_lexer": "ipython3",
   "version": "3.12.3"
  }
 },
 "nbformat": 4,
 "nbformat_minor": 2
}
