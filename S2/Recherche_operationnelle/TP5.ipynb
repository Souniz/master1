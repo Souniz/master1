{
 "cells": [
  {
   "cell_type": "code",
   "execution_count": 1,
   "metadata": {},
   "outputs": [],
   "source": [
    "import numpy as np\n",
    "import copy"
   ]
  },
  {
   "cell_type": "code",
   "execution_count": null,
   "metadata": {},
   "outputs": [],
   "source": [
    "w = [5, 4, 75, 74]"
   ]
  },
  {
   "cell_type": "code",
   "execution_count": null,
   "metadata": {},
   "outputs": [],
   "source": [
    "[]"
   ]
  },
  {
   "cell_type": "code",
   "execution_count": 67,
   "metadata": {},
   "outputs": [
    {
     "data": {
      "text/plain": [
       "[0]"
      ]
     },
     "execution_count": 67,
     "metadata": {},
     "output_type": "execute_result"
    }
   ],
   "source": [
    "class KPBB:\n",
    "    def __init__(self, cap, values, weights): # Initialisation des données\n",
    "        self.capacity = cap\n",
    "        self.values = values\n",
    "        self.weights = weights\n",
    "        self.solution=[]\n",
    "\n",
    "    def initial_solution(self):\n",
    "        capacit_cur=0\n",
    "        for i in range(len(self.values)):\n",
    "            if self.weights[i]+capacit_cur<=self.capacity:\n",
    "                self.solution.append(i)\n",
    "                capacit_cur+=self.weights[i]\n",
    "            return self.solution\n",
    "\n",
    "    def voisinage(self):\n",
    "        teta=np.range(len(self.values))\n",
    "\n",
    "        while teta in self.solution:\n",
    "            teta=np.random.randint(len(self.values))\n",
    "        \n",
    "\n",
    "        capacit_cur=sum(self.weights[self.solution])\n",
    "\n",
    "        while capacit_cur+self.weights[teta]>self.capacity:\n",
    "            self.solution.pop(np.random.randint(len(self.solution)))\n",
    "\n",
    "        self.solution.append(teta)\n",
    "\n",
    "    def evaluation(self):\n",
    "        return np.sum(np.array(self.values)[self.solution])\n",
    "    \n",
    "    def temperature(self):\n",
    "        pass\n",
    "    def solve(self):\n",
    "        init=self.initial_solution()\n",
    "        T0=10000\n",
    "\n",
    "        while T0<0:\n",
    "            pass\n",
    "\n",
    "values = [40, 50, 100, 95, 30]\n",
    "weights = [2, 3, 1, 5, 3]\n",
    "capacite = 10\n",
    "kpp = KPBB(capacite, values, weights)\n",
    "\n",
    "\n",
    "kpp.initial_solution()"
   ]
  }
 ],
 "metadata": {
  "kernelspec": {
   "display_name": ".venv",
   "language": "python",
   "name": "python3"
  },
  "language_info": {
   "codemirror_mode": {
    "name": "ipython",
    "version": 3
   },
   "file_extension": ".py",
   "mimetype": "text/x-python",
   "name": "python",
   "nbconvert_exporter": "python",
   "pygments_lexer": "ipython3",
   "version": "3.12.3"
  }
 },
 "nbformat": 4,
 "nbformat_minor": 2
}
