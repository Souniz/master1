{
 "cells": [
  {
   "cell_type": "code",
   "execution_count": 4,
   "metadata": {},
   "outputs": [],
   "source": [
    "import numpy as np\n",
    "import copy\n",
    "import random \n",
    "from pathlib import Path"
   ]
  },
  {
   "cell_type": "code",
   "execution_count": 6,
   "metadata": {},
   "outputs": [],
   "source": [
    "class KPBB:\n",
    "    def __init__(self, cap, values, weights): # Initialisation des données\n",
    "        self.capacity = cap\n",
    "        self.values = values\n",
    "        self.weights = weights\n",
    "        self.objects = [((v, w), i) for i, (v, w) in enumerate(zip(values, weights))]\n",
    "        self.best_solution=0\n",
    "        self.best_value=0\n",
    "       \n",
    "\n",
    "    def initial_solution(self):\n",
    "        solution = []\n",
    "        items = self.objects.copy()\n",
    "        c = self.capacity\n",
    "        while c > 0 and len(items) > 0:\n",
    "            myobject = items.pop(np.random.randint(0, len(items)-1))\n",
    "            if myobject[0][1] <= c:\n",
    "                solution.append(myobject[1])\n",
    "            c -= myobject[0][1]\n",
    "        return solution\n",
    "\n",
    "    def voisinage(self,solution):\n",
    "\n",
    "        objects_no_solution = [i for i in range(len(self.objects)) if i not in solution]\n",
    "        o = objects_no_solution.pop(random.randint(0, len(objects_no_solution)-1))\n",
    "        solution.append(o)\n",
    "        if len(solution) == 1:\n",
    "            return solution\n",
    "        while self.evalution_weight(solution) > self.capacity and len(solution) > 1:\n",
    "            solution.pop(random.randint(0, len(solution)-2))\n",
    "        return solution\n",
    "    def Metro_criterion(self, delta, t):\n",
    "          \n",
    "          return random.random() < np.exp(delta/t)\n",
    "\n",
    "    def evaluation_values(self, solution):\n",
    "            val = 0\n",
    "            for obj in solution:\n",
    "                val += self.objects[obj][0][0]\n",
    "            return val\n",
    "\n",
    "    def evalution_weight(self, solution):\n",
    "\n",
    "        weight = 0\n",
    "        for obj in solution:\n",
    "            weight += self.objects[obj][0][1]\n",
    "        return weight\n",
    "    \n",
    "    def temperature(self,t,k,step=10):\n",
    "        return t - (k%step == 0) * step\n",
    "\n",
    "    def solve(self, T0=300):\n",
    "        S0 = self.initial_solution()\n",
    "        t = T0\n",
    "        i = 0\n",
    "        last_best = 0\n",
    "        max_iter = 1000\n",
    "        self.best_solution  = S0\n",
    "        self.best_value = self.evaluation_values(self.best_solution)\n",
    "        while i < max_iter and t > 0:\n",
    "            S1 = self.voisinage(S0)\n",
    "            delta = self.evaluation_values(S1) - self.evaluation_values(S0)\n",
    "            if delta > 0:\n",
    "                S0 = S1\n",
    "            elif self.Metro_criterion(delta, t):\n",
    "                S0 = S1\n",
    "            if self.evaluation_values(S0) > self.best_value:\n",
    "                self.best_solution = S0.copy()\n",
    "                self.best_value = self.evaluation_values(self.best_solution)\n",
    "            \n",
    "            t = self.temperature(t, i)\n",
    "            i += 1\n",
    "\n",
    "capacite = 10\n",
    "values = [40, 50, 100, 95, 30]\n",
    "weights = [2, 3, 1, 5, 3]\n",
    "kpp = KPBB(capacite, values, weights)\n",
    "kpp.solve()\n"
   ]
  },
  {
   "cell_type": "code",
   "execution_count": 7,
   "metadata": {},
   "outputs": [
    {
     "data": {
      "text/plain": [
       "[1, 3, 2]"
      ]
     },
     "execution_count": 7,
     "metadata": {},
     "output_type": "execute_result"
    }
   ],
   "source": [
    "kpp.best_solution"
   ]
  },
  {
   "cell_type": "code",
   "execution_count": 8,
   "metadata": {},
   "outputs": [
    {
     "data": {
      "text/plain": [
       "245"
      ]
     },
     "execution_count": 8,
     "metadata": {},
     "output_type": "execute_result"
    }
   ],
   "source": [
    "kpp.best_value"
   ]
  },
  {
   "cell_type": "code",
   "execution_count": 9,
   "metadata": {},
   "outputs": [],
   "source": [
    "def execute_all(directory):\n",
    "    p=Path('./instances_01_KP/'+directory)\n",
    "    print('Fichier        Solution     Optimum')\n",
    "    nb=0\n",
    "    for f in p.iterdir():\n",
    "        \n",
    "        first_row=np.loadtxt(f.absolute(),max_rows=1)\n",
    "        fich=np.loadtxt(f.absolute(),max_rows=int(first_row[0])+1)\n",
    "        clf=KPBB(fich[0][1],fich[1:,0],fich[1:,1])\n",
    "        clf.solve()\n",
    "        print(f'{f.name}-> {clf.best_solution} -> {clf.best_value}')\n",
    "        nb+=1\n",
    "        if nb==7:\n",
    "            return"
   ]
  },
  {
   "cell_type": "code",
   "execution_count": 10,
   "metadata": {},
   "outputs": [
    {
     "name": "stdout",
     "output_type": "stream",
     "text": [
      "Fichier        Solution     Optimum\n",
      "f2_l-d_kp_20_878-> [2, 12, 6, 19, 14, 4, 15, 3, 1, 16, 9, 18, 10, 17, 11, 0, 8] -> 995.0\n",
      "f8_l-d_kp_23_10000-> [1, 6, 4, 5, 14, 8, 3, 0, 11, 16, 2] -> 9756.0\n",
      "f4_l-d_kp_4_11-> [1, 3] -> 23.0\n",
      "f10_l-d_kp_20_879-> [3, 1, 10, 8, 4, 5, 7, 16, 17, 15, 11, 13, 0, 12, 2, 6, 18] -> 998.0\n",
      "f5_l-d_kp_15_375-> [14, 2, 11, 9, 10, 6, 13, 4] -> 450.669881\n",
      "f3_l-d_kp_4_20-> [1, 0, 3] -> 35.0\n",
      "f1_l-d_kp_10_269-> [7, 9, 8, 2, 1, 3] -> 295.0\n"
     ]
    }
   ],
   "source": [
    "execute_all('low-dimensional')"
   ]
  },
  {
   "cell_type": "code",
   "execution_count": 11,
   "metadata": {},
   "outputs": [
    {
     "name": "stdout",
     "output_type": "stream",
     "text": [
      "Fichier        Solution     Optimum\n",
      "knapPI_3_100_1000_1-> [23, 43, 6, 74] -> 1381.0\n",
      "knapPI_3_2000_1000_1-> [1751, 1600, 1645, 928, 1628, 1302, 489, 1521, 1863, 474, 614, 873, 1753, 868, 417, 1729, 606, 1862, 1630, 797, 1458, 933, 1737] -> 12045.0\n",
      "knapPI_3_500_1000_1-> [183, 304, 437, 43, 271, 444, 74, 56] -> 3313.0\n",
      "knapPI_3_200_1000_1-> [120, 109, 171, 135] -> 1383.0\n",
      "knapPI_2_5000_1000_1-> [4130, 3267, 3233, 586, 2714, 2542, 3342, 2374, 77, 2918, 3081, 987, 4416, 2516, 3671, 3146, 1369, 1041, 41, 2493, 549, 3469, 2194, 770, 2819, 3997, 2466, 1066, 3072, 2857, 273, 1110, 2050, 1797, 4032, 4218, 2267, 2324, 4371, 3574, 2673, 4672, 1310, 2664, 4209, 3281, 3967, 3025, 1421, 3871, 1780, 3730, 585, 3448, 3407, 3165, 3167] -> 25417.0\n",
      "knapPI_1_500_1000_1-> [221, 245, 125, 117, 281, 177, 168, 271] -> 4732.0\n",
      "knapPI_3_10000_1000_1-> [985, 3966, 1745, 3715, 435, 5652, 4846, 2833, 9684, 1448, 2163, 5781, 3356, 5706, 2075, 1578, 5774, 2838, 9022, 4287, 4128, 6862, 7551, 1786, 4725, 2791, 5757, 2043, 4325, 455, 369, 1806, 9283, 6931, 9417, 9617, 4986, 3235, 75, 7646, 3529, 3514, 5577, 2059, 8237, 1160, 1947, 912, 589, 9725, 1847, 8761, 8676, 7767, 1892, 5194, 3775, 2549, 7839, 3211, 6708, 2724, 9680, 968, 1447, 1424, 4861, 1285, 9736, 2479, 767, 2981, 3895, 5582, 7927, 2928, 4164, 2702, 13, 5574, 4551, 1342, 5299, 8817, 1814, 285, 9229, 1333, 4478, 9649, 408, 6171, 5511, 8730, 6512, 6535, 1532, 5342, 721, 5130, 7623, 2931, 7537, 8771, 3222, 9363, 9728, 7942, 3308, 2322, 960] -> 60557.0\n"
     ]
    }
   ],
   "source": [
    "execute_all('large_scale')"
   ]
  }
 ],
 "metadata": {
  "kernelspec": {
   "display_name": ".venv",
   "language": "python",
   "name": "python3"
  },
  "language_info": {
   "codemirror_mode": {
    "name": "ipython",
    "version": 3
   },
   "file_extension": ".py",
   "mimetype": "text/x-python",
   "name": "python",
   "nbconvert_exporter": "python",
   "pygments_lexer": "ipython3",
   "version": "3.12.3"
  }
 },
 "nbformat": 4,
 "nbformat_minor": 2
}
