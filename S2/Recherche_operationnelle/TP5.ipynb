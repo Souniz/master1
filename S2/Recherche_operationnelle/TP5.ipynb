{
 "cells": [
  {
   "cell_type": "code",
   "execution_count": 3,
   "metadata": {},
   "outputs": [],
   "source": [
    "import numpy as np\n",
    "import copy\n",
    "import random \n",
    "from pathlib import Path"
   ]
  },
  {
   "cell_type": "code",
   "execution_count": 34,
   "metadata": {},
   "outputs": [
    {
     "data": {
      "text/plain": [
       "245"
      ]
     },
     "execution_count": 34,
     "metadata": {},
     "output_type": "execute_result"
    }
   ],
   "source": [
    "class RecurSimule:\n",
    "    def __init__(self, cap, values, weights): # Initialisation des données\n",
    "        self.capacity = cap\n",
    "        self.values = values\n",
    "        self.weights = weights\n",
    "        self.objects = [((v, w), i) for i, (v, w) in enumerate(zip(values, weights))]\n",
    "        self.best_solution=0\n",
    "        self.best_value=0\n",
    "       \n",
    "\n",
    "    def initial_solution(self):\n",
    "        solution = []\n",
    "        items = self.objects.copy()\n",
    "        c = self.capacity\n",
    "        while c > 0 and len(items) > 1:\n",
    "            myobject = items.pop(np.random.randint(0, len(items)-1))\n",
    "            if myobject[0][1] <= c:\n",
    "                solution.append(myobject[1])\n",
    "            c -= myobject[0][1]\n",
    "        return solution\n",
    "\n",
    "    def voisinage(self,solution):\n",
    "\n",
    "        objects_no_solution = [i for i in range(len(self.objects)) if i not in solution]\n",
    "        o = objects_no_solution.pop(random.randint(0, len(objects_no_solution)-1))\n",
    "        solution.append(o)\n",
    "        if len(solution) == 1:\n",
    "            return solution\n",
    "        while self.evalution_weight(solution) > self.capacity and len(solution) > 1:\n",
    "            solution.pop(random.randint(0, len(solution)-2))\n",
    "        return solution\n",
    "    def Metro_criterion(self, delta, t):\n",
    "          \n",
    "          return random.random() < np.exp(delta/t)\n",
    "\n",
    "    def evaluation_values(self, solution):\n",
    "            val = 0\n",
    "            for obj in solution:\n",
    "                val += self.objects[obj][0][0]\n",
    "            return val\n",
    "\n",
    "    def evalution_weight(self, solution):\n",
    "\n",
    "        weight = 0\n",
    "        for obj in solution:\n",
    "            weight += self.objects[obj][0][1]\n",
    "        return weight\n",
    "    \n",
    "    def temperature(self,t,k,step=10):\n",
    "        return t - (k%step == 0) * step\n",
    "\n",
    "    def solve(self, T0=300):\n",
    "        S0 = self.initial_solution()\n",
    "        t = T0\n",
    "        i = 0\n",
    "        last_best = 0\n",
    "        max_iter = 1000\n",
    "        self.best_solution  = S0\n",
    "        self.best_value = self.evaluation_values(self.best_solution)\n",
    "        while i < max_iter and t > 0:\n",
    "            S1 = self.voisinage(S0)\n",
    "            delta = self.evaluation_values(S1) - self.evaluation_values(S0)\n",
    "            if delta > 0:\n",
    "                S0 = S1\n",
    "            elif self.Metro_criterion(delta, t):\n",
    "                S0 = S1\n",
    "            if self.evaluation_values(S0) > self.best_value:\n",
    "                self.best_solution = S0.copy()\n",
    "                self.best_value = self.evaluation_values(self.best_solution)\n",
    "            \n",
    "            t = self.temperature(t, i)\n",
    "            i += 1\n",
    "        return sum(self.values[self.best_solution])\n",
    "    \n",
    "capacite = 10\n",
    "values = np.array([40, 50, 100, 95, 30])\n",
    "weights = np.array([2, 3, 1, 5, 3])\n",
    "kpp = RecurSimule(capacite, values, weights)\n",
    "kpp.solve()\n"
   ]
  },
  {
   "cell_type": "code",
   "execution_count": 35,
   "metadata": {},
   "outputs": [
    {
     "data": {
      "text/plain": [
       "[2, 3, 1]"
      ]
     },
     "execution_count": 35,
     "metadata": {},
     "output_type": "execute_result"
    }
   ],
   "source": [
    "kpp.best_solution"
   ]
  },
  {
   "cell_type": "code",
   "execution_count": 36,
   "metadata": {},
   "outputs": [
    {
     "data": {
      "text/plain": [
       "245"
      ]
     },
     "execution_count": 36,
     "metadata": {},
     "output_type": "execute_result"
    }
   ],
   "source": [
    "kpp.best_value"
   ]
  },
  {
   "cell_type": "code",
   "execution_count": 47,
   "metadata": {},
   "outputs": [],
   "source": [
    "def execute_all(directory):\n",
    "    p=Path('./instances_01_KP/'+directory)\n",
    "    print('Fichier           Optimum')\n",
    "    nb=0\n",
    "    for f in p.iterdir():\n",
    "        first_row=np.loadtxt(f.absolute(),max_rows=1)\n",
    "        fich=np.loadtxt(f.absolute(),max_rows=int(first_row[0])+1)\n",
    "        clf=RecurSimule(fich[0][1],fich[1:,0],fich[1:,1])\n",
    "        val=clf.solve()\n",
    "        print(f'{f.name} -> {val}')"
   ]
  },
  {
   "cell_type": "code",
   "execution_count": 69,
   "metadata": {},
   "outputs": [
    {
     "name": "stdout",
     "output_type": "stream",
     "text": [
      "Fichier           Optimum\n",
      "f2_l-d_kp_20_878 -> 1018.0\n",
      "f8_l-d_kp_23_10000 -> 9742.0\n",
      "f4_l-d_kp_4_11 -> 23.0\n",
      "f10_l-d_kp_20_879 -> 1014.0\n",
      "f5_l-d_kp_15_375 -> 448.20093299999996\n",
      "f3_l-d_kp_4_20 -> 35.0\n",
      "f1_l-d_kp_10_269 -> 294.0\n",
      "f6_l-d_kp_10_60 -> 52.0\n",
      "f7_l-d_kp_7_50 -> 107.0\n",
      "f9_l-d_kp_5_80 -> 69.0\n"
     ]
    }
   ],
   "source": [
    "execute_all('low-dimensional')"
   ]
  },
  {
   "cell_type": "code",
   "execution_count": 39,
   "metadata": {},
   "outputs": [
    {
     "name": "stdout",
     "output_type": "stream",
     "text": [
      "Fichier           Optimum\n",
      "knapPI_3_100_1000_1 -> 1342.0\n",
      "knapPI_3_2000_1000_1 -> 12173.0\n",
      "knapPI_3_500_1000_1 -> 3247.0\n",
      "knapPI_3_200_1000_1 -> 1443.0\n",
      "knapPI_2_5000_1000_1 -> 26479.0\n",
      "knapPI_1_500_1000_1 -> 4968.0\n",
      "knapPI_3_10000_1000_1 -> 60700.0\n",
      "knapPI_2_100_1000_1 -> 1145.0\n",
      "knapPI_2_500_1000_1 -> 2739.0\n",
      "knapPI_1_100_1000_1 -> 3422.0\n",
      "knapPI_3_1000_1000_1 -> 6172.0\n",
      "knapPI_1_1000_1000_1 -> 8511.0\n",
      "knapPI_2_10000_1000_1 -> 50520.0\n",
      "knapPI_2_2000_1000_1 -> 10798.0\n",
      "knapPI_2_1000_1000_1 -> 5431.0\n",
      "knapPI_1_10000_1000_1 -> 57671.0\n",
      "knapPI_1_2000_1000_1 -> 14585.0\n",
      "knapPI_2_200_1000_1 -> 1217.0\n",
      "knapPI_1_5000_1000_1 -> 32632.0\n",
      "knapPI_3_5000_1000_1 -> 30677.0\n",
      "knapPI_1_200_1000_1 -> 3255.0\n"
     ]
    }
   ],
   "source": [
    "execute_all('large_scale')"
   ]
  },
  {
   "cell_type": "code",
   "execution_count": 32,
   "metadata": {},
   "outputs": [
    {
     "data": {
      "text/plain": [
       "0"
      ]
     },
     "execution_count": 32,
     "metadata": {},
     "output_type": "execute_result"
    }
   ],
   "source": [
    "np.random.randint(0, 1)"
   ]
  }
 ],
 "metadata": {
  "kernelspec": {
   "display_name": ".venv",
   "language": "python",
   "name": "python3"
  },
  "language_info": {
   "codemirror_mode": {
    "name": "ipython",
    "version": 3
   },
   "file_extension": ".py",
   "mimetype": "text/x-python",
   "name": "python",
   "nbconvert_exporter": "python",
   "pygments_lexer": "ipython3",
   "version": "3.12.3"
  }
 },
 "nbformat": 4,
 "nbformat_minor": 2
}
