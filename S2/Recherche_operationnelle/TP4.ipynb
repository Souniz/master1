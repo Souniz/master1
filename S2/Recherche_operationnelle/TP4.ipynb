{
 "cells": [
  {
   "cell_type": "code",
   "execution_count": 1,
   "metadata": {},
   "outputs": [],
   "source": [
    "import numpy as np\n",
    "from pathlib import Path\n",
    "import sys"
   ]
  },
  {
   "cell_type": "code",
   "execution_count": 7,
   "metadata": {},
   "outputs": [],
   "source": [
    "class TreeNode:\n",
    "    def __init__(self, level, V, W, taken):\n",
    "        self.level = level # niveau dans l’arbre de recherche >=0\n",
    "        self.V = V # valeur de la solution courante\n",
    "        self.W = W # poids de la solution courante\n",
    "        self.taken = taken # liste des index d’objets de la solution courante\n",
    "    def __str__(self):\n",
    "        return str((self.level, self.V, self.W, self.taken))"
   ]
  },
  {
   "cell_type": "code",
   "execution_count": 8,
   "metadata": {},
   "outputs": [],
   "source": [
    "class TreeNode:\n",
    "    def __init__(self, level, V, W, taken):\n",
    "        self.level = level\n",
    "        self.V = V\n",
    "        self.W = W\n",
    "        self.taken = taken\n",
    "\n",
    "class KPBB:\n",
    "    def __init__(self, cap, valeurs, poids):\n",
    "        self.cap = cap\n",
    "        self.valeurs = valeurs\n",
    "        self.poids = poids\n",
    "        self.n = len(valeurs)\n",
    "        self.objets = sorted([(v, w, i) for i, (v, w) in enumerate(zip(valeurs, poids))], key=lambda x: x[0]/x[1], reverse=True)\n",
    "\n",
    "    def bound(self, node):\n",
    "        if node.W >= self.cap:\n",
    "            return 0\n",
    "        value_bound = node.V\n",
    "        j = node.level\n",
    "        totweight = node.W\n",
    "        while j < self.n and totweight + self.objets[j][1] <= self.cap:\n",
    "            totweight += self.objets[j][1]\n",
    "            value_bound += self.objets[j][0]\n",
    "            j += 1\n",
    "        if j < self.n:\n",
    "            value_bound += (self.cap - totweight) * self.objets[j][0] / self.objets[j][1]\n",
    "        return value_bound\n",
    "\n",
    "    def solve(self):\n",
    "        queue = []\n",
    "        root = TreeNode(0, 0, 0, [])\n",
    "        queue.append(root)\n",
    "        max_val = 0\n",
    "        while queue:\n",
    "            node = queue.pop()\n",
    "            if node.level == self.n:\n",
    "                continue\n",
    "            v, w, idx = self.objets[node.level]\n",
    "            # Include\n",
    "            new_W = node.W + w\n",
    "            if new_W <= self.cap:\n",
    "                new_V = node.V + v\n",
    "                if new_V > max_val:\n",
    "                    max_val = new_V\n",
    "                queue.append(TreeNode(node.level + 1, new_V, new_W, node.taken + [idx]))\n",
    "            # Exclude\n",
    "            if self.bound(TreeNode(node.level + 1, node.V, node.W, node.taken)) > max_val:\n",
    "                queue.append(TreeNode(node.level + 1, node.V, node.W, node.taken))\n",
    "        return max_val"
   ]
  },
  {
   "cell_type": "code",
   "execution_count": 10,
   "metadata": {},
   "outputs": [
    {
     "name": "stdout",
     "output_type": "stream",
     "text": [
      "Valeur optimale : 245\n"
     ]
    }
   ],
   "source": [
    "\n",
    "cap = 10 \n",
    "values = [40, 50, 100, 95, 30] \n",
    "poids = [2, 3, 1, 5, 3]\n",
    "kpbb = KPBB(cap, values, poids)\n",
    "V= kpbb.solve()\n",
    "print(\"Valeur optimale :\", V)\n",
    "# print(\"Poids optimal :\", W) \n",
    "# print(\"Objets pris :\", taken)\n",
    "# print(\"Valeurs des objets pris :\", [values[i] for i in taken])\n"
   ]
  },
  {
   "cell_type": "code",
   "execution_count": null,
   "metadata": {},
   "outputs": [],
   "source": [
    "def execute_all(directory):\n",
    "    p=Path('./instances_01_KP/'+directory)\n",
    "    print('Fichier            Optimum')\n",
    "    for f in p.iterdir():\n",
    "        first_row=np.loadtxt(f.absolute(),max_rows=1)\n",
    "        fich=np.loadtxt(f.absolute(),max_rows=int(first_row[0])+1)\n",
    "        clf=KPBB(fich[0][1],fich[1:,0],fich[1:,1])\n",
    "        V = clf.solve()\n",
    "        print(f'{f.name}->  {V}')"
   ]
  },
  {
   "cell_type": "code",
   "execution_count": null,
   "metadata": {},
   "outputs": [],
   "source": [
    "def execute_all2(directory,Algorithme):\n",
    "    p=Path('./instances_01_KP/'+directory)\n",
    "    print('Fichier            Optimum')\n",
    "    for f in p.iterdir():\n",
    "        first_row=np.loadtxt(f.absolute(),max_rows=1)\n",
    "        fich=np.loadtxt(f.absolute(),max_rows=int(first_row[0])+1)\n",
    "        clf=KPBB(fich[0][1],fich[1:,0],fich[1:,1])\n",
    "        V = clf.solve()\n",
    "        print(f'{f.name}->  {V}')"
   ]
  },
  {
   "cell_type": "code",
   "execution_count": 13,
   "metadata": {},
   "outputs": [
    {
     "name": "stdout",
     "output_type": "stream",
     "text": [
      "Fichier            Optimum\n",
      "f2_l-d_kp_20_878->  1024.0\n",
      "f8_l-d_kp_23_10000->  9767.0\n",
      "f4_l-d_kp_4_11->  23.0\n",
      "f10_l-d_kp_20_879->  1025.0\n",
      "f5_l-d_kp_15_375->  481.069368\n",
      "f3_l-d_kp_4_20->  35.0\n",
      "f1_l-d_kp_10_269->  295.0\n",
      "f6_l-d_kp_10_60->  52.0\n",
      "f7_l-d_kp_7_50->  107.0\n",
      "f9_l-d_kp_5_80->  130.0\n"
     ]
    }
   ],
   "source": [
    "execute_all('low-dimensional')"
   ]
  },
  {
   "cell_type": "code",
   "execution_count": 14,
   "metadata": {},
   "outputs": [
    {
     "name": "stdout",
     "output_type": "stream",
     "text": [
      "Fichier            Optimum\n",
      "knapPI_3_100_1000_1->  2397.0\n"
     ]
    },
    {
     "ename": "KeyboardInterrupt",
     "evalue": "",
     "output_type": "error",
     "traceback": [
      "\u001b[0;31m---------------------------------------------------------------------------\u001b[0m",
      "\u001b[0;31mKeyboardInterrupt\u001b[0m                         Traceback (most recent call last)",
      "Cell \u001b[0;32mIn[14], line 1\u001b[0m\n\u001b[0;32m----> 1\u001b[0m \u001b[43mexecute_all\u001b[49m\u001b[43m(\u001b[49m\u001b[38;5;124;43m'\u001b[39;49m\u001b[38;5;124;43mlarge_scale\u001b[39;49m\u001b[38;5;124;43m'\u001b[39;49m\u001b[43m)\u001b[49m\n",
      "Cell \u001b[0;32mIn[12], line 8\u001b[0m, in \u001b[0;36mexecute_all\u001b[0;34m(directory)\u001b[0m\n\u001b[1;32m      6\u001b[0m fich\u001b[38;5;241m=\u001b[39mnp\u001b[38;5;241m.\u001b[39mloadtxt(f\u001b[38;5;241m.\u001b[39mabsolute(),max_rows\u001b[38;5;241m=\u001b[39m\u001b[38;5;28mint\u001b[39m(first_row[\u001b[38;5;241m0\u001b[39m])\u001b[38;5;241m+\u001b[39m\u001b[38;5;241m1\u001b[39m)\n\u001b[1;32m      7\u001b[0m clf\u001b[38;5;241m=\u001b[39mKPBB(fich[\u001b[38;5;241m0\u001b[39m][\u001b[38;5;241m1\u001b[39m],fich[\u001b[38;5;241m1\u001b[39m:,\u001b[38;5;241m0\u001b[39m],fich[\u001b[38;5;241m1\u001b[39m:,\u001b[38;5;241m1\u001b[39m])\n\u001b[0;32m----> 8\u001b[0m V \u001b[38;5;241m=\u001b[39m \u001b[43mclf\u001b[49m\u001b[38;5;241;43m.\u001b[39;49m\u001b[43msolve\u001b[49m\u001b[43m(\u001b[49m\u001b[43m)\u001b[49m\n\u001b[1;32m      9\u001b[0m \u001b[38;5;28mprint\u001b[39m(\u001b[38;5;124mf\u001b[39m\u001b[38;5;124m'\u001b[39m\u001b[38;5;132;01m{\u001b[39;00mf\u001b[38;5;241m.\u001b[39mname\u001b[38;5;132;01m}\u001b[39;00m\u001b[38;5;124m->  \u001b[39m\u001b[38;5;132;01m{\u001b[39;00mV\u001b[38;5;132;01m}\u001b[39;00m\u001b[38;5;124m'\u001b[39m)\n",
      "Cell \u001b[0;32mIn[8], line 48\u001b[0m, in \u001b[0;36mKPBB.solve\u001b[0;34m(self)\u001b[0m\n\u001b[1;32m     46\u001b[0m         queue\u001b[38;5;241m.\u001b[39mappend(TreeNode(node\u001b[38;5;241m.\u001b[39mlevel \u001b[38;5;241m+\u001b[39m \u001b[38;5;241m1\u001b[39m, new_V, new_W, node\u001b[38;5;241m.\u001b[39mtaken \u001b[38;5;241m+\u001b[39m [idx]))\n\u001b[1;32m     47\u001b[0m     \u001b[38;5;66;03m# Exclude\u001b[39;00m\n\u001b[0;32m---> 48\u001b[0m     \u001b[38;5;28;01mif\u001b[39;00m \u001b[38;5;28mself\u001b[39m\u001b[38;5;241m.\u001b[39mbound(\u001b[43mTreeNode\u001b[49m\u001b[43m(\u001b[49m\u001b[43mnode\u001b[49m\u001b[38;5;241;43m.\u001b[39;49m\u001b[43mlevel\u001b[49m\u001b[43m \u001b[49m\u001b[38;5;241;43m+\u001b[39;49m\u001b[43m \u001b[49m\u001b[38;5;241;43m1\u001b[39;49m\u001b[43m,\u001b[49m\u001b[43m \u001b[49m\u001b[43mnode\u001b[49m\u001b[38;5;241;43m.\u001b[39;49m\u001b[43mV\u001b[49m\u001b[43m,\u001b[49m\u001b[43m \u001b[49m\u001b[43mnode\u001b[49m\u001b[38;5;241;43m.\u001b[39;49m\u001b[43mW\u001b[49m\u001b[43m,\u001b[49m\u001b[43m \u001b[49m\u001b[43mnode\u001b[49m\u001b[38;5;241;43m.\u001b[39;49m\u001b[43mtaken\u001b[49m\u001b[43m)\u001b[49m) \u001b[38;5;241m>\u001b[39m max_val:\n\u001b[1;32m     49\u001b[0m         queue\u001b[38;5;241m.\u001b[39mappend(TreeNode(node\u001b[38;5;241m.\u001b[39mlevel \u001b[38;5;241m+\u001b[39m \u001b[38;5;241m1\u001b[39m, node\u001b[38;5;241m.\u001b[39mV, node\u001b[38;5;241m.\u001b[39mW, node\u001b[38;5;241m.\u001b[39mtaken))\n\u001b[1;32m     50\u001b[0m \u001b[38;5;28;01mreturn\u001b[39;00m max_val\n",
      "\u001b[0;31mKeyboardInterrupt\u001b[0m: "
     ]
    }
   ],
   "source": [
    "execute_all('large_scale')"
   ]
  }
 ],
 "metadata": {
  "kernelspec": {
   "display_name": ".venv",
   "language": "python",
   "name": "python3"
  },
  "language_info": {
   "codemirror_mode": {
    "name": "ipython",
    "version": 3
   },
   "file_extension": ".py",
   "mimetype": "text/x-python",
   "name": "python",
   "nbconvert_exporter": "python",
   "pygments_lexer": "ipython3",
   "version": "3.12.3"
  }
 },
 "nbformat": 4,
 "nbformat_minor": 2
}
