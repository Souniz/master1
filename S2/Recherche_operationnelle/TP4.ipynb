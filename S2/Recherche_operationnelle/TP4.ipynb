{
 "cells": [
  {
   "cell_type": "code",
   "execution_count": 1,
   "metadata": {},
   "outputs": [],
   "source": [
    "import numpy as np\n",
    "from pathlib import Path\n",
    "import sys"
   ]
  },
  {
   "cell_type": "code",
   "execution_count": 13,
   "metadata": {},
   "outputs": [],
   "source": [
    "class TreeNode:\n",
    "    def __init__(self, level, V, W, taken):\n",
    "        self.level = level # niveau dans l’arbre de recherche >=0\n",
    "        self.V = V # valeur de la solution courante\n",
    "        self.W = W # poids de la solution courante\n",
    "        self.taken = taken # liste des index d’objets de la solution courante\n",
    "    def __str__(self):\n",
    "        return str((self.level, self.V, self.W, self.taken))"
   ]
  },
  {
   "cell_type": "code",
   "execution_count": 14,
   "metadata": {},
   "outputs": [],
   "source": [
    "class TreeNode:\n",
    "    \"\"\"Classe pour les noeuds de l'arbre de recherche. Chaque noeud est caractérisé par : \n",
    "    - son niveau dans l'arbre de recherche (>= 0)\n",
    "    - la valeur de la solution courante\n",
    "    - le poids de la solution courante\n",
    "    - la liste des index d'objets de la solution courante\n",
    "    \"\"\"\n",
    "\n",
    "    def __init__(self, level, V, W, taken):\n",
    "        self.level = level  # niveau dans l'arbre de recherche >= 0\n",
    "        self.V = V          # valeur de la solution courante\n",
    "        self.W = W          # poids de la solution courante\n",
    "        self.taken = taken  # liste des index d'objets de la solution courante\n",
    "\n",
    "    def __str__(self):\n",
    "        return str((self.level, self.V, self.W, self.taken)) # affichage d'un noeud\n",
    "    \n",
    "\n",
    "class KPBB:\n",
    "    \"\"\"Classe pour le problème du sac à dos avec l'algorithme de branch and bound.\n",
    "    - cap : capacité du sac à dos\n",
    "    - values : liste des valeurs des objets\n",
    "    - weights : liste des poids des objets \n",
    "    - unordered : liste des objets avec leur index\n",
    "    - ordered : liste des objets triés par rapport à leur ratio valeur/poids\n",
    "    \"\"\"\n",
    "    def __init__(self, cap, values, weights): # Initialisation des données\n",
    "        self.cap = cap\n",
    "        self.values = values\n",
    "        self.weights = weights\n",
    "        self.unordered = [((v,w), i) for i, (v,w) in enumerate(zip(self.values, self.weights))] # liste des objets avec leur index\n",
    "        self.ordered = sorted([((v,w),i) for i, (v,w) in enumerate(zip(self.values, self.weights))], key=lambda tup: tup[0][0]/tup[0][1], reverse=True) # liste des objets triés par rapport à leur ratio valeur/poids.\n",
    "\n",
    "\n",
    "    # calcul de la solution initiale\n",
    "    def initial_solution(self):\n",
    "        taken = []\n",
    "        V = 0\n",
    "        W = 0\n",
    "        for (v, w), i in self.ordered:\n",
    "            if W + w <= self.cap:\n",
    "                taken.append(i)\n",
    "                V += v\n",
    "                W += w\n",
    "        return V, W, taken\n",
    "\n",
    "\n",
    "    # fonction d'évaluation d'un noeud\n",
    "    def nodeEvaluation(self, index, node):\n",
    "        V, W = node.V, node.W\n",
    "        for i in range(index, len(self.ordered)):\n",
    "            (v, w), j = self.ordered[i]\n",
    "            if W + w <= self.cap:\n",
    "                V += v\n",
    "                W += w\n",
    "            else:\n",
    "                V += (self.cap - W) * v / w\n",
    "                break\n",
    "        return V\n",
    "\n",
    "\n",
    "    def solve(self):\n",
    "        best = TreeNode(-1, 0, 0, []) \n",
    "        racine = TreeNode(0, 0, 0, []) \n",
    "        queue = [racine] \n",
    "        \n",
    "        while queue: \n",
    "            node = queue.pop() \n",
    "            if node.level == len(self.ordered): \n",
    "                if node.V > best.V: \n",
    "                    best = node  \n",
    "            else:\n",
    "                i = node.level\n",
    "                (v, w), j = self.ordered[i]\n",
    "                if node.W + w <= self.cap:\n",
    "                    taken = node.taken + [j]\n",
    "                    V = node.V + v\n",
    "                    W = node.W + w\n",
    "                    enfant = TreeNode(i+1, V, W, taken)\n",
    "                    if enfant.V > best.V:\n",
    "                        queue.append(enfant)\n",
    "                if self.nodeEvaluation(i+1, node) > best.V:\n",
    "                    queue.append(TreeNode(i+1, node.V, node.W, node.taken))\n",
    "        return best.V, best.W, best.taken"
   ]
  },
  {
   "cell_type": "code",
   "execution_count": 15,
   "metadata": {},
   "outputs": [
    {
     "name": "stdout",
     "output_type": "stream",
     "text": [
      "Valeur optimale : 245\n",
      "Poids optimal : 9\n",
      "Objets pris : [2, 3, 1]\n",
      "Valeurs des objets pris : [100, 95, 50]\n"
     ]
    }
   ],
   "source": [
    "\n",
    "cap = 10 \n",
    "values = [40, 50, 100, 95, 30] \n",
    "poids = [2, 3, 1, 5, 3]\n",
    "kpbb = KPBB(cap, values, poids)\n",
    "V, W, taken = kpbb.solve()\n",
    "print(\"Valeur optimale :\", V)\n",
    "print(\"Poids optimal :\", W) \n",
    "print(\"Objets pris :\", taken)\n",
    "print(\"Valeurs des objets pris :\", [values[i] for i in taken])\n"
   ]
  },
  {
   "cell_type": "code",
   "execution_count": 28,
   "metadata": {},
   "outputs": [],
   "source": [
    "def execute_all(directory):\n",
    "    p=Path('./instances_01_KP/'+directory)\n",
    "    print('Fichier        Solution     Optimum')\n",
    "    for f in p.iterdir():\n",
    "        first_row=np.loadtxt(f.absolute(),max_rows=1)\n",
    "        fich=np.loadtxt(f.absolute(),max_rows=int(first_row[0])+1)\n",
    "        clf=KPBB(fich[0][1],fich[1:,0],fich[1:,1])\n",
    "        V, W, taken = clf.solve()\n",
    "        print(f'{f.name}-> {taken} -> {V}')"
   ]
  },
  {
   "cell_type": "code",
   "execution_count": null,
   "metadata": {},
   "outputs": [
    {
     "name": "stdout",
     "output_type": "stream",
     "text": [
      "Fichier        Solution     Optimum\n",
      "f2_l-d_kp_20_878-> [6, 0, 7, 13, 15] -> 186.0\n",
      "f8_l-d_kp_23_10000-> [19, 20, 22] -> 2777.0\n",
      "f4_l-d_kp_4_11-> [1, 3] -> 23.0\n",
      "f10_l-d_kp_20_879-> [7, 19, 6, 9, 16] -> 186.0\n",
      "f5_l-d_kp_15_375-> [4, 13, 3, 8, 1] -> 198.950163\n",
      "f3_l-d_kp_4_20-> [3, 2] -> 28.0\n",
      "f1_l-d_kp_10_269-> [8, 7, 0, 3] -> 206.0\n",
      "f6_l-d_kp_10_60-> [1, 0] -> 38.0\n",
      "f7_l-d_kp_7_50-> [0, 3] -> 107.0\n",
      "f9_l-d_kp_5_80-> [3, 2, 1, 4] -> 109.0\n"
     ]
    }
   ],
   "source": [
    "execute_all('low-dimensional')"
   ]
  },
  {
   "cell_type": "code",
   "execution_count": 30,
   "metadata": {},
   "outputs": [
    {
     "name": "stdout",
     "output_type": "stream",
     "text": [
      "Fichier        Solution     Optimum\n",
      "knapPI_3_100_1000_1-> [45, 71] -> 1197.0\n",
      "knapPI_3_2000_1000_1-> [1465, 1714] -> 2198.0\n",
      "knapPI_3_500_1000_1-> [61, 431] -> 2195.0\n",
      "knapPI_3_200_1000_1-> [159, 3] -> 1197.0\n"
     ]
    },
    {
     "ename": "KeyboardInterrupt",
     "evalue": "",
     "output_type": "error",
     "traceback": [
      "\u001b[0;31m---------------------------------------------------------------------------\u001b[0m",
      "\u001b[0;31mKeyboardInterrupt\u001b[0m                         Traceback (most recent call last)",
      "Cell \u001b[0;32mIn[30], line 1\u001b[0m\n\u001b[0;32m----> 1\u001b[0m \u001b[43mexecute_all\u001b[49m\u001b[43m(\u001b[49m\u001b[38;5;124;43m'\u001b[39;49m\u001b[38;5;124;43mlarge_scale\u001b[39;49m\u001b[38;5;124;43m'\u001b[39;49m\u001b[43m)\u001b[49m\n",
      "Cell \u001b[0;32mIn[28], line 8\u001b[0m, in \u001b[0;36mexecute_all\u001b[0;34m(directory)\u001b[0m\n\u001b[1;32m      6\u001b[0m fich\u001b[38;5;241m=\u001b[39mnp\u001b[38;5;241m.\u001b[39mloadtxt(f\u001b[38;5;241m.\u001b[39mabsolute(),max_rows\u001b[38;5;241m=\u001b[39m\u001b[38;5;28mint\u001b[39m(first_row[\u001b[38;5;241m0\u001b[39m])\u001b[38;5;241m+\u001b[39m\u001b[38;5;241m1\u001b[39m)\n\u001b[1;32m      7\u001b[0m clf\u001b[38;5;241m=\u001b[39mKPBB(fich[\u001b[38;5;241m0\u001b[39m][\u001b[38;5;241m1\u001b[39m],fich[\u001b[38;5;241m1\u001b[39m:,\u001b[38;5;241m0\u001b[39m],fich[\u001b[38;5;241m1\u001b[39m:,\u001b[38;5;241m1\u001b[39m])\n\u001b[0;32m----> 8\u001b[0m V, W, taken \u001b[38;5;241m=\u001b[39m \u001b[43mclf\u001b[49m\u001b[38;5;241;43m.\u001b[39;49m\u001b[43msolve\u001b[49m\u001b[43m(\u001b[49m\u001b[43m)\u001b[49m\n\u001b[1;32m      9\u001b[0m \u001b[38;5;28mprint\u001b[39m(\u001b[38;5;124mf\u001b[39m\u001b[38;5;124m'\u001b[39m\u001b[38;5;132;01m{\u001b[39;00mf\u001b[38;5;241m.\u001b[39mname\u001b[38;5;132;01m}\u001b[39;00m\u001b[38;5;124m-> \u001b[39m\u001b[38;5;132;01m{\u001b[39;00mtaken\u001b[38;5;132;01m}\u001b[39;00m\u001b[38;5;124m -> \u001b[39m\u001b[38;5;132;01m{\u001b[39;00mV\u001b[38;5;132;01m}\u001b[39;00m\u001b[38;5;124m'\u001b[39m)\n",
      "Cell \u001b[0;32mIn[14], line 82\u001b[0m, in \u001b[0;36mKPBB.solve\u001b[0;34m(self)\u001b[0m\n\u001b[1;32m     80\u001b[0m             \u001b[38;5;28;01mif\u001b[39;00m enfant\u001b[38;5;241m.\u001b[39mV \u001b[38;5;241m>\u001b[39m best\u001b[38;5;241m.\u001b[39mV:\n\u001b[1;32m     81\u001b[0m                 queue\u001b[38;5;241m.\u001b[39mappend(enfant)\n\u001b[0;32m---> 82\u001b[0m         \u001b[38;5;28;01mif\u001b[39;00m \u001b[38;5;28;43mself\u001b[39;49m\u001b[38;5;241;43m.\u001b[39;49m\u001b[43mnodeEvaluation\u001b[49m\u001b[43m(\u001b[49m\u001b[43mi\u001b[49m\u001b[38;5;241;43m+\u001b[39;49m\u001b[38;5;241;43m1\u001b[39;49m\u001b[43m,\u001b[49m\u001b[43m \u001b[49m\u001b[43mnode\u001b[49m\u001b[43m)\u001b[49m \u001b[38;5;241m>\u001b[39m best\u001b[38;5;241m.\u001b[39mV:\n\u001b[1;32m     83\u001b[0m             queue\u001b[38;5;241m.\u001b[39mappend(TreeNode(i\u001b[38;5;241m+\u001b[39m\u001b[38;5;241m1\u001b[39m, node\u001b[38;5;241m.\u001b[39mV, node\u001b[38;5;241m.\u001b[39mW, node\u001b[38;5;241m.\u001b[39mtaken))\n\u001b[1;32m     84\u001b[0m \u001b[38;5;28;01mreturn\u001b[39;00m best\u001b[38;5;241m.\u001b[39mV, best\u001b[38;5;241m.\u001b[39mW, best\u001b[38;5;241m.\u001b[39mtaken\n",
      "Cell \u001b[0;32mIn[14], line 55\u001b[0m, in \u001b[0;36mKPBB.nodeEvaluation\u001b[0;34m(self, index, node)\u001b[0m\n\u001b[1;32m     53\u001b[0m \u001b[38;5;28;01mif\u001b[39;00m W \u001b[38;5;241m+\u001b[39m w \u001b[38;5;241m<\u001b[39m\u001b[38;5;241m=\u001b[39m \u001b[38;5;28mself\u001b[39m\u001b[38;5;241m.\u001b[39mcap:\n\u001b[1;32m     54\u001b[0m     V \u001b[38;5;241m+\u001b[39m\u001b[38;5;241m=\u001b[39m v\n\u001b[0;32m---> 55\u001b[0m     W \u001b[38;5;241m+\u001b[39m\u001b[38;5;241m=\u001b[39m w\n\u001b[1;32m     56\u001b[0m \u001b[38;5;28;01melse\u001b[39;00m:\n\u001b[1;32m     57\u001b[0m     V \u001b[38;5;241m+\u001b[39m\u001b[38;5;241m=\u001b[39m (\u001b[38;5;28mself\u001b[39m\u001b[38;5;241m.\u001b[39mcap \u001b[38;5;241m-\u001b[39m W) \u001b[38;5;241m*\u001b[39m v \u001b[38;5;241m/\u001b[39m w\n",
      "\u001b[0;31mKeyboardInterrupt\u001b[0m: "
     ]
    }
   ],
   "source": [
    "execute_all('large_scale')"
   ]
  }
 ],
 "metadata": {
  "kernelspec": {
   "display_name": ".venv",
   "language": "python",
   "name": "python3"
  },
  "language_info": {
   "codemirror_mode": {
    "name": "ipython",
    "version": 3
   },
   "file_extension": ".py",
   "mimetype": "text/x-python",
   "name": "python",
   "nbconvert_exporter": "python",
   "pygments_lexer": "ipython3",
   "version": "3.12.3"
  }
 },
 "nbformat": 4,
 "nbformat_minor": 2
}
