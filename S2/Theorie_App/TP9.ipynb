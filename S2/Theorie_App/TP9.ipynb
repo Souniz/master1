{
 "cells": [
  {
   "cell_type": "code",
   "execution_count": 52,
   "metadata": {
    "vscode": {
     "languageId": "xpath"
    }
   },
   "outputs": [],
   "source": [
    "import matplotlib.pyplot as plt\n",
    "import numpy as np\n",
    "import pandas as pd\n",
    "from sklearn.metrics import mean_absolute_error\n",
    "from sklearn.svm import SVC\n",
    "from sklearn.model_selection import train_test_split\n",
    "from sklearn.preprocessing import StandardScaler\n",
    "from sklearn.linear_model import LogisticRegression\n",
    "from sklearn.datasets import make_moons\n",
    "from sklearn.inspection import DecisionBoundaryDisplay\n",
    "from sklearn.model_selection import GridSearchCV\n",
    "from sklearn.metrics import confusion_matrix, ConfusionMatrixDisplay\n",
    "from sklearn.metrics import accuracy_score, balanced_accuracy_score"
   ]
  },
  {
   "cell_type": "markdown",
   "metadata": {},
   "source": [
    "# 1. Chargez et préparez les données"
   ]
  },
  {
   "cell_type": "code",
   "execution_count": null,
   "metadata": {},
   "outputs": [],
   "source": [
    "df = pd.read_csv('students.csv', sep=';')\n",
    "y = df['Target']\n",
    "y = y.map({'Graduate': 0, 'Dropout': 1, 'Enrolled': 2})\n",
    "X = df.drop('Target', axis =1)\n",
    "X.head(5)"
   ]
  },
  {
   "cell_type": "code",
   "execution_count": 11,
   "metadata": {},
   "outputs": [
    {
     "name": "stdout",
     "output_type": "stream",
     "text": [
      "Ce dataset contient 4424 exemples et 36 caracteristiqes\n"
     ]
    }
   ],
   "source": [
    "print(f'Ce dataset contient {len(X)} exemples et {len(X.columns)} caracteristiqes')"
   ]
  },
  {
   "cell_type": "code",
   "execution_count": 19,
   "metadata": {},
   "outputs": [
    {
     "name": "stdout",
     "output_type": "stream",
     "text": [
      "La classe 0 contient 2209 exemples la classe 1 contient 1421 exemples et la classe 2 contient 794 exemples\n"
     ]
    }
   ],
   "source": [
    "print(f'La classe 0 contient {len(y[y==0])} exemples la classe 1 contient {len(y[y==1])} exemples et la classe 2 contient {len(y[y==2])} exemples')"
   ]
  },
  {
   "cell_type": "markdown",
   "metadata": {},
   "source": [
    "# 2. Séparez les données en un jeu d’entraînement et un jeu de test"
   ]
  },
  {
   "cell_type": "code",
   "execution_count": 20,
   "metadata": {},
   "outputs": [],
   "source": [
    "X_train , X_test , y_train , y_test = train_test_split(X, y, test_size =0.5,\n",
    "random_state =42)"
   ]
  },
  {
   "cell_type": "markdown",
   "metadata": {},
   "source": [
    "# 3. Standardisez les données"
   ]
  },
  {
   "cell_type": "code",
   "execution_count": 21,
   "metadata": {},
   "outputs": [],
   "source": [
    "std=StandardScaler()\n",
    "X_train=std.fit_transform(X_train)\n",
    "X_test=std.transform(X_test)"
   ]
  },
  {
   "cell_type": "markdown",
   "metadata": {},
   "source": [
    "# 4. Déterminez les hyperparamètres optimaux du SVM à noyaux RBF en utilisant la validation croisée à 3 folds"
   ]
  },
  {
   "cell_type": "code",
   "execution_count": 26,
   "metadata": {},
   "outputs": [
    {
     "name": "stdout",
     "output_type": "stream",
     "text": [
      "Meilleurs paramètres : {'C': 10, 'gamma': 0.01}\n",
      "Meilleure précision : 0.7707931149867807\n"
     ]
    }
   ],
   "source": [
    "param_grid = {\n",
    "    'C': [0.01, 0.1, 1, 10, 100,1000],  \n",
    "    'gamma': [0.01, 0.1, 1, 10, 100]\n",
    "}\n",
    "\n",
    "\n",
    "grid_search = GridSearchCV(SVC(kernel='rbf'),param_grid, cv=3 ,scoring='accuracy',n_jobs=-1)\n",
    "grid_search.fit(X_train, y_train)\n",
    "\n",
    "print(\"Meilleurs paramètres :\", grid_search.best_params_)\n",
    "print(\"Meilleure précision :\", grid_search.best_score_)"
   ]
  },
  {
   "cell_type": "markdown",
   "metadata": {},
   "source": [
    "# 5. Entrainez un SVM à noyaux RBF avec les hyperparamètres optimaux trouvés sur l’ensemble d’entraînement"
   ]
  },
  {
   "cell_type": "code",
   "execution_count": 31,
   "metadata": {},
   "outputs": [
    {
     "name": "stdout",
     "output_type": "stream",
     "text": [
      "Le score sur les données d entrainement est : 0.8679927667269439\n"
     ]
    }
   ],
   "source": [
    "clf=SVC(kernel='rbf',C=grid_search.best_params_['C'],gamma=grid_search.best_params_['gamma'])\n",
    "clf.fit(X_train,y_train)\n",
    "s=clf.score(X_train,y_train)\n",
    "print(f'Le score sur les données d entrainement est : {s}') "
   ]
  },
  {
   "cell_type": "markdown",
   "metadata": {},
   "source": [
    "# 6. Évaluez les performances du modèle sur l’ensemble de test"
   ]
  },
  {
   "cell_type": "code",
   "execution_count": 32,
   "metadata": {},
   "outputs": [
    {
     "name": "stdout",
     "output_type": "stream",
     "text": [
      "Le score sur les données de test est : 0.7509041591320073\n"
     ]
    }
   ],
   "source": [
    "s=clf.score(X_test,y_test)\n",
    "print(f'Le score sur les données de test est : {s}') "
   ]
  },
  {
   "cell_type": "markdown",
   "metadata": {},
   "source": [
    "# 7. Affichez la matrice de confusion"
   ]
  },
  {
   "cell_type": "code",
   "execution_count": 37,
   "metadata": {},
   "outputs": [
    {
     "data": {
      "image/png": "[encoded data removed]",
      "text/plain": [
       "<Figure size 640x480 with 2 Axes>"
      ]
     },
     "metadata": {},
     "output_type": "display_data"
    }
   ],
   "source": [
    "y_pred = clf.predict(X_test)\n",
    "conf = confusion_matrix(y_test , y_pred)\n",
    "disp = ConfusionMatrixDisplay(confusion_matrix=conf , display_labels=clf.classes_)\n",
    "disp.plot()\n",
    "plt.show()"
   ]
  },
  {
   "cell_type": "markdown",
   "metadata": {
    "jp-MarkdownHeadingCollapsed": true
   },
   "source": [
    "## ` Selon la documentation une matrice de confusion C est tel que Cij represente le nombre d'exemples de la classe i que le modéle a predit comme etant de la classe j `"
   ]
  },
  {
   "cell_type": "markdown",
   "metadata": {},
   "source": [
    "# 8. Les valeurs données par la fonction score de Scikit-learn peuvent être calculées à partir des valeurs de la matrice de confusion"
   ]
  },
  {
   "cell_type": "code",
   "execution_count": 45,
   "metadata": {},
   "outputs": [
    {
     "name": "stdout",
     "output_type": "stream",
     "text": [
      "score avec matrice de confusion est 0.7509041591320073 et c est la meme valeur que score a retourné\n"
     ]
    }
   ],
   "source": [
    "nb_bonne_predi=983+529+149\n",
    "score_matr=nb_bonne_predi/np.sum(conf)\n",
    "print(f'score avec matrice de confusion est {score_matr} et c est la meme valeur que score a retourné')"
   ]
  },
  {
   "cell_type": "markdown",
   "metadata": {},
   "source": [
    "# `` Pour notre probleme le calcul de notre score n'est pas pertinent car on voit qu'on a 0.75  alors qu'on peut voir que notre modéle fait  plus d'erreur de classification que de bonne classification sur les exemples de la classe 2. La cause de cette non pertinence est que nos classes n'ont pas les meme proportions.De ce fait pour avoir un score qui prend en compte les performance du modéle sur chaque classe de maniére pertinent on peut pondére le nombre de bonne classification de chaque classe avec sa proportion sur les données d'apprentissage.``"
   ]
  },
  {
   "cell_type": "markdown",
   "metadata": {},
   "source": [
    "# 9. Que pouvez-vous en conclure sur le comportement des méthodes de SVM à noyaux RBF ?"
   ]
  },
  {
   "cell_type": "markdown",
   "metadata": {},
   "source": [
    "# ``On peut conclure que la frontiére de decision du noyau rbf prend en compte la proportion des classes de ce fait elle favorise les classes avec une grande proportion et penalise les autres``"
   ]
  },
  {
   "cell_type": "code",
   "execution_count": 54,
   "metadata": {},
   "outputs": [
    {
     "data": {
      "text/plain": [
       "np.float64(0.6686274140321694)"
      ]
     },
     "execution_count": 54,
     "metadata": {},
     "output_type": "execute_result"
    }
   ],
   "source": [
    "balanced_accuracy_score(y_test, y_pred)"
   ]
  },
  {
   "cell_type": "markdown",
   "metadata": {},
   "source": [
    "# ``La valeur retournée par  balanced_accuracy_score est inferieur à celle retournée par la fonction score``"
   ]
  }
 ],
 "metadata": {
  "kernelspec": {
   "display_name": "Python 3 (ipykernel)",
   "language": "python",
   "name": "python3"
  },
  "language_info": {
   "codemirror_mode": {
    "name": "ipython",
    "version": 3
   },
   "file_extension": ".py",
   "mimetype": "text/x-python",
   "name": "python",
   "nbconvert_exporter": "python",
   "pygments_lexer": "ipython3",
   "version": "3.10.12"
  }
 },
 "nbformat": 4,
 "nbformat_minor": 4
}
