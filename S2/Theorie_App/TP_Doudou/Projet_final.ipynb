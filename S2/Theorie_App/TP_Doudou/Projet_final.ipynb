{
 "cells": [
  {
   "cell_type": "markdown",
   "metadata": {},
   "source": [
    "# Prenom : Doudou\n",
    "# Nom : Cissé Faye"
   ]
  },
  {
   "cell_type": "code",
   "execution_count": 97,
   "metadata": {},
   "outputs": [],
   "source": [
    "import numpy as np\n",
    "import pandas as pd\n",
    "import matplotlib.pyplot as plt\n",
    "import seaborn as sns\n",
    "from sklearn.linear_model import Ridge,RidgeCV,LinearRegression\n",
    "from sklearn.metrics import mean_absolute_error,mean_squared_error,r2_score\n",
    "from sklearn.preprocessing import StandardScaler\n",
    "from sklearn.model_selection import GridSearchCV\n",
    "from sklearn.model_selection import cross_val_score\n",
    "from sklearn import tree\n",
    "from sklearn.ensemble import AdaBoostRegressor,GradientBoostingRegressor\n",
    "from sklearn.model_selection import train_test_split\n",
    "import warnings\n",
    "warnings.filterwarnings('ignore')"
   ]
  },
  {
   "cell_type": "code",
   "execution_count": 5,
   "metadata": {},
   "outputs": [],
   "source": [
    "df1=pd.read_csv('claims_freq.csv')\n",
    "df2=pd.read_csv('claims_cost.csv')"
   ]
  },
  {
   "cell_type": "code",
   "execution_count": 6,
   "metadata": {},
   "outputs": [
    {
     "data": {
      "text/html": [
       "<div>\n",
       "<style scoped>\n",
       "    .dataframe tbody tr th:only-of-type {\n",
       "        vertical-align: middle;\n",
       "    }\n",
       "\n",
       "    .dataframe tbody tr th {\n",
       "        vertical-align: top;\n",
       "    }\n",
       "\n",
       "    .dataframe thead th {\n",
       "        text-align: right;\n",
       "    }\n",
       "</style>\n",
       "<table border=\"1\" class=\"dataframe\">\n",
       "  <thead>\n",
       "    <tr style=\"text-align: right;\">\n",
       "      <th></th>\n",
       "      <th>IDpol</th>\n",
       "      <th>ClaimNb</th>\n",
       "      <th>Exposure</th>\n",
       "      <th>Area</th>\n",
       "      <th>VehPower</th>\n",
       "      <th>VehAge</th>\n",
       "      <th>DrivAge</th>\n",
       "      <th>BonusMalus</th>\n",
       "      <th>VehBrand</th>\n",
       "      <th>VehGas</th>\n",
       "      <th>Density</th>\n",
       "      <th>Region</th>\n",
       "    </tr>\n",
       "  </thead>\n",
       "  <tbody>\n",
       "    <tr>\n",
       "      <th>0</th>\n",
       "      <td>1.0</td>\n",
       "      <td>1</td>\n",
       "      <td>0.10</td>\n",
       "      <td>'D'</td>\n",
       "      <td>5</td>\n",
       "      <td>0</td>\n",
       "      <td>55</td>\n",
       "      <td>50</td>\n",
       "      <td>'B12'</td>\n",
       "      <td>'Regular'</td>\n",
       "      <td>1217</td>\n",
       "      <td>'R82'</td>\n",
       "    </tr>\n",
       "    <tr>\n",
       "      <th>1</th>\n",
       "      <td>3.0</td>\n",
       "      <td>1</td>\n",
       "      <td>0.77</td>\n",
       "      <td>'D'</td>\n",
       "      <td>5</td>\n",
       "      <td>0</td>\n",
       "      <td>55</td>\n",
       "      <td>50</td>\n",
       "      <td>'B12'</td>\n",
       "      <td>'Regular'</td>\n",
       "      <td>1217</td>\n",
       "      <td>'R82'</td>\n",
       "    </tr>\n",
       "    <tr>\n",
       "      <th>2</th>\n",
       "      <td>5.0</td>\n",
       "      <td>1</td>\n",
       "      <td>0.75</td>\n",
       "      <td>'B'</td>\n",
       "      <td>6</td>\n",
       "      <td>2</td>\n",
       "      <td>52</td>\n",
       "      <td>50</td>\n",
       "      <td>'B12'</td>\n",
       "      <td>'Diesel'</td>\n",
       "      <td>54</td>\n",
       "      <td>'R22'</td>\n",
       "    </tr>\n",
       "    <tr>\n",
       "      <th>3</th>\n",
       "      <td>10.0</td>\n",
       "      <td>1</td>\n",
       "      <td>0.09</td>\n",
       "      <td>'B'</td>\n",
       "      <td>7</td>\n",
       "      <td>0</td>\n",
       "      <td>46</td>\n",
       "      <td>50</td>\n",
       "      <td>'B12'</td>\n",
       "      <td>'Diesel'</td>\n",
       "      <td>76</td>\n",
       "      <td>'R72'</td>\n",
       "    </tr>\n",
       "    <tr>\n",
       "      <th>4</th>\n",
       "      <td>11.0</td>\n",
       "      <td>1</td>\n",
       "      <td>0.84</td>\n",
       "      <td>'B'</td>\n",
       "      <td>7</td>\n",
       "      <td>0</td>\n",
       "      <td>46</td>\n",
       "      <td>50</td>\n",
       "      <td>'B12'</td>\n",
       "      <td>'Diesel'</td>\n",
       "      <td>76</td>\n",
       "      <td>'R72'</td>\n",
       "    </tr>\n",
       "  </tbody>\n",
       "</table>\n",
       "</div>"
      ],
      "text/plain": [
       "   IDpol  ClaimNb  Exposure Area  VehPower  VehAge  DrivAge  BonusMalus  \\\n",
       "0    1.0        1      0.10  'D'         5       0       55          50   \n",
       "1    3.0        1      0.77  'D'         5       0       55          50   \n",
       "2    5.0        1      0.75  'B'         6       2       52          50   \n",
       "3   10.0        1      0.09  'B'         7       0       46          50   \n",
       "4   11.0        1      0.84  'B'         7       0       46          50   \n",
       "\n",
       "  VehBrand     VehGas  Density Region  \n",
       "0    'B12'  'Regular'     1217  'R82'  \n",
       "1    'B12'  'Regular'     1217  'R82'  \n",
       "2    'B12'   'Diesel'       54  'R22'  \n",
       "3    'B12'   'Diesel'       76  'R72'  \n",
       "4    'B12'   'Diesel'       76  'R72'  "
      ]
     },
     "execution_count": 6,
     "metadata": {},
     "output_type": "execute_result"
    }
   ],
   "source": [
    "df1.head()"
   ]
  },
  {
   "cell_type": "code",
   "execution_count": 7,
   "metadata": {},
   "outputs": [
    {
     "data": {
      "text/html": [
       "<div>\n",
       "<style scoped>\n",
       "    .dataframe tbody tr th:only-of-type {\n",
       "        vertical-align: middle;\n",
       "    }\n",
       "\n",
       "    .dataframe tbody tr th {\n",
       "        vertical-align: top;\n",
       "    }\n",
       "\n",
       "    .dataframe thead th {\n",
       "        text-align: right;\n",
       "    }\n",
       "</style>\n",
       "<table border=\"1\" class=\"dataframe\">\n",
       "  <thead>\n",
       "    <tr style=\"text-align: right;\">\n",
       "      <th></th>\n",
       "      <th>IDpol</th>\n",
       "      <th>ClaimAmount</th>\n",
       "    </tr>\n",
       "  </thead>\n",
       "  <tbody>\n",
       "    <tr>\n",
       "      <th>0</th>\n",
       "      <td>1552</td>\n",
       "      <td>995.20</td>\n",
       "    </tr>\n",
       "    <tr>\n",
       "      <th>1</th>\n",
       "      <td>1010996</td>\n",
       "      <td>1128.12</td>\n",
       "    </tr>\n",
       "    <tr>\n",
       "      <th>2</th>\n",
       "      <td>4024277</td>\n",
       "      <td>1851.11</td>\n",
       "    </tr>\n",
       "    <tr>\n",
       "      <th>3</th>\n",
       "      <td>4007252</td>\n",
       "      <td>1204.00</td>\n",
       "    </tr>\n",
       "    <tr>\n",
       "      <th>4</th>\n",
       "      <td>4046424</td>\n",
       "      <td>1204.00</td>\n",
       "    </tr>\n",
       "  </tbody>\n",
       "</table>\n",
       "</div>"
      ],
      "text/plain": [
       "     IDpol  ClaimAmount\n",
       "0     1552       995.20\n",
       "1  1010996      1128.12\n",
       "2  4024277      1851.11\n",
       "3  4007252      1204.00\n",
       "4  4046424      1204.00"
      ]
     },
     "execution_count": 7,
     "metadata": {},
     "output_type": "execute_result"
    }
   ],
   "source": [
    "df2.head()"
   ]
  },
  {
   "cell_type": "markdown",
   "metadata": {},
   "source": [
    "<font size='+4' color='yellow' >Fusion des deux datasets <font/>"
   ]
  },
  {
   "cell_type": "markdown",
   "metadata": {},
   "source": [
    "# Partie 1 : Introduction et Préparation des Données"
   ]
  },
  {
   "cell_type": "code",
   "execution_count": 8,
   "metadata": {},
   "outputs": [
    {
     "name": "stdout",
     "output_type": "stream",
     "text": [
      "<class 'pandas.core.frame.DataFrame'>\n",
      "RangeIndex: 678013 entries, 0 to 678012\n",
      "Data columns (total 12 columns):\n",
      " #   Column      Non-Null Count   Dtype  \n",
      "---  ------      --------------   -----  \n",
      " 0   IDpol       678013 non-null  float64\n",
      " 1   ClaimNb     678013 non-null  int64  \n",
      " 2   Exposure    678013 non-null  float64\n",
      " 3   Area        678013 non-null  object \n",
      " 4   VehPower    678013 non-null  int64  \n",
      " 5   VehAge      678013 non-null  int64  \n",
      " 6   DrivAge     678013 non-null  int64  \n",
      " 7   BonusMalus  678013 non-null  int64  \n",
      " 8   VehBrand    678013 non-null  object \n",
      " 9   VehGas      678013 non-null  object \n",
      " 10  Density     678013 non-null  int64  \n",
      " 11  Region      678013 non-null  object \n",
      "dtypes: float64(2), int64(6), object(4)\n",
      "memory usage: 62.1+ MB\n"
     ]
    }
   ],
   "source": [
    "df1.info()"
   ]
  },
  {
   "cell_type": "code",
   "execution_count": 9,
   "metadata": {},
   "outputs": [
    {
     "data": {
      "text/html": [
       "<div>\n",
       "<style scoped>\n",
       "    .dataframe tbody tr th:only-of-type {\n",
       "        vertical-align: middle;\n",
       "    }\n",
       "\n",
       "    .dataframe tbody tr th {\n",
       "        vertical-align: top;\n",
       "    }\n",
       "\n",
       "    .dataframe thead th {\n",
       "        text-align: right;\n",
       "    }\n",
       "</style>\n",
       "<table border=\"1\" class=\"dataframe\">\n",
       "  <thead>\n",
       "    <tr style=\"text-align: right;\">\n",
       "      <th></th>\n",
       "      <th>Valeurs manquantes par feature</th>\n",
       "    </tr>\n",
       "  </thead>\n",
       "  <tbody>\n",
       "    <tr>\n",
       "      <th>IDpol</th>\n",
       "      <td>0</td>\n",
       "    </tr>\n",
       "    <tr>\n",
       "      <th>ClaimNb</th>\n",
       "      <td>0</td>\n",
       "    </tr>\n",
       "    <tr>\n",
       "      <th>Exposure</th>\n",
       "      <td>0</td>\n",
       "    </tr>\n",
       "    <tr>\n",
       "      <th>Area</th>\n",
       "      <td>0</td>\n",
       "    </tr>\n",
       "    <tr>\n",
       "      <th>VehPower</th>\n",
       "      <td>0</td>\n",
       "    </tr>\n",
       "    <tr>\n",
       "      <th>VehAge</th>\n",
       "      <td>0</td>\n",
       "    </tr>\n",
       "    <tr>\n",
       "      <th>DrivAge</th>\n",
       "      <td>0</td>\n",
       "    </tr>\n",
       "    <tr>\n",
       "      <th>BonusMalus</th>\n",
       "      <td>0</td>\n",
       "    </tr>\n",
       "    <tr>\n",
       "      <th>VehBrand</th>\n",
       "      <td>0</td>\n",
       "    </tr>\n",
       "    <tr>\n",
       "      <th>VehGas</th>\n",
       "      <td>0</td>\n",
       "    </tr>\n",
       "    <tr>\n",
       "      <th>Density</th>\n",
       "      <td>0</td>\n",
       "    </tr>\n",
       "    <tr>\n",
       "      <th>Region</th>\n",
       "      <td>0</td>\n",
       "    </tr>\n",
       "  </tbody>\n",
       "</table>\n",
       "</div>"
      ],
      "text/plain": [
       "            Valeurs manquantes par feature\n",
       "IDpol                                    0\n",
       "ClaimNb                                  0\n",
       "Exposure                                 0\n",
       "Area                                     0\n",
       "VehPower                                 0\n",
       "VehAge                                   0\n",
       "DrivAge                                  0\n",
       "BonusMalus                               0\n",
       "VehBrand                                 0\n",
       "VehGas                                   0\n",
       "Density                                  0\n",
       "Region                                   0"
      ]
     },
     "execution_count": 9,
     "metadata": {},
     "output_type": "execute_result"
    }
   ],
   "source": [
    "nbre_val_manquantes = pd.DataFrame(df1.isna().sum().sort_values())\n",
    "nbre_val_manquantes.columns = ['Valeurs manquantes par feature']\n",
    "nbre_val_manquantes"
   ]
  },
  {
   "cell_type": "code",
   "execution_count": 10,
   "metadata": {},
   "outputs": [
    {
     "data": {
      "text/html": [
       "<div>\n",
       "<style scoped>\n",
       "    .dataframe tbody tr th:only-of-type {\n",
       "        vertical-align: middle;\n",
       "    }\n",
       "\n",
       "    .dataframe tbody tr th {\n",
       "        vertical-align: top;\n",
       "    }\n",
       "\n",
       "    .dataframe thead th {\n",
       "        text-align: right;\n",
       "    }\n",
       "</style>\n",
       "<table border=\"1\" class=\"dataframe\">\n",
       "  <thead>\n",
       "    <tr style=\"text-align: right;\">\n",
       "      <th></th>\n",
       "      <th>Valeurs manquantes par feature</th>\n",
       "    </tr>\n",
       "  </thead>\n",
       "  <tbody>\n",
       "    <tr>\n",
       "      <th>IDpol</th>\n",
       "      <td>0</td>\n",
       "    </tr>\n",
       "    <tr>\n",
       "      <th>ClaimAmount</th>\n",
       "      <td>0</td>\n",
       "    </tr>\n",
       "  </tbody>\n",
       "</table>\n",
       "</div>"
      ],
      "text/plain": [
       "             Valeurs manquantes par feature\n",
       "IDpol                                     0\n",
       "ClaimAmount                               0"
      ]
     },
     "execution_count": 10,
     "metadata": {},
     "output_type": "execute_result"
    }
   ],
   "source": [
    "nbre_val_manquantes = pd.DataFrame(df2.isna().sum().sort_values())\n",
    "nbre_val_manquantes.columns = ['Valeurs manquantes par feature']\n",
    "nbre_val_manquantes"
   ]
  },
  {
   "cell_type": "markdown",
   "metadata": {},
   "source": [
    "<font size='+4' color='green' >Pas de valeur manquante dans les datasets <font/>"
   ]
  },
  {
   "cell_type": "code",
   "execution_count": 11,
   "metadata": {},
   "outputs": [
    {
     "data": {
      "text/plain": [
       "<Axes: ylabel='VehAge'>"
      ]
     },
     "execution_count": 11,
     "metadata": {},
     "output_type": "execute_result"
    },
    {
     "data": {
      "image/png": "[encoded data removed]",
      "text/plain": [
       "<Figure size 640x480 with 1 Axes>"
      ]
     },
     "metadata": {},
     "output_type": "display_data"
    }
   ],
   "source": [
    "sns.boxplot(df1['VehAge'])"
   ]
  },
  {
   "cell_type": "code",
   "execution_count": 12,
   "metadata": {},
   "outputs": [
    {
     "data": {
      "text/plain": [
       "<Axes: ylabel='DrivAge'>"
      ]
     },
     "execution_count": 12,
     "metadata": {},
     "output_type": "execute_result"
    },
    {
     "data": {
      "image/png": "[encoded data removed]",
      "text/plain": [
       "<Figure size 640x480 with 1 Axes>"
      ]
     },
     "metadata": {},
     "output_type": "display_data"
    }
   ],
   "source": [
    "sns.boxplot(df1['DrivAge'])"
   ]
  },
  {
   "cell_type": "markdown",
   "metadata": {},
   "source": [
    "<font size='+4' color='yellow' >Fusion des deux datasets <font/>"
   ]
  },
  {
   "cell_type": "code",
   "execution_count": 13,
   "metadata": {},
   "outputs": [],
   "source": [
    "df_merge=pd.merge(df1,df2,how='inner',on='IDpol')"
   ]
  },
  {
   "cell_type": "markdown",
   "metadata": {},
   "source": [
    "<font size='+4' color='yellow' >Distribution de l'age des vehicules <font/>"
   ]
  },
  {
   "cell_type": "code",
   "execution_count": 14,
   "metadata": {},
   "outputs": [
    {
     "data": {
      "text/plain": [
       "<Axes: xlabel='VehAge', ylabel='Density'>"
      ]
     },
     "execution_count": 14,
     "metadata": {},
     "output_type": "execute_result"
    },
    {
     "data": {
      "image/png": "[encoded data removed]",
      "text/plain": [
       "<Figure size 640x480 with 1 Axes>"
      ]
     },
     "metadata": {},
     "output_type": "display_data"
    }
   ],
   "source": [
    "sns.distplot(df1['VehAge'])"
   ]
  },
  {
   "cell_type": "markdown",
   "metadata": {},
   "source": [
    "<font size='+4' color='yellow' >Distribution de l'age des assurés <font/>"
   ]
  },
  {
   "cell_type": "code",
   "execution_count": 15,
   "metadata": {},
   "outputs": [
    {
     "data": {
      "text/plain": [
       "<Axes: xlabel='DrivAge', ylabel='Density'>"
      ]
     },
     "execution_count": 15,
     "metadata": {},
     "output_type": "execute_result"
    },
    {
     "data": {
      "image/png": "[encoded data removed]",
      "text/plain": [
       "<Figure size 640x480 with 1 Axes>"
      ]
     },
     "metadata": {},
     "output_type": "display_data"
    }
   ],
   "source": [
    "sns.distplot(df1['DrivAge'])"
   ]
  },
  {
   "cell_type": "markdown",
   "metadata": {},
   "source": [
    "<font size='+4' color='yellow' >Repartition des marques des véhicules <font/>"
   ]
  },
  {
   "cell_type": "code",
   "execution_count": 16,
   "metadata": {},
   "outputs": [
    {
     "data": {
      "image/png": "[encoded data removed]",
      "text/plain": [
       "<Figure size 800x500 with 1 Axes>"
      ]
     },
     "metadata": {},
     "output_type": "display_data"
    }
   ],
   "source": [
    "plt.figure(figsize=(8, 5))\n",
    "ax = sns.barplot(x=\"VehBrand\", y=\"ClaimNb\", data=df1,palette=\"pastel\")\n",
    "ax.set_xticklabels(ax.get_xticklabels(), rotation=45)\n",
    "sns.countplot(x=df1['VehBrand'],palette=\"pastel\")\n",
    "plt.show()"
   ]
  },
  {
   "cell_type": "markdown",
   "metadata": {},
   "source": [
    "<font size='+4' color='yellow' >Repartition des gaz <font/>"
   ]
  },
  {
   "cell_type": "code",
   "execution_count": 17,
   "metadata": {},
   "outputs": [
    {
     "data": {
      "text/plain": [
       "<Axes: xlabel='VehGas', ylabel='count'>"
      ]
     },
     "execution_count": 17,
     "metadata": {},
     "output_type": "execute_result"
    },
    {
     "data": {
      "image/png": "[encoded data removed]",
      "text/plain": [
       "<Figure size 640x480 with 1 Axes>"
      ]
     },
     "metadata": {},
     "output_type": "display_data"
    }
   ],
   "source": [
    "sns.countplot(x=df1['VehGas'],palette=\"pastel\")"
   ]
  },
  {
   "cell_type": "markdown",
   "metadata": {},
   "source": [
    "<font size='+4' color='yellow' >Nombre de senistre en fonction des marques <font/>"
   ]
  },
  {
   "cell_type": "code",
   "execution_count": 18,
   "metadata": {},
   "outputs": [
    {
     "data": {
      "image/png": "[encoded data removed]",
      "text/plain": [
       "<Figure size 800x500 with 1 Axes>"
      ]
     },
     "metadata": {},
     "output_type": "display_data"
    }
   ],
   "source": [
    "plt.figure(figsize=(8, 5))\n",
    "ax = sns.barplot(x=\"VehBrand\", y=\"ClaimNb\", data=df1,palette=\"pastel\")\n",
    "ax.set_xticklabels(ax.get_xticklabels(), rotation=45)\n",
    "plt.show()"
   ]
  },
  {
   "cell_type": "markdown",
   "metadata": {},
   "source": [
    "<font size='+4' color='yellow'>Nombre de senistre en fonction des régions <font/>"
   ]
  },
  {
   "cell_type": "code",
   "execution_count": 19,
   "metadata": {},
   "outputs": [
    {
     "data": {
      "image/png": "[encoded data removed]",
      "text/plain": [
       "<Figure size 640x480 with 1 Axes>"
      ]
     },
     "metadata": {},
     "output_type": "display_data"
    }
   ],
   "source": [
    "ax=sns.countplot(x=df1['Region'],palette=\"pastel\")\n",
    "ax.set_xticklabels(ax.get_xticklabels(), rotation=45)\n",
    "plt.show()"
   ]
  },
  {
   "cell_type": "markdown",
   "metadata": {},
   "source": [
    "<font size='+4' color='yellow' >Nombre de senistres en fonction de la puissance des vehicules <font/>"
   ]
  },
  {
   "cell_type": "code",
   "execution_count": 20,
   "metadata": {},
   "outputs": [
    {
     "data": {
      "image/png": "[encoded data removed]",
      "text/plain": [
       "<Figure size 800x500 with 1 Axes>"
      ]
     },
     "metadata": {},
     "output_type": "display_data"
    }
   ],
   "source": [
    "plt.figure(figsize=(8, 5))\n",
    "plt.scatter(x=df1[\"VehPower\"], y=df1[\"ClaimNb\"])\n",
    "plt.show()"
   ]
  },
  {
   "cell_type": "markdown",
   "metadata": {},
   "source": [
    "<font size='+4' color='yellow' >Nombre de senistre en fonction de la densité des regions <font/>"
   ]
  },
  {
   "cell_type": "code",
   "execution_count": 21,
   "metadata": {},
   "outputs": [
    {
     "data": {
      "image/png": "[encoded data removed]",
      "text/plain": [
       "<Figure size 800x500 with 1 Axes>"
      ]
     },
     "metadata": {},
     "output_type": "display_data"
    }
   ],
   "source": [
    "plt.figure(figsize=(8, 5))\n",
    "plt.scatter(x=df1[\"Density\"], y=df1[\"ClaimNb\"])\n",
    "plt.show()"
   ]
  },
  {
   "cell_type": "markdown",
   "metadata": {},
   "source": [
    "<font size='+4' color='yellow' >Distribution des montants payés en fonction de l'age des vehicules <font/>"
   ]
  },
  {
   "cell_type": "code",
   "execution_count": 22,
   "metadata": {},
   "outputs": [
    {
     "data": {
      "text/plain": [
       "<Axes: xlabel='VehAge', ylabel='ClaimAmount'>"
      ]
     },
     "execution_count": 22,
     "metadata": {},
     "output_type": "execute_result"
    },
    {
     "data": {
      "image/png": "[encoded data removed]",
      "text/plain": [
       "<Figure size 640x480 with 1 Axes>"
      ]
     },
     "metadata": {},
     "output_type": "display_data"
    }
   ],
   "source": [
    "sns.scatterplot(x=df_merge['VehAge'],y=df_merge['ClaimAmount'])"
   ]
  },
  {
   "cell_type": "markdown",
   "metadata": {},
   "source": [
    "<font size='+4' color='yellow' >Transformation des variables carégorielle en one-hote-enconding <font/>"
   ]
  },
  {
   "cell_type": "code",
   "execution_count": 23,
   "metadata": {},
   "outputs": [],
   "source": [
    "dataset=pd.get_dummies(df_merge,drop_first=True,dtype=int)"
   ]
  },
  {
   "cell_type": "code",
   "execution_count": 24,
   "metadata": {},
   "outputs": [
    {
     "data": {
      "text/html": [
       "<div>\n",
       "<style scoped>\n",
       "    .dataframe tbody tr th:only-of-type {\n",
       "        vertical-align: middle;\n",
       "    }\n",
       "\n",
       "    .dataframe tbody tr th {\n",
       "        vertical-align: top;\n",
       "    }\n",
       "\n",
       "    .dataframe thead th {\n",
       "        text-align: right;\n",
       "    }\n",
       "</style>\n",
       "<table border=\"1\" class=\"dataframe\">\n",
       "  <thead>\n",
       "    <tr style=\"text-align: right;\">\n",
       "      <th></th>\n",
       "      <th>ClaimNb</th>\n",
       "      <th>Exposure</th>\n",
       "      <th>VehPower</th>\n",
       "      <th>VehAge</th>\n",
       "      <th>DrivAge</th>\n",
       "      <th>BonusMalus</th>\n",
       "      <th>Density</th>\n",
       "      <th>ClaimAmount</th>\n",
       "      <th>Area_'B'</th>\n",
       "      <th>Area_'C'</th>\n",
       "      <th>...</th>\n",
       "      <th>Region_'R53'</th>\n",
       "      <th>Region_'R54'</th>\n",
       "      <th>Region_'R72'</th>\n",
       "      <th>Region_'R73'</th>\n",
       "      <th>Region_'R74'</th>\n",
       "      <th>Region_'R82'</th>\n",
       "      <th>Region_'R83'</th>\n",
       "      <th>Region_'R91'</th>\n",
       "      <th>Region_'R93'</th>\n",
       "      <th>Region_'R94'</th>\n",
       "    </tr>\n",
       "  </thead>\n",
       "  <tbody>\n",
       "    <tr>\n",
       "      <th>0</th>\n",
       "      <td>1</td>\n",
       "      <td>0.75</td>\n",
       "      <td>7</td>\n",
       "      <td>1</td>\n",
       "      <td>61</td>\n",
       "      <td>50</td>\n",
       "      <td>27000</td>\n",
       "      <td>303.00</td>\n",
       "      <td>0</td>\n",
       "      <td>0</td>\n",
       "      <td>...</td>\n",
       "      <td>0</td>\n",
       "      <td>0</td>\n",
       "      <td>0</td>\n",
       "      <td>0</td>\n",
       "      <td>0</td>\n",
       "      <td>0</td>\n",
       "      <td>0</td>\n",
       "      <td>0</td>\n",
       "      <td>0</td>\n",
       "      <td>0</td>\n",
       "    </tr>\n",
       "    <tr>\n",
       "      <th>1</th>\n",
       "      <td>1</td>\n",
       "      <td>0.14</td>\n",
       "      <td>12</td>\n",
       "      <td>5</td>\n",
       "      <td>50</td>\n",
       "      <td>60</td>\n",
       "      <td>56</td>\n",
       "      <td>1981.84</td>\n",
       "      <td>1</td>\n",
       "      <td>0</td>\n",
       "      <td>...</td>\n",
       "      <td>0</td>\n",
       "      <td>0</td>\n",
       "      <td>0</td>\n",
       "      <td>0</td>\n",
       "      <td>0</td>\n",
       "      <td>0</td>\n",
       "      <td>0</td>\n",
       "      <td>0</td>\n",
       "      <td>0</td>\n",
       "      <td>0</td>\n",
       "    </tr>\n",
       "    <tr>\n",
       "      <th>2</th>\n",
       "      <td>1</td>\n",
       "      <td>0.14</td>\n",
       "      <td>4</td>\n",
       "      <td>0</td>\n",
       "      <td>36</td>\n",
       "      <td>85</td>\n",
       "      <td>4792</td>\n",
       "      <td>1456.55</td>\n",
       "      <td>0</td>\n",
       "      <td>0</td>\n",
       "      <td>...</td>\n",
       "      <td>0</td>\n",
       "      <td>0</td>\n",
       "      <td>0</td>\n",
       "      <td>0</td>\n",
       "      <td>0</td>\n",
       "      <td>0</td>\n",
       "      <td>0</td>\n",
       "      <td>0</td>\n",
       "      <td>0</td>\n",
       "      <td>0</td>\n",
       "    </tr>\n",
       "    <tr>\n",
       "      <th>3</th>\n",
       "      <td>2</td>\n",
       "      <td>0.62</td>\n",
       "      <td>10</td>\n",
       "      <td>0</td>\n",
       "      <td>51</td>\n",
       "      <td>100</td>\n",
       "      <td>27000</td>\n",
       "      <td>989.64</td>\n",
       "      <td>0</td>\n",
       "      <td>0</td>\n",
       "      <td>...</td>\n",
       "      <td>0</td>\n",
       "      <td>0</td>\n",
       "      <td>0</td>\n",
       "      <td>0</td>\n",
       "      <td>0</td>\n",
       "      <td>0</td>\n",
       "      <td>0</td>\n",
       "      <td>0</td>\n",
       "      <td>0</td>\n",
       "      <td>0</td>\n",
       "    </tr>\n",
       "    <tr>\n",
       "      <th>4</th>\n",
       "      <td>2</td>\n",
       "      <td>0.62</td>\n",
       "      <td>10</td>\n",
       "      <td>0</td>\n",
       "      <td>51</td>\n",
       "      <td>100</td>\n",
       "      <td>27000</td>\n",
       "      <td>9844.36</td>\n",
       "      <td>0</td>\n",
       "      <td>0</td>\n",
       "      <td>...</td>\n",
       "      <td>0</td>\n",
       "      <td>0</td>\n",
       "      <td>0</td>\n",
       "      <td>0</td>\n",
       "      <td>0</td>\n",
       "      <td>0</td>\n",
       "      <td>0</td>\n",
       "      <td>0</td>\n",
       "      <td>0</td>\n",
       "      <td>0</td>\n",
       "    </tr>\n",
       "    <tr>\n",
       "      <th>...</th>\n",
       "      <td>...</td>\n",
       "      <td>...</td>\n",
       "      <td>...</td>\n",
       "      <td>...</td>\n",
       "      <td>...</td>\n",
       "      <td>...</td>\n",
       "      <td>...</td>\n",
       "      <td>...</td>\n",
       "      <td>...</td>\n",
       "      <td>...</td>\n",
       "      <td>...</td>\n",
       "      <td>...</td>\n",
       "      <td>...</td>\n",
       "      <td>...</td>\n",
       "      <td>...</td>\n",
       "      <td>...</td>\n",
       "      <td>...</td>\n",
       "      <td>...</td>\n",
       "      <td>...</td>\n",
       "      <td>...</td>\n",
       "      <td>...</td>\n",
       "    </tr>\n",
       "    <tr>\n",
       "      <th>26439</th>\n",
       "      <td>1</td>\n",
       "      <td>0.14</td>\n",
       "      <td>7</td>\n",
       "      <td>2</td>\n",
       "      <td>51</td>\n",
       "      <td>50</td>\n",
       "      <td>178</td>\n",
       "      <td>1769.88</td>\n",
       "      <td>0</td>\n",
       "      <td>1</td>\n",
       "      <td>...</td>\n",
       "      <td>0</td>\n",
       "      <td>0</td>\n",
       "      <td>1</td>\n",
       "      <td>0</td>\n",
       "      <td>0</td>\n",
       "      <td>0</td>\n",
       "      <td>0</td>\n",
       "      <td>0</td>\n",
       "      <td>0</td>\n",
       "      <td>0</td>\n",
       "    </tr>\n",
       "    <tr>\n",
       "      <th>26440</th>\n",
       "      <td>1</td>\n",
       "      <td>0.17</td>\n",
       "      <td>4</td>\n",
       "      <td>0</td>\n",
       "      <td>35</td>\n",
       "      <td>51</td>\n",
       "      <td>1719</td>\n",
       "      <td>1288.28</td>\n",
       "      <td>0</td>\n",
       "      <td>0</td>\n",
       "      <td>...</td>\n",
       "      <td>0</td>\n",
       "      <td>0</td>\n",
       "      <td>0</td>\n",
       "      <td>0</td>\n",
       "      <td>0</td>\n",
       "      <td>1</td>\n",
       "      <td>0</td>\n",
       "      <td>0</td>\n",
       "      <td>0</td>\n",
       "      <td>0</td>\n",
       "    </tr>\n",
       "    <tr>\n",
       "      <th>26441</th>\n",
       "      <td>2</td>\n",
       "      <td>0.17</td>\n",
       "      <td>15</td>\n",
       "      <td>3</td>\n",
       "      <td>36</td>\n",
       "      <td>50</td>\n",
       "      <td>181</td>\n",
       "      <td>10290.00</td>\n",
       "      <td>0</td>\n",
       "      <td>1</td>\n",
       "      <td>...</td>\n",
       "      <td>0</td>\n",
       "      <td>1</td>\n",
       "      <td>0</td>\n",
       "      <td>0</td>\n",
       "      <td>0</td>\n",
       "      <td>0</td>\n",
       "      <td>0</td>\n",
       "      <td>0</td>\n",
       "      <td>0</td>\n",
       "      <td>0</td>\n",
       "    </tr>\n",
       "    <tr>\n",
       "      <th>26442</th>\n",
       "      <td>2</td>\n",
       "      <td>0.17</td>\n",
       "      <td>15</td>\n",
       "      <td>3</td>\n",
       "      <td>36</td>\n",
       "      <td>50</td>\n",
       "      <td>181</td>\n",
       "      <td>1940.40</td>\n",
       "      <td>0</td>\n",
       "      <td>1</td>\n",
       "      <td>...</td>\n",
       "      <td>0</td>\n",
       "      <td>1</td>\n",
       "      <td>0</td>\n",
       "      <td>0</td>\n",
       "      <td>0</td>\n",
       "      <td>0</td>\n",
       "      <td>0</td>\n",
       "      <td>0</td>\n",
       "      <td>0</td>\n",
       "      <td>0</td>\n",
       "    </tr>\n",
       "    <tr>\n",
       "      <th>26443</th>\n",
       "      <td>1</td>\n",
       "      <td>0.13</td>\n",
       "      <td>7</td>\n",
       "      <td>10</td>\n",
       "      <td>39</td>\n",
       "      <td>50</td>\n",
       "      <td>820</td>\n",
       "      <td>1452.00</td>\n",
       "      <td>0</td>\n",
       "      <td>0</td>\n",
       "      <td>...</td>\n",
       "      <td>0</td>\n",
       "      <td>0</td>\n",
       "      <td>0</td>\n",
       "      <td>0</td>\n",
       "      <td>0</td>\n",
       "      <td>0</td>\n",
       "      <td>0</td>\n",
       "      <td>0</td>\n",
       "      <td>0</td>\n",
       "      <td>0</td>\n",
       "    </tr>\n",
       "  </tbody>\n",
       "</table>\n",
       "<p>26444 rows × 45 columns</p>\n",
       "</div>"
      ],
      "text/plain": [
       "       ClaimNb  Exposure  VehPower  VehAge  DrivAge  BonusMalus  Density  \\\n",
       "0            1      0.75         7       1       61          50    27000   \n",
       "1            1      0.14        12       5       50          60       56   \n",
       "2            1      0.14         4       0       36          85     4792   \n",
       "3            2      0.62        10       0       51         100    27000   \n",
       "4            2      0.62        10       0       51         100    27000   \n",
       "...        ...       ...       ...     ...      ...         ...      ...   \n",
       "26439        1      0.14         7       2       51          50      178   \n",
       "26440        1      0.17         4       0       35          51     1719   \n",
       "26441        2      0.17        15       3       36          50      181   \n",
       "26442        2      0.17        15       3       36          50      181   \n",
       "26443        1      0.13         7      10       39          50      820   \n",
       "\n",
       "       ClaimAmount  Area_'B'  Area_'C'  ...  Region_'R53'  Region_'R54'  \\\n",
       "0           303.00         0         0  ...             0             0   \n",
       "1          1981.84         1         0  ...             0             0   \n",
       "2          1456.55         0         0  ...             0             0   \n",
       "3           989.64         0         0  ...             0             0   \n",
       "4          9844.36         0         0  ...             0             0   \n",
       "...            ...       ...       ...  ...           ...           ...   \n",
       "26439      1769.88         0         1  ...             0             0   \n",
       "26440      1288.28         0         0  ...             0             0   \n",
       "26441     10290.00         0         1  ...             0             1   \n",
       "26442      1940.40         0         1  ...             0             1   \n",
       "26443      1452.00         0         0  ...             0             0   \n",
       "\n",
       "       Region_'R72'  Region_'R73'  Region_'R74'  Region_'R82'  Region_'R83'  \\\n",
       "0                 0             0             0             0             0   \n",
       "1                 0             0             0             0             0   \n",
       "2                 0             0             0             0             0   \n",
       "3                 0             0             0             0             0   \n",
       "4                 0             0             0             0             0   \n",
       "...             ...           ...           ...           ...           ...   \n",
       "26439             1             0             0             0             0   \n",
       "26440             0             0             0             1             0   \n",
       "26441             0             0             0             0             0   \n",
       "26442             0             0             0             0             0   \n",
       "26443             0             0             0             0             0   \n",
       "\n",
       "       Region_'R91'  Region_'R93'  Region_'R94'  \n",
       "0                 0             0             0  \n",
       "1                 0             0             0  \n",
       "2                 0             0             0  \n",
       "3                 0             0             0  \n",
       "4                 0             0             0  \n",
       "...             ...           ...           ...  \n",
       "26439             0             0             0  \n",
       "26440             0             0             0  \n",
       "26441             0             0             0  \n",
       "26442             0             0             0  \n",
       "26443             0             0             0  \n",
       "\n",
       "[26444 rows x 45 columns]"
      ]
     },
     "execution_count": 24,
     "metadata": {},
     "output_type": "execute_result"
    }
   ],
   "source": [
    "dataset=dataset.drop(columns='IDpol')\n",
    "dataset"
   ]
  },
  {
   "cell_type": "markdown",
   "metadata": {},
   "source": [
    "<font size='+4' color='blue' >Statistiques descriptives<font/>"
   ]
  },
  {
   "cell_type": "code",
   "execution_count": 25,
   "metadata": {},
   "outputs": [
    {
     "data": {
      "text/html": [
       "<div>\n",
       "<style scoped>\n",
       "    .dataframe tbody tr th:only-of-type {\n",
       "        vertical-align: middle;\n",
       "    }\n",
       "\n",
       "    .dataframe tbody tr th {\n",
       "        vertical-align: top;\n",
       "    }\n",
       "\n",
       "    .dataframe thead th {\n",
       "        text-align: right;\n",
       "    }\n",
       "</style>\n",
       "<table border=\"1\" class=\"dataframe\">\n",
       "  <thead>\n",
       "    <tr style=\"text-align: right;\">\n",
       "      <th></th>\n",
       "      <th>ClaimNb</th>\n",
       "      <th>Exposure</th>\n",
       "      <th>VehPower</th>\n",
       "      <th>VehAge</th>\n",
       "      <th>DrivAge</th>\n",
       "      <th>BonusMalus</th>\n",
       "      <th>Density</th>\n",
       "      <th>ClaimAmount</th>\n",
       "    </tr>\n",
       "  </thead>\n",
       "  <tbody>\n",
       "    <tr>\n",
       "      <th>count</th>\n",
       "      <td>26444.000000</td>\n",
       "      <td>26444.000000</td>\n",
       "      <td>26444.000000</td>\n",
       "      <td>26444.000000</td>\n",
       "      <td>26444.000000</td>\n",
       "      <td>26444.000000</td>\n",
       "      <td>26444.000000</td>\n",
       "      <td>2.644400e+04</td>\n",
       "    </tr>\n",
       "    <tr>\n",
       "      <th>mean</th>\n",
       "      <td>1.139427</td>\n",
       "      <td>0.691791</td>\n",
       "      <td>6.464415</td>\n",
       "      <td>7.355090</td>\n",
       "      <td>45.121502</td>\n",
       "      <td>65.231054</td>\n",
       "      <td>2015.302942</td>\n",
       "      <td>2.265513e+03</td>\n",
       "    </tr>\n",
       "    <tr>\n",
       "      <th>std</th>\n",
       "      <td>0.617563</td>\n",
       "      <td>0.313213</td>\n",
       "      <td>2.017260</td>\n",
       "      <td>5.165475</td>\n",
       "      <td>14.694677</td>\n",
       "      <td>20.143480</td>\n",
       "      <td>4162.639153</td>\n",
       "      <td>2.937103e+04</td>\n",
       "    </tr>\n",
       "    <tr>\n",
       "      <th>min</th>\n",
       "      <td>1.000000</td>\n",
       "      <td>0.002740</td>\n",
       "      <td>4.000000</td>\n",
       "      <td>0.000000</td>\n",
       "      <td>18.000000</td>\n",
       "      <td>50.000000</td>\n",
       "      <td>2.000000</td>\n",
       "      <td>1.000000e+00</td>\n",
       "    </tr>\n",
       "    <tr>\n",
       "      <th>25%</th>\n",
       "      <td>1.000000</td>\n",
       "      <td>0.450000</td>\n",
       "      <td>5.000000</td>\n",
       "      <td>3.000000</td>\n",
       "      <td>34.000000</td>\n",
       "      <td>50.000000</td>\n",
       "      <td>115.000000</td>\n",
       "      <td>6.859925e+02</td>\n",
       "    </tr>\n",
       "    <tr>\n",
       "      <th>50%</th>\n",
       "      <td>1.000000</td>\n",
       "      <td>0.760000</td>\n",
       "      <td>6.000000</td>\n",
       "      <td>7.000000</td>\n",
       "      <td>45.000000</td>\n",
       "      <td>55.000000</td>\n",
       "      <td>524.500000</td>\n",
       "      <td>1.172000e+03</td>\n",
       "    </tr>\n",
       "    <tr>\n",
       "      <th>75%</th>\n",
       "      <td>1.000000</td>\n",
       "      <td>1.000000</td>\n",
       "      <td>7.000000</td>\n",
       "      <td>11.000000</td>\n",
       "      <td>54.000000</td>\n",
       "      <td>76.000000</td>\n",
       "      <td>2252.000000</td>\n",
       "      <td>1.212385e+03</td>\n",
       "    </tr>\n",
       "    <tr>\n",
       "      <th>max</th>\n",
       "      <td>16.000000</td>\n",
       "      <td>2.000000</td>\n",
       "      <td>15.000000</td>\n",
       "      <td>99.000000</td>\n",
       "      <td>99.000000</td>\n",
       "      <td>228.000000</td>\n",
       "      <td>27000.000000</td>\n",
       "      <td>4.075401e+06</td>\n",
       "    </tr>\n",
       "  </tbody>\n",
       "</table>\n",
       "</div>"
      ],
      "text/plain": [
       "            ClaimNb      Exposure      VehPower        VehAge       DrivAge  \\\n",
       "count  26444.000000  26444.000000  26444.000000  26444.000000  26444.000000   \n",
       "mean       1.139427      0.691791      6.464415      7.355090     45.121502   \n",
       "std        0.617563      0.313213      2.017260      5.165475     14.694677   \n",
       "min        1.000000      0.002740      4.000000      0.000000     18.000000   \n",
       "25%        1.000000      0.450000      5.000000      3.000000     34.000000   \n",
       "50%        1.000000      0.760000      6.000000      7.000000     45.000000   \n",
       "75%        1.000000      1.000000      7.000000     11.000000     54.000000   \n",
       "max       16.000000      2.000000     15.000000     99.000000     99.000000   \n",
       "\n",
       "         BonusMalus       Density   ClaimAmount  \n",
       "count  26444.000000  26444.000000  2.644400e+04  \n",
       "mean      65.231054   2015.302942  2.265513e+03  \n",
       "std       20.143480   4162.639153  2.937103e+04  \n",
       "min       50.000000      2.000000  1.000000e+00  \n",
       "25%       50.000000    115.000000  6.859925e+02  \n",
       "50%       55.000000    524.500000  1.172000e+03  \n",
       "75%       76.000000   2252.000000  1.212385e+03  \n",
       "max      228.000000  27000.000000  4.075401e+06  "
      ]
     },
     "execution_count": 25,
     "metadata": {},
     "output_type": "execute_result"
    }
   ],
   "source": [
    "dataset[['ClaimNb','Exposure','VehPower','VehAge','DrivAge','BonusMalus','Density','ClaimAmount']].describe()"
   ]
  },
  {
   "cell_type": "code",
   "execution_count": 26,
   "metadata": {},
   "outputs": [
    {
     "data": {
      "text/plain": [
       "ClaimNb           1.00\n",
       "Exposure          0.76\n",
       "VehPower          6.00\n",
       "VehAge            7.00\n",
       "DrivAge          45.00\n",
       "BonusMalus       55.00\n",
       "Density         524.50\n",
       "ClaimAmount    1172.00\n",
       "dtype: float64"
      ]
     },
     "execution_count": 26,
     "metadata": {},
     "output_type": "execute_result"
    }
   ],
   "source": [
    "dataset[['ClaimNb','Exposure','VehPower','VehAge','DrivAge','BonusMalus','Density','ClaimAmount']].median()"
   ]
  },
  {
   "cell_type": "markdown",
   "metadata": {},
   "source": [
    "<font size='+4' color='orange' >Selection de modele <font/>"
   ]
  },
  {
   "cell_type": "code",
   "execution_count": 27,
   "metadata": {},
   "outputs": [],
   "source": [
    "label=dataset['ClaimAmount']\n",
    "feature=dataset.drop(columns='ClaimAmount')"
   ]
  },
  {
   "cell_type": "code",
   "execution_count": 28,
   "metadata": {},
   "outputs": [
    {
     "data": {
      "text/html": [
       "<div>\n",
       "<style scoped>\n",
       "    .dataframe tbody tr th:only-of-type {\n",
       "        vertical-align: middle;\n",
       "    }\n",
       "\n",
       "    .dataframe tbody tr th {\n",
       "        vertical-align: top;\n",
       "    }\n",
       "\n",
       "    .dataframe thead th {\n",
       "        text-align: right;\n",
       "    }\n",
       "</style>\n",
       "<table border=\"1\" class=\"dataframe\">\n",
       "  <thead>\n",
       "    <tr style=\"text-align: right;\">\n",
       "      <th></th>\n",
       "      <th>ClaimNb</th>\n",
       "      <th>Exposure</th>\n",
       "      <th>VehPower</th>\n",
       "      <th>VehAge</th>\n",
       "      <th>DrivAge</th>\n",
       "      <th>BonusMalus</th>\n",
       "      <th>Density</th>\n",
       "      <th>Area_'B'</th>\n",
       "      <th>Area_'C'</th>\n",
       "      <th>Area_'D'</th>\n",
       "      <th>...</th>\n",
       "      <th>Region_'R53'</th>\n",
       "      <th>Region_'R54'</th>\n",
       "      <th>Region_'R72'</th>\n",
       "      <th>Region_'R73'</th>\n",
       "      <th>Region_'R74'</th>\n",
       "      <th>Region_'R82'</th>\n",
       "      <th>Region_'R83'</th>\n",
       "      <th>Region_'R91'</th>\n",
       "      <th>Region_'R93'</th>\n",
       "      <th>Region_'R94'</th>\n",
       "    </tr>\n",
       "  </thead>\n",
       "  <tbody>\n",
       "    <tr>\n",
       "      <th>0</th>\n",
       "      <td>1</td>\n",
       "      <td>0.75</td>\n",
       "      <td>7</td>\n",
       "      <td>1</td>\n",
       "      <td>61</td>\n",
       "      <td>50</td>\n",
       "      <td>27000</td>\n",
       "      <td>0</td>\n",
       "      <td>0</td>\n",
       "      <td>0</td>\n",
       "      <td>...</td>\n",
       "      <td>0</td>\n",
       "      <td>0</td>\n",
       "      <td>0</td>\n",
       "      <td>0</td>\n",
       "      <td>0</td>\n",
       "      <td>0</td>\n",
       "      <td>0</td>\n",
       "      <td>0</td>\n",
       "      <td>0</td>\n",
       "      <td>0</td>\n",
       "    </tr>\n",
       "    <tr>\n",
       "      <th>1</th>\n",
       "      <td>1</td>\n",
       "      <td>0.14</td>\n",
       "      <td>12</td>\n",
       "      <td>5</td>\n",
       "      <td>50</td>\n",
       "      <td>60</td>\n",
       "      <td>56</td>\n",
       "      <td>1</td>\n",
       "      <td>0</td>\n",
       "      <td>0</td>\n",
       "      <td>...</td>\n",
       "      <td>0</td>\n",
       "      <td>0</td>\n",
       "      <td>0</td>\n",
       "      <td>0</td>\n",
       "      <td>0</td>\n",
       "      <td>0</td>\n",
       "      <td>0</td>\n",
       "      <td>0</td>\n",
       "      <td>0</td>\n",
       "      <td>0</td>\n",
       "    </tr>\n",
       "    <tr>\n",
       "      <th>2</th>\n",
       "      <td>1</td>\n",
       "      <td>0.14</td>\n",
       "      <td>4</td>\n",
       "      <td>0</td>\n",
       "      <td>36</td>\n",
       "      <td>85</td>\n",
       "      <td>4792</td>\n",
       "      <td>0</td>\n",
       "      <td>0</td>\n",
       "      <td>0</td>\n",
       "      <td>...</td>\n",
       "      <td>0</td>\n",
       "      <td>0</td>\n",
       "      <td>0</td>\n",
       "      <td>0</td>\n",
       "      <td>0</td>\n",
       "      <td>0</td>\n",
       "      <td>0</td>\n",
       "      <td>0</td>\n",
       "      <td>0</td>\n",
       "      <td>0</td>\n",
       "    </tr>\n",
       "    <tr>\n",
       "      <th>3</th>\n",
       "      <td>2</td>\n",
       "      <td>0.62</td>\n",
       "      <td>10</td>\n",
       "      <td>0</td>\n",
       "      <td>51</td>\n",
       "      <td>100</td>\n",
       "      <td>27000</td>\n",
       "      <td>0</td>\n",
       "      <td>0</td>\n",
       "      <td>0</td>\n",
       "      <td>...</td>\n",
       "      <td>0</td>\n",
       "      <td>0</td>\n",
       "      <td>0</td>\n",
       "      <td>0</td>\n",
       "      <td>0</td>\n",
       "      <td>0</td>\n",
       "      <td>0</td>\n",
       "      <td>0</td>\n",
       "      <td>0</td>\n",
       "      <td>0</td>\n",
       "    </tr>\n",
       "    <tr>\n",
       "      <th>4</th>\n",
       "      <td>2</td>\n",
       "      <td>0.62</td>\n",
       "      <td>10</td>\n",
       "      <td>0</td>\n",
       "      <td>51</td>\n",
       "      <td>100</td>\n",
       "      <td>27000</td>\n",
       "      <td>0</td>\n",
       "      <td>0</td>\n",
       "      <td>0</td>\n",
       "      <td>...</td>\n",
       "      <td>0</td>\n",
       "      <td>0</td>\n",
       "      <td>0</td>\n",
       "      <td>0</td>\n",
       "      <td>0</td>\n",
       "      <td>0</td>\n",
       "      <td>0</td>\n",
       "      <td>0</td>\n",
       "      <td>0</td>\n",
       "      <td>0</td>\n",
       "    </tr>\n",
       "    <tr>\n",
       "      <th>...</th>\n",
       "      <td>...</td>\n",
       "      <td>...</td>\n",
       "      <td>...</td>\n",
       "      <td>...</td>\n",
       "      <td>...</td>\n",
       "      <td>...</td>\n",
       "      <td>...</td>\n",
       "      <td>...</td>\n",
       "      <td>...</td>\n",
       "      <td>...</td>\n",
       "      <td>...</td>\n",
       "      <td>...</td>\n",
       "      <td>...</td>\n",
       "      <td>...</td>\n",
       "      <td>...</td>\n",
       "      <td>...</td>\n",
       "      <td>...</td>\n",
       "      <td>...</td>\n",
       "      <td>...</td>\n",
       "      <td>...</td>\n",
       "      <td>...</td>\n",
       "    </tr>\n",
       "    <tr>\n",
       "      <th>26439</th>\n",
       "      <td>1</td>\n",
       "      <td>0.14</td>\n",
       "      <td>7</td>\n",
       "      <td>2</td>\n",
       "      <td>51</td>\n",
       "      <td>50</td>\n",
       "      <td>178</td>\n",
       "      <td>0</td>\n",
       "      <td>1</td>\n",
       "      <td>0</td>\n",
       "      <td>...</td>\n",
       "      <td>0</td>\n",
       "      <td>0</td>\n",
       "      <td>1</td>\n",
       "      <td>0</td>\n",
       "      <td>0</td>\n",
       "      <td>0</td>\n",
       "      <td>0</td>\n",
       "      <td>0</td>\n",
       "      <td>0</td>\n",
       "      <td>0</td>\n",
       "    </tr>\n",
       "    <tr>\n",
       "      <th>26440</th>\n",
       "      <td>1</td>\n",
       "      <td>0.17</td>\n",
       "      <td>4</td>\n",
       "      <td>0</td>\n",
       "      <td>35</td>\n",
       "      <td>51</td>\n",
       "      <td>1719</td>\n",
       "      <td>0</td>\n",
       "      <td>0</td>\n",
       "      <td>1</td>\n",
       "      <td>...</td>\n",
       "      <td>0</td>\n",
       "      <td>0</td>\n",
       "      <td>0</td>\n",
       "      <td>0</td>\n",
       "      <td>0</td>\n",
       "      <td>1</td>\n",
       "      <td>0</td>\n",
       "      <td>0</td>\n",
       "      <td>0</td>\n",
       "      <td>0</td>\n",
       "    </tr>\n",
       "    <tr>\n",
       "      <th>26441</th>\n",
       "      <td>2</td>\n",
       "      <td>0.17</td>\n",
       "      <td>15</td>\n",
       "      <td>3</td>\n",
       "      <td>36</td>\n",
       "      <td>50</td>\n",
       "      <td>181</td>\n",
       "      <td>0</td>\n",
       "      <td>1</td>\n",
       "      <td>0</td>\n",
       "      <td>...</td>\n",
       "      <td>0</td>\n",
       "      <td>1</td>\n",
       "      <td>0</td>\n",
       "      <td>0</td>\n",
       "      <td>0</td>\n",
       "      <td>0</td>\n",
       "      <td>0</td>\n",
       "      <td>0</td>\n",
       "      <td>0</td>\n",
       "      <td>0</td>\n",
       "    </tr>\n",
       "    <tr>\n",
       "      <th>26442</th>\n",
       "      <td>2</td>\n",
       "      <td>0.17</td>\n",
       "      <td>15</td>\n",
       "      <td>3</td>\n",
       "      <td>36</td>\n",
       "      <td>50</td>\n",
       "      <td>181</td>\n",
       "      <td>0</td>\n",
       "      <td>1</td>\n",
       "      <td>0</td>\n",
       "      <td>...</td>\n",
       "      <td>0</td>\n",
       "      <td>1</td>\n",
       "      <td>0</td>\n",
       "      <td>0</td>\n",
       "      <td>0</td>\n",
       "      <td>0</td>\n",
       "      <td>0</td>\n",
       "      <td>0</td>\n",
       "      <td>0</td>\n",
       "      <td>0</td>\n",
       "    </tr>\n",
       "    <tr>\n",
       "      <th>26443</th>\n",
       "      <td>1</td>\n",
       "      <td>0.13</td>\n",
       "      <td>7</td>\n",
       "      <td>10</td>\n",
       "      <td>39</td>\n",
       "      <td>50</td>\n",
       "      <td>820</td>\n",
       "      <td>0</td>\n",
       "      <td>0</td>\n",
       "      <td>1</td>\n",
       "      <td>...</td>\n",
       "      <td>0</td>\n",
       "      <td>0</td>\n",
       "      <td>0</td>\n",
       "      <td>0</td>\n",
       "      <td>0</td>\n",
       "      <td>0</td>\n",
       "      <td>0</td>\n",
       "      <td>0</td>\n",
       "      <td>0</td>\n",
       "      <td>0</td>\n",
       "    </tr>\n",
       "  </tbody>\n",
       "</table>\n",
       "<p>26444 rows × 44 columns</p>\n",
       "</div>"
      ],
      "text/plain": [
       "       ClaimNb  Exposure  VehPower  VehAge  DrivAge  BonusMalus  Density  \\\n",
       "0            1      0.75         7       1       61          50    27000   \n",
       "1            1      0.14        12       5       50          60       56   \n",
       "2            1      0.14         4       0       36          85     4792   \n",
       "3            2      0.62        10       0       51         100    27000   \n",
       "4            2      0.62        10       0       51         100    27000   \n",
       "...        ...       ...       ...     ...      ...         ...      ...   \n",
       "26439        1      0.14         7       2       51          50      178   \n",
       "26440        1      0.17         4       0       35          51     1719   \n",
       "26441        2      0.17        15       3       36          50      181   \n",
       "26442        2      0.17        15       3       36          50      181   \n",
       "26443        1      0.13         7      10       39          50      820   \n",
       "\n",
       "       Area_'B'  Area_'C'  Area_'D'  ...  Region_'R53'  Region_'R54'  \\\n",
       "0             0         0         0  ...             0             0   \n",
       "1             1         0         0  ...             0             0   \n",
       "2             0         0         0  ...             0             0   \n",
       "3             0         0         0  ...             0             0   \n",
       "4             0         0         0  ...             0             0   \n",
       "...         ...       ...       ...  ...           ...           ...   \n",
       "26439         0         1         0  ...             0             0   \n",
       "26440         0         0         1  ...             0             0   \n",
       "26441         0         1         0  ...             0             1   \n",
       "26442         0         1         0  ...             0             1   \n",
       "26443         0         0         1  ...             0             0   \n",
       "\n",
       "       Region_'R72'  Region_'R73'  Region_'R74'  Region_'R82'  Region_'R83'  \\\n",
       "0                 0             0             0             0             0   \n",
       "1                 0             0             0             0             0   \n",
       "2                 0             0             0             0             0   \n",
       "3                 0             0             0             0             0   \n",
       "4                 0             0             0             0             0   \n",
       "...             ...           ...           ...           ...           ...   \n",
       "26439             1             0             0             0             0   \n",
       "26440             0             0             0             1             0   \n",
       "26441             0             0             0             0             0   \n",
       "26442             0             0             0             0             0   \n",
       "26443             0             0             0             0             0   \n",
       "\n",
       "       Region_'R91'  Region_'R93'  Region_'R94'  \n",
       "0                 0             0             0  \n",
       "1                 0             0             0  \n",
       "2                 0             0             0  \n",
       "3                 0             0             0  \n",
       "4                 0             0             0  \n",
       "...             ...           ...           ...  \n",
       "26439             0             0             0  \n",
       "26440             0             0             0  \n",
       "26441             0             0             0  \n",
       "26442             0             0             0  \n",
       "26443             0             0             0  \n",
       "\n",
       "[26444 rows x 44 columns]"
      ]
     },
     "execution_count": 28,
     "metadata": {},
     "output_type": "execute_result"
    }
   ],
   "source": [
    "feature"
   ]
  },
  {
   "cell_type": "markdown",
   "metadata": {},
   "source": [
    "## Separation train valid test"
   ]
  },
  {
   "cell_type": "code",
   "execution_count": 78,
   "metadata": {},
   "outputs": [],
   "source": [
    "X_train,X_test,Y_train,Y_test=train_test_split(feature,label,train_size=0.7,random_state=42)"
   ]
  },
  {
   "cell_type": "markdown",
   "metadata": {},
   "source": [
    "## Normalisation"
   ]
  },
  {
   "cell_type": "code",
   "execution_count": 79,
   "metadata": {},
   "outputs": [],
   "source": [
    "std=StandardScaler()\n",
    "X_train=std.fit_transform(X_train)\n",
    "X_test=std.transform(X_test)"
   ]
  },
  {
   "cell_type": "markdown",
   "metadata": {},
   "source": [
    "## Regression Lineaire"
   ]
  },
  {
   "cell_type": "code",
   "execution_count": 98,
   "metadata": {},
   "outputs": [
    {
     "data": {
      "text/plain": [
       "2531.5619028364918"
      ]
     },
     "execution_count": 98,
     "metadata": {},
     "output_type": "execute_result"
    }
   ],
   "source": [
    "clf=LinearRegression()\n",
    "clf.fit(X_train,Y_train)\n",
    "pred=clf.predict(X_test)\n",
    "err_lin=mean_absolute_error(pred,Y_test)\n",
    "err_lin"
   ]
  },
  {
   "cell_type": "code",
   "execution_count": 88,
   "metadata": {},
   "outputs": [],
   "source": [
    "lambdas = np.logspace(-3,6,100)"
   ]
  },
  {
   "cell_type": "code",
   "execution_count": 90,
   "metadata": {},
   "outputs": [
    {
     "name": "stdout",
     "output_type": "stream",
     "text": [
      "Best lambda is 28480.35868435805\n"
     ]
    }
   ],
   "source": [
    "ridge = RidgeCV(alphas=lambdas)\n",
    "ridge.fit(X_train, Y_train)\n",
    "best_alpha=ridge.alpha_\n",
    "print(f\"Best lambda is {best_alpha}\")"
   ]
  },
  {
   "cell_type": "code",
   "execution_count": 95,
   "metadata": {},
   "outputs": [],
   "source": [
    "ridge = Ridge(alpha=best_alpha)\n",
    "ridge.fit(X_train, Y_train)\n",
    "pred = ridge.predict (X_test)\n",
    "er_ridge=mean_absolute_error(pred,Y_test)"
   ]
  },
  {
   "cell_type": "markdown",
   "metadata": {},
   "source": [
    "# Arbre Decision"
   ]
  },
  {
   "cell_type": "code",
   "execution_count": 93,
   "metadata": {},
   "outputs": [
    {
     "data": {
      "text/plain": [
       "3644.512878444134"
      ]
     },
     "execution_count": 93,
     "metadata": {},
     "output_type": "execute_result"
    }
   ],
   "source": [
    "clf=tree.DecisionTreeRegressor()\n",
    "clf.fit(X_train,Y_train)\n",
    "predi=clf.predict(X_test)\n",
    "err_tree=mean_absolute_error(predi,Y_test)\n",
    "err_tree"
   ]
  },
  {
   "cell_type": "markdown",
   "metadata": {},
   "source": [
    "# Gradient Boosting"
   ]
  },
  {
   "cell_type": "code",
   "execution_count": 94,
   "metadata": {},
   "outputs": [
    {
     "data": {
      "text/plain": [
       "2715.152874801304"
      ]
     },
     "execution_count": 94,
     "metadata": {},
     "output_type": "execute_result"
    }
   ],
   "source": [
    "clf=GradientBoostingRegressor()\n",
    "clf.fit(X_train,Y_train)\n",
    "predi=clf.predict(X_test)\n",
    "err_grad=mean_absolute_error(predi,Y_test)\n",
    "err_grad"
   ]
  },
  {
   "cell_type": "code",
   "execution_count": 100,
   "metadata": {},
   "outputs": [
    {
     "data": {
      "text/plain": [
       "Text(0, 0.5, 'Mean absolute Error')"
      ]
     },
     "execution_count": 100,
     "metadata": {},
     "output_type": "execute_result"
    },
    {
     "data": {
      "image/png": "[encoded data removed]",
      "text/plain": [
       "<Figure size 640x480 with 1 Axes>"
      ]
     },
     "metadata": {},
     "output_type": "display_data"
    }
   ],
   "source": [
    "model=['RegLine','Ridge','Arbre','GradBoost']\n",
    "errer=[err_lin,er_ridge,err_tree,err_grad]\n",
    "color=['blue','red','yellow','green']\n",
    "plt.bar(model,errer,color=color)\n",
    "plt.xlabel('Modele')\n",
    "plt.ylabel('Mean absolute Error')\n"
   ]
  }
 ],
 "metadata": {
  "kernelspec": {
   "display_name": ".venv",
   "language": "python",
   "name": "python3"
  },
  "language_info": {
   "codemirror_mode": {
    "name": "ipython",
    "version": 3
   },
   "file_extension": ".py",
   "mimetype": "text/x-python",
   "name": "python",
   "nbconvert_exporter": "python",
   "pygments_lexer": "ipython3",
   "version": "3.12.3"
  }
 },
 "nbformat": 4,
 "nbformat_minor": 2
}
