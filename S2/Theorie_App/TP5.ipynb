{
 "cells": [
  {
   "cell_type": "code",
   "execution_count": 227,
   "id": "97b72ce2-a9be-4db6-a21d-428b0a660900",
   "metadata": {},
   "outputs": [],
   "source": [
    "from sklearn.datasets import load_digits\n",
    "import numpy as np\n",
    "import matplotlib.pyplot as plt\n",
    "from sklearn.model_selection import train_test_split\n",
    "from sklearn.preprocessing import StandardScaler"
   ]
  },
  {
   "cell_type": "code",
   "execution_count": 2,
   "id": "2cbf69e6-2ffc-4b58-8ba4-55d501dd560f",
   "metadata": {},
   "outputs": [],
   "source": [
    "n_class = 10\n",
    "X, y = load_digits(n_class=n_class , return_X_y=True)"
   ]
  },
  {
   "cell_type": "code",
   "execution_count": 3,
   "id": "cfc7d443-8c43-44fc-b641-f544b82faf33",
   "metadata": {},
   "outputs": [
    {
     "data": {
      "text/plain": [
       "(1797, 64)"
      ]
     },
     "execution_count": 3,
     "metadata": {},
     "output_type": "execute_result"
    }
   ],
   "source": [
    "X.shape"
   ]
  },
  {
   "cell_type": "markdown",
   "id": "e069234c-b430-4ed7-aa81-749f29799798",
   "metadata": {},
   "source": [
    "## Ce dataset contient 1797 exemples et 64 caracteristiques. Il represente des images de chiffre de 0 à 9 la tache sous jaccente est une tache de classification d'images"
   ]
  },
  {
   "cell_type": "markdown",
   "id": "b605769d-dbb2-41e4-bffd-d014b5cd4397",
   "metadata": {},
   "source": [
    "# 2. Implémentez les fonctions permettant :"
   ]
  },
  {
   "cell_type": "code",
   "execution_count": 4,
   "id": "67c5daf7-a09f-4ce4-9ee4-570a01eaa756",
   "metadata": {},
   "outputs": [],
   "source": [
    "def onehot_encoding(y, n_class):\n",
    "    n = y.shape[0]\n",
    "    y_one = np.zeros((n, n_class))\n",
    "    for i in range(n):\n",
    "       y_one[i, y[i]] = 1\n",
    "    return y_one"
   ]
  },
  {
   "cell_type": "code",
   "execution_count": 38,
   "id": "20f1b542-8e8a-48e0-93ee-804e40843d1c",
   "metadata": {},
   "outputs": [],
   "source": [
    "def softmax(z):\n",
    "    z -= np.max(z,axis=1, keepdims=True) # computational trick for numerical stability\n",
    "    som=np.sum(np.exp(z))\n",
    "    sm=np.exp(z) / som\n",
    "    return sm"
   ]
  },
  {
   "cell_type": "code",
   "execution_count": 255,
   "id": "97163ebc-3451-426c-81ed-ff138317ef65",
   "metadata": {},
   "outputs": [],
   "source": [
    "def get_prob_pred(X, W):\n",
    "    z=X@W\n",
    "    probs=np.max(softmax(z),axis=1)\n",
    "    preds=np.argmax(softmax(z),axis=1)\n",
    "    return probs , preds"
   ]
  },
  {
   "cell_type": "markdown",
   "id": "6fa4232a",
   "metadata": {},
   "source": [
    "# 4. Implémentez maintenant une fonction qui calcule la fonction de coût et le gradient."
   ]
  },
  {
   "cell_type": "code",
   "execution_count": 163,
   "id": "27d4b792",
   "metadata": {},
   "outputs": [],
   "source": [
    "def fonct_cout(X,Y,W,lambdaa):\n",
    "    n=X.shape[0]\n",
    "    z=X@W\n",
    "    Y_pred=softmax(z)\n",
    "    return  -np.sum(Y * np.log(Y_pred)) / n + (lambdaa / 2) * np.sum(W**2)\n",
    "    "
   ]
  },
  {
   "cell_type": "code",
   "execution_count": 160,
   "id": "98ef2bd1",
   "metadata": {},
   "outputs": [],
   "source": [
    "def gradient(X,Y,W,lambdaa):\n",
    "    n=X.shape[0]\n",
    "    z=X@W\n",
    "    Y_pred=softmax(z)\n",
    "    return  (-1/n) * (X.T @ (Y - Y_pred)) + lambdaa * W"
   ]
  },
  {
   "cell_type": "code",
   "execution_count": 206,
   "id": "0b05ec56",
   "metadata": {},
   "outputs": [],
   "source": [
    "def step_backtrak(X,y,w,direction,step,beta,lamb):\n",
    "    c=1e-4\n",
    "    f_x=fonct_cout(X,y,w,lamb)\n",
    "    while(fonct_cout(X,y,w+step*direction,lamb)>f_x-c*step*np.sum(direction*direction)) :\n",
    "        step=step*beta\n",
    "    return step"
   ]
  },
  {
   "cell_type": "code",
   "execution_count": 240,
   "id": "7d5b6943",
   "metadata": {},
   "outputs": [],
   "source": [
    "def logreg_descent(X, y, learning_rate =1e-3,lamb=0.01, max_iter =1000,backtrak=True):\n",
    "        n, d = X.shape\n",
    "        X = np.concatenate ((X, np.ones((n, 1))), axis =1)\n",
    "        w0 = np.random.randn(d+1,n_class)\n",
    "        step = learning_rate\n",
    "        beta = 0.9 \n",
    "        cost=[]\n",
    "        iteration=0\n",
    "        Y=onehot_encoding(y,n_class)\n",
    "        if backtrak==True:\n",
    "           step=step_backtrak(X,Y,w0,-gradient(X, Y, w0,lamb),step,beta)\n",
    "        w=w0-step*gradient(X, Y, w0,lamb)\n",
    "        cost.append(fonct_cout(X, Y, w0,lamb))\n",
    "        while np.linalg.norm(gradient(X, Y, w,lamb)) > 1e-3 and iteration<max_iter:\n",
    "            if backtrak==True:\n",
    "                step=step_backtrak(X,Y,w,-gradient(X, Y, w,lamb),step,beta)\n",
    "            w=w-step*gradient(X, Y, w,lamb)\n",
    "            iteration+=1\n",
    "            cost.append(fonct_cout(X, Y, w,lamb))\n",
    "        \n",
    "        return cost,w[:-1,:]"
   ]
  },
  {
   "cell_type": "code",
   "execution_count": 228,
   "id": "19826fd2",
   "metadata": {},
   "outputs": [],
   "source": [
    "X_train,X_test,Y_train,Y_test=train_test_split(X,y,test_size=0.3,stratify=y)\n",
    "std=StandardScaler()\n",
    "X_train=std.fit_transform(X_train)\n",
    "X_test=std.transform(X_test)"
   ]
  },
  {
   "cell_type": "code",
   "execution_count": 270,
   "id": "5e447fa5",
   "metadata": {},
   "outputs": [],
   "source": [
    "cost,param=logreg_descent(X_train, Y_train, learning_rate =1e-3,lamb=0.5,max_iter =7000)"
   ]
  },
  {
   "cell_type": "code",
   "execution_count": 271,
   "id": "48a0e285",
   "metadata": {},
   "outputs": [
    {
     "data": {
      "image/png": "[encoded data removed]",
      "text/plain": [
       "<Figure size 640x480 with 1 Axes>"
      ]
     },
     "metadata": {},
     "output_type": "display_data"
    }
   ],
   "source": [
    "plt.plot(cost)\n",
    "plt.grid()"
   ]
  },
  {
   "cell_type": "code",
   "execution_count": 272,
   "id": "3bc8405f",
   "metadata": {},
   "outputs": [],
   "source": [
    "_,pred=get_prob_pred(X_test, param)"
   ]
  },
  {
   "cell_type": "code",
   "execution_count": 273,
   "id": "f74ca8cf",
   "metadata": {},
   "outputs": [],
   "source": [
    "taux=sum(np.array([1 if pred[i]==Y_test[i] else 0 for i in range(len(Y_test))]))/len(Y_test)"
   ]
  },
  {
   "cell_type": "code",
   "execution_count": 275,
   "id": "37a74c28",
   "metadata": {},
   "outputs": [
    {
     "data": {
      "text/plain": [
       "np.float64(0.8462962962962963)"
      ]
     },
     "execution_count": 275,
     "metadata": {},
     "output_type": "execute_result"
    }
   ],
   "source": [
    "taux"
   ]
  }
 ],
 "metadata": {
  "kernelspec": {
   "display_name": ".venv",
   "language": "python",
   "name": "python3"
  },
  "language_info": {
   "codemirror_mode": {
    "name": "ipython",
    "version": 3
   },
   "file_extension": ".py",
   "mimetype": "text/x-python",
   "name": "python",
   "nbconvert_exporter": "python",
   "pygments_lexer": "ipython3",
   "version": "3.12.3"
  }
 },
 "nbformat": 4,
 "nbformat_minor": 5
}
