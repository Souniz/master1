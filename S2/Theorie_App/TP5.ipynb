{
 "cells": [
  {
   "cell_type": "code",
   "execution_count": 18,
   "id": "97b72ce2-a9be-4db6-a21d-428b0a660900",
   "metadata": {},
   "outputs": [],
   "source": [
    "from sklearn.datasets import load_digits\n",
    "import numpy as np"
   ]
  },
  {
   "cell_type": "code",
   "execution_count": 2,
   "id": "2cbf69e6-2ffc-4b58-8ba4-55d501dd560f",
   "metadata": {},
   "outputs": [],
   "source": [
    "n_class = 10\n",
    "X, y = load_digits(n_class=n_class , return_X_y=True)"
   ]
  },
  {
   "cell_type": "code",
   "execution_count": 8,
   "id": "cfc7d443-8c43-44fc-b641-f544b82faf33",
   "metadata": {},
   "outputs": [
    {
     "data": {
      "text/plain": [
       "(1797, 64)"
      ]
     },
     "execution_count": 8,
     "metadata": {},
     "output_type": "execute_result"
    }
   ],
   "source": [
    "X.shape"
   ]
  },
  {
   "cell_type": "markdown",
   "id": "e069234c-b430-4ed7-aa81-749f29799798",
   "metadata": {},
   "source": [
    "## Ce dataset contient 1797 exemples et 64 caracteristiques. Il represente des images de chiffre de 0 à 9 la tache sous jaccente est une tache de classification d'images"
   ]
  },
  {
   "cell_type": "markdown",
   "id": "b605769d-dbb2-41e4-bffd-d014b5cd4397",
   "metadata": {},
   "source": [
    "# 2. Implémentez les fonctions permettant :"
   ]
  },
  {
   "cell_type": "code",
   "execution_count": 13,
   "id": "67c5daf7-a09f-4ce4-9ee4-570a01eaa756",
   "metadata": {},
   "outputs": [],
   "source": [
    "def onehot_encoding(y, n_class):\n",
    "    n = y.shape[0]\n",
    "    y_one = np.zeros((n, n_class))\n",
    "    for i in range(n):\n",
    "       y_one[i, y[i]] = 1\n",
    "    return y_one"
   ]
  },
  {
   "cell_type": "code",
   "execution_count": 22,
   "id": "20f1b542-8e8a-48e0-93ee-804e40843d1c",
   "metadata": {},
   "outputs": [],
   "source": [
    "def softmax(z):\n",
    "    z -= np.max(z) # computational trick for numerical stability\n",
    "    som=np.sum(np.exp(z))\n",
    "    sm=np.array([np.exp(i)/som for i in z])\n",
    "    return sm"
   ]
  },
  {
   "cell_type": "code",
   "execution_count": 23,
   "id": "97163ebc-3451-426c-81ed-ff138317ef65",
   "metadata": {},
   "outputs": [],
   "source": [
    "def get_prob_pred(X, W):\n",
    "    z=X.T@W\n",
    "    probs=np.max(softmax(z))\n",
    "    preds=np.argmax(softmax(z))\n",
    "    return probs , preds"
   ]
  },
  {
   "cell_type": "code",
   "execution_count": null,
   "id": "8301b982-3be5-410b-9209-ca8ed87fe548",
   "metadata": {},
   "outputs": [],
   "source": []
  }
 ],
 "metadata": {
  "kernelspec": {
   "display_name": "Python 3 (ipykernel)",
   "language": "python",
   "name": "python3"
  },
  "language_info": {
   "codemirror_mode": {
    "name": "ipython",
    "version": 3
   },
   "file_extension": ".py",
   "mimetype": "text/x-python",
   "name": "python",
   "nbconvert_exporter": "python",
   "pygments_lexer": "ipython3",
   "version": "3.10.12"
  }
 },
 "nbformat": 4,
 "nbformat_minor": 5
}
