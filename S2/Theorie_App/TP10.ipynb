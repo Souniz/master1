{
 "cells": [
  {
   "cell_type": "code",
   "execution_count": 289,
   "id": "e59f4918-8145-46ae-b0e7-93df5fe4d8b7",
   "metadata": {},
   "outputs": [],
   "source": [
    "import matplotlib.pyplot as plt\n",
    "import pandas as pd\n",
    "import numpy as np\n",
    "from sklearn.metrics import mean_absolute_error\n",
    "from sklearn.svm import SVC\n",
    "from sklearn.model_selection import train_test_split\n",
    "from sklearn.preprocessing import StandardScaler\n",
    "from sklearn.linear_model import LogisticRegression\n",
    "from sklearn.datasets import make_moons\n",
    "from sklearn.inspection import DecisionBoundaryDisplay\n",
    "from sklearn.tree import DecisionTreeClassifier\n",
    "from sklearn.model_selection import cross_val_score\n",
    "from sklearn.metrics import accuracy_score, balanced_accuracy_score\n",
    "import warnings\n",
    "warnings.filterwarnings('ignore')"
   ]
  },
  {
   "cell_type": "code",
   "execution_count": 277,
   "id": "7521ab9a-337c-4ea5-954f-4eabb5678f6a",
   "metadata": {},
   "outputs": [],
   "source": [
    "heart=pd.read_csv('heart.csv')\n",
    "segment=pd.read_csv('segment.csv')\n",
    "vehicle=pd.read_csv('vehicle.csv')"
   ]
  },
  {
   "cell_type": "code",
   "execution_count": 263,
   "id": "e0e76ebb-fce4-4e11-a312-cf7070cdfea6",
   "metadata": {},
   "outputs": [
    {
     "data": {
      "text/html": [
       "<div>\n",
       "<style scoped>\n",
       "    .dataframe tbody tr th:only-of-type {\n",
       "        vertical-align: middle;\n",
       "    }\n",
       "\n",
       "    .dataframe tbody tr th {\n",
       "        vertical-align: top;\n",
       "    }\n",
       "\n",
       "    .dataframe thead th {\n",
       "        text-align: right;\n",
       "    }\n",
       "</style>\n",
       "<table border=\"1\" class=\"dataframe\">\n",
       "  <thead>\n",
       "    <tr style=\"text-align: right;\">\n",
       "      <th></th>\n",
       "      <th>age</th>\n",
       "      <th>sex</th>\n",
       "      <th>chest</th>\n",
       "      <th>resting_blood_pressure</th>\n",
       "      <th>serum_cholestoral</th>\n",
       "      <th>fasting_blood_sugar</th>\n",
       "      <th>resting_electrocardiographic_results</th>\n",
       "      <th>maximum_heart_rate_achieved</th>\n",
       "      <th>exercise_induced_angina</th>\n",
       "      <th>oldpeak</th>\n",
       "      <th>slope</th>\n",
       "      <th>number_of_major_vessels</th>\n",
       "      <th>thal</th>\n",
       "      <th>class</th>\n",
       "    </tr>\n",
       "  </thead>\n",
       "  <tbody>\n",
       "    <tr>\n",
       "      <th>0</th>\n",
       "      <td>70</td>\n",
       "      <td>1</td>\n",
       "      <td>4</td>\n",
       "      <td>130</td>\n",
       "      <td>322</td>\n",
       "      <td>0</td>\n",
       "      <td>2</td>\n",
       "      <td>109</td>\n",
       "      <td>0</td>\n",
       "      <td>2.4</td>\n",
       "      <td>2</td>\n",
       "      <td>3</td>\n",
       "      <td>3</td>\n",
       "      <td>present</td>\n",
       "    </tr>\n",
       "    <tr>\n",
       "      <th>1</th>\n",
       "      <td>67</td>\n",
       "      <td>0</td>\n",
       "      <td>3</td>\n",
       "      <td>115</td>\n",
       "      <td>564</td>\n",
       "      <td>0</td>\n",
       "      <td>2</td>\n",
       "      <td>160</td>\n",
       "      <td>0</td>\n",
       "      <td>1.6</td>\n",
       "      <td>2</td>\n",
       "      <td>0</td>\n",
       "      <td>7</td>\n",
       "      <td>absent</td>\n",
       "    </tr>\n",
       "    <tr>\n",
       "      <th>2</th>\n",
       "      <td>57</td>\n",
       "      <td>1</td>\n",
       "      <td>2</td>\n",
       "      <td>124</td>\n",
       "      <td>261</td>\n",
       "      <td>0</td>\n",
       "      <td>0</td>\n",
       "      <td>141</td>\n",
       "      <td>0</td>\n",
       "      <td>0.3</td>\n",
       "      <td>1</td>\n",
       "      <td>0</td>\n",
       "      <td>7</td>\n",
       "      <td>present</td>\n",
       "    </tr>\n",
       "    <tr>\n",
       "      <th>3</th>\n",
       "      <td>64</td>\n",
       "      <td>1</td>\n",
       "      <td>4</td>\n",
       "      <td>128</td>\n",
       "      <td>263</td>\n",
       "      <td>0</td>\n",
       "      <td>0</td>\n",
       "      <td>105</td>\n",
       "      <td>1</td>\n",
       "      <td>0.2</td>\n",
       "      <td>2</td>\n",
       "      <td>1</td>\n",
       "      <td>7</td>\n",
       "      <td>absent</td>\n",
       "    </tr>\n",
       "    <tr>\n",
       "      <th>4</th>\n",
       "      <td>74</td>\n",
       "      <td>0</td>\n",
       "      <td>2</td>\n",
       "      <td>120</td>\n",
       "      <td>269</td>\n",
       "      <td>0</td>\n",
       "      <td>2</td>\n",
       "      <td>121</td>\n",
       "      <td>1</td>\n",
       "      <td>0.2</td>\n",
       "      <td>1</td>\n",
       "      <td>1</td>\n",
       "      <td>3</td>\n",
       "      <td>absent</td>\n",
       "    </tr>\n",
       "  </tbody>\n",
       "</table>\n",
       "</div>"
      ],
      "text/plain": [
       "   age  sex  chest  resting_blood_pressure  serum_cholestoral  \\\n",
       "0   70    1      4                     130                322   \n",
       "1   67    0      3                     115                564   \n",
       "2   57    1      2                     124                261   \n",
       "3   64    1      4                     128                263   \n",
       "4   74    0      2                     120                269   \n",
       "\n",
       "   fasting_blood_sugar  resting_electrocardiographic_results  \\\n",
       "0                    0                                     2   \n",
       "1                    0                                     2   \n",
       "2                    0                                     0   \n",
       "3                    0                                     0   \n",
       "4                    0                                     2   \n",
       "\n",
       "   maximum_heart_rate_achieved  exercise_induced_angina  oldpeak  slope  \\\n",
       "0                          109                        0      2.4      2   \n",
       "1                          160                        0      1.6      2   \n",
       "2                          141                        0      0.3      1   \n",
       "3                          105                        1      0.2      2   \n",
       "4                          121                        1      0.2      1   \n",
       "\n",
       "   number_of_major_vessels  thal    class  \n",
       "0                        3     3  present  \n",
       "1                        0     7   absent  \n",
       "2                        0     7  present  \n",
       "3                        1     7   absent  \n",
       "4                        1     3   absent  "
      ]
     },
     "execution_count": 263,
     "metadata": {},
     "output_type": "execute_result"
    }
   ],
   "source": [
    "heart.head(5)"
   ]
  },
  {
   "cell_type": "code",
   "execution_count": 264,
   "id": "04a707d8-8d49-479d-95b6-cfddced76aab",
   "metadata": {},
   "outputs": [
    {
     "data": {
      "text/html": [
       "<div>\n",
       "<style scoped>\n",
       "    .dataframe tbody tr th:only-of-type {\n",
       "        vertical-align: middle;\n",
       "    }\n",
       "\n",
       "    .dataframe tbody tr th {\n",
       "        vertical-align: top;\n",
       "    }\n",
       "\n",
       "    .dataframe thead th {\n",
       "        text-align: right;\n",
       "    }\n",
       "</style>\n",
       "<table border=\"1\" class=\"dataframe\">\n",
       "  <thead>\n",
       "    <tr style=\"text-align: right;\">\n",
       "      <th></th>\n",
       "      <th>region.centroid.col</th>\n",
       "      <th>region.centroid.row</th>\n",
       "      <th>region.pixel.count</th>\n",
       "      <th>short.line.density.5</th>\n",
       "      <th>short.line.density.2</th>\n",
       "      <th>vedge.mean</th>\n",
       "      <th>vegde.sd</th>\n",
       "      <th>hedge.mean</th>\n",
       "      <th>hedge.sd</th>\n",
       "      <th>intensity.mean</th>\n",
       "      <th>rawred.mean</th>\n",
       "      <th>rawblue.mean</th>\n",
       "      <th>rawgreen.mean</th>\n",
       "      <th>exred.mean</th>\n",
       "      <th>exblue.mean</th>\n",
       "      <th>exgreen.mean</th>\n",
       "      <th>value.mean</th>\n",
       "      <th>saturation.mean</th>\n",
       "      <th>hue.mean</th>\n",
       "      <th>class</th>\n",
       "    </tr>\n",
       "  </thead>\n",
       "  <tbody>\n",
       "    <tr>\n",
       "      <th>0</th>\n",
       "      <td>218</td>\n",
       "      <td>178</td>\n",
       "      <td>9</td>\n",
       "      <td>0.111111</td>\n",
       "      <td>0.0</td>\n",
       "      <td>0.833333</td>\n",
       "      <td>0.547722</td>\n",
       "      <td>1.111110</td>\n",
       "      <td>0.544331</td>\n",
       "      <td>59.629600</td>\n",
       "      <td>52.4444</td>\n",
       "      <td>75.22220</td>\n",
       "      <td>51.222200</td>\n",
       "      <td>-21.55560</td>\n",
       "      <td>46.7778</td>\n",
       "      <td>-25.22220</td>\n",
       "      <td>75.22220</td>\n",
       "      <td>0.318996</td>\n",
       "      <td>-2.04055</td>\n",
       "      <td>path</td>\n",
       "    </tr>\n",
       "    <tr>\n",
       "      <th>1</th>\n",
       "      <td>113</td>\n",
       "      <td>130</td>\n",
       "      <td>9</td>\n",
       "      <td>0.000000</td>\n",
       "      <td>0.0</td>\n",
       "      <td>0.277778</td>\n",
       "      <td>0.250924</td>\n",
       "      <td>0.333333</td>\n",
       "      <td>0.365148</td>\n",
       "      <td>0.888889</td>\n",
       "      <td>0.0000</td>\n",
       "      <td>2.55556</td>\n",
       "      <td>0.111111</td>\n",
       "      <td>-2.66667</td>\n",
       "      <td>5.0000</td>\n",
       "      <td>-2.33333</td>\n",
       "      <td>2.55556</td>\n",
       "      <td>1.000000</td>\n",
       "      <td>-2.12325</td>\n",
       "      <td>foliage</td>\n",
       "    </tr>\n",
       "    <tr>\n",
       "      <th>2</th>\n",
       "      <td>202</td>\n",
       "      <td>41</td>\n",
       "      <td>9</td>\n",
       "      <td>0.000000</td>\n",
       "      <td>0.0</td>\n",
       "      <td>0.944448</td>\n",
       "      <td>0.772202</td>\n",
       "      <td>1.111110</td>\n",
       "      <td>1.025600</td>\n",
       "      <td>123.037000</td>\n",
       "      <td>111.8890</td>\n",
       "      <td>139.77800</td>\n",
       "      <td>117.444000</td>\n",
       "      <td>-33.44440</td>\n",
       "      <td>50.2222</td>\n",
       "      <td>-16.77780</td>\n",
       "      <td>139.77800</td>\n",
       "      <td>0.199347</td>\n",
       "      <td>-2.29992</td>\n",
       "      <td>sky</td>\n",
       "    </tr>\n",
       "    <tr>\n",
       "      <th>3</th>\n",
       "      <td>32</td>\n",
       "      <td>173</td>\n",
       "      <td>9</td>\n",
       "      <td>0.000000</td>\n",
       "      <td>0.0</td>\n",
       "      <td>1.722220</td>\n",
       "      <td>1.781590</td>\n",
       "      <td>9.000000</td>\n",
       "      <td>6.749490</td>\n",
       "      <td>43.592600</td>\n",
       "      <td>39.5556</td>\n",
       "      <td>52.88890</td>\n",
       "      <td>38.333300</td>\n",
       "      <td>-12.11110</td>\n",
       "      <td>27.8889</td>\n",
       "      <td>-15.77780</td>\n",
       "      <td>52.88890</td>\n",
       "      <td>0.266914</td>\n",
       "      <td>-1.99886</td>\n",
       "      <td>path</td>\n",
       "    </tr>\n",
       "    <tr>\n",
       "      <th>4</th>\n",
       "      <td>61</td>\n",
       "      <td>197</td>\n",
       "      <td>9</td>\n",
       "      <td>0.000000</td>\n",
       "      <td>0.0</td>\n",
       "      <td>1.444440</td>\n",
       "      <td>1.515350</td>\n",
       "      <td>2.611110</td>\n",
       "      <td>1.925460</td>\n",
       "      <td>49.592600</td>\n",
       "      <td>44.2222</td>\n",
       "      <td>61.55560</td>\n",
       "      <td>43.000000</td>\n",
       "      <td>-16.11110</td>\n",
       "      <td>35.8889</td>\n",
       "      <td>-19.77780</td>\n",
       "      <td>61.55560</td>\n",
       "      <td>0.302925</td>\n",
       "      <td>-2.02227</td>\n",
       "      <td>path</td>\n",
       "    </tr>\n",
       "  </tbody>\n",
       "</table>\n",
       "</div>"
      ],
      "text/plain": [
       "   region.centroid.col  region.centroid.row  region.pixel.count  \\\n",
       "0                  218                  178                   9   \n",
       "1                  113                  130                   9   \n",
       "2                  202                   41                   9   \n",
       "3                   32                  173                   9   \n",
       "4                   61                  197                   9   \n",
       "\n",
       "   short.line.density.5  short.line.density.2  vedge.mean  vegde.sd  \\\n",
       "0              0.111111                   0.0    0.833333  0.547722   \n",
       "1              0.000000                   0.0    0.277778  0.250924   \n",
       "2              0.000000                   0.0    0.944448  0.772202   \n",
       "3              0.000000                   0.0    1.722220  1.781590   \n",
       "4              0.000000                   0.0    1.444440  1.515350   \n",
       "\n",
       "   hedge.mean  hedge.sd  intensity.mean  rawred.mean  rawblue.mean  \\\n",
       "0    1.111110  0.544331       59.629600      52.4444      75.22220   \n",
       "1    0.333333  0.365148        0.888889       0.0000       2.55556   \n",
       "2    1.111110  1.025600      123.037000     111.8890     139.77800   \n",
       "3    9.000000  6.749490       43.592600      39.5556      52.88890   \n",
       "4    2.611110  1.925460       49.592600      44.2222      61.55560   \n",
       "\n",
       "   rawgreen.mean  exred.mean  exblue.mean  exgreen.mean  value.mean  \\\n",
       "0      51.222200   -21.55560      46.7778     -25.22220    75.22220   \n",
       "1       0.111111    -2.66667       5.0000      -2.33333     2.55556   \n",
       "2     117.444000   -33.44440      50.2222     -16.77780   139.77800   \n",
       "3      38.333300   -12.11110      27.8889     -15.77780    52.88890   \n",
       "4      43.000000   -16.11110      35.8889     -19.77780    61.55560   \n",
       "\n",
       "   saturation.mean  hue.mean    class  \n",
       "0         0.318996  -2.04055     path  \n",
       "1         1.000000  -2.12325  foliage  \n",
       "2         0.199347  -2.29992      sky  \n",
       "3         0.266914  -1.99886     path  \n",
       "4         0.302925  -2.02227     path  "
      ]
     },
     "execution_count": 264,
     "metadata": {},
     "output_type": "execute_result"
    }
   ],
   "source": [
    "segment.head(5)"
   ]
  },
  {
   "cell_type": "code",
   "execution_count": 265,
   "id": "07a36e3d-9524-4e8d-8906-261449fb034a",
   "metadata": {},
   "outputs": [
    {
     "data": {
      "text/html": [
       "<div>\n",
       "<style scoped>\n",
       "    .dataframe tbody tr th:only-of-type {\n",
       "        vertical-align: middle;\n",
       "    }\n",
       "\n",
       "    .dataframe tbody tr th {\n",
       "        vertical-align: top;\n",
       "    }\n",
       "\n",
       "    .dataframe thead th {\n",
       "        text-align: right;\n",
       "    }\n",
       "</style>\n",
       "<table border=\"1\" class=\"dataframe\">\n",
       "  <thead>\n",
       "    <tr style=\"text-align: right;\">\n",
       "      <th></th>\n",
       "      <th>COMPACTNESS</th>\n",
       "      <th>CIRCULARITY</th>\n",
       "      <th>DISTANCE_CIRCULARITY</th>\n",
       "      <th>RADIUS_RATIO</th>\n",
       "      <th>PR.AXIS_ASPECT_RATIO</th>\n",
       "      <th>MAX.LENGTH_ASPECT_RATIO</th>\n",
       "      <th>SCATTER_RATIO</th>\n",
       "      <th>ELONGATEDNESS</th>\n",
       "      <th>PR.AXIS_RECTANGULARITY</th>\n",
       "      <th>MAX.LENGTH_RECTANGULARITY</th>\n",
       "      <th>SCALED_VARIANCE_MAJOR</th>\n",
       "      <th>SCALED_VARIANCE_MINOR</th>\n",
       "      <th>SCALED_RADIUS_OF_GYRATION</th>\n",
       "      <th>SKEWNESS_ABOUT_MAJOR</th>\n",
       "      <th>SKEWNESS_ABOUT_MINOR</th>\n",
       "      <th>KURTOSIS_ABOUT_MAJOR</th>\n",
       "      <th>KURTOSIS_ABOUT_MINOR</th>\n",
       "      <th>HOLLOWS_RATIO</th>\n",
       "      <th>Class</th>\n",
       "    </tr>\n",
       "  </thead>\n",
       "  <tbody>\n",
       "    <tr>\n",
       "      <th>0</th>\n",
       "      <td>95</td>\n",
       "      <td>48</td>\n",
       "      <td>83</td>\n",
       "      <td>178</td>\n",
       "      <td>72</td>\n",
       "      <td>10</td>\n",
       "      <td>162</td>\n",
       "      <td>42</td>\n",
       "      <td>20</td>\n",
       "      <td>159</td>\n",
       "      <td>176</td>\n",
       "      <td>379</td>\n",
       "      <td>184</td>\n",
       "      <td>70</td>\n",
       "      <td>6</td>\n",
       "      <td>16</td>\n",
       "      <td>187</td>\n",
       "      <td>197</td>\n",
       "      <td>van</td>\n",
       "    </tr>\n",
       "    <tr>\n",
       "      <th>1</th>\n",
       "      <td>91</td>\n",
       "      <td>41</td>\n",
       "      <td>84</td>\n",
       "      <td>141</td>\n",
       "      <td>57</td>\n",
       "      <td>9</td>\n",
       "      <td>149</td>\n",
       "      <td>45</td>\n",
       "      <td>19</td>\n",
       "      <td>143</td>\n",
       "      <td>170</td>\n",
       "      <td>330</td>\n",
       "      <td>158</td>\n",
       "      <td>72</td>\n",
       "      <td>9</td>\n",
       "      <td>14</td>\n",
       "      <td>189</td>\n",
       "      <td>199</td>\n",
       "      <td>van</td>\n",
       "    </tr>\n",
       "    <tr>\n",
       "      <th>2</th>\n",
       "      <td>104</td>\n",
       "      <td>50</td>\n",
       "      <td>106</td>\n",
       "      <td>209</td>\n",
       "      <td>66</td>\n",
       "      <td>10</td>\n",
       "      <td>207</td>\n",
       "      <td>32</td>\n",
       "      <td>23</td>\n",
       "      <td>158</td>\n",
       "      <td>223</td>\n",
       "      <td>635</td>\n",
       "      <td>220</td>\n",
       "      <td>73</td>\n",
       "      <td>14</td>\n",
       "      <td>9</td>\n",
       "      <td>188</td>\n",
       "      <td>196</td>\n",
       "      <td>saab</td>\n",
       "    </tr>\n",
       "    <tr>\n",
       "      <th>3</th>\n",
       "      <td>93</td>\n",
       "      <td>41</td>\n",
       "      <td>82</td>\n",
       "      <td>159</td>\n",
       "      <td>63</td>\n",
       "      <td>9</td>\n",
       "      <td>144</td>\n",
       "      <td>46</td>\n",
       "      <td>19</td>\n",
       "      <td>143</td>\n",
       "      <td>160</td>\n",
       "      <td>309</td>\n",
       "      <td>127</td>\n",
       "      <td>63</td>\n",
       "      <td>6</td>\n",
       "      <td>10</td>\n",
       "      <td>199</td>\n",
       "      <td>207</td>\n",
       "      <td>van</td>\n",
       "    </tr>\n",
       "    <tr>\n",
       "      <th>4</th>\n",
       "      <td>85</td>\n",
       "      <td>44</td>\n",
       "      <td>70</td>\n",
       "      <td>205</td>\n",
       "      <td>103</td>\n",
       "      <td>52</td>\n",
       "      <td>149</td>\n",
       "      <td>45</td>\n",
       "      <td>19</td>\n",
       "      <td>144</td>\n",
       "      <td>241</td>\n",
       "      <td>325</td>\n",
       "      <td>188</td>\n",
       "      <td>127</td>\n",
       "      <td>9</td>\n",
       "      <td>11</td>\n",
       "      <td>180</td>\n",
       "      <td>183</td>\n",
       "      <td>bus</td>\n",
       "    </tr>\n",
       "  </tbody>\n",
       "</table>\n",
       "</div>"
      ],
      "text/plain": [
       "   COMPACTNESS  CIRCULARITY  DISTANCE_CIRCULARITY  RADIUS_RATIO  \\\n",
       "0           95           48                    83           178   \n",
       "1           91           41                    84           141   \n",
       "2          104           50                   106           209   \n",
       "3           93           41                    82           159   \n",
       "4           85           44                    70           205   \n",
       "\n",
       "   PR.AXIS_ASPECT_RATIO  MAX.LENGTH_ASPECT_RATIO  SCATTER_RATIO  \\\n",
       "0                    72                       10            162   \n",
       "1                    57                        9            149   \n",
       "2                    66                       10            207   \n",
       "3                    63                        9            144   \n",
       "4                   103                       52            149   \n",
       "\n",
       "   ELONGATEDNESS  PR.AXIS_RECTANGULARITY  MAX.LENGTH_RECTANGULARITY  \\\n",
       "0             42                      20                        159   \n",
       "1             45                      19                        143   \n",
       "2             32                      23                        158   \n",
       "3             46                      19                        143   \n",
       "4             45                      19                        144   \n",
       "\n",
       "   SCALED_VARIANCE_MAJOR  SCALED_VARIANCE_MINOR  SCALED_RADIUS_OF_GYRATION  \\\n",
       "0                    176                    379                        184   \n",
       "1                    170                    330                        158   \n",
       "2                    223                    635                        220   \n",
       "3                    160                    309                        127   \n",
       "4                    241                    325                        188   \n",
       "\n",
       "   SKEWNESS_ABOUT_MAJOR  SKEWNESS_ABOUT_MINOR  KURTOSIS_ABOUT_MAJOR  \\\n",
       "0                    70                     6                    16   \n",
       "1                    72                     9                    14   \n",
       "2                    73                    14                     9   \n",
       "3                    63                     6                    10   \n",
       "4                   127                     9                    11   \n",
       "\n",
       "   KURTOSIS_ABOUT_MINOR  HOLLOWS_RATIO Class  \n",
       "0                   187            197   van  \n",
       "1                   189            199   van  \n",
       "2                   188            196  saab  \n",
       "3                   199            207   van  \n",
       "4                   180            183   bus  "
      ]
     },
     "execution_count": 265,
     "metadata": {},
     "output_type": "execute_result"
    }
   ],
   "source": [
    "vehicle.head(5)"
   ]
  },
  {
   "cell_type": "code",
   "execution_count": 266,
   "id": "df826b69-4b70-43c9-9ff1-a0f702f3317d",
   "metadata": {},
   "outputs": [
    {
     "name": "stdout",
     "output_type": "stream",
     "text": [
      "<class 'pandas.core.frame.DataFrame'>\n",
      "RangeIndex: 270 entries, 0 to 269\n",
      "Data columns (total 14 columns):\n",
      " #   Column                                Non-Null Count  Dtype  \n",
      "---  ------                                --------------  -----  \n",
      " 0   age                                   270 non-null    int64  \n",
      " 1   sex                                   270 non-null    int64  \n",
      " 2   chest                                 270 non-null    int64  \n",
      " 3   resting_blood_pressure                270 non-null    int64  \n",
      " 4   serum_cholestoral                     270 non-null    int64  \n",
      " 5   fasting_blood_sugar                   270 non-null    int64  \n",
      " 6   resting_electrocardiographic_results  270 non-null    int64  \n",
      " 7   maximum_heart_rate_achieved           270 non-null    int64  \n",
      " 8   exercise_induced_angina               270 non-null    int64  \n",
      " 9   oldpeak                               270 non-null    float64\n",
      " 10  slope                                 270 non-null    int64  \n",
      " 11  number_of_major_vessels               270 non-null    int64  \n",
      " 12  thal                                  270 non-null    int64  \n",
      " 13  class                                 270 non-null    object \n",
      "dtypes: float64(1), int64(12), object(1)\n",
      "memory usage: 29.7+ KB\n"
     ]
    }
   ],
   "source": [
    "heart.info()"
   ]
  },
  {
   "cell_type": "code",
   "execution_count": 267,
   "id": "0657024a-97f2-41d2-aae7-d5e512c9a02b",
   "metadata": {},
   "outputs": [
    {
     "name": "stdout",
     "output_type": "stream",
     "text": [
      "<class 'pandas.core.frame.DataFrame'>\n",
      "RangeIndex: 2310 entries, 0 to 2309\n",
      "Data columns (total 20 columns):\n",
      " #   Column                Non-Null Count  Dtype  \n",
      "---  ------                --------------  -----  \n",
      " 0   region.centroid.col   2310 non-null   int64  \n",
      " 1   region.centroid.row   2310 non-null   int64  \n",
      " 2   region.pixel.count    2310 non-null   int64  \n",
      " 3   short.line.density.5  2310 non-null   float64\n",
      " 4   short.line.density.2  2310 non-null   float64\n",
      " 5   vedge.mean            2310 non-null   float64\n",
      " 6   vegde.sd              2310 non-null   float64\n",
      " 7   hedge.mean            2310 non-null   float64\n",
      " 8   hedge.sd              2310 non-null   float64\n",
      " 9   intensity.mean        2310 non-null   float64\n",
      " 10  rawred.mean           2310 non-null   float64\n",
      " 11  rawblue.mean          2310 non-null   float64\n",
      " 12  rawgreen.mean         2310 non-null   float64\n",
      " 13  exred.mean            2310 non-null   float64\n",
      " 14  exblue.mean           2310 non-null   float64\n",
      " 15  exgreen.mean          2310 non-null   float64\n",
      " 16  value.mean            2310 non-null   float64\n",
      " 17  saturation.mean       2310 non-null   float64\n",
      " 18  hue.mean              2310 non-null   float64\n",
      " 19  class                 2310 non-null   object \n",
      "dtypes: float64(16), int64(3), object(1)\n",
      "memory usage: 361.1+ KB\n"
     ]
    }
   ],
   "source": [
    "segment.info()"
   ]
  },
  {
   "cell_type": "code",
   "execution_count": 268,
   "id": "5b2158d5-7b47-4b87-96d7-0ca8cfdb3168",
   "metadata": {},
   "outputs": [
    {
     "name": "stdout",
     "output_type": "stream",
     "text": [
      "<class 'pandas.core.frame.DataFrame'>\n",
      "RangeIndex: 846 entries, 0 to 845\n",
      "Data columns (total 19 columns):\n",
      " #   Column                     Non-Null Count  Dtype \n",
      "---  ------                     --------------  ----- \n",
      " 0   COMPACTNESS                846 non-null    int64 \n",
      " 1   CIRCULARITY                846 non-null    int64 \n",
      " 2   DISTANCE_CIRCULARITY       846 non-null    int64 \n",
      " 3   RADIUS_RATIO               846 non-null    int64 \n",
      " 4   PR.AXIS_ASPECT_RATIO       846 non-null    int64 \n",
      " 5   MAX.LENGTH_ASPECT_RATIO    846 non-null    int64 \n",
      " 6   SCATTER_RATIO              846 non-null    int64 \n",
      " 7   ELONGATEDNESS              846 non-null    int64 \n",
      " 8   PR.AXIS_RECTANGULARITY     846 non-null    int64 \n",
      " 9   MAX.LENGTH_RECTANGULARITY  846 non-null    int64 \n",
      " 10  SCALED_VARIANCE_MAJOR      846 non-null    int64 \n",
      " 11  SCALED_VARIANCE_MINOR      846 non-null    int64 \n",
      " 12  SCALED_RADIUS_OF_GYRATION  846 non-null    int64 \n",
      " 13  SKEWNESS_ABOUT_MAJOR       846 non-null    int64 \n",
      " 14  SKEWNESS_ABOUT_MINOR       846 non-null    int64 \n",
      " 15  KURTOSIS_ABOUT_MAJOR       846 non-null    int64 \n",
      " 16  KURTOSIS_ABOUT_MINOR       846 non-null    int64 \n",
      " 17  HOLLOWS_RATIO              846 non-null    int64 \n",
      " 18  Class                      846 non-null    object\n",
      "dtypes: int64(18), object(1)\n",
      "memory usage: 125.7+ KB\n"
     ]
    }
   ],
   "source": [
    "vehicle.info()"
   ]
  },
  {
   "cell_type": "code",
   "execution_count": 269,
   "id": "13dc491b-4f8b-420e-a62c-50cff2428934",
   "metadata": {},
   "outputs": [],
   "source": [
    "def description(dataset):\n",
    "    name_target=dataset.columns[-1]\n",
    "    print(f'Le dataset a {len(dataset)} exemples et {dataset.shape[1]} variables. Il a {len(set(dataset[name_target]))}')\n",
    "    for classe in set(dataset[name_target]):\n",
    "        print(f'Le classe {classe} a {len(dataset[dataset[name_target]==classe])}')"
   ]
  },
  {
   "cell_type": "code",
   "execution_count": 270,
   "id": "ef51e9cf-5201-4926-909b-c4814bf68423",
   "metadata": {},
   "outputs": [
    {
     "name": "stdout",
     "output_type": "stream",
     "text": [
      "Le dataset a 270 exemples et 14 variables. Il a 2\n",
      "Le classe present a 120\n",
      "Le classe absent a 150\n"
     ]
    }
   ],
   "source": [
    "description(heart)"
   ]
  },
  {
   "cell_type": "code",
   "execution_count": 271,
   "id": "e5eb68f3-7d27-44a9-a85b-64894783586f",
   "metadata": {},
   "outputs": [
    {
     "name": "stdout",
     "output_type": "stream",
     "text": [
      "Le dataset a 2310 exemples et 20 variables. Il a 7\n",
      "Le classe path a 330\n",
      "Le classe window a 330\n",
      "Le classe foliage a 330\n",
      "Le classe brickface a 330\n",
      "Le classe sky a 330\n",
      "Le classe grass a 330\n",
      "Le classe cement a 330\n"
     ]
    }
   ],
   "source": [
    "description(segment)"
   ]
  },
  {
   "cell_type": "code",
   "execution_count": 272,
   "id": "156c3a94-9925-47d5-b711-5ade03ee48ae",
   "metadata": {},
   "outputs": [
    {
     "name": "stdout",
     "output_type": "stream",
     "text": [
      "Le dataset a 846 exemples et 19 variables. Il a 4\n",
      "Le classe van a 199\n",
      "Le classe saab a 217\n",
      "Le classe opel a 212\n",
      "Le classe bus a 218\n"
     ]
    }
   ],
   "source": [
    "description(vehicle)"
   ]
  },
  {
   "cell_type": "markdown",
   "id": "2b7b70c8-bf7f-45ba-a3d0-95510a2071cf",
   "metadata": {},
   "source": [
    "# 2. Sélectionnez 3 méthodes de ML "
   ]
  },
  {
   "cell_type": "markdown",
   "id": "7a4168c7-8fdb-4036-b2f2-1ece0d3c331c",
   "metadata": {},
   "source": [
    "## Pour le dataset heart"
   ]
  },
  {
   "cell_type": "markdown",
   "id": "150a2dde-d8ef-4184-abd0-afb4bed244b8",
   "metadata": {},
   "source": [
    "### Normalisation"
   ]
  },
  {
   "cell_type": "code",
   "execution_count": 305,
   "id": "72ffb369-8695-430b-b2b7-2f73b22f6ea6",
   "metadata": {},
   "outputs": [],
   "source": [
    "def pipeline_selection(dataset):\n",
    "    \n",
    "    dataset_feat=dataset[list(dataset.columns[:-1])]\n",
    "    dataset_label=dataset[dataset.columns[-1]]\n",
    "\n",
    "    #separation en train valid test\n",
    "    X_train,X_test,Y_train,Y_test=train_test_split(dataset_feat,dataset_label,test_size=0.2,stratify=dataset_label,random_state=42)\n",
    "    X_train,X_valid,Y_train,Y_valid=train_test_split(X_train,Y_train,test_size=0.4,stratify=Y_train)\n",
    "\n",
    "    #Normalisation\n",
    "\n",
    "    std=StandardScaler()\n",
    "    X_train=std.fit_transform(X_train)\n",
    "    X_valid=std.transform(X_valid)\n",
    "    X_test=std.transform(X_test)\n",
    "\n",
    "    #Fusion train et valid pour faire le dernier apprentissage avant de tester sur le jeu de test\n",
    "\n",
    "    train=np.concatenate([X_train,X_valid])\n",
    "    label=np.concatenate([Y_train,Y_valid])\n",
    "\n",
    "    #C pour la regression logistique et le SVM\n",
    "    C=np.logspace(-3,2,20) \n",
    "    \n",
    "    #Regression logistique\n",
    "     \n",
    "    best_score=0\n",
    "    for c in C:\n",
    "        clf=LogisticRegression(penalty='l2',C=c)\n",
    "        clf.fit(X_train,Y_train)\n",
    "        new_score=clf.score(X_valid,Y_valid)\n",
    "        if new_score > best_score:\n",
    "              best_score=new_score\n",
    "              best_c=c\n",
    "            \n",
    "    #Tester sur le jeu de test\n",
    "    clf=LogisticRegression(penalty='l2',C=best_c)\n",
    "    clf.fit(train,label)\n",
    "    ypred=clf.predict(X_test)\n",
    "    logis_score=balanced_accuracy_score(Y_test,ypred)\n",
    "    print(f'Le score pour le modele de regression logistique sur les données de test est : {logis_score}') \n",
    "\n",
    "    #SVM\n",
    "    gamma=np.logspace(-3,2,20)\n",
    "    best_score=0\n",
    "    for c in C:\n",
    "        for g in gamma :\n",
    "            clf=SVC(kernel='rbf',C=c,gamma=g)\n",
    "            clf.fit(X_train,Y_train)\n",
    "            new_score=clf.score(X_valid,Y_valid)\n",
    "            if new_score > best_score:\n",
    "                  best_score=new_score\n",
    "                  best_param=(c,g)\n",
    "    #Test\n",
    "    clf=SVC(kernel='rbf',C=best_param[0],gamma=best_param[1])\n",
    "    clf.fit(train,label)\n",
    "    ypred=clf.predict(X_test)\n",
    "    svm_score=balanced_accuracy_score(Y_test,ypred)\n",
    "    print(f'Le score pour le model SVM sur les données de test est : {svm_score}')\n",
    "\n",
    "    #Tree\n",
    "    profondeurs=np.arange(1,51)\n",
    "    leaf=np.arange(1,51)\n",
    "    leaf=leaf/100\n",
    "    best_score=0\n",
    "    for p in profondeurs:\n",
    "        for l in leaf :\n",
    "                clf=DecisionTreeClassifier(max_depth=p,min_samples_leaf= l)\n",
    "                clf.fit(X_train,Y_train)\n",
    "                new_score=clf.score(X_valid,Y_valid)\n",
    "                if new_score > best_score:\n",
    "                      best_score=new_score\n",
    "                      best_param=(p,l)\n",
    "\n",
    "    #Test\n",
    "    clf=DecisionTreeClassifier(max_depth=best_param[0],min_samples_leaf=best_param[1])\n",
    "    clf.fit(train,label)\n",
    "    ypred=clf.predict(X_test)\n",
    "    tree_score=balanced_accuracy_score(Y_test,ypred)\n",
    "    print(f'Le score pour le modele arbre de decision sur les données de test est : {tree_score}') \n",
    "    \n",
    "    #Visualisation\n",
    "    all_score=[logis_score,svm_score,tree_score]\n",
    "    model=['RegLogistic','SVM','Tree']\n",
    "    color=['blue','red','yellow']\n",
    "    plt.bar(model,all_score,color=color)\n",
    "    return all_score\n"
   ]
  },
  {
   "cell_type": "markdown",
   "id": "8ece03f8-1edd-433a-b764-f168e2635311",
   "metadata": {},
   "source": [
    "## Pour le dataset heart"
   ]
  },
  {
   "cell_type": "code",
   "execution_count": 313,
   "id": "13b63108-6a1a-4ad9-9582-15759b67b8ef",
   "metadata": {},
   "outputs": [
    {
     "name": "stdout",
     "output_type": "stream",
     "text": [
      "Le score pour le modele de regression logistique sur les données de test est : 0.8333333333333334\n",
      "Le score pour le model SVM sur les données de test est : 0.8541666666666667\n",
      "Le score pour le modele arbre de decision sur les données de test est : 0.8375\n"
     ]
    },
    {
     "data": {
      "image/png": "[encoded data removed]",
      "text/plain": [
       "<Figure size 640x480 with 1 Axes>"
      ]
     },
     "metadata": {},
     "output_type": "display_data"
    }
   ],
   "source": [
    "sc_heart=pipeline_selection(heart)"
   ]
  },
  {
   "cell_type": "markdown",
   "id": "80b9dae2-1c53-4ec6-880f-afa770111c58",
   "metadata": {},
   "source": [
    "## Pour le dataset segment"
   ]
  },
  {
   "cell_type": "code",
   "execution_count": 314,
   "id": "690dd292-45b9-4e78-bd22-68275b2f0226",
   "metadata": {},
   "outputs": [
    {
     "name": "stdout",
     "output_type": "stream",
     "text": [
      "Le score pour le modele de regression logistique sur les données de test est : 0.9632034632034632\n",
      "Le score pour le model SVM sur les données de test est : 0.9675324675324676\n",
      "Le score pour le modele arbre de decision sur les données de test est : 0.9199134199134199\n"
     ]
    },
    {
     "data": {
      "image/png": "[encoded data removed]",
      "text/plain": [
       "<Figure size 640x480 with 1 Axes>"
      ]
     },
     "metadata": {},
     "output_type": "display_data"
    }
   ],
   "source": [
    "score_segment=pipeline_selection(segment)"
   ]
  },
  {
   "cell_type": "markdown",
   "id": "5d5ed979-64c6-4b10-9c19-e20a721d2c21",
   "metadata": {},
   "source": [
    "## Pour le dataset vehicle"
   ]
  },
  {
   "cell_type": "code",
   "execution_count": 315,
   "id": "8ba75448-6f9c-4ef4-bb17-9446f5fc578f",
   "metadata": {},
   "outputs": [
    {
     "name": "stdout",
     "output_type": "stream",
     "text": [
      "Le score pour le modele de regression logistique sur les données de test est : 0.8408820346320347\n",
      "Le score pour le model SVM sur les données de test est : 0.8414231601731602\n",
      "Le score pour le modele arbre de decision sur les données de test est : 0.7410984848484848\n"
     ]
    },
    {
     "data": {
      "image/png": "[encoded data removed]",
      "text/plain": [
       "<Figure size 640x480 with 1 Axes>"
      ]
     },
     "metadata": {},
     "output_type": "display_data"
    }
   ],
   "source": [
    "score_vehic=pipeline_selection(vehicle)"
   ]
  },
  {
   "cell_type": "markdown",
   "id": "f5030936-2dbb-4a97-a1dd-a2538440fbf5",
   "metadata": {},
   "source": [
    "# 2 Bonus : test statistique de significativité"
   ]
  },
  {
   "cell_type": "code",
   "execution_count": 327,
   "id": "ba0f11f1-12a0-4d6f-a39a-7a6418c25060",
   "metadata": {},
   "outputs": [
    {
     "data": {
      "text/plain": [
       "array([[0.83333333, 0.85416667],\n",
       "       [0.96320346, 0.96753247],\n",
       "       [0.84088203, 0.84142316]])"
      ]
     },
     "execution_count": 327,
     "metadata": {},
     "output_type": "execute_result"
    }
   ],
   "source": [
    "Sij=np.array([sc_heart[:-1],score_segment[:-1],score_vehic[:-1]])\n",
    "Sij"
   ]
  },
  {
   "cell_type": "code",
   "execution_count": 328,
   "id": "6dfedb52-ef1c-4579-b3ce-4960acea4261",
   "metadata": {},
   "outputs": [],
   "source": [
    "Sj=Sij[:,0]-Sij[:,1]"
   ]
  },
  {
   "cell_type": "code",
   "execution_count": 329,
   "id": "be0df498-55d7-4fe3-882e-41d0860c8f73",
   "metadata": {},
   "outputs": [
    {
     "data": {
      "text/plain": [
       "array([-0.02083333, -0.004329  , -0.00054113])"
      ]
     },
     "execution_count": 329,
     "metadata": {},
     "output_type": "execute_result"
    }
   ],
   "source": [
    "Sj"
   ]
  },
  {
   "cell_type": "code",
   "execution_count": null,
   "id": "99cd2816-1848-478a-bebc-17a3ae6f7d03",
   "metadata": {},
   "outputs": [],
   "source": []
  }
 ],
 "metadata": {
  "kernelspec": {
   "display_name": "Python 3 (ipykernel)",
   "language": "python",
   "name": "python3"
  },
  "language_info": {
   "codemirror_mode": {
    "name": "ipython",
    "version": 3
   },
   "file_extension": ".py",
   "mimetype": "text/x-python",
   "name": "python",
   "nbconvert_exporter": "python",
   "pygments_lexer": "ipython3",
   "version": "3.10.12"
  }
 },
 "nbformat": 4,
 "nbformat_minor": 5
}
