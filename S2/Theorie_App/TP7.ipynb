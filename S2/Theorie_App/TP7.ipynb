{
 "cells": [
  {
   "cell_type": "code",
   "execution_count": 125,
   "id": "0f573a88-9dd3-40fc-bc8a-72011c73b09f",
   "metadata": {},
   "outputs": [],
   "source": [
    "import matplotlib.pyplot as plt\n",
    "import pandas as pd\n",
    "import numpy as np\n",
    "from sklearn.metrics import mean_absolute_error\n",
    "from sklearn.datasets import load_breast_cancer\n",
    "from sklearn.svm import SVC\n",
    "from sklearn.model_selection import train_test_split\n",
    "from sklearn.preprocessing import StandardScaler\n"
   ]
  },
  {
   "cell_type": "code",
   "execution_count": 126,
   "id": "f3ea5667-e9cb-4516-92bf-58498a9c44c3",
   "metadata": {},
   "outputs": [],
   "source": [
    "dataspam = np.loadtxt(\"spambase/spambase.data\", delimiter=\",\")\n",
    "features_name = np.genfromtxt(\"spambase/spambase_variables.csv\", delimiter=\",\", dtype=\"str\")\n",
    "features_name = features_name [:,0]\n",
    "X = dataspam [: ,0:57]\n",
    "y = dataspam [:,-1]"
   ]
  },
  {
   "cell_type": "code",
   "execution_count": 127,
   "id": "3bb82a14-c746-4518-8abf-d6a14c25c90f",
   "metadata": {},
   "outputs": [
    {
     "name": "stdout",
     "output_type": "stream",
     "text": [
      "Il y a 2788 exemple pour le classe 0 et 1813 pour la classe 1\n"
     ]
    }
   ],
   "source": [
    "print(f'Il y a {len(X[y==0])} exemple pour le classe 0 et {len(X[y==1])} pour la classe 1')"
   ]
  },
  {
   "cell_type": "code",
   "execution_count": 128,
   "id": "2bf0b1f6-8f86-4bab-b5f6-c6ac630603eb",
   "metadata": {},
   "outputs": [
    {
     "data": {
      "text/plain": [
       "1813"
      ]
     },
     "execution_count": 128,
     "metadata": {},
     "output_type": "execute_result"
    }
   ],
   "source": [
    "len(X[y==1])"
   ]
  },
  {
   "cell_type": "markdown",
   "id": "b5d6fdd3-081a-43f2-83aa-7cdd872aacbb",
   "metadata": {},
   "source": [
    "# 2. Séparez les données en un sous-ensemble d’apprentissage, un sous-ensemble de validation et un sous-ensemble de test. Utilisez un tiers des données pour chaque sous-ensemble."
   ]
  },
  {
   "cell_type": "code",
   "execution_count": 129,
   "id": "9209c8bd-71ea-4044-9751-01211f204f03",
   "metadata": {},
   "outputs": [],
   "source": [
    "X,X_test,y,Y_test=train_test_split(X,y,test_size=0.33,stratify=y)\n",
    "X_train,X_valid,Y_train,Y_valid=train_test_split(X,y,test_size=0.5,stratify=y)"
   ]
  },
  {
   "cell_type": "code",
   "execution_count": 130,
   "id": "a17c902a-1298-474f-9ff7-752a885a7a68",
   "metadata": {},
   "outputs": [
    {
     "data": {
      "text/plain": [
       "1541"
      ]
     },
     "execution_count": 130,
     "metadata": {},
     "output_type": "execute_result"
    }
   ],
   "source": [
    "len(X_valid)"
   ]
  },
  {
   "cell_type": "markdown",
   "id": "0921dfb4-27c1-4a56-81c8-7dbd6c99ddf3",
   "metadata": {},
   "source": [
    "# 3. Normalisez les données en utilisant la méthode StandardScaler, comme vu dans le TP3"
   ]
  },
  {
   "cell_type": "code",
   "execution_count": 131,
   "id": "dfb3b6bb-ec0b-4ded-a297-359747c93ef8",
   "metadata": {},
   "outputs": [],
   "source": [
    "scaler=StandardScaler()\n",
    "X_train=scaler.fit_transform(X_train)\n",
    "X_valid=scaler.transform(X_valid)\n",
    "X_test=scaler.transform(X_test)"
   ]
  },
  {
   "cell_type": "markdown",
   "id": "fa7bc6f7-9a58-440a-bee4-995e2b5ac33f",
   "metadata": {},
   "source": [
    "# 4. En utilisant les ensembles d’apprentissage et de validation, déterminez la valeur optimale du paramètres C pour un SVM linéaire. Vous pouvez tester des valeurs dans l’intervalle [10−3, 102]."
   ]
  },
  {
   "cell_type": "code",
   "execution_count": null,
   "id": "10d3d4cb-f995-4e75-b258-2c0f222c022a",
   "metadata": {},
   "outputs": [],
   "source": [
    "errer=[]\n",
    "C=np.logspace(1,3,20)\n",
    "for c in C:\n",
    "   clf=SVC(C=c,kernel='linear')\n",
    "   clf.fit(X_train,Y_train)\n",
    "   pred=clf.predict(X_valid)\n",
    "   errer.append(mean_absolute_error(pred,Y_valid))"
   ]
  },
  {
   "cell_type": "code",
   "execution_count": null,
   "id": "2cdc26d7-619f-40e3-87dd-5fe8bc4be3f3",
   "metadata": {},
   "outputs": [],
   "source": [
    "plt.plot(C,errer)\n",
    "plt.xscale('log')"
   ]
  },
  {
   "cell_type": "code",
   "execution_count": 134,
   "id": "442bf1f3-3ee6-4286-b4dd-9f3d3f16e004",
   "metadata": {},
   "outputs": [],
   "source": [
    " argminn=np.array(errer).argmin()"
   ]
  },
  {
   "cell_type": "code",
   "execution_count": 135,
   "id": "82963599-3c55-4837-9a01-84fa52bb65e6",
   "metadata": {},
   "outputs": [
    {
     "data": {
      "text/plain": [
       "np.float64(1.4563484775012443)"
      ]
     },
     "execution_count": 135,
     "metadata": {},
     "output_type": "execute_result"
    }
   ],
   "source": [
    "C[argminn]"
   ]
  }
 ],
 "metadata": {
  "kernelspec": {
   "display_name": "Python 3 (ipykernel)",
   "language": "python",
   "name": "python3"
  },
  "language_info": {
   "codemirror_mode": {
    "name": "ipython",
    "version": 3
   },
   "file_extension": ".py",
   "mimetype": "text/x-python",
   "name": "python",
   "nbconvert_exporter": "python",
   "pygments_lexer": "ipython3",
   "version": "3.10.12"
  }
 },
 "nbformat": 4,
 "nbformat_minor": 5
}
