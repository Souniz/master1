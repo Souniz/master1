import numpy as np
import matplotlib.pyplot as plt
import pandas as pd





# data generation -------------------
X=np.random.uniform(0,10,(100,1))
X=np.concatenate((X, np.ones((100,1))),axis=1)





# noise generation -------------------
true_param=np.array([[4],[2]])
N = np.random.normal(0,5,(100,1))
y=X@true_param+N





plt.scatter(X[:,0],y)





w = np.dot(np.linalg.inv(np.dot(X.T, X)), np.dot(X.T, y))
w


y_predi=X@w


plt.scatter(X[:,0],y,label='nuange de point')
plt.scatter(X[:,0],y_predi,label='model de regression')
plt.legend()


errer=0.5*np.linalg.norm(y-y_predi)**2
errer








filename = "./prostate.csv"
df = pd.read_csv(filename , delimiter=";")
df


df.info()


df['train'].unique()


df.columns





X_train=df[df['train']=='T']
Y_train=df[df['train']=='T']['lpsa']
X_test=df[df['train']=='F']
Y_test=df[df['train']=='F']['lpsa']
X_train=X_train[['lcavol', 'lweight', 'age', 'lbph', 'svi', 'lcp', 'gleason',
       'pgg45']]
X_test=X_test[['lcavol', 'lweight', 'age', 'lbph', 'svi', 'lcp', 'gleason',
       'pgg45']]
print(f"Trainset: n = {X_train.shape [0]} inst., d = {X_train.shape [1]} feat.")
...
print(f"Testset: m = {X_test.shape [0]} inst., d = {X_test.shape [1]} feat.")





X_train=np.concatenate((X_train, np.ones((X_train.shape[0], 1))), axis=1)
X_test=np.concatenate((X_test, np.ones((X_test.shape[0], 1))), axis=1)


w = np.dot(np.linalg.inv(np.dot(X_train.T, X_train)),np.dot(X_train.T, Y_train))
w


print(f'w = {w[:-1]} et b={w[-1]}')








y_predi_test=X_test@w





erreu_quadratiq=(Y_test-y_predi_test)**2
MSE=np.mean(erreu_quadratiq)
print(f'MSE = {MSE}')


ecart_type=np.std(erreu_quadratiq)/np.sqrt(len(erreu_quadratiq))
print(f'Ecart-Type = {ecart_type}')





#data generation -------------------
def generateur(debut,fin):
    X=np.random.uniform(debut,fin,(100,))
    # noise generation -------------------
    N = np.random.normal(0,2000,(100,))
    # build the polynomial -------------------
    a = np.random.uniform(-2, 2, (7,))
    f = np.poly1d(a)
    Y = f(X) + N
    X_norm = (X - X.mean(axis =0)) / X.std(axis =0)
    Y_norm = (Y - Y.mean(axis =0)) / Y.std(axis =0)
    return X_norm,Y_norm





# data visualization -------------------
X,Y=generateur(-5,5)
plt.scatter(X,Y)





w = np.polyfit(X,Y,1)
h=np.poly1d(w)
h





y_pred=h(X)
plt.scatter(X,Y)
plt.scatter(X,y_pred)








def visual_degre_7_et_25(X,Y):
    plt.subplots(1,2,figsize=(12,6))
    plt.subplot(1,2,1)
    plt.title('Degré 7')
    w = np.polyfit(X,Y,7)
    h=np.poly1d(w)
    y_pred=h(X)
    plt.scatter(X,Y)
    plt.scatter(X,y_pred)
    erreu_quadratiq=(Y-y_pred)**2
    MSE=np.mean(erreu_quadratiq)
    plt.title(f'Dergré 7 : Erreur quadratique moyenne = {np.round(MSE,3)}')
    plt.subplot(1,2,2)
    plt.title('Degré 25')
    w = np.polyfit(X,Y,25)
    h=np.poly1d(w)
    y_pred=h(X)
    erreu_quadratiq=(Y-y_pred)**2
    MSE=np.mean(erreu_quadratiq)
    plt.title(f'Dergré 25 : Erreur quadratique moyenne = {np.round(MSE,3)}')
    plt.scatter(X,Y)
    plt.scatter(X,y_pred)
    plt.show()


visual_degre_7_et_25(X,Y)








X,Y=generateur(-3,3)


visual_degre_7_et_25(X,Y)





X,Y=generateur(-10,10)


visual_degre_7_et_25(X,Y)









