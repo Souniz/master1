import matplotlib.pyplot as plt
import pandas as pd
import numpy as np
from sklearn.metrics import mean_absolute_error
from sklearn.datasets import load_breast_cancer
from sklearn.svm import SVC
from sklearn.model_selection import train_test_split
from sklearn.preprocessing import StandardScaler





lambd1=np.random.normal((1,1),0.4,size=(300,2))
lambd2=np.random.normal((-1,-1),0.4,size=(300,2))


plt.scatter(lambd1[:,0],lambd1[:,1])
plt.scatter(lambd2[:,0],lambd2[:,1])





y=np.array([1 if i <300 else -1 for i in range(600)])
X=np.concatenate((lambd1,lambd2),axis=0)





clf=SVC(C=1000,kernel='linear',max_iter=-1)








clf.fit(X,y)
pass





clf.n_support_


indice_SV = clf.support_
alphas = clf.dual_coef_ [0]
b = clf.intercept_
print(f"Indices of support vectors: {indice_SV}, dual coefficients: {alphas},intercept: {b}")





len(alphas)








W=np.array([sum(alphas[i]*y[indice_SV[i]]*X[indice_SV[i]]) for i in range(len(alphas))])
W





W@X[indice_SV].T+b


X[indice_SV]
