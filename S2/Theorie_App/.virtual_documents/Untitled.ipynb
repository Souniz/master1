import matplotlib.pyplot as plt
import pandas as pd
import numpy as np
from sklearn.metrics import mean_absolute_error
from sklearn.datasets import load_breast_cancer
from sklearn.svm import SVC
from sklearn.model_selection import train_test_split
from sklearn.preprocessing import StandardScaler



dataspam = np.loadtxt("spambase/spambase.data", delimiter=",")
features_name = np.genfromtxt("spambase/spambase_variables.csv", delimiter=",", dtype="str")
features_name = features_name [:,0]
X = dataspam [: ,0:57]
y = dataspam [:,-1]


print(f'Il y a {len(X[y==0])} exemple pour le classe 0 et {len(X[y==1])} pour la classe 1')


len(X[y==1])





X,X_test,y,Y_test=train_test_split(X,y,test_size=0.33,stratify=y)
X_train,X_valid,Y_train,Y_valid=train_test_split(X,y,test_size=0.33,stratify=y)


len(X_valid)





scaler=StandardScaler()
X_train=scaler.fit_transform(X_train)
X_valid=scaler.transform(X_valid)
X_test=scaler.transform(X_test)





errer=[]
C=np.logspace(-3,2)
for c in C:
   clf=SVC(C=c,kernel='linear')
   clf.fit(X_train,Y_train)
   pred=clf.predict(X_valid)
   errer.append(mean_absolute_error(pred,Y_valid))


plt.plot(C,errer)
plt.xscale('log')


 argminn=np.array(errer).argmin()


C[argminn]
