import matplotlib.pyplot as plt
import pandas as pd
import numpy as np
from sklearn.metrics import mean_absolute_error
from sklearn.datasets import load_breast_cancer
from sklearn.svm import SVC
from sklearn.model_selection import train_test_split
from sklearn.preprocessing import StandardScaler





lambd1=np.random.normal((1,1),0.4,size=(300,2))
lambd2=np.random.normal((-1,-1),0.4,size=(300,2))


plt.scatter(lambd1[:,0],lambd1[:,1])
plt.scatter(lambd2[:,0],lambd2[:,1])





y=np.array([1 if i <300 else 0 for i in range(600)])
X=np.concatenate((lambd1,lambd2),axis=0)


clf=SVC(kernel='linear',tol=0)
clf.fit()
