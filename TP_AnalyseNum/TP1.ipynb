{
 "cells": [
  {
   "cell_type": "code",
   "execution_count": 1,
   "id": "c1e84a0e-987f-499b-8514-616d27a6a71e",
   "metadata": {},
   "outputs": [],
   "source": [
    "import numpy as np"
   ]
  },
  {
   "cell_type": "code",
   "execution_count": 52,
   "id": "849267a2-a8f0-4cae-818d-a512c407c592",
   "metadata": {},
   "outputs": [],
   "source": [
    "def algorithme_de_Crout(A):\n",
    "    n=len(A)\n",
    "    l=np.eye(n)\n",
    "    u=np.zeros((n,n))\n",
    "    u[0,:]=A[0,:]\n",
    "    l[1:,0]=1/u[0,0]*A[1:,0]\n",
    "    for k in range(1,n):\n",
    "        u[k,k:]=A[k,k:]-l[k,:k]@u[:k,k:]\n",
    "        l[k+1:,k]=1/u[k,k]*(A[k+1:,k]-l[k+1:,:k]@u[:k,k])\n",
    "    u[n-1,n-1]=A[n-1,n-1]-l[n-1,:n-1]@u[:n-1,n-1]\n",
    "    return (l,u)"
   ]
  },
  {
   "cell_type": "code",
   "execution_count": 53,
   "id": "8db0d2e8-f542-4a51-8b07-5adf6afbe627",
   "metadata": {},
   "outputs": [],
   "source": [
    "test=np.array([[2,1,1],[1,3,2],[3,2,4]])\n",
    "a,b=algorithme_de_Crout(test)"
   ]
  },
  {
   "cell_type": "code",
   "execution_count": 54,
   "id": "26062dad-0731-444a-bccd-45bdc11ca920",
   "metadata": {},
   "outputs": [
    {
     "data": {
      "text/plain": [
       "array([[2. , 1. , 1. ],\n",
       "       [0. , 2.5, 1.5],\n",
       "       [0. , 0. , 2.2]])"
      ]
     },
     "execution_count": 54,
     "metadata": {},
     "output_type": "execute_result"
    }
   ],
   "source": [
    "a"
   ]
  },
  {
   "cell_type": "code",
   "execution_count": 55,
   "id": "814a14bf-a4c7-4012-afa5-d9ad935366a5",
   "metadata": {},
   "outputs": [
    {
     "data": {
      "text/plain": [
       "array([[2., 1., 1.],\n",
       "       [1., 3., 2.],\n",
       "       [3., 2., 4.]])"
      ]
     },
     "execution_count": 55,
     "metadata": {},
     "output_type": "execute_result"
    }
   ],
   "source": [
    "b@a"
   ]
  },
  {
   "cell_type": "markdown",
   "id": "91ddf47d-22a4-4832-91d0-c21626c6963b",
   "metadata": {},
   "source": [
    "# Question n2"
   ]
  },
  {
   "cell_type": "code",
   "execution_count": 101,
   "id": "2a2601fe-b3c5-4964-800f-211616bd43eb",
   "metadata": {},
   "outputs": [],
   "source": [
    "def descente(l,b):\n",
    "    n=len(l)\n",
    "    y=np.zeros(n)\n",
    "    for i in range(0,n):\n",
    "        y[i]=(b[i]-sum(l[i,0:i]*y[0:i]))/l[i,i]\n",
    "    return y"
   ]
  },
  {
   "cell_type": "code",
   "execution_count": 102,
   "id": "2d88aad2-c02c-4c41-9e60-be496ec3a56a",
   "metadata": {},
   "outputs": [],
   "source": [
    "def remonte(u,y):\n",
    "    n=len(y)\n",
    "    x=np.zeros(n)\n",
    "    n=n-1\n",
    "    x[n]=y[n]/u[n,n]\n",
    "    for i in range(n-1,-1,-1):\n",
    "        x[i]=(y[i]-sum(u[i,i+1:]*x[i+1:]))/u[i,i]\n",
    "    return x"
   ]
  },
  {
   "cell_type": "code",
   "execution_count": 103,
   "id": "2f472330-443e-45ae-a994-ed32c83a0c58",
   "metadata": {},
   "outputs": [],
   "source": [
    "def resolution(h):\n",
    "    n=len(h)\n",
    "    b=np.ones(n)\n",
    "    l,u=algorithme_de_Crout(h)\n",
    "    y=descente(l,b)\n",
    "    return remonte(u,y)"
   ]
  },
  {
   "cell_type": "code",
   "execution_count": 104,
   "id": "0f4d7087-7999-4511-abef-01de5521832f",
   "metadata": {},
   "outputs": [],
   "source": [
    "def genere_matrice_H(n):\n",
    "    return np.array([[1/(1+i+j) for i in range(n)] for j in range(n)])"
   ]
  },
  {
   "cell_type": "code",
   "execution_count": 105,
   "id": "63112fbc-1cbd-4664-85fb-599c048262c0",
   "metadata": {},
   "outputs": [
    {
     "data": {
      "text/plain": [
       "array([ 1., 12.])"
      ]
     },
     "execution_count": 105,
     "metadata": {},
     "output_type": "execute_result"
    }
   ],
   "source": [
    "resolution(genere_matrice_H(2))"
   ]
  },
  {
   "cell_type": "code",
   "execution_count": 99,
   "id": "8c303e9d-6658-41da-a7b9-fc587fdd866d",
   "metadata": {},
   "outputs": [
    {
     "data": {
      "text/plain": [
       "array([-9.99982337e+00,  9.89984621e+02, -2.37596706e+04,  2.40236992e+05,\n",
       "       -1.26124560e+06,  3.78374027e+06, -6.72665461e+06,  7.00121663e+06,\n",
       "       -3.93818664e+06,  9.23772647e+05])"
      ]
     },
     "execution_count": 99,
     "metadata": {},
     "output_type": "execute_result"
    }
   ],
   "source": [
    "np.linalg.solve(genere_matrice_H(10),np.ones(10))"
   ]
  }
 ],
 "metadata": {
  "kernelspec": {
   "display_name": "Python 3 (ipykernel)",
   "language": "python",
   "name": "python3"
  },
  "language_info": {
   "codemirror_mode": {
    "name": "ipython",
    "version": 3
   },
   "file_extension": ".py",
   "mimetype": "text/x-python",
   "name": "python",
   "nbconvert_exporter": "python",
   "pygments_lexer": "ipython3",
   "version": "3.10.12"
  }
 },
 "nbformat": 4,
 "nbformat_minor": 5
}
