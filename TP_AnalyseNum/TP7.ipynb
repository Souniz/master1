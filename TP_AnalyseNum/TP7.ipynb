{
 "cells": [
  {
   "cell_type": "code",
   "execution_count": 1,
   "id": "4cf783d8-606e-441c-b057-f030c5c41494",
   "metadata": {},
   "outputs": [],
   "source": [
    "import numpy as np\n",
    "import matplotlib.pyplot as plt"
   ]
  },
  {
   "cell_type": "code",
   "execution_count": 16,
   "id": "8235e03f-8da6-4997-8ff9-71a1244cd722",
   "metadata": {},
   "outputs": [],
   "source": [
    "def gener_instance(x):\n",
    "    c=np.array([-1,2])\n",
    "    b=np.array([1,2])\n",
    "    a=np.array([3,2])\n",
    "    return c.T@x-sum([np.log(b[i]-a[i].T@x) for i in range(500)])"
   ]
  },
  {
   "cell_type": "code",
   "execution_count": 21,
   "id": "2f16da61-8d96-43fa-bdad-0712205aef52",
   "metadata": {},
   "outputs": [],
   "source": [
    "def gradien_f(x):\n",
    "    c=np.array([-1,2])\n",
    "    b=np.array([1,2])\n",
    "    a=np.array([3,2])\n",
    "    return  c-sum([a[i]/(b[i]-a[i].T@x) for i in range(500)])"
   ]
  },
  {
   "cell_type": "code",
   "execution_count": 18,
   "id": "c9e5c65e-db43-4b43-a2fa-18766d859ed3",
   "metadata": {},
   "outputs": [],
   "source": [
    "def backtrak(x_k,d,sig):\n",
    "    rho=1e-3\n",
    "    c=1e-4\n",
    "    if cost(x_k+sig*d)>gener_instance(x_k)+c*sig*gradien_fadient(x_k)@d :\n",
    "        sig=backtrak(x_k,d,rho*sig)\n",
    "    else:\n",
    "       return sig"
   ]
  },
  {
   "cell_type": "code",
   "execution_count": 9,
   "id": "693fd79e-aafb-492a-889f-8ced39030c3f",
   "metadata": {},
   "outputs": [],
   "source": [
    "def methode_desscente(x0,cost,gradient,type=\"backtrack\",epsilon=1e-6,max_iter=1e5,rho=1e-3,c=1e-4,sig=1e-2):\n",
    "    k=0\n",
    "    xlist=[]\n",
    "    flist=[]\n",
    "    nlist=[]\n",
    "    \n",
    "    while np.linalg.norm(gradient(x0))>epsilon and k<max_iter:\n",
    "        d_k=-gradient(x0)\n",
    "        if type==\"backtrack\":\n",
    "         step=backtrak(x0,d_k,sig)\n",
    "        else:\n",
    "            step=metho_Golden(lambda sigma : cost(x0 +sigma*d_k),0,1,1e-12)\n",
    "        x0=x0+step*d_k\n",
    "        k=k+1\n",
    "        nlist.append(np.linalg.norm(gradient(x0)))\n",
    "        xlist.append(x0)\n",
    "        flist.append(cost(x0)) \n",
    "    return xlist,flist,nlist"
   ]
  },
  {
   "cell_type": "code",
   "execution_count": 22,
   "id": "0a19eace-b0e8-4c32-89a9-5364e1048f78",
   "metadata": {},
   "outputs": [
    {
     "ename": "ValueError",
     "evalue": "matmul: Input operand 0 does not have enough dimensions (has 0, gufunc core with signature (n?,k),(k,m?)->(n?,m?) requires 1)",
     "output_type": "error",
     "traceback": [
      "\u001b[1;31m---------------------------------------------------------------------------\u001b[0m",
      "\u001b[1;31mValueError\u001b[0m                                Traceback (most recent call last)",
      "Cell \u001b[1;32mIn[22], line 5\u001b[0m\n\u001b[0;32m      1\u001b[0m Lambda \u001b[38;5;241m=\u001b[39m np\u001b[38;5;241m.\u001b[39marray((\u001b[38;5;241m1\u001b[39m,\u001b[38;5;241m5\u001b[39m))\n\u001b[0;32m      2\u001b[0m \u001b[38;5;66;03m# np.random.seed(seed=1)\u001b[39;00m\n\u001b[0;32m      3\u001b[0m \u001b[38;5;66;03m# P,q,r= quadratic_problem2d(Lambda)\u001b[39;00m\n\u001b[0;32m      4\u001b[0m \u001b[38;5;66;03m# check solution existency \u001b[39;00m\n\u001b[1;32m----> 5\u001b[0m xstar \u001b[38;5;241m=\u001b[39m \u001b[43mgradien_f\u001b[49m\u001b[43m(\u001b[49m\u001b[43mLambda\u001b[49m\u001b[43m)\u001b[49m\n\u001b[0;32m      6\u001b[0m fmin  \u001b[38;5;241m=\u001b[39m gener_instance(xstar)\n\u001b[0;32m      9\u001b[0m \u001b[38;5;66;03m#grid\u001b[39;00m\n",
      "Cell \u001b[1;32mIn[21], line 5\u001b[0m, in \u001b[0;36mgradien_f\u001b[1;34m(x)\u001b[0m\n\u001b[0;32m      3\u001b[0m b\u001b[38;5;241m=\u001b[39mnp\u001b[38;5;241m.\u001b[39marray([\u001b[38;5;241m1\u001b[39m,\u001b[38;5;241m2\u001b[39m])\n\u001b[0;32m      4\u001b[0m a\u001b[38;5;241m=\u001b[39mnp\u001b[38;5;241m.\u001b[39marray([\u001b[38;5;241m3\u001b[39m,\u001b[38;5;241m2\u001b[39m])\n\u001b[1;32m----> 5\u001b[0m \u001b[38;5;28;01mreturn\u001b[39;00m c\u001b[38;5;241m-\u001b[39m\u001b[38;5;28msum\u001b[39m(\u001b[43m[\u001b[49m\u001b[43ma\u001b[49m\u001b[43m[\u001b[49m\u001b[43mi\u001b[49m\u001b[43m]\u001b[49m\u001b[38;5;241;43m/\u001b[39;49m\u001b[43m(\u001b[49m\u001b[43mb\u001b[49m\u001b[43m[\u001b[49m\u001b[43mi\u001b[49m\u001b[43m]\u001b[49m\u001b[38;5;241;43m-\u001b[39;49m\u001b[43ma\u001b[49m\u001b[43m[\u001b[49m\u001b[43mi\u001b[49m\u001b[43m]\u001b[49m\u001b[38;5;241;43m.\u001b[39;49m\u001b[43mT\u001b[49m\u001b[38;5;129;43m@x\u001b[39;49m\u001b[43m)\u001b[49m\u001b[43m \u001b[49m\u001b[38;5;28;43;01mfor\u001b[39;49;00m\u001b[43m \u001b[49m\u001b[43mi\u001b[49m\u001b[43m \u001b[49m\u001b[38;5;129;43;01min\u001b[39;49;00m\u001b[43m \u001b[49m\u001b[38;5;28;43mrange\u001b[39;49m\u001b[43m(\u001b[49m\u001b[38;5;241;43m500\u001b[39;49m\u001b[43m)\u001b[49m\u001b[43m]\u001b[49m)\n",
      "Cell \u001b[1;32mIn[21], line 5\u001b[0m, in \u001b[0;36m<listcomp>\u001b[1;34m(.0)\u001b[0m\n\u001b[0;32m      3\u001b[0m b\u001b[38;5;241m=\u001b[39mnp\u001b[38;5;241m.\u001b[39marray([\u001b[38;5;241m1\u001b[39m,\u001b[38;5;241m2\u001b[39m])\n\u001b[0;32m      4\u001b[0m a\u001b[38;5;241m=\u001b[39mnp\u001b[38;5;241m.\u001b[39marray([\u001b[38;5;241m3\u001b[39m,\u001b[38;5;241m2\u001b[39m])\n\u001b[1;32m----> 5\u001b[0m \u001b[38;5;28;01mreturn\u001b[39;00m c\u001b[38;5;241m-\u001b[39m\u001b[38;5;28msum\u001b[39m([a[i]\u001b[38;5;241m/\u001b[39m(b[i]\u001b[38;5;241m-\u001b[39m\u001b[43ma\u001b[49m\u001b[43m[\u001b[49m\u001b[43mi\u001b[49m\u001b[43m]\u001b[49m\u001b[38;5;241;43m.\u001b[39;49m\u001b[43mT\u001b[49m\u001b[38;5;129;43m@x\u001b[39;49m) \u001b[38;5;28;01mfor\u001b[39;00m i \u001b[38;5;129;01min\u001b[39;00m \u001b[38;5;28mrange\u001b[39m(\u001b[38;5;241m500\u001b[39m)])\n",
      "\u001b[1;31mValueError\u001b[0m: matmul: Input operand 0 does not have enough dimensions (has 0, gufunc core with signature (n?,k),(k,m?)->(n?,m?) requires 1)"
     ]
    }
   ],
   "source": [
    "Lambda = np.array((1,5))\n",
    "# np.random.seed(seed=1)\n",
    "# P,q,r= quadratic_problem2d(Lambda)\n",
    "# check solution existency \n",
    "xstar = gradien_f(Lambda)\n",
    "fmin  = gener_instance(xstar)\n",
    "\n",
    "\n",
    "#grid\n",
    "ax= xstar[0]\n",
    "bx = xstar[0]\n",
    "ay= xstar[1]\n",
    "by = xstar[1]\n",
    "\n",
    "for test in range(2):\n",
    "    x0 = np.copy(xstar) + 2.*(np.random.rand(2)-.5)\n",
    "    #\n",
    " \n",
    "    xlist,flist,nlist =  methode_desscente(x0,gener_instance,gradien_f,\"backtrack\",1e-4)\n",
    "    xlist = np.asarray(xlist)\n",
    "    #\n",
    "    plt.figure(figsize=(18,10))\n",
    "    fig = plt.figure(1) \n",
    "    plt.subplot(1,3,1)\n",
    "    plt.plot(xlist[:,0], xlist[:,1],'o-',label='points')\n",
    "#    #\n",
    "    ax = np.min((xlist[:,0].min(),ax))-.1\n",
    "    bx = np.max((xlist[:,0].max(),bx))+.1\n",
    "    ay = np.min((xlist[:,1].min(),ay))-.1\n",
    "    by = np.max((xlist[:,1].max(),by))+.1\n",
    "    \n",
    "    plt.subplot(1,3,2)\n",
    "    plt.semilogy(range(len(flist)),flist-fmin+1e-16)\n",
    "    plt.xlabel('iterations')\n",
    "    plt.ylabel(r'$f(x^k)$')\n",
    "    \n",
    "    plt.subplot(1,3,3)\n",
    "    plt.semilogy(nlist,':')\n",
    "    plt.xlabel('iterations')\n",
    "    plt.ylabel(r'$f(x^k)$')\n",
    "    \n",
    "    \n",
    "#    \n",
    "xgrid = np.arange(ax,bx,(bx-ax)/50)\n",
    "ygrid = np.arange(ay,by,(by-ay)/50)\n",
    "X, Y = np.meshgrid(xgrid, ygrid)\n",
    "Z = np.zeros(X.shape)\n",
    "for i in range(Z.shape[0]):\n",
    "    for j in range(Z.shape[1]):\n",
    "        Z[i,j] = cost(np.array([X[i,j],Y[i,j]]))\n",
    "\n",
    "plt.subplot(1,3,1)\n",
    "plt.contour(X, Y, Z,21)\n",
    "\n",
    "plt.plot(xstar[0], xstar[1],'*',label='points')\n",
    "plt.show()"
   ]
  }
 ],
 "metadata": {
  "kernelspec": {
   "display_name": "Python 3 (ipykernel)",
   "language": "python",
   "name": "python3"
  },
  "language_info": {
   "codemirror_mode": {
    "name": "ipython",
    "version": 3
   },
   "file_extension": ".py",
   "mimetype": "text/x-python",
   "name": "python",
   "nbconvert_exporter": "python",
   "pygments_lexer": "ipython3",
   "version": "3.11.7"
  }
 },
 "nbformat": 4,
 "nbformat_minor": 5
}
