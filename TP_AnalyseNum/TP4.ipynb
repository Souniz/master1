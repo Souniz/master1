{
 "cells": [
  {
   "cell_type": "code",
   "execution_count": 23,
   "id": "86194ca7-9f5b-476a-93b1-66c896618f62",
   "metadata": {},
   "outputs": [],
   "source": [
    "import numpy as np\n",
    "import matplotlib.pyplot as plt\n",
    "import timeit"
   ]
  },
  {
   "cell_type": "code",
   "execution_count": 102,
   "id": "e63ace78-e193-43e2-abe4-3426429d0db4",
   "metadata": {},
   "outputs": [],
   "source": [
    "def methode_dichotomie(f,a,b,epsilon):\n",
    "    while b-a>epsilon:\n",
    "        m=(b+a)/2\n",
    "        if (f(m)-f(a))/(m-a)>=0:\n",
    "            a=m\n",
    "        elif (f(b)-f(m))/(b-m)<=0:\n",
    "            b=m\n",
    "        else:\n",
    "            if (f(m)-f((a+m)/2)/(m-(((a+m)/2))))>=0:\n",
    "                 b=m\n",
    "            if (f(((b+m)/2)-f(m))/(b-(((b+m)/2))))<=0:\n",
    "                b=m\n",
    "            else:\n",
    "                a=(a+m)/2\n",
    "                b=(b+m)/2\n",
    "    return (a+b)/2,f((a+b)/2)"
   ]
  },
  {
   "cell_type": "code",
   "execution_count": 106,
   "id": "4878f431-c6b9-47b0-873a-089ee54d1eed",
   "metadata": {},
   "outputs": [
    {
     "data": {
      "text/plain": [
       "(0.49996948242232975, 2.55202565367203e-09)"
      ]
     },
     "execution_count": 106,
     "metadata": {},
     "output_type": "execute_result"
    }
   ],
   "source": [
    "methode_dichotomie(lambda x: (x-0.50002)**2,0,1,1e-12)"
   ]
  },
  {
   "cell_type": "code",
   "execution_count": 104,
   "id": "66e57d2e-4e98-4330-bbbf-9c90ded3900f",
   "metadata": {},
   "outputs": [],
   "source": [
    "def metho_Golden(f,a,b,epsilon):\n",
    "    fi=((1+np.sqrt(5))/2)+1\n",
    "    c=a+(b-a)/(fi)\n",
    "    d=b-(b-a)/(fi)\n",
    "    while b-a>epsilon:\n",
    "        if f(c)>=f(d):\n",
    "            a=c\n",
    "            c=d\n",
    "            d=b-(b-a)/(fi+1)\n",
    "        else:\n",
    "            b=d\n",
    "            d=c\n",
    "            c=a+(b-a)/(fi+1)\n",
    "    return (a+b)/2,f((a+b)/2)"
   ]
  },
  {
   "cell_type": "code",
   "execution_count": 107,
   "id": "782e4299-1209-4dfb-bbb5-2968b04e5440",
   "metadata": {},
   "outputs": [
    {
     "data": {
      "text/plain": [
       "(0.4999980275011724, 4.827907047300736e-10)"
      ]
     },
     "execution_count": 107,
     "metadata": {},
     "output_type": "execute_result"
    }
   ],
   "source": [
    "metho_Golden(lambda x: (x-0.50002)**2,0,1,1e-12)"
   ]
  },
  {
   "cell_type": "code",
   "execution_count": 97,
   "id": "29114a2f-0b45-4fb3-8c28-f18fe7b2d1be",
   "metadata": {},
   "outputs": [
    {
     "name": "stdout",
     "output_type": "stream",
     "text": [
      "--- 1.2499334812164307 seconds ---\n"
     ]
    }
   ],
   "source": [
    "import time\n",
    "start_time = time.time()\n",
    "for i in range(10000):\n",
    "   methode_dichotomie(lambda x: (x-0.50002)**2,0,1,1e-12)\n",
    "print(\"--- %s seconds ---\" % (time.time() - start_time))"
   ]
  },
  {
   "cell_type": "code",
   "execution_count": 96,
   "id": "4ab65a91-ff0d-4926-b926-6107ef22c8f1",
   "metadata": {},
   "outputs": [
    {
     "name": "stdout",
     "output_type": "stream",
     "text": [
      "--- 0.8792695999145508 seconds ---\n"
     ]
    }
   ],
   "source": [
    "import time\n",
    "start_time = time.time()\n",
    "for i in range(10000):\n",
    "   metho_Golden(lambda x: (x-0.50002)**2,0,1,1e-12)\n",
    "print(\"--- %s seconds ---\" % (time.time() - start_time))"
   ]
  },
  {
   "cell_type": "markdown",
   "id": "d27dc703-f064-4c5a-88bd-b15d3f0b018e",
   "metadata": {},
   "source": [
    "# La methode de GoldenSearch est plus rapide que la dichotomie "
   ]
  }
 ],
 "metadata": {
  "kernelspec": {
   "display_name": "Python 3 (ipykernel)",
   "language": "python",
   "name": "python3"
  },
  "language_info": {
   "codemirror_mode": {
    "name": "ipython",
    "version": 3
   },
   "file_extension": ".py",
   "mimetype": "text/x-python",
   "name": "python",
   "nbconvert_exporter": "python",
   "pygments_lexer": "ipython3",
   "version": "3.10.12"
  }
 },
 "nbformat": 4,
 "nbformat_minor": 5
}
