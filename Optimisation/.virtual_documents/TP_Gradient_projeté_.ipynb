


#!/usr/bin/env python3
# -*- coding: utf-8 -*-
"""
Created on Mon Oct 21 14:17:49 2024

@author: mberar
"""

import numpy as np
import itertools
import matplotlib.pyplot as plt
plt.close("all")

def mesh(x_min,x_max,y_min,y_max, h = 0.1):
    xx, yy = np.meshgrid(np.arange(x_min, x_max, h), np.arange(y_min, y_max, h))
    return xx, yy

H = np.array([[1,-0.5],[-0.5,4]])
b = np.array([2,1])
c = 3

def cout(x):
    return 0.5*x@(H@x) + x@b + c

# Z contient tout les points de la grille -5,5
xx, yy  = mesh(-5,5,-5,5)
Cost = np.zeros(xx.shape)

for z in itertools.product(range(len(xx)),range(len(yy))):
    Cost[z] = cout(np.array([xx[z],yy[z]]))

plt.figure(1)
plt.contour(xx, yy, Cost, 20, cmap=plt.cm.Paired)
plt.show()














def Projection(y,z):
    if np.linalg.norm(y)<=z:
        return y
    else:
        return (y/np.linalg.norm(y))*z


def backtrak(x_k,cout,Projection,d,sig):
    rho=0.4
    c=1e-4
    f_x=cout(x_k)
    while(cout(Projection(x_k+sig*d,3))>f_x-c*sig*d@d) :
        sig=sig*rho
    return sig


def gradient(x_0):
    return H@x_0+b


#Choice methode backtack or golden_search or fix point
def ajouter_xlist_flist(xlist,flist,nlist,x_0):
    nlist.append(np.linalg.norm(gradient(x_0)))
    xlist.append(x_0)
    flist.append(cout(x_0))
    
def methode_desscente(x_0,cout,Projection,gradient,epsilon=1e-6,max_iter=1e5,rho=1e-3,c_=1e-4,sig=2):
    k=0
    xlist=[]
    flist=[]
    nlist=[]
    ajouter_xlist_flist(xlist,flist,nlist,x_0)
    d_k=-gradient(x_0)
    step=backtrak(x_0,cout,Projection,d_k,sig)
    x_0=Projection(x_0+step*d_k,3)
    k=k+1
    ajouter_xlist_flist(xlist,flist,nlist,x_0)
    while np.abs(flist[-2]-flist[-1])>epsilon and k<max_iter:
        d_k=-gradient(x_0)
        step=backtrak(x_0,cout,Projection,d_k,sig)
        x_0=Projection(x_0+step*d_k,3)
        k=k+1
        ajouter_xlist_flist(xlist,flist,nlist,x_0)
    return xlist,flist,nlist


# inserer votre code ici
xx, yy  = mesh(-5,5,-5,5)
xlist,flist,nlist =  methode_desscente(x_0,cout,Projection,gradient,epsilon=1e-6,max_iter=1e5,rho=1e-3,c_=1e-4,sig=2)
xlist = np.array(xlist)
plt.figure(1)
plt.plot(xlist[:,0], xlist[:,1],'o-',label='points')
plt.contour(xx, yy, Cost, 20, cmap=plt.cm.Paired)
plt.show()



nb_iter = 100
w = np.random.randn(2)*3
m_cout = np.zeros(nb_iter)
mat_w = np.zeros((nb_iter,2))
beta = 0.9
c = 0.5
tho = 1
for i in range(nb_iter):    
  # inserer votre code ici
  
  
plt.plot(mat_w[:,0],mat_w[:,1],'r')





data = 'diabetes'

if data is 'boston':
    data = datasets.load_boston(True)
else:
    data = datasets.load_diabetes(True)
    
# inserer votre code



#------------------------
nb_iter = 100
w = np.random.rand(d)*0.04
m_cout = np.zeros(nb_iter)
tau = 
e = np.zeros(d)
for k in range(nb_iter):    
    # inserer votre code


H@np.ones(2)*4
