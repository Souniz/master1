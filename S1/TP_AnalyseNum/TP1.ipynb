{
 "cells": [
  {
   "cell_type": "code",
   "execution_count": 59,
   "id": "c1e84a0e-987f-499b-8514-616d27a6a71e",
   "metadata": {},
   "outputs": [],
   "source": [
    "import numpy as np"
   ]
  },
  {
   "cell_type": "code",
   "execution_count": 58,
   "id": "849267a2-a8f0-4cae-818d-a512c407c592",
   "metadata": {},
   "outputs": [],
   "source": [
    "def algorithme_de_Crout(A):\n",
    "    n=len(A)\n",
    "    l=np.eye(n)\n",
    "    u=np.zeros((n,n))\n",
    "    u[0,:]=A[0,:]\n",
    "    l[1:,0]=1/u[0,0]*A[1:,0]\n",
    "    for k in range(1,n):\n",
    "        u[k,k:]=A[k,k:]-l[k,:k]@u[:k,k:]\n",
    "        l[k+1:,k]=1/u[k,k]*(A[k+1:,k]-l[k+1:,:k]@u[:k,k])\n",
    "    u[n-1,n-1]=A[n-1,n-1]-l[n-1,:n-1]@u[:n-1,n-1]\n",
    "    return (l,u)"
   ]
  },
  {
   "cell_type": "code",
   "execution_count": 60,
   "id": "8db0d2e8-f542-4a51-8b07-5adf6afbe627",
   "metadata": {},
   "outputs": [],
   "source": [
    "test=np.array([[2,1,1],[1,3,2],[3,2,4]])\n",
    "a,b=algorithme_de_Crout(test)"
   ]
  },
  {
   "cell_type": "code",
   "execution_count": 62,
   "id": "814a14bf-a4c7-4012-afa5-d9ad935366a5",
   "metadata": {},
   "outputs": [
    {
     "data": {
      "text/plain": [
       "array([[2., 1., 1.],\n",
       "       [1., 3., 2.],\n",
       "       [3., 2., 4.]])"
      ]
     },
     "execution_count": 62,
     "metadata": {},
     "output_type": "execute_result"
    }
   ],
   "source": [
    "#Pour tester le resultat de la fonction algorithme_de_Crout()\n",
    "a@b"
   ]
  },
  {
   "cell_type": "markdown",
   "id": "91ddf47d-22a4-4832-91d0-c21626c6963b",
   "metadata": {},
   "source": [
    "# Question n2"
   ]
  },
  {
   "cell_type": "code",
   "execution_count": 106,
   "id": "0f4d7087-7999-4511-abef-01de5521832f",
   "metadata": {},
   "outputs": [],
   "source": [
    "# Methode pour la generation de la matrice H_n\n",
    "def genere_matrice_H(n):\n",
    "    return np.array([[1/(1+i+j) for i in range(1,n)] for j in range(1,n)])"
   ]
  },
  {
   "cell_type": "code",
   "execution_count": 82,
   "id": "2a2601fe-b3c5-4964-800f-211616bd43eb",
   "metadata": {},
   "outputs": [],
   "source": [
    "#Methode de la descente\n",
    "def descente(l,b):\n",
    "    n=len(l)\n",
    "    y=np.zeros(n)\n",
    "    for i in range(0,n):\n",
    "        y[i]=(b[i]-sum(l[i,0:i]*y[0:i]))\n",
    "    return y"
   ]
  },
  {
   "cell_type": "code",
   "execution_count": 83,
   "id": "2d88aad2-c02c-4c41-9e60-be496ec3a56a",
   "metadata": {},
   "outputs": [],
   "source": [
    "#Methode de la remonte\n",
    "def remonte(u,y):\n",
    "    n=len(y)\n",
    "    x=np.zeros(n)\n",
    "    for i in range(n-1,-1,-1):\n",
    "        x[i]=(y[i]-sum(u[i,i+1:]*x[i+1:]))/u[i,i]\n",
    "    return x"
   ]
  },
  {
   "cell_type": "code",
   "execution_count": 77,
   "id": "2f472330-443e-45ae-a994-ed32c83a0c58",
   "metadata": {},
   "outputs": [],
   "source": [
    "#La methode qui fasse la resolution en fesant appel aux methode remote() et descente()\n",
    "def resolution(h):\n",
    "    n=len(h)\n",
    "    b=np.ones(n)\n",
    "    l,u=algorithme_de_Crout(h)\n",
    "    y=descente(l,b)\n",
    "    return remonte(u,y)"
   ]
  },
  {
   "cell_type": "code",
   "execution_count": 129,
   "id": "63112fbc-1cbd-4664-85fb-599c048262c0",
   "metadata": {},
   "outputs": [
    {
     "data": {
      "text/plain": [
       "array([ 4.94927192e+02, -1.58379241e+04,  1.80158704e+05, -1.00889938e+06,\n",
       "        3.15283835e+06, -5.76523319e+06,  6.12559957e+06, -3.50036211e+06,\n",
       "        8.31340061e+05])"
      ]
     },
     "execution_count": 129,
     "metadata": {},
     "output_type": "execute_result"
    }
   ],
   "source": [
    "resolution(genere_matrice_H(10))"
   ]
  },
  {
   "cell_type": "code",
   "execution_count": 128,
   "id": "5f94f77c-1973-4a6c-b246-88d278e4359b",
   "metadata": {},
   "outputs": [
    {
     "data": {
      "text/plain": [
       "array([ 4.94941572e+02, -1.58383418e+04,  1.80163050e+05, -1.00892181e+06,\n",
       "        3.15290331e+06, -5.76534388e+06,  6.12570966e+06, -3.50042124e+06,\n",
       "        8.31353308e+05])"
      ]
     },
     "execution_count": 128,
     "metadata": {},
     "output_type": "execute_result"
    }
   ],
   "source": [
    "np.linalg.solve(genere_matrice_H(10),np.ones(9))"
   ]
  },
  {
   "cell_type": "code",
   "execution_count": 130,
   "id": "7a2229f2-39c0-41d8-aeec-97abfcf8f1ce",
   "metadata": {},
   "outputs": [
    {
     "data": {
      "text/plain": [
       "array([ 5.81667899e+03, -3.03059848e+05,  5.64867872e+06, -5.19468626e+07,\n",
       "        2.65594541e+08, -7.84608440e+08,  1.31851796e+09, -1.22136611e+09,\n",
       "        8.24582675e+08, -6.15672153e+08, -7.98004674e+08,  1.14632579e+09,\n",
       "        4.44722034e+09, -7.72482696e+09,  7.44318532e+08,  3.91690714e+09,\n",
       "       -1.42750788e+09,  3.89796378e+08, -2.28383534e+09,  5.06833625e+09,\n",
       "       -8.43496911e+08, -2.41403841e+09, -1.61867489e+09, -4.68276459e+09,\n",
       "        5.02248941e+09,  4.18723357e+09,  7.18743906e+07, -3.97701595e+09,\n",
       "        4.80331863e+09, -5.55584531e+08, -3.65954039e+09, -4.62689541e+09,\n",
       "        1.95658255e+09,  2.75878095e+09, -2.28628928e+09,  2.90497994e+09,\n",
       "        4.83434950e+09,  2.39859186e+09, -1.04511529e+10,  8.98961565e+08,\n",
       "       -3.48515965e+09,  7.43538734e+09, -1.46889121e+09, -1.70920359e+07,\n",
       "        1.28730579e+09, -3.64786999e+09,  3.78823482e+09, -2.79501401e+09,\n",
       "        9.62207850e+08])"
      ]
     },
     "execution_count": 130,
     "metadata": {},
     "output_type": "execute_result"
    }
   ],
   "source": [
    "resolution(genere_matrice_H(50))"
   ]
  },
  {
   "cell_type": "code",
   "execution_count": 135,
   "id": "8c303e9d-6658-41da-a7b9-fc587fdd866d",
   "metadata": {},
   "outputs": [
    {
     "data": {
      "text/plain": [
       "array([ 2.36538358e+03, -1.31931921e+05,  2.67956613e+06, -2.75297212e+07,\n",
       "        1.62457164e+08, -5.75438512e+08,  1.18741331e+09, -1.16556678e+09,\n",
       "       -1.08895377e+08,  7.92955364e+08,  1.00239064e+09, -1.57010974e+09,\n",
       "       -1.47738614e+09,  3.00746725e+08,  4.81405115e+09, -3.85716551e+08,\n",
       "       -6.07375867e+09,  5.40280778e+08,  2.64958753e+09, -1.10355778e+08,\n",
       "        2.68923483e+09, -1.64842077e+09, -1.02836908e+09, -1.26844639e+09,\n",
       "        6.40647243e+08,  4.89672779e+08,  2.56950904e+08,  8.21989772e+08,\n",
       "       -1.63045990e+09, -1.30685332e+09,  3.09965837e+09, -3.34016117e+08,\n",
       "       -1.07855067e+09,  1.65330698e+09,  3.60844309e+08, -8.60031148e+08,\n",
       "       -2.24809281e+09, -1.05209282e+09,  8.68705085e+08,  3.21229370e+09,\n",
       "       -1.23237898e+09, -1.13919117e+09,  2.44279743e+09, -2.39684201e+09,\n",
       "        1.62563473e+09, -9.46362282e+08, -2.85408405e+08,  1.37863623e+08,\n",
       "        1.98241363e+08])"
      ]
     },
     "execution_count": 135,
     "metadata": {},
     "output_type": "execute_result"
    }
   ],
   "source": [
    "# La methode de numpy pour tester le resultat\n",
    "np.linalg.solve(genere_matrice_H(50),np.ones(49))"
   ]
  },
  {
   "cell_type": "code",
   "execution_count": 132,
   "id": "748d73fd-dd79-4660-9e16-7465fe88e18d",
   "metadata": {},
   "outputs": [],
   "source": [
    "def errer_quadratique_moyenne():\n",
    "    n=[2,5,10,20,50,60,70]\n",
    "    errer=np.zeros(len(n))\n",
    "    for i in range(len(n)):\n",
    "        errer[i]=sum((resolution(genere_matrice_H(n[i]))-np.linalg.solve(genere_matrice_H(n[i]),np.ones(n[i]-1)))**2)/len(n)\n",
    "    return errer"
   ]
  },
  {
   "cell_type": "code",
   "execution_count": 133,
   "id": "3d01b24b-9933-4f3a-8827-86bee27c3d54",
   "metadata": {},
   "outputs": [
    {
     "data": {
      "text/plain": [
       "array([0.00000000e+00, 3.68867998e-20, 4.68389466e+03, 1.04385064e+17,\n",
       "       1.09702786e+20, 2.24752639e+20, 9.01796236e+19])"
      ]
     },
     "execution_count": 133,
     "metadata": {},
     "output_type": "execute_result"
    }
   ],
   "source": [
    "errer_quadratique_moyenne()"
   ]
  },
  {
   "cell_type": "markdown",
   "id": "4bd6fe9e-f6f5-431a-ab00-f497300c5848",
   "metadata": {},
   "source": [
    "# Remarque:\n",
    "## Plus la valeur de n augmente plus l'errer devient plus grandre"
   ]
  },
  {
   "cell_type": "code",
   "execution_count": 136,
   "id": "a879f7c3-a2a8-43cc-acf4-3068748b8526",
   "metadata": {},
   "outputs": [],
   "source": [
    "# Question n3"
   ]
  },
  {
   "cell_type": "code",
   "execution_count": 179,
   "id": "99e8d5eb-9d34-45c1-80be-8f48bfbd9312",
   "metadata": {},
   "outputs": [],
   "source": [
    "def algorithme_Cholesky(A):\n",
    "    n=len(A)\n",
    "    B=np.zeros((n,n))\n",
    "    B[0,0]=np.sqrt(A[0,0])\n",
    "    B[1:,0]=1/B[0,0]*A[1:,0]\n",
    "    B[0,1:]=B[1:,0]\n",
    "    for k in range(1,n-1):\n",
    "        B[k,k]=np.sqrt(A[k,k]-B[k,:k]@B[:k,k])\n",
    "        B[k+1:,k]=1/B[k,k]*(A[k+1:,k]-B[k+1:,:k]@B[:k,k])\n",
    "        B[k,k+1:]=B[k+1:,k]\n",
    "    B[n-1,n-1]=np.sqrt(A[n-1,n-1]-B[n-1,:n-1]@B[:n-1,n-1])\n",
    "    return B"
   ]
  },
  {
   "cell_type": "code",
   "execution_count": 181,
   "id": "86ff23b9-9450-4360-9c74-3364847c02ee",
   "metadata": {},
   "outputs": [
    {
     "data": {
      "text/plain": [
       "array([[0.33333333, 0.25      , 0.2       , 0.16666667],\n",
       "       [0.25      , 0.2       , 0.16666667, 0.14285714],\n",
       "       [0.2       , 0.16666667, 0.14285714, 0.125     ],\n",
       "       [0.16666667, 0.14285714, 0.125     , 0.11111111]])"
      ]
     },
     "execution_count": 181,
     "metadata": {},
     "output_type": "execute_result"
    }
   ],
   "source": [
    "b=1/2*(genere_matrice_H(5)+genere_matrice_H(5).T)\n",
    "b"
   ]
  },
  {
   "cell_type": "code",
   "execution_count": 182,
   "id": "a1d8055a-2668-4e86-92d0-d84b48630dbe",
   "metadata": {},
   "outputs": [
    {
     "data": {
      "text/plain": [
       "array([[0.57735027, 0.        , 0.        , 0.        ],\n",
       "       [0.4330127 , 0.1118034 , 0.        , 0.        ],\n",
       "       [0.34641016, 0.1490712 , 0.02519763, 0.        ],\n",
       "       [0.28867513, 0.15971914, 0.04724556, 0.00595238]])"
      ]
     },
     "execution_count": 182,
     "metadata": {},
     "output_type": "execute_result"
    }
   ],
   "source": [
    "np.linalg.cholesky(b)"
   ]
  },
  {
   "cell_type": "code",
   "execution_count": 183,
   "id": "d427cd05-709c-40c5-9d18-60b66e45d7ac",
   "metadata": {},
   "outputs": [
    {
     "data": {
      "text/plain": [
       "array([[0.57735027, 0.4330127 , 0.34641016, 0.28867513],\n",
       "       [0.4330127 , 0.1118034 , 0.1490712 , 0.15971914],\n",
       "       [0.34641016, 0.1490712 , 0.02519763, 0.04724556],\n",
       "       [0.28867513, 0.15971914, 0.04724556, 0.00595238]])"
      ]
     },
     "execution_count": 183,
     "metadata": {},
     "output_type": "execute_result"
    }
   ],
   "source": [
    "algorithme_Cholesky(b)"
   ]
  },
  {
   "cell_type": "code",
   "execution_count": 174,
   "id": "d739f5b2-0400-4a21-b2b4-26a1c716f597",
   "metadata": {},
   "outputs": [
    {
     "data": {
      "text/plain": [
       "array([[0.57735027, 0.        , 0.        , 0.        ],\n",
       "       [0.4330127 , 0.1118034 , 0.        , 0.        ],\n",
       "       [0.34641016, 0.1490712 , 0.02519763, 0.        ],\n",
       "       [0.28867513, 0.15971914, 0.04724556, 0.00595238]])"
      ]
     },
     "execution_count": 174,
     "metadata": {},
     "output_type": "execute_result"
    }
   ],
   "source": [
    "np.linalg.cholesky(b)"
   ]
  }
 ],
 "metadata": {
  "kernelspec": {
   "display_name": "Python 3 (ipykernel)",
   "language": "python",
   "name": "python3"
  },
  "language_info": {
   "codemirror_mode": {
    "name": "ipython",
    "version": 3
   },
   "file_extension": ".py",
   "mimetype": "text/x-python",
   "name": "python",
   "nbconvert_exporter": "python",
   "pygments_lexer": "ipython3",
   "version": "3.11.7"
  }
 },
 "nbformat": 4,
 "nbformat_minor": 5
}
