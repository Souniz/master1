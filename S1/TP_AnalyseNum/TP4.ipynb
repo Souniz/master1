{
 "cells": [
  {
   "cell_type": "code",
   "execution_count": 1,
   "id": "86194ca7-9f5b-476a-93b1-66c896618f62",
   "metadata": {},
   "outputs": [],
   "source": [
    "import numpy as np\n",
    "import matplotlib.pyplot as plt\n",
    "import timeit"
   ]
  },
  {
   "cell_type": "code",
   "execution_count": 2,
   "id": "e63ace78-e193-43e2-abe4-3426429d0db4",
   "metadata": {},
   "outputs": [],
   "source": [
    "def methode_dichotomie(f,a,b,epsilon):\n",
    "    while b-a>epsilon:\n",
    "        m=(b+a)/2\n",
    "        if (f(m)-f(a))/(m-a)>=0:\n",
    "            a=m\n",
    "        elif (f(b)-f(m))/(b-m)<=0:\n",
    "            b=m\n",
    "        else:\n",
    "            if (f(m)-f((a+m)/2)/(m-(((a+m)/2))))>=0:\n",
    "                 b=m\n",
    "            if (f(((b+m)/2)-f(m))/(b-(((b+m)/2))))<=0:\n",
    "                b=m\n",
    "            else:\n",
    "                a=(a+m)/2\n",
    "                b=(b+m)/2\n",
    "    return (a+b)/2,f((a+b)/2)"
   ]
  },
  {
   "cell_type": "code",
   "execution_count": 3,
   "id": "4878f431-c6b9-47b0-873a-089ee54d1eed",
   "metadata": {},
   "outputs": [
    {
     "data": {
      "text/plain": [
       "(0.49996948242232975, 2.55202565367203e-09)"
      ]
     },
     "execution_count": 3,
     "metadata": {},
     "output_type": "execute_result"
    }
   ],
   "source": [
    "methode_dichotomie(lambda x: (x-0.50002)**2,0,1,1e-12)"
   ]
  },
  {
   "cell_type": "code",
   "execution_count": 4,
   "id": "66e57d2e-4e98-4330-bbbf-9c90ded3900f",
   "metadata": {},
   "outputs": [],
   "source": [
    "def metho_Golden(f,a,b,epsilon):\n",
    "    fi=((1+np.sqrt(5))/2)+1\n",
    "    c=a+(b-a)/(fi)\n",
    "    d=b-(b-a)/(fi)\n",
    "    while b-a>epsilon:\n",
    "        if f(c)>=f(d):\n",
    "            a=c\n",
    "            c=d\n",
    "            d=b-(b-a)/(fi+1)\n",
    "        else:\n",
    "            b=d\n",
    "            d=c\n",
    "            c=a+(b-a)/(fi+1)\n",
    "    return (a+b)/2,f((a+b)/2)"
   ]
  },
  {
   "cell_type": "code",
   "execution_count": 5,
   "id": "782e4299-1209-4dfb-bbb5-2968b04e5440",
   "metadata": {},
   "outputs": [
    {
     "data": {
      "text/plain": [
       "(0.4999980275011724, 4.827907047300736e-10)"
      ]
     },
     "execution_count": 5,
     "metadata": {},
     "output_type": "execute_result"
    }
   ],
   "source": [
    "metho_Golden(lambda x: (x-0.50002)**2,0,1,1e-12)"
   ]
  },
  {
   "cell_type": "code",
   "execution_count": 6,
   "id": "29114a2f-0b45-4fb3-8c28-f18fe7b2d1be",
   "metadata": {},
   "outputs": [
    {
     "name": "stdout",
     "output_type": "stream",
     "text": [
      "--- 1.5556678771972656 seconds ---\n"
     ]
    }
   ],
   "source": [
    "import time\n",
    "start_time = time.time()\n",
    "for i in range(10000):\n",
    "   methode_dichotomie(lambda x: (x-0.50002)**2,0,1,1e-12)\n",
    "print(\"--- %s seconds ---\" % (time.time() - start_time))"
   ]
  },
  {
   "cell_type": "code",
   "execution_count": 7,
   "id": "4ab65a91-ff0d-4926-b926-6107ef22c8f1",
   "metadata": {},
   "outputs": [
    {
     "name": "stdout",
     "output_type": "stream",
     "text": [
      "--- 0.8544321060180664 seconds ---\n"
     ]
    }
   ],
   "source": [
    "import time\n",
    "start_time = time.time()\n",
    "for i in range(10000):\n",
    "   metho_Golden(lambda x: (x-0.50002)**2,0,1,1e-12)\n",
    "print(\"--- %s seconds ---\" % (time.time() - start_time))"
   ]
  },
  {
   "cell_type": "markdown",
   "id": "d27dc703-f064-4c5a-88bd-b15d3f0b018e",
   "metadata": {},
   "source": [
    "# La methode de GoldenSearch est plus rapide que la dichotomie "
   ]
  },
  {
   "cell_type": "markdown",
   "id": "f5fa90ea-1855-4d72-bb59-bfb30b1f9845",
   "metadata": {},
   "source": [
    "# ``Partie 2`` Quelques fonctions"
   ]
  },
  {
   "cell_type": "markdown",
   "id": "579f56d9-c868-4480-bcb2-0ebbeec2e477",
   "metadata": {},
   "source": [
    "`a⊤x`"
   ]
  },
  {
   "cell_type": "code",
   "execution_count": null,
   "id": "da55c0ca-d5aa-4df0-b4af-be5434ddcf0d",
   "metadata": {},
   "outputs": [],
   "source": [
    "def a_transpos_x(a,x):\n",
    "    return a.T@x"
   ]
  },
  {
   "cell_type": "markdown",
   "id": "c2d8109f-1a1a-47ce-8132-b83726241c65",
   "metadata": {},
   "source": [
    "`∥x∥2`"
   ]
  },
  {
   "cell_type": "code",
   "execution_count": 9,
   "id": "bcbb12e5-ed5f-410f-94ce-ec62f882217d",
   "metadata": {},
   "outputs": [],
   "source": [
    "def module_x_carre(x):\n",
    "    return x.T@x"
   ]
  },
  {
   "cell_type": "markdown",
   "id": "739d0610-cb22-4a7c-bb87-2ae5c82bf963",
   "metadata": {},
   "source": [
    "`∥Ax − b∥2`"
   ]
  },
  {
   "cell_type": "code",
   "execution_count": null,
   "id": "2e8d90ae-d8a8-45d4-a67d-acbaf349ded5",
   "metadata": {},
   "outputs": [],
   "source": [
    "def module_Ax_moin_b_carre(A,x):\n",
    "    return (A@x-b).T@(A@x-b)"
   ]
  },
  {
   "cell_type": "markdown",
   "id": "c2b3af2e-803e-4ee4-9ec4-5db8eff44ec0",
   "metadata": {},
   "source": [
    "``− exp−∥Ax−b∥2``"
   ]
  },
  {
   "cell_type": "code",
   "execution_count": null,
   "id": "ebf1a055-24d3-4216-a10b-f2cd52ad75a4",
   "metadata": {},
   "outputs": [],
   "source": [
    "def expo_ax_b(A,x):\n",
    "    return -np.exp(-module_Ax_moin_b_carre(A,x))"
   ]
  },
  {
   "cell_type": "markdown",
   "id": "2ce4a84d-eb3c-4374-a3db-2e26b9418121",
   "metadata": {},
   "source": [
    "# log1+∥Ax−b∥2"
   ]
  },
  {
   "cell_type": "code",
   "execution_count": null,
   "id": "b2ecd375-c6c4-4bd0-a3eb-52dbf05d95d2",
   "metadata": {},
   "outputs": [],
   "source": [
    "def log_1Plus(A,x):\n",
    "    return np.log(1+module_Ax_moin_b_carre(A,x))"
   ]
  },
  {
   "cell_type": "markdown",
   "id": "c48d2e87-ea03-4579-9f13-691898b97e2e",
   "metadata": {},
   "source": [
    "# ∥x∥"
   ]
  },
  {
   "cell_type": "code",
   "execution_count": 10,
   "id": "1e032bd0-3895-4dd8-8eaf-8584d0659117",
   "metadata": {},
   "outputs": [],
   "source": [
    "def module_x(x):\n",
    "    return np.sqrt(module_x_carre(x))"
   ]
  },
  {
   "cell_type": "code",
   "execution_count": null,
   "id": "cd58541b-5e54-43c6-9f98-3df3427f9fb5",
   "metadata": {},
   "outputs": [],
   "source": []
  }
 ],
 "metadata": {
  "kernelspec": {
   "display_name": "Python 3 (ipykernel)",
   "language": "python",
   "name": "python3"
  },
  "language_info": {
   "codemirror_mode": {
    "name": "ipython",
    "version": 3
   },
   "file_extension": ".py",
   "mimetype": "text/x-python",
   "name": "python",
   "nbconvert_exporter": "python",
   "pygments_lexer": "ipython3",
   "version": "3.11.7"
  }
 },
 "nbformat": 4,
 "nbformat_minor": 5
}
