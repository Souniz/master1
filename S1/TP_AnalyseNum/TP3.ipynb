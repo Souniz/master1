{
 "cells": [
  {
   "cell_type": "code",
   "execution_count": 23,
   "id": "eff8a3e7-6271-472c-ab28-302df91aae84",
   "metadata": {},
   "outputs": [],
   "source": [
    "import numpy as np\n",
    "import matplotlib.pyplot as plt\n",
    "import seaborn as sns\n",
    "import pandas as pd"
   ]
  },
  {
   "cell_type": "code",
   "execution_count": 2,
   "id": "bbfdeea3-323a-40b6-a02d-7ba71d49671a",
   "metadata": {},
   "outputs": [],
   "source": [
    "# Methode pour la generation de la matrice H_n\n",
    "\n",
    "def genere_matrice_H(n):\n",
    "    return np.array([[1/(1+i+j) for i in range(1,n+1)] for j in range(1,n+1)])+np.eye(n)"
   ]
  },
  {
   "cell_type": "code",
   "execution_count": 3,
   "id": "f8b93fb8-27b2-4da0-a14f-e6e16ec6e97e",
   "metadata": {},
   "outputs": [],
   "source": [
    "def methode_puissance_itere(A,max_iter):\n",
    "    n=len(A)\n",
    "    y_0=np.random.random(n)\n",
    "    x_0=y_0/np.linalg.norm(y_0)\n",
    "    x=x_0.copy()\n",
    "    for k in range(max_iter):\n",
    "        y_new=A@x\n",
    "        x=y_new/np.linalg.norm(y_new)\n",
    "    v=x.T@A@x\n",
    "    return x,v\n",
    "    "
   ]
  },
  {
   "cell_type": "code",
   "execution_count": 4,
   "id": "6e45e155-a6f5-4901-be9a-9dd4d9442f74",
   "metadata": {},
   "outputs": [
    {
     "data": {
      "text/plain": [
       "(array([0.61263513, 0.48910527, 0.40848626, 0.3513159 , 0.30849693]),\n",
       " 1.833789794095377)"
      ]
     },
     "execution_count": 4,
     "metadata": {},
     "output_type": "execute_result"
    }
   ],
   "source": [
    "s=genere_matrice_H(5)\n",
    "methode_puissance_itere(s,1000)"
   ]
  },
  {
   "cell_type": "code",
   "execution_count": 5,
   "id": "dff70cc6-8282-427f-81d0-febd1a57b27c",
   "metadata": {},
   "outputs": [],
   "source": [
    "def tester_avec_les_n(methode=\"puiss_itere\"):\n",
    "    n_=[2,5,10,20,50,60]\n",
    "    valeur_propre=[]\n",
    "    vecteur_propre=[]\n",
    "    algo=\"\"\n",
    "    if methode==\"puiss_itere\":\n",
    "        algo=methode_puissance_itere\n",
    "    for i in n_:\n",
    "        vect,val=algo(genere_matrice_H(i),1000)\n",
    "        vecteur_propre.append(vect)\n",
    "        valeur_propre.append(val)\n",
    "    return vecteur_propre,valeur_propre"
   ]
  },
  {
   "cell_type": "code",
   "execution_count": 6,
   "id": "032492de-001d-41fa-9e8b-77977af6cd29",
   "metadata": {},
   "outputs": [],
   "source": [
    "def methode_diflation():\n",
    "    liste_vect=[]\n",
    "    list_val=[]\n",
    "    n_=[2,5,10,20,50,60]\n",
    "    for i in n_:\n",
    "        A=genere_matrice_H(i)\n",
    "        val_court=[]\n",
    "        vect_court=[]\n",
    "        for j in range(0,i):\n",
    "            vect,val= methode_puissance_itere(A,15)\n",
    "            val_court.append(val)\n",
    "            vect_court.append(vect)\n",
    "            A=A-(val/np.linalg.norm(vect)**2)*vect@vect.T \n",
    "        liste_vect.append(vect_court)\n",
    "        list_val.append(val_court)\n",
    "    return liste_vect,list_val"
   ]
  },
  {
   "cell_type": "code",
   "execution_count": 8,
   "id": "61bd7c08-7435-454d-bdb4-459ce18c1f37",
   "metadata": {},
   "outputs": [],
   "source": [
    "def Methode_QR():\n",
    "    n_=[2,5,10,20,50,60]\n",
    "    liste_vect=[]\n",
    "    list_val=[]\n",
    "    for i in n_:\n",
    "        A=genere_matrice_H(i)\n",
    "        n=len(A)\n",
    "        V=np.eye(n)\n",
    "        A_=A\n",
    "        for k in range(n):\n",
    "            q,r=decompositionQR(A_)\n",
    "            A_=r@q\n",
    "            V=V@q\n",
    "        list_val.append(np.diag(A_))\n",
    "        liste_vect.append(V)\n",
    "    return list_val,liste_vect"
   ]
  },
  {
   "cell_type": "code",
   "execution_count": 7,
   "id": "ec7a2c4e-6d4d-4beb-85aa-fadf52e1200c",
   "metadata": {},
   "outputs": [],
   "source": [
    "def decompositionQR(A):\n",
    "    n=len(A)\n",
    "    Q=np.zeros((n,n))\n",
    "    R=np.zeros((n,n))\n",
    "    for k in range(0,n-1):\n",
    "        R[k,k]=np.linalg.norm(A[:,k])\n",
    "        Q[:,k]=1/R[k,k]*A[:,k]\n",
    "        R[k,k+1:]=Q[:,k].T@A[:,k+1:]\n",
    "        A[:,k+1:]=A[:,k+1:]-np.outer(Q[:,k],R[k,k+1:])\n",
    "    R[n-1,n-1]=np.linalg.norm(A[:,n-1])\n",
    "    Q[:,n-1]=1/R[n-1,n-1]*A[:,n-1]\n",
    "    return Q,R"
   ]
  },
  {
   "cell_type": "code",
   "execution_count": 14,
   "id": "fcf4781f-bf1e-4c33-be57-67d065dd1f75",
   "metadata": {},
   "outputs": [
    {
     "data": {
      "text/plain": [
       "[[1.5254025869987393, -1.5358793773304873],\n",
       " [1.83378979220094,\n",
       "  -7.38530079313273,\n",
       "  29.54646865712393,\n",
       "  -118.18737088512174,\n",
       "  472.7498446611385],\n",
       " [2.0758072456600454,\n",
       "  -18.79055643247493,\n",
       "  169.12011899254668,\n",
       "  -1522.0816744608255,\n",
       "  13698.735136737996,\n",
       "  -123288.61623804664,\n",
       "  1109597.5461432424,\n",
       "  -9986377.915289272,\n",
       "  89877401.23760346,\n",
       "  -808896611.1384311],\n",
       " [2.3035454044282204,\n",
       "  -43.9584824856078,\n",
       "  835.2153267069608,\n",
       "  -15869.091433034057,\n",
       "  301512.7372395019,\n",
       "  -5728742.007551162,\n",
       "  108846098.14347209,\n",
       "  -2068075864.7259698,\n",
       "  39293441429.793434,\n",
       "  -746575387166.0754,\n",
       "  14184932356155.434,\n",
       "  -269513714766953.2,\n",
       "  5120760580572110.0,\n",
       "  -9.729445103087014e+16,\n",
       "  1.8485945695865324e+18,\n",
       "  -3.5123296822144123e+19,\n",
       "  6.673426396207386e+20,\n",
       "  -1.2679510152794037e+22,\n",
       "  2.4091069290308667e+23,\n",
       "  -4.5773031651586454e+24],\n",
       " [2.5683498544407817,\n",
       "  -126.17665264608885,\n",
       "  6182.658507512071,\n",
       "  -302950.2669203272,\n",
       "  14844563.079097101,\n",
       "  -727383590.875758,\n",
       "  35641795952.91214,\n",
       "  -1746448001692.6948,\n",
       "  85575952082942.02,\n",
       "  -4193221652064160.0,\n",
       "  2.0546786095114355e+17,\n",
       "  -1.0067925186606029e+19,\n",
       "  4.933283341436947e+20,\n",
       "  -2.417308837304105e+22,\n",
       "  1.1844813302790112e+24,\n",
       "  -5.803958518367149e+25,\n",
       "  2.8439396739999024e+27,\n",
       "  -1.3935304402599539e+29,\n",
       "  6.828299157273779e+30,\n",
       "  -3.3458665870641544e+32,\n",
       "  1.6394746276614347e+34,\n",
       "  -8.033425675541021e+35,\n",
       "  3.936378581015102e+37,\n",
       "  -1.9288255046973975e+39,\n",
       "  9.451244973017254e+40,\n",
       "  -4.6311100367784485e+42,\n",
       "  2.269243918021441e+44,\n",
       "  -1.111929519830506e+46,\n",
       "  5.448454647169475e+47,\n",
       "  -2.669742777113043e+49,\n",
       "  1.3081739607853926e+51,\n",
       "  -6.410052407848416e+52,\n",
       "  3.14092567984572e+54,\n",
       "  -1.539053583124403e+56,\n",
       "  7.541362557309572e+57,\n",
       "  -3.6952676530816896e+59,\n",
       "  1.8106811500100277e+61,\n",
       "  -8.872337635049128e+62,\n",
       "  4.3474454411740744e+64,\n",
       "  -2.130248266175294e+66,\n",
       "  1.0438216504258943e+68,\n",
       "  -5.114726087086879e+69,\n",
       "  2.506215782672572e+71,\n",
       "  -1.2280457335095609e+73,\n",
       "  6.017424094196845e+74,\n",
       "  -2.9485378061564536e+76,\n",
       "  1.4447835250166606e+78,\n",
       "  -7.079439272581642e+79,\n",
       "  3.4689252435650025e+81,\n",
       "  -1.6997733693468516e+83],\n",
       " [2.615746160822467,\n",
       "  -154.68574280849703,\n",
       "  9126.461061134527,\n",
       "  -538461.2026452253,\n",
       "  31769210.956068948,\n",
       "  -1874383446.4080682,\n",
       "  110588623338.07603,\n",
       "  -6524728776946.486,\n",
       "  384958997839842.5,\n",
       "  -2.2712580872550708e+16,\n",
       "  1.3400422714804913e+18,\n",
       "  -7.906249401734893e+19,\n",
       "  4.6646871470235923e+21,\n",
       "  -2.7521654167439238e+23,\n",
       "  1.6237775958789131e+25,\n",
       "  -9.580287815685586e+26,\n",
       "  5.6523698112545e+28,\n",
       "  -3.3348981886401595e+30,\n",
       "  1.967589931297695e+32,\n",
       "  -1.1608780594656393e+34,\n",
       "  6.849180550847268e+35,\n",
       "  -4.04101652499989e+37,\n",
       "  2.384199749749938e+39,\n",
       "  -1.4066778523524642e+41,\n",
       "  8.299399328879538e+42,\n",
       "  -4.896645604038925e+44,\n",
       "  2.8890209063829663e+46,\n",
       "  -1.7045223347659507e+48,\n",
       "  1.0056681775119108e+50,\n",
       "  -5.933442247320276e+51,\n",
       "  3.5007309259189644e+53,\n",
       "  -2.065431246292189e+55,\n",
       "  1.2186044353123904e+57,\n",
       "  -7.189766168343108e+58,\n",
       "  4.241962039322434e+60,\n",
       "  -2.5027576032002345e+62,\n",
       "  1.4766269858881386e+64,\n",
       "  -8.712099216740022e+65,\n",
       "  5.140138537876608e+67,\n",
       "  -3.032681737347196e+69,\n",
       "  1.7892822250348443e+71,\n",
       "  -1.055676512770558e+73,\n",
       "  6.228491425346297e+74,\n",
       "  -3.6748099409543146e+76,\n",
       "  2.1681378651630463e+78,\n",
       "  -1.2792013404461967e+80,\n",
       "  7.5472879086325626e+81,\n",
       "  -4.4528998660932193e+83,\n",
       "  2.6272109209949994e+85,\n",
       "  -1.550054443387048e+87,\n",
       "  9.14532121598358e+88,\n",
       "  -5.395739517430316e+90,\n",
       "  3.183486315283889e+92,\n",
       "  -1.878256926017496e+94,\n",
       "  1.1081715863503224e+96,\n",
       "  -6.5382123594668936e+97,\n",
       "  3.857545292085466e+99,\n",
       "  -2.2759517223304222e+101,\n",
       "  1.342811516174947e+103,\n",
       "  -7.9225879454322e+104]]"
      ]
     },
     "execution_count": 14,
     "metadata": {},
     "output_type": "execute_result"
    }
   ],
   "source": [
    "val_p=methode_diflation()[1]\n",
    "val_p"
   ]
  },
  {
   "cell_type": "code",
   "execution_count": 42,
   "id": "6d985670-03c6-484e-92dc-17995ba7a3e0",
   "metadata": {},
   "outputs": [
    {
     "data": {
      "text/plain": [
       "[3.104710404268806,\n",
       " 486.68641951287094,\n",
       " 813936516.1264087,\n",
       " 4.5836561219497463e+24,\n",
       " 1.7001274519190388e+83,\n",
       " 7.92372616653504e+104]"
      ]
     },
     "execution_count": 42,
     "metadata": {},
     "output_type": "execute_result"
    }
   ],
   "source": [
    "n=[2,5,10,20,50,60]\n",
    "\"\"\"pour chaque n on je calcule la difference entre les valeur propre retourne par ma fonction \n",
    "  et celles retournees par la fonction de numpy\n",
    "\"\"\"\n",
    "erre_with_puis=[np.sqrt(sum((np.linalg.eigh(genere_matrice_H(n[i]))[0]-np.array(val_p[i]))**2)) for i in range(len(n))]\n",
    "erre_with_puis"
   ]
  },
  {
   "cell_type": "markdown",
   "id": "c5143981-a7a6-4779-9be2-eb28d0ca2ac8",
   "metadata": {},
   "source": [
    "# Vu les erreurs il me semble que y'a un souci avec ma methode des puissance itere mais je ne trouve  pas se trouve l'erreur exactement "
   ]
  },
  {
   "cell_type": "code",
   "execution_count": 32,
   "id": "34dac0b4-2393-41b8-bda4-e25ba4667d48",
   "metadata": {},
   "outputs": [
    {
     "data": {
      "text/plain": [
       "[array([1.47306681, 1.06026653]),\n",
       " array([1.82949678, 1.01363685, 1.01359814, 1.01174426, 1.00973465]),\n",
       " array([2.07580194, 1.03125259, 1.02488191, 1.01576618, 1.01028679,\n",
       "        1.00717154, 1.00532102, 1.00415738, 1.00338569, 1.00284955]),\n",
       " array([2.3035454 , 1.17076772, 1.00596458, 1.0025164 , 1.00195462,\n",
       "        1.00182262, 1.00176222, 1.00169989, 1.00162392, 1.00153738,\n",
       "        1.00144574, 1.0013536 , 1.00126419, 1.00117943, 1.00110037,\n",
       "        1.00102741, 1.00096055, 1.00089957, 1.00084411, 1.00079374]),\n",
       " array([2.56834985, 1.32027144, 1.00809208, 1.01227018, 1.0097188 ,\n",
       "        1.00629783, 1.00400868, 1.00266138, 1.00186918, 1.00138727,\n",
       "        1.00108161, 1.00087955, 1.0007407 , 1.00064178, 1.00056891,\n",
       "        1.00051352, 1.00047017, 1.00043533, 1.00040662, 1.00038243,\n",
       "        1.00036165, 1.00034349, 1.00032737, 1.0003129 , 1.00029976,\n",
       "        1.00028772, 1.00027662, 1.00026632, 1.00025671, 1.00024771,\n",
       "        1.00023926, 1.00023129, 1.00022377, 1.00021666, 1.00020991,\n",
       "        1.00020351, 1.00019743, 1.00019165, 1.00018614, 1.0001809 ,\n",
       "        1.00017589, 1.00017112, 1.00016657, 1.00016221, 1.00015805,\n",
       "        1.00015408, 1.00015027, 1.00014663, 1.00014314, 1.0001398 ]),\n",
       " array([2.61574616, 1.35124743, 1.02948909, 1.01660847, 1.0062936 ,\n",
       "        1.00278712, 1.00149865, 1.00095182, 1.00069158, 1.00055675,\n",
       "        1.00048204, 1.00043805, 1.00041039, 1.0003916 , 1.00037763,\n",
       "        1.00036625, 1.0003562 , 1.0003468 , 1.00033767, 1.00032863,\n",
       "        1.00031961, 1.00031058, 1.00030158, 1.00029261, 1.00028373,\n",
       "        1.00027498, 1.00026637, 1.00025795, 1.00024974, 1.00024175,\n",
       "        1.00023401, 1.00022651, 1.00021927, 1.00021229, 1.00020557,\n",
       "        1.00019911, 1.00019291, 1.00018695, 1.00018123, 1.00017575,\n",
       "        1.0001705 , 1.00016547, 1.00016066, 1.00015604, 1.00015163,\n",
       "        1.0001474 , 1.00014335, 1.00013948, 1.00013577, 1.00013222,\n",
       "        1.00012882, 1.00012556, 1.00012243, 1.00011944, 1.00011657,\n",
       "        1.00011382, 1.00011118, 1.00010865, 1.00010622, 1.00010389])]"
      ]
     },
     "execution_count": 32,
     "metadata": {},
     "output_type": "execute_result"
    }
   ],
   "source": [
    "val_QR=Methode_QR()[0]\n",
    "val_QR"
   ]
  },
  {
   "cell_type": "code",
   "execution_count": 43,
   "id": "9ede7809-a6d2-42fc-876e-9e54469cd920",
   "metadata": {},
   "outputs": [
    {
     "data": {
      "text/plain": [
       "[0.6578021849174059,\n",
       " 1.1698081527452957,\n",
       " 1.5230444589232368,\n",
       " 1.859600470732643,\n",
       " 2.2642985206074524,\n",
       " 2.339319897691517]"
      ]
     },
     "execution_count": 43,
     "metadata": {},
     "output_type": "execute_result"
    }
   ],
   "source": [
    "\"\"\"pour chaque n on je calcule la difference entre les valeur propre retourne par ma fonction \n",
    "  et celles retournees par la fonction de numpy\n",
    "\"\"\"\n",
    "erreQR=[np.sqrt(sum((np.linalg.eigh(genere_matrice_H(n[i]))[0]-np.array(val_QR[i]))**2)) for i in range(len(n))]\n",
    "erreQR"
   ]
  },
  {
   "cell_type": "markdown",
   "id": "af7b1e34-27ac-4594-946b-024f6fd2a9fa",
   "metadata": {},
   "source": [
    "# Il me semble correct ce resultat"
   ]
  },
  {
   "cell_type": "code",
   "execution_count": 39,
   "id": "7f5e89cd-d7e8-49e8-a0b6-a0b2adf555de",
   "metadata": {},
   "outputs": [
    {
     "name": "stderr",
     "output_type": "stream",
     "text": [
      "C:\\Users\\Souniz\\anaconda3\\Lib\\site-packages\\seaborn\\_oldcore.py:1765: FutureWarning: unique with argument that is not not a Series, Index, ExtensionArray, or np.ndarray is deprecated and will raise in a future version.\n",
      "  order = pd.unique(vector)\n"
     ]
    },
    {
     "data": {
      "text/plain": [
       "<Axes: >"
      ]
     },
     "execution_count": 39,
     "metadata": {},
     "output_type": "execute_result"
    },
    {
     "data": {
      "image/png": "[encoded data removed]",
      "text/plain": [
       "<Figure size 640x480 with 1 Axes>"
      ]
     },
     "metadata": {},
     "output_type": "display_data"
    }
   ],
   "source": [
    "sns.barplot(x=[i for i in n],y=erreQR)"
   ]
  },
  {
   "cell_type": "markdown",
   "id": "905d2ebd-6d21-42e2-8c33-09c6273000f9",
   "metadata": {},
   "source": [
    "# Plus la taille de la matrice est grande plus l'erreur est grande aussi "
   ]
  }
 ],
 "metadata": {
  "kernelspec": {
   "display_name": "Python 3 (ipykernel)",
   "language": "python",
   "name": "python3"
  },
  "language_info": {
   "codemirror_mode": {
    "name": "ipython",
    "version": 3
   },
   "file_extension": ".py",
   "mimetype": "text/x-python",
   "name": "python",
   "nbconvert_exporter": "python",
   "pygments_lexer": "ipython3",
   "version": "3.11.7"
  }
 },
 "nbformat": 4,
 "nbformat_minor": 5
}
