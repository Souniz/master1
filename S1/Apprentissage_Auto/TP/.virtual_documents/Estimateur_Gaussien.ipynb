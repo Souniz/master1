import numpy as np
import matplotlib.pyplot as plt
import pandas as pd





data1=pd.read_csv('data/data_tp1_app.txt',names=['y','x1','x2'],sep=" ")


def calcul_moyenne(X):
    return np.array([np.array(X[X['y']==i][['x1','x2']].mean()) for i in range(1,6)])


def calcul_cov(X):
     return np.array([np.cov(np.array(X[X['y']==i][['x1','x2']]).T) for i in range(1,6)])


u=calcul_moyenne(data1)
cov=calcul_cov(data1)


def predi_distance_euclidien(x):
    dist=[np.linalg.norm(x-u[i]) for i in range(5)]
    return np.argmin(dist)+1,dist


def predi_distance_mahanalobis(x):
     dist=[(x-u[i]).T@np.linalg.inv(cov[i])@(x-u[i])+np.log(np.linalg.det(cov[i])) for i in range(5)]
     return np.argmin(dist)+1,dist


test=pd.read_csv('data/data_tp1_dec.txt',names=['y','x1','x2'],sep=" ")


def plot_decision_multi(x1_min, x1_max, x2_min, x2_max, prediction, sample = 300):
    x1_list = np.linspace(x1_min, x1_max, sample)
    x2_list = np.linspace(x2_min, x2_max, sample)
    y_grid_pred = [[prediction(np.array([x1,x2]))[0] for x1 in x1_list] for x2 in x2_list] 
    l = np.shape(np.unique(y_grid_pred))[0] - 1
    plt.contourf(x1_list, x2_list, y_grid_pred, levels=l, colors=plt.rcParams['axes.prop_cycle'].by_key()['color'], alpha=0.35)


def visualisation(data,methode):
    test=data[['x1','x2']]
    y_pred=[methode(i)[0] for i in test.values.tolist()]
    test['y_predi']=y_pred
    for label in range(1,6):
        plt.scatter(test[test['y_predi']== label]['x1'], test[test['y_predi']== label]['x2'], label=label)
    plt.legend()
    plot_decision_multi(test['x1'].min(),test['x1'].max(),predi['x2'].min(),test['x2'].max(),prediction=methode)
    plt.axis('equal')
    plt.show()


visualisation(test,predi_distance_euclidien)


visualisation(test,predi_distance_mahanalobis)


def calcul_matrice(test,methode):
  y=list(test['y'])
  y_pred=[methode(k)[0] for k in test[['x1','x2']].values.tolist()]  
  matrice=[[sum([1 if y_pred[k]==i and y[k]==j else 0 for k in range(len(y))]) for j in range(1,6)] for i in range(1,6)]
  errer=(sum([1 if y_pred[i]!=y[i] else 0 for i in range(len(y))])*100)/len(y)
  errer=f"{errer} %"
  return matrice,errer


calcul_matrice(test,predi_distance_euclidien)


calcul_matrice(test,predi_distance_mahanalobis)





data2=pd.read_csv('data/data_tp2_app.txt',names=['y','x1','x2'],sep=" ")
test2=pd.read_csv('data/data_tp2_dec.txt',names=['y','x1','x2'],sep=" ")
u=calcul_moyenne(data2)
cov=calcul_cov(data2)


visualisation(test2,predi_distance_euclidien)


visualisation(test2,predi_distance_mahanalobis)


calcul_matrice(test2,predi_distance_euclidien)


calcul_matrice(test2,predi_distance_mahanalobis)





data3=pd.read_csv('data/data_tp3_app.txt',names=['y','x1','x2'],sep=" ")
test3=pd.read_csv('data/data_tp3_dec.txt',names=['y','x1','x2'],sep=" ")
u=calcul_moyenne(data3)
cov=calcul_cov(data3)


visualisation(test3,predi_distance_euclidien)


visualisation(test2,predi_distance_mahanalobis)


calcul_matrice(test3,predi_distance_euclidien)


calcul_matrice(test3,predi_distance_mahanalobis)


for label in range(1,6):
    plt.scatter(test3[test3['y']== label]['x1'], test3[test3['y']== label]['x2'], label=label)
plt.legend()



