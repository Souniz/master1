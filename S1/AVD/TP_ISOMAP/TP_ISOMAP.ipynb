{
 "cells": [
  {
   "cell_type": "code",
   "execution_count": 80,
   "id": "5832f6c1-1697-471b-b874-30a832ac563e",
   "metadata": {},
   "outputs": [],
   "source": [
    "import matplotlib.pyplot as plt\n",
    "from sklearn import datasets\n",
    "from sklearn.decomposition import PCA, KernelPCA\n",
    "import numpy as np\n",
    "from scipy.sparse.csgraph import shortest_path\n",
    "from sklearn.neighbors import kneighbors_graph\n",
    "from scipy.linalg import eigh\n",
    "from operator import itemgetter, attrgetter"
   ]
  },
  {
   "cell_type": "code",
   "execution_count": 4,
   "id": "9b67cf85-bc77-4916-a1bd-2af6eed310b1",
   "metadata": {},
   "outputs": [],
   "source": [
    "iris = datasets.load_iris()\n",
    "y = iris.target"
   ]
  },
  {
   "cell_type": "code",
   "execution_count": 88,
   "id": "ca4be0da-f8f4-4541-bb8a-f1730e010803",
   "metadata": {},
   "outputs": [
    {
     "data": {
      "text/plain": [
       "array([[-0.08164966,  0.        , -0.04231973,  0.        ,  0.        ,\n",
       "         0.        ,  0.        ,  0.        ,  0.        ,  0.        ,\n",
       "         0.        ,  0.        ,  0.        ,  0.        ,  0.        ,\n",
       "         0.        ,  0.        ,  0.        ,  0.        ,  0.        ,\n",
       "         0.        ,  0.        ,  0.        ,  0.        ,  0.        ,\n",
       "         0.        ,  0.        ,  0.        ,  0.        ,  0.        ,\n",
       "         0.        ,  0.        ,  0.        ,  0.        ,  0.        ,\n",
       "         0.        ,  0.        ,  0.        ,  0.        ,  0.        ,\n",
       "         0.        ,  0.        ,  0.        ,  0.        ,  0.        ,\n",
       "         0.        ,  0.        ,  0.        ,  0.        ,  0.        ,\n",
       "         0.        ,  0.        ,  0.        ,  0.        ,  0.        ,\n",
       "         0.        ,  0.        ,  0.        ,  0.        ,  0.        ,\n",
       "         0.        ,  0.        ,  0.        ,  0.        ,  0.98736901,\n",
       "         0.        ,  0.        ,  0.        ,  0.        ,  0.        ,\n",
       "         0.        ,  0.        ,  0.        ,  0.        ,  0.        ,\n",
       "         0.        ,  0.        ,  0.        ,  0.        ,  0.        ,\n",
       "         0.        ,  0.        ,  0.        ,  0.        ,  0.        ,\n",
       "         0.        ,  0.        ,  0.        ,  0.        ,  0.        ,\n",
       "         0.        ,  0.        ,  0.        ,  0.        ,  0.        ,\n",
       "         0.        ,  0.        ,  0.        ,  0.        ,  0.        ,\n",
       "         0.        ,  0.        ,  0.        ,  0.        ,  0.        ,\n",
       "         0.        ,  0.        ,  0.        ,  0.        ,  0.        ,\n",
       "         0.        ,  0.        ,  0.        ,  0.        ,  0.        ,\n",
       "         0.        ,  0.        ,  0.        ,  0.        ,  0.        ,\n",
       "         0.        ,  0.        ,  0.        ,  0.        ,  0.        ,\n",
       "         0.        ,  0.        ,  0.        ,  0.        ,  0.        ,\n",
       "         0.        ,  0.        ,  0.        ,  0.        ,  0.        ,\n",
       "         0.        ,  0.        ,  0.        ,  0.        ,  0.        ,\n",
       "         0.        ,  0.        ,  0.        ,  0.        ,  0.        ,\n",
       "         0.        ,  0.        ,  0.        , -0.12901475,  0.        ],\n",
       "       [-0.08164966,  0.01687465,  0.08549351, -0.00361854, -0.00837302,\n",
       "         0.02072718, -0.03887495, -0.01723035, -0.08684535, -0.08898274,\n",
       "        -0.1038671 ,  0.01031386,  0.10088986, -0.12490508, -0.00643567,\n",
       "         0.03110517, -0.10039536,  0.14234438, -0.0201196 ,  0.11404039,\n",
       "         0.02250923, -0.04467982, -0.07122524,  0.14489181,  0.06469669,\n",
       "        -0.07614187,  0.03445901,  0.04739199,  0.07621759, -0.01658547,\n",
       "        -0.08725428,  0.04928584, -0.0720831 , -0.02062024,  0.14751071,\n",
       "         0.14269472,  0.04892983, -0.03953069, -0.0270307 ,  0.08540994,\n",
       "        -0.11293741,  0.07572201,  0.04357817,  0.11112817,  0.03850852,\n",
       "        -0.00280478, -0.20101059,  0.04689342, -0.02590078, -0.1438285 ,\n",
       "         0.07939652, -0.08754239, -0.04333181,  0.05975398,  0.08519566,\n",
       "        -0.03698276, -0.02423383, -0.03872839, -0.10413007,  0.01288714,\n",
       "         0.04084408,  0.03724434,  0.19516944, -0.07374457, -0.02554688,\n",
       "         0.06714803, -0.01937754,  0.09356678, -0.0067582 , -0.15031235,\n",
       "         0.03239491, -0.0257565 ,  0.03216735,  0.03407265, -0.07508781,\n",
       "        -0.03039384,  0.00404321, -0.06679693,  0.17330317,  0.00946134,\n",
       "        -0.13033821, -0.07573489, -0.02092906,  0.09503688, -0.1105499 ,\n",
       "        -0.01293885,  0.16157381,  0.0055104 , -0.16233066, -0.0201683 ,\n",
       "         0.08648147, -0.00611112,  0.20594194,  0.06127146,  0.11768857,\n",
       "        -0.02679246, -0.14376498, -0.03571873, -0.10293017, -0.07426659,\n",
       "        -0.04744071,  0.05386113,  0.07452933, -0.06357978,  0.05519315,\n",
       "        -0.05653821,  0.07192072, -0.00929558,  0.17297305,  0.08219939,\n",
       "        -0.10527982, -0.07625692,  0.08131029,  0.07794726,  0.04327853,\n",
       "        -0.00233985, -0.02875534, -0.03677335,  0.00944951,  0.13239124,\n",
       "         0.01155896, -0.06294131,  0.02945095,  0.01238596,  0.03725019,\n",
       "        -0.01004054, -0.078998  ,  0.08104766, -0.10725514,  0.10648376,\n",
       "         0.1024708 , -0.0339255 ,  0.11659557,  0.01528319, -0.09594753,\n",
       "         0.00467275, -0.01849024, -0.09837078, -0.13022228,  0.06589086,\n",
       "         0.0673078 , -0.01439532, -0.06563734, -0.03136314,  0.00712936,\n",
       "        -0.06571739, -0.16250133, -0.00427834, -0.17188414,  0.06442486]])"
      ]
     },
     "execution_count": 88,
     "metadata": {},
     "output_type": "execute_result"
    }
   ],
   "source": [
    "def TriVP(Valp,Vectp):\n",
    "    # trie dans l'ordre décroisant les valeurs propres\n",
    "    # en cas de valeurs propres complexes on trie  selon leu module\n",
    "    liste1 = Vectp.tolist()\n",
    "    liste2 = Valp.tolist()\n",
    "    norme = np.abs(Valp)\n",
    "    liste3 = norme.tolist()\n",
    "\n",
    "    result = zip(liste1, liste2,liste3)\n",
    "    result_trie =sorted(result,key =itemgetter(2), reverse=True)\n",
    "    liste1, liste2, liste3 =  zip(*result_trie)\n",
    "    Vectp = np.asarray(liste1)\n",
    "    Valp = np.asarray(liste2)\n",
    "    \n",
    "    return Valp,Vectp\n",
    "def isomap(X):\n",
    "    m=X.shape[0]\n",
    "    n_neighbors=50\n",
    "    kng = kneighbors_graph(X, n_neighbors,mode='distance')\n",
    "    dist_matrix = shortest_path(kng,directed=True)\n",
    "    B=-0.5*(np.ones(m)-(1/m)*np.ones((m,m)))@dist_matrix.T@dist_matrix@(np.ones(m)-(1/m)*np.ones((m,m)))\n",
    "    [v,V] = eigh(B)\n",
    "    Valp,Vectp = TriVP(v,V)\n",
    "    Valp=Valp[:2]\n",
    "    Vectp=Vectp[:2]\n",
    "    return Vectp\n",
    "isomap(iris.data)"
   ]
  }
 ],
 "metadata": {
  "kernelspec": {
   "display_name": "Python 3 (ipykernel)",
   "language": "python",
   "name": "python3"
  },
  "language_info": {
   "codemirror_mode": {
    "name": "ipython",
    "version": 3
   },
   "file_extension": ".py",
   "mimetype": "text/x-python",
   "name": "python",
   "nbconvert_exporter": "python",
   "pygments_lexer": "ipython3",
   "version": "3.10.12"
  }
 },
 "nbformat": 4,
 "nbformat_minor": 5
}
