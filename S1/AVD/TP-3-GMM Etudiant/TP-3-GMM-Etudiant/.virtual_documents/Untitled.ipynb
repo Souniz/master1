import numpy as np 
import matplotlib.pyplot as plt


def my_kmeans(X,K,Visualisation=False,Seuil=0.001,Max_iterations = 100000):
    
    N,p = np.shape(X)
    iteration = 0        
    Dist=np.zeros((K,N))
    J=np.zeros(Max_iterations+1)
    J[0] = 10000000
    
    # Initialisation des clusters
    # par tirage de K exemples, pour tomber dans les données     
 
    Index_init = np.random.choice(N, K,replace = False)
    C = np.zeros((p,K))
    for k in range(K):
        C[:,k] = X[Index_init[k],:].T 
        
        
    while iteration < Max_iterations:
        iteration +=1
        #################################################################
        # E step : estimation des données manquantes 
        #          affectation des données aux clusters les plus proches
        for k in range(K):
            Dist[k,:]=np.linalg.norm(X-C[:,k],axis=1)**2
        y=np.argmin(Dist,axis=0)
        #################################################################
        # M Step : calcul des meilleurs centres          
        for k in range(K):
              C[:,k]=np.mean(X[y==k,:],axis=0)
        #################################################################
        # test du critère d'arrêt l'évolution du critère est inférieure 
        # au Seuil en pour ceent
        J[iteration]=np.sum(np.min(Dist[y,:],axis=0))/N

        if np.abs(J[iteration]-J[iteration-1])/J[iteration-1]<Seuil:
             break;
    return y


from sklearn.cluster import KMeans
def Evidence_accumulation_clustering(X,N,d):
    k=int(np.sqrt(N))
    T=200
    seuil=0.5
    Co_Ass=np.zeros((N,N))
    #Calcule de la matrice de co-association
    for  t in range(T):  
        yy=my_kmeans(X,k)
        for i in range(N):
            for j in range(N):
                if yy[i]==yy[j]:
                   Co_Ass[i,j]= Co_Ass[i,j]+1/T
    y=FindCluster(Co_Ass,seuil)
    return y,Co_Ass


def FindCluster(Co_Ass,seuil):
    N=len(Co_Ass)
    y=np.ones(N)*-1
    n_cluster=0
    for i in range(N):
            for j in range(N):
                if  Co_Ass[i,j]>seuil:
                    if y[i]==-1 and y[j]==-1:
                        n_cluster+=1
                        y[i]=n_cluster
                        y[j]=n_cluster
                    if y[i]!=-1 and y[j]==-1:
                        y[j]=y[i]
                    if y[j]!=-1 and y[i]==-1:
                        y[i]=y[j]
                    else:
                        n_cluster+=1
                        np.where(y==y[i],n_cluster,y)
                        np.where(y==y[j],n_cluster,y)
    statistiques=np.unique(y,return_counts=True)
    stat=list(statistiques[0])
    yy=[(y[p] if y[p]==-1 else stat.index(y[p])+1) for p in range(N)]
    y=np.asarray(yy)
    return y


iris = datasets.load_iris()
X=iris.data
s,mat=Evidence_accumulation_clustering(X,X.shape[0],X.shape[1])


fig=plt.figure(3,figsize=(8,6))
plt.imshow(mat,cmap='gray')
plt.show()



