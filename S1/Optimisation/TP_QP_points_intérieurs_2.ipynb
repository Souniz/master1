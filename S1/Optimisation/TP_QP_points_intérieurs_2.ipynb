{
 "cells": [
  {
   "cell_type": "markdown",
   "metadata": {
    "colab_type": "text",
    "id": "OUg5LE7nNZxG"
   },
   "source": [
    "# TP QP par un algorithme de points intérieurs"
   ]
  },
  {
   "cell_type": "code",
   "execution_count": 173,
   "metadata": {
    "colab": {
     "autoexec": {
      "startup": false,
      "wait_interval": 0
     }
    },
    "colab_type": "code",
    "id": "GKMEhNKGEIcM"
   },
   "outputs": [],
   "source": [
    "\n",
    "import numpy as np\n",
    "import matplotlib.pyplot as plt\n",
    "from sklearn.datasets import make_moons\n",
    "from sklearn.svm import SVC\n"
   ]
  },
  {
   "cell_type": "code",
   "execution_count": 174,
   "metadata": {
    "colab": {
     "autoexec": {
      "startup": false,
      "wait_interval": 0
     }
    },
    "colab_type": "code",
    "id": "rUDDo91yEOMq"
   },
   "outputs": [
    {
     "data": {
      "text/plain": [
       "<matplotlib.legend.Legend at 0x7a9622420370>"
      ]
     },
     "execution_count": 174,
     "metadata": {},
     "output_type": "execute_result"
    },
    {
     "data": {
      "image/png": "[encoded data removed]",
      "text/plain": [
       "<Figure size 640x480 with 1 Axes>"
      ]
     },
     "metadata": {},
     "output_type": "display_data"
    }
   ],
   "source": [
    "n_train = 100\n",
    "X,y = make_moons(n_samples=100, shuffle=True, noise=None, random_state=None)\n",
    "y = np.where(y> 0.5,y,-1)\n",
    "for j in np.unique(y):\n",
    "    plt.scatter(X[y==j,0],X[y==j,1],label=j)\n",
    "plt.legend()\n",
    "\n"
   ]
  },
  {
   "cell_type": "code",
   "execution_count": 175,
   "metadata": {
    "colab": {
     "autoexec": {
      "startup": false,
      "wait_interval": 0
     }
    },
    "colab_type": "code",
    "id": "FzOxrzpdEXrG"
   },
   "outputs": [
    {
     "name": "stdout",
     "output_type": "stream",
     "text": [
      "cout opt -16.61787872191733\n"
     ]
    }
   ],
   "source": [
    "#%% SVM dual \n",
    "C =1000\n",
    "N = X.shape[0]\n",
    "\n",
    "from sklearn.metrics.pairwise import rbf_kernel\n",
    "gamma = 1\n",
    "N = X.shape[0]\n",
    "K = rbf_kernel(X,gamma = gamma)\n",
    "yb = y.reshape(N,1)\n",
    "P = K*(yb@yb.T)\n",
    "q = -np.ones(N)\n",
    "\n",
    "clf = SVC(C=C,kernel='precomputed')\n",
    "clf.fit(K, y)\n",
    "indice_SV = clf.support_\n",
    "alpha_sk = clf.dual_coef_[0]\n",
    "b_sk = clf.intercept_\n",
    "\n",
    "# construire le vecteur solution alpha_0\n",
    "\n",
    "# %% \n",
    "alpha_o = np.zeros(N)\n",
    "alpha_o[indice_SV] = np.abs(alpha_sk)\n",
    "print('cout opt',0.5*alpha_o.T@P@alpha_o + q.T@alpha_o)\n",
    "\n",
    "# calculer la valeur objective optimale du problème QP obtenu par ce solveur SVM\n",
    "# et afficher le résultat\n",
    "\n",
    "\n"
   ]
  },
  {
   "cell_type": "markdown",
   "metadata": {
    "colab_type": "text",
    "id": "P3YMPOHwHzXk"
   },
   "source": [
    "On s'interesse au problème\n",
    "$$\n",
    "\\min_{\\alpha} \\frac{1}{2} \\alpha^\\top P \\alpha + q^\\top \\alpha  \\quad \\text{ } \\quad \\text{sc } \\quad \\alpha^\\top y = 0  \\text{ et } \\alpha \\geq 0\n",
    "$$"
   ]
  },
  {
   "cell_type": "code",
   "execution_count": 183,
   "metadata": {
    "colab": {
     "autoexec": {
      "startup": false,
      "wait_interval": 0
     }
    },
    "colab_type": "code",
    "id": "fU9whk6tF_oT"
   },
   "outputs": [
    {
     "name": "stdout",
     "output_type": "stream",
     "text": [
      "cout init -0.503754296548304\n"
     ]
    }
   ],
   "source": [
    "# Algorithme de point intérieur \n",
    "\n",
    "# construction du problème et des matrices associés\n",
    "\n",
    "q = -np.ones(N)\n",
    "b = np.array([0.0])\n",
    "A = y.reshape(1,N)\n",
    "\n",
    "# initialization du point intérieur\n",
    "\n",
    "alpha = np.random.rand(N)*1e-2\n",
    "nb_constraint = A.shape[0]\n",
    "\n",
    "ll = np.ones((nb_constraint,1)) # multiplicateur de Lagrange\n",
    "s = ((P@alpha   + q).reshape(N,1) - A.T@ ll).reshape(N)\n",
    "s = np.where(s < 0.000001, 1e-16, s)  # on garde que les parties positives pour que s soit faisable\n",
    "\n",
    "print('cout init',0.5*alpha.T@P@alpha + q.T@alpha)\n"
   ]
  },
  {
   "cell_type": "code",
   "execution_count": 185,
   "metadata": {
    "colab": {
     "autoexec": {
      "startup": false,
      "wait_interval": 0
     }
    },
    "colab_type": "code",
    "id": "HP9GwSXPL-11"
   },
   "outputs": [
    {
     "name": "stdout",
     "output_type": "stream",
     "text": [
      "cou -0.503754296548304\n",
      "step 0.000244140625\n",
      "cou -16.61879673181688\n",
      "step 1.0\n",
      "cou -16.618796731816882\n",
      "step 3.1861838222649046e-58\n",
      "cou -16.618796731816882\n",
      "step 1.210184973390412e-122\n"
     ]
    }
   ],
   "source": [
    "x=alpha\n",
    "sigma = 0.5\n",
    "for i in range(400):\n",
    "    tau = x@s/N\n",
    "    Sk = np.diag(s)\n",
    "    Xk = np.diag(x)\n",
    "    cout = 0.5*x.T@P@x + q.T@x\n",
    "    if i%100 == 0:\n",
    "        print('cou',cout)\n",
    "    # construire les lignes de la Jacobienne\n",
    "    # inserer votre code ici\n",
    "    J1=np.hstack((P,-A.T,-np.eye(N)))\n",
    "    J2=np.hstack((A,np.zeros((nb_constraint,nb_constraint)),np.zeros((nb_constraint,N))))\n",
    "    J3=np.hstack((Sk,np.zeros((N,nb_constraint)),Xk))\n",
    "    # construire la Jacobienne\n",
    "    J = np.vstack((J1,J2,J3))  \n",
    "\n",
    "    \n",
    "    # construire les lignes du second membre(F(x))\n",
    "    b1 = (P@x + q - s - (A.T@ll).flatten()).reshape(N,1)\n",
    "    b2 = A@x-b\n",
    "    b3 = (Xk@s-sigma*tau*np.ones(len(X))).reshape(N,1)\n",
    "    \n",
    "    second_membre = np.vstack((b1,b2,b3))\n",
    "    \n",
    "    # résoudre le problème\n",
    "    J = J +1e-6*np.eye(2*N+nb_constraint)\n",
    "    S = np.linalg.solve(J, -second_membre)\n",
    "    \n",
    "    # extraire les directions pour chaque partie\n",
    "    dx =S[:N].flatten()\n",
    "    dy = S[N:N+1].flatten()\n",
    "    ds = S[N+1:].flatten() \n",
    "    \n",
    "    # définir le pas optimal \n",
    "    step=1.\n",
    "    while np.any(x+step*dx < 0) or np.any(s+step*ds < 0):\n",
    "        step=0.5*step\n",
    "    if i%100 == 0:\n",
    "        print('step',step)\n",
    "    # mise à jour\n",
    "    x = x + step*dx\n",
    "    ll = ll + step*dy\n",
    "    s = s + step*ds"
   ]
  },
  {
   "cell_type": "markdown",
   "metadata": {
    "colab_type": "text",
    "id": "AcNYRh7YNH7A"
   },
   "source": [
    "\n",
    "\n",
    "1.   Montrer que le cout décroit correctement\n",
    "2.   Comparer la solution alpha avec celui obtenu par le solveur SVM\n",
    "3.   Améliorer la boucle pour avoir une condition de sortie plus pertinente\n",
    "\n",
    "\n",
    "\n"
   ]
  },
  {
   "cell_type": "markdown",
   "metadata": {
    "colab_type": "text",
    "id": "DSijfWbeN2tA"
   },
   "source": [
    "Modifier les matrices proposées en entrée de cette algorithme afin de résoudre le problème complet\n",
    "$$\n",
    "\\min_{\\alpha} \\frac{1}{2} \\alpha^\\top P \\alpha + q^\\top \\alpha  \\quad \\text{ } \\quad \\text{sc } \\quad \\alpha^\\top y = 0  \\text{ et } C \\geq \\alpha \\geq 0\n",
    "$$"
   ]
  },
  {
   "cell_type": "code",
   "execution_count": 124,
   "metadata": {
    "colab": {
     "autoexec": {
      "startup": false,
      "wait_interval": 0
     }
    },
    "colab_type": "code",
    "id": "tONaKzGGP9Pf"
   },
   "outputs": [
    {
     "data": {
      "text/plain": [
       "array([[-1.90086663],\n",
       "       [-1.        ],\n",
       "       [-1.        ],\n",
       "       [-1.        ],\n",
       "       [-1.86324537],\n",
       "       [-1.        ],\n",
       "       [-1.        ],\n",
       "       [-1.        ],\n",
       "       [-1.        ],\n",
       "       [-1.        ],\n",
       "       [-1.        ],\n",
       "       [-1.88490481],\n",
       "       [-1.90706331],\n",
       "       [-1.91941472],\n",
       "       [-1.87752551],\n",
       "       [-1.        ],\n",
       "       [-1.        ],\n",
       "       [-1.        ],\n",
       "       [-1.        ],\n",
       "       [-1.9241776 ],\n",
       "       [-1.        ],\n",
       "       [-1.        ],\n",
       "       [-1.91148611],\n",
       "       [-1.89229697],\n",
       "       [-1.86489381],\n",
       "       [-1.88087264],\n",
       "       [-1.        ],\n",
       "       [-1.        ],\n",
       "       [-1.        ],\n",
       "       [-1.86684092],\n",
       "       [-1.89650124],\n",
       "       [-1.        ],\n",
       "       [-1.89877077],\n",
       "       [-1.        ],\n",
       "       [-1.        ],\n",
       "       [-1.        ],\n",
       "       [-1.85954376],\n",
       "       [-1.90281609],\n",
       "       [-1.        ],\n",
       "       [-1.        ],\n",
       "       [-1.8769576 ],\n",
       "       [-1.8646176 ],\n",
       "       [-1.        ],\n",
       "       [-1.87443653],\n",
       "       [-1.88801096],\n",
       "       [-1.        ],\n",
       "       [-1.        ],\n",
       "       [-1.        ],\n",
       "       [-1.86137788],\n",
       "       [-1.        ],\n",
       "       [-1.        ],\n",
       "       [-1.86743221],\n",
       "       [-1.        ],\n",
       "       [-1.8882769 ],\n",
       "       [-1.91467153],\n",
       "       [-1.87938994],\n",
       "       [-1.        ],\n",
       "       [-1.86189432],\n",
       "       [-1.90997936],\n",
       "       [-1.        ],\n",
       "       [-1.        ],\n",
       "       [-1.86903424],\n",
       "       [-1.85931898],\n",
       "       [-1.86231899],\n",
       "       [-1.        ],\n",
       "       [-1.91605241],\n",
       "       [-1.        ],\n",
       "       [-1.92072527],\n",
       "       [-1.86596124],\n",
       "       [-1.88446231],\n",
       "       [-1.86006198],\n",
       "       [-1.8820345 ],\n",
       "       [-1.86340188],\n",
       "       [-1.86059106],\n",
       "       [-1.        ],\n",
       "       [-1.87266633],\n",
       "       [-1.        ],\n",
       "       [-1.        ],\n",
       "       [-1.87472186],\n",
       "       [-1.        ],\n",
       "       [-1.        ],\n",
       "       [-1.        ],\n",
       "       [-1.        ],\n",
       "       [-1.        ],\n",
       "       [-1.        ],\n",
       "       [-1.89494719],\n",
       "       [-1.85956108],\n",
       "       [-1.85931922],\n",
       "       [-1.86083593],\n",
       "       [-1.        ],\n",
       "       [-1.        ],\n",
       "       [-1.        ],\n",
       "       [-1.90536824],\n",
       "       [-1.89135845],\n",
       "       [-1.        ],\n",
       "       [-1.87077516],\n",
       "       [-1.87161917],\n",
       "       [-1.86908451],\n",
       "       [-1.85997388],\n",
       "       [-1.        ],\n",
       "       [ 0.24852964],\n",
       "       [-0.5       ],\n",
       "       [-0.5       ],\n",
       "       [-0.5       ],\n",
       "       [-0.5       ],\n",
       "       [-0.5       ],\n",
       "       [-0.5       ],\n",
       "       [-0.5       ],\n",
       "       [-0.5       ],\n",
       "       [-0.5       ],\n",
       "       [-0.5       ],\n",
       "       [-0.5       ],\n",
       "       [-0.5       ],\n",
       "       [-0.5       ],\n",
       "       [-0.5       ],\n",
       "       [-0.5       ],\n",
       "       [-0.5       ],\n",
       "       [-0.5       ],\n",
       "       [-0.5       ],\n",
       "       [-0.5       ],\n",
       "       [-0.5       ],\n",
       "       [-0.5       ],\n",
       "       [-0.5       ],\n",
       "       [-0.5       ],\n",
       "       [-0.5       ],\n",
       "       [-0.5       ],\n",
       "       [-0.5       ],\n",
       "       [-0.5       ],\n",
       "       [-0.5       ],\n",
       "       [-0.5       ],\n",
       "       [-0.5       ],\n",
       "       [-0.5       ],\n",
       "       [-0.5       ],\n",
       "       [-0.5       ],\n",
       "       [-0.5       ],\n",
       "       [-0.5       ],\n",
       "       [-0.5       ],\n",
       "       [-0.5       ],\n",
       "       [-0.5       ],\n",
       "       [-0.5       ],\n",
       "       [-0.5       ],\n",
       "       [-0.5       ],\n",
       "       [-0.5       ],\n",
       "       [-0.5       ],\n",
       "       [-0.5       ],\n",
       "       [-0.5       ],\n",
       "       [-0.5       ],\n",
       "       [-0.5       ],\n",
       "       [-0.5       ],\n",
       "       [-0.5       ],\n",
       "       [-0.5       ],\n",
       "       [-0.5       ],\n",
       "       [-0.5       ],\n",
       "       [-0.5       ],\n",
       "       [-0.5       ],\n",
       "       [-0.5       ],\n",
       "       [-0.5       ],\n",
       "       [-0.5       ],\n",
       "       [-0.5       ],\n",
       "       [-0.5       ],\n",
       "       [-0.5       ],\n",
       "       [-0.5       ],\n",
       "       [-0.5       ],\n",
       "       [-0.5       ],\n",
       "       [-0.5       ],\n",
       "       [-0.5       ],\n",
       "       [-0.5       ],\n",
       "       [-0.5       ],\n",
       "       [-0.5       ],\n",
       "       [-0.5       ],\n",
       "       [-0.5       ],\n",
       "       [-0.5       ],\n",
       "       [-0.5       ],\n",
       "       [-0.5       ],\n",
       "       [-0.5       ],\n",
       "       [-0.5       ],\n",
       "       [-0.5       ],\n",
       "       [-0.5       ],\n",
       "       [-0.5       ],\n",
       "       [-0.5       ],\n",
       "       [-0.5       ],\n",
       "       [-0.5       ],\n",
       "       [-0.5       ],\n",
       "       [-0.5       ],\n",
       "       [-0.5       ],\n",
       "       [-0.5       ],\n",
       "       [-0.5       ],\n",
       "       [-0.5       ],\n",
       "       [-0.5       ],\n",
       "       [-0.5       ],\n",
       "       [-0.5       ],\n",
       "       [-0.5       ],\n",
       "       [-0.5       ],\n",
       "       [-0.5       ],\n",
       "       [-0.5       ],\n",
       "       [-0.5       ],\n",
       "       [-0.5       ],\n",
       "       [-0.5       ],\n",
       "       [-0.5       ],\n",
       "       [-0.5       ],\n",
       "       [-0.5       ]])"
      ]
     },
     "execution_count": 124,
     "metadata": {},
     "output_type": "execute_result"
    }
   ],
   "source": [
    "b1 = (P@x + q - s - (A.T@ll).flatten()).reshape(100,1)\n",
    "b2 = A@x-b\n",
    "b3 = (Xk@s-0.5*np.ones(len(X))).reshape(100,1)\n",
    "\n",
    "second_membre = np.vstack((b1,b2,b3))\n",
    "second_membre"
   ]
  }
 ],
 "metadata": {
  "colab": {
   "collapsed_sections": [],
   "default_view": {},
   "name": "TP_QP_points_intérieurs.ipynb",
   "provenance": [],
   "version": "0.3.2",
   "views": {}
  },
  "kernelspec": {
   "display_name": "Python 3 (ipykernel)",
   "language": "python",
   "name": "python3"
  },
  "language_info": {
   "codemirror_mode": {
    "name": "ipython",
    "version": 3
   },
   "file_extension": ".py",
   "mimetype": "text/x-python",
   "name": "python",
   "nbconvert_exporter": "python",
   "pygments_lexer": "ipython3",
   "version": "3.10.12"
  }
 },
 "nbformat": 4,
 "nbformat_minor": 4
}
