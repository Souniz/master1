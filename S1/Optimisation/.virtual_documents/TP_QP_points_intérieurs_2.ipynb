



import numpy as np
import matplotlib.pyplot as plt
from sklearn.datasets import make_moons
from sklearn.svm import SVC



n_train = 100
X,y = make_moons(n_samples=100, shuffle=True, noise=None, random_state=None)
for j in np.unique(y):
    plt.scatter(X[y==j,0],X[y==j,1],label=j)
plt.legend()




#%% SVM dual 
C =1000
N = X.shape[0]

from sklearn.metrics.pairwise import rbf_kernel
gamma = 1
N = X.shape[0]
K = rbf_kernel(X,gamma = gamma)
yb = y.reshape(N,1)
P = K*(yb@yb.T)
q = -np.ones(N)

clf = SVC(C=C,kernel='precomputed')
clf.fit(K, y)
indice_SV = clf.support_
alpha_sk = clf.dual_coef_[0]
b_sk = clf.intercept_

# construire le vecteur solution alpha_0

# %% 
alpha_o = np.zeros(N)
alpha_o[indice_SV] = np.abs(alpha_sk)
print('cout opt',0.5*alpha_o.T@P@alpha_o + q.T@alpha_o)

# calculer la valeur objective optimale du problème QP obtenu par ce solveur SVM
# et afficher le résultat








# Algorithme de point intérieur 

# construction du problème et des matrices associés

q = -np.ones(N)
b = np.array([0.0])
A = y.reshape(1,N)

# initialization du point intérieur

alpha = np.random.rand(N)*1e-2
nb_constraint = A.shape[0]

ll = np.ones((nb_constraint,1)) # multiplicateur de Lagrange
s = ((P@alpha   + q).reshape(N,1) - A.T@ ll).reshape(N)
s = np.where(s < 0.000001, 1e-16, s)  # on garde que les parties positives pour que s soit faisable

print('cout init',0.5*alpha.T@P@alpha + q.T@alpha)



for i in range(1000):
    x=alpha
    tau = x@s/N
    Sk = np.diag(s)
    Xk = np.diag(x)
    cout = 0.5*x.T@P@x + q.T@x
    # construire les lignes de la Jacobienne
    # inserer votre code ici
    J1=np.hstack((P,-A.T,-np.eye(N)))
    J2=np.hstack((A,np.zeros((1,1)),np.zeros((1,N))))
    J3=np.hstack((Sk,np.zeros((N,1)),Xk))
    # construire la Jacobienne
    J = np.vstack((J1,J2,J3))  

    
    # construire les lignes du second membre(F(x))
    b1 = P@Xk+q-Sk-A.T@ll
    b2 = A@Xk-b
    b3 = Xk*Sk-0.5*np.ones(len(X))
    
    second_membre = np.vstack((b1,b2,b3))
    
    # résoudre le problème
    print(second_membre.shape)
    S = np.linalg.solve(J, -second_membre)
    
    # extraire les directions pour chaque partie
    dx =S[:N] 
    dy = S[N:N+1] 
    ds = S[N+1:] 
    
    # définir le pas optimal 
    step=0
    while np.all(Xk+step*dx)>0 and np.all(Sk+step*ds)>0:
        step=step+0.01
    
    # mise à jour
    x = x + step*dx
    ll = ll + step*dy
    s = s + step*ds








b1 = P@Xk+q-Sk-(A.T@ll)
b2 = A@Xk-b
b3 = Xk*Sk-0.5*np.ones(len(X))

second_membre = np.vstack((b1,b2,b3))
print((A.T@ll).shape)
